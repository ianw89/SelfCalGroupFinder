{
 "cells": [
  {
   "cell_type": "code",
   "execution_count": null,
   "metadata": {},
   "outputs": [],
   "source": [
    "import numpy as np\n",
    "import pandas as pd\n",
    "import matplotlib.pyplot as plt\n",
    "import types"
   ]
  },
  {
   "cell_type": "code",
   "execution_count": null,
   "metadata": {},
   "outputs": [],
   "source": [
    "def process(df):\n",
    "\n",
    "    galprops = pd.read_csv(\"bin/sdss_galprops_v1.0.dat\", delimiter=' ', names=('Mag_g', 'Mag_r', 'sigma_v', 'Dn4000', 'concentration', 'log_M_star'))\n",
    "    all_data = pd.merge(df, galprops, left_index=True, right_index=True)\n",
    "\n",
    "    bins = np.logspace(np.log10(min(all_data.M_halo)), np.log10(max(all_data.M_halo)), 100)\n",
    "    labels = bins[0:len(bins)-1] # using bottom (or top?) value, not middle\n",
    "\n",
    "    all_data['Mh_bin'] = pd.cut(x = all_data['M_halo'], bins = bins, labels = labels, include_lowest = True)\n",
    "    all_data['logLgal'] = np.log10(all_data.L_gal)\n",
    "    \n",
    "    centrals = all_data[all_data.index == all_data.igrp]\n",
    "    logmstar_means = centrals.groupby('Mh_bin').log_M_star.mean()\n",
    "    logmstar_scatter = centrals.groupby('Mh_bin').log_M_star.std()\n",
    "    loglcen_means = centrals.groupby('Mh_bin').logLgal.mean()\n",
    "    loglcen_scatter = centrals.groupby('Mh_bin').logLgal.std()\n",
    "\n",
    "    dataset = types.SimpleNamespace()\n",
    "    dataset.all_data = all_data\n",
    "    dataset.bins = bins\n",
    "    dataset.labels = labels\n",
    "    dataset.centrals = centrals\n",
    "    dataset.logmstar_means = logmstar_means\n",
    "    dataset.logmstar_scatter = logmstar_scatter\n",
    "    dataset.loglcen_means = loglcen_means\n",
    "    dataset.loglcen_scatter = loglcen_scatter\n",
    "\n",
    "    return dataset\n",
    "\n",
    "def plots(*frames):\n",
    "\n",
    "    plt.figure()\n",
    "    for f in frames:\n",
    "        plt.errorbar(f.labels, f.logmstar_means, yerr=f.logmstar_scatter)\n",
    "    plt.xscale('log')\n",
    "    plt.xlabel('M_halo / h')\n",
    "    plt.ylabel('log(M_star)')\n",
    "    plt.draw()\n",
    "\n",
    "    plt.figure()    \n",
    "    for f in frames:\n",
    "        plt.errorbar(f.labels, f.logmstar_scatter)\n",
    "    plt.xscale('log')\n",
    "    plt.xlabel('M_halo / h')\n",
    "    plt.ylabel('$\\\\sigma(\\\\log(M_\\\\star)$')\n",
    "    plt.draw()\n",
    "\n",
    "    \"\"\"     \n",
    "    plt.figure()\n",
    "    for f in frames:\n",
    "        plt.scatter(f.centrals.M_halo, f.centrals.L_gal, alpha=0.002)\n",
    "    plt.loglog()\n",
    "    plt.xlabel('M_halo / h')\n",
    "    plt.ylabel('L_gal / $h^2$)')\n",
    "    plt.draw() \n",
    "    \"\"\"\n",
    "\n",
    "    plt.figure()    \n",
    "    for f in frames:\n",
    "        plt.errorbar(f.labels, f.loglcen_scatter)\n",
    "    plt.xscale('log')\n",
    "    plt.xlabel('M_halo / h')\n",
    "    plt.ylabel('$\\\\sigma(\\\\log(L_{cen})$')\n",
    "    plt.draw()\n",
    "\n",
    "    plt.figure()\n",
    "    for f in frames:\n",
    "        plt.hist(f.centrals.N_sat, np.arange(0,50,1), alpha=0.5)\n",
    "    plt.loglog()\n",
    "    plt.draw()\n"
   ]
  },
  {
   "cell_type": "code",
   "execution_count": null,
   "metadata": {},
   "outputs": [],
   "source": [
    "df = pd.read_csv(\"bin/run_1.out\", delimiter=' ', names=('RA', 'Dec', 'z', 'L_gal', 'V_max', 'P_sat', 'M_halo', 'N_sat', 'L_tot', 'igrp', 'unknown'))\n",
    "data1 = process(df)\n",
    "#df2 = pd.read_csv(\"bin/run_beta_off_1.out\", delimiter=' ', names=('RA', 'Dec', 'z', 'L_gal', 'V_max', 'P_sat', 'M_halo', 'N_sat', 'L_tot', 'igrp', 'unknown'))\n",
    "#data2 = process(df2)\n",
    "#df3 = pd.read_csv(\"bin/run_wcen_beta_off_1.out\", delimiter=' ', names=('RA', 'Dec', 'z', 'L_gal', 'V_max', 'P_sat', 'M_halo', 'N_sat', 'L_tot', 'igrp', 'unknown'))\n",
    "#data3 = process(df3)\n",
    "\n",
    "df4 = pd.read_csv(\"bin/run_all_off_1.out\", delimiter=' ', names=('RA', 'Dec', 'z', 'L_gal', 'V_max', 'P_sat', 'M_halo', 'N_sat', 'L_tot', 'igrp', 'unknown'))\n",
    "data4 = process(df4)"
   ]
  },
  {
   "cell_type": "code",
   "execution_count": null,
   "metadata": {},
   "outputs": [],
   "source": [
    "plots(data1, data4)"
   ]
  },
  {
   "cell_type": "code",
   "execution_count": null,
   "metadata": {},
   "outputs": [],
   "source": [
    "plt.hist(np.log10(data4.centrals.M_halo), bins=50)\n"
   ]
  },
  {
   "cell_type": "code",
   "execution_count": null,
   "metadata": {},
   "outputs": [],
   "source": []
  }
 ],
 "metadata": {
  "kernelspec": {
   "display_name": "Python 3",
   "language": "python",
   "name": "python3"
  },
  "language_info": {
   "codemirror_mode": {
    "name": "ipython",
    "version": 3
   },
   "file_extension": ".py",
   "mimetype": "text/x-python",
   "name": "python",
   "nbconvert_exporter": "python",
   "pygments_lexer": "ipython3",
   "version": "3.9.6"
  },
  "orig_nbformat": 4,
  "vscode": {
   "interpreter": {
    "hash": "aee8b7b246df8f9039afb4144a1f6fd8d2ca17a180786b69acc140d282b71a49"
   }
  }
 },
 "nbformat": 4,
 "nbformat_minor": 2
}
