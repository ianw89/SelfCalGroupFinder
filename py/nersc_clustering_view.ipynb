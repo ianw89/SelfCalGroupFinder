{
 "cells": [
  {
   "cell_type": "code",
   "execution_count": null,
   "metadata": {},
   "outputs": [],
   "source": [
    "import sys\n",
    "import os\n",
    "import numpy as np\n",
    "import matplotlib.pyplot as plt\n",
    "import fitsio\n",
    "\n",
    "if './SelfCalGroupFinder/py/' not in sys.path:\n",
    "    sys.path.append('./SelfCalGroupFinder/py/')\n",
    "from dataloc import *"
   ]
  },
  {
   "cell_type": "code",
   "execution_count": null,
   "metadata": {},
   "outputs": [],
   "source": [
    "# CREATE BINS FOR WP CALCULATION\n",
    "edges = np.geomspace(0.1, 20, 16)\n",
    "\n",
    "# For my own use\n",
    "with open(WP_RADIAL_BINS_DESI_FILE, 'w') as f:\n",
    "    for i in range(len(edges)-1):\n",
    "        f.write(f'{edges[i]:.8f} {edges[i+1]:.8f}\\n')\n",
    "\n",
    "# For xirunpc.py script\n",
    "with open(WP_RADIAL_EDGE_DESI_FILE, 'w') as f:\n",
    "    for i in range(len(edges)):\n",
    "        f.write(f'{edges[i]:.8f}\\n')"
   ]
  },
  {
   "cell_type": "code",
   "execution_count": null,
   "metadata": {},
   "outputs": [],
   "source": [
    "def check_cols_for_tbl(path, colname):\n",
    "    if os.path.isfile(path) == False:\n",
    "        print(f'{path} not found')\n",
    "        return\n",
    "    cols = fitsio.FITS(path)[1].get_colnames()\n",
    "    if colname not in cols:\n",
    "        print(f'{colname} not in {path}')\n",
    "    else:\n",
    "        print(f'{colname} found in {path}')\n",
    "    print(cols)\n",
    "check_cols_for_tbl('/dvs_ro/cfs/cdirs/desi/survey/catalogs/Y1/LSS/iron/LSScats/v1.5pip/BGS_BRIGHT_full_HPmapcut.dat.fits', 'QUIESCENT')\n",
    "check_cols_for_tbl('/global/cfs/cdirs/desi/users/ianw89/clustering/Y1/LSS/iron/LSScats/v1.5pip/BGS_BRIGHT_NGC_clustering.dat.fits', 'QUIESCENT')\n",
    "check_cols_for_tbl('/global/cfs/cdirs/desi/users/ianw89/clustering/Y1/LSS/iron/LSScats/v1.5pip/BGS_BRIGHT_NGC_0_clustering.ran.fits', 'QUIESCENT')"
   ]
  },
  {
   "cell_type": "code",
   "execution_count": null,
   "metadata": {},
   "outputs": [],
   "source": [
    "def get_wp_for(tracer, weights, survey, verspec, ver, bins, zmax, nran, quiescent=None):\n",
    "    dir = os.path.join(CUSTOM_CLUSTERING_RESULTS_FOLDER, survey, 'LSS', verspec, 'LSScats', ver, 'rppi')\n",
    "\n",
    "    if not os.path.exists(dir):\n",
    "        print(\"WARNING: Directory does not exist: \", dir)\n",
    "        return None\n",
    "\n",
    "    if quiescent is not None:\n",
    "        addon = '_QUIESCENT' + ('1' if quiescent else '0')\n",
    "    else:\n",
    "        addon = ''\n",
    "        \n",
    "    wp_fn = os.path.join(dir, f'wp_{tracer}_GCcomb_0.001_{zmax}_{weights}_{bins}_njack0_nran{nran}_split20{addon}.txt')\n",
    "\n",
    "    if not os.path.exists(wp_fn):\n",
    "        print(\"WARNING: File does not exist: \", wp_fn)\n",
    "        return None\n",
    "\n",
    "    return np.loadtxt(wp_fn)\n",
    "\n",
    "def get_allcounts_for(weights, survey, verspec, ver, zmax, quiescent=None):\n",
    "    dir = os.path.join(CUSTOM_CLUSTERING_RESULTS_FOLDER, survey, 'LSS', verspec, 'LSScats', ver, 'rppi')\n",
    "\n",
    "    if not os.path.exists(dir):\n",
    "        print(\"WARNING: Directory does not exist: \", dir)\n",
    "        return None\n",
    "\n",
    "    if quiescent is not None:\n",
    "        addon = '_QUIESCENT' + ('1' if quiescent else '0')\n",
    "    else:\n",
    "        addon = ''\n",
    "        \n",
    "    allcounts_fn = os.path.join(dir, f'allcounts_BGS_BRIGHT_GCcomb_0.001_{zmax}_{weights}_log_njack0_nran8_split20{addon}.npy')\n",
    "\n",
    "    if not os.path.exists(allcounts_fn):\n",
    "        print(\"WARNING: File does not exist: \", allcounts_fn)\n",
    "        return None\n",
    "\n",
    "    return np.load(allcounts_fn, allow_pickle=True)"
   ]
  },
  {
   "cell_type": "code",
   "execution_count": null,
   "metadata": {},
   "outputs": [],
   "source": [
    "BIN_DIVISOR = 1\n",
    "ZMAX = 0.14977"
   ]
  },
  {
   "cell_type": "code",
   "execution_count": null,
   "metadata": {},
   "outputs": [],
   "source": [
    "test = get_allcounts_for('default_bitwise_FKP', 'Y1', 'iron', 'v1.5pip', ZMAX)\n",
    "# list attributes of the object\n",
    "type(test)\n",
    "for key in test.item().keys():\n",
    "    print(key)"
   ]
  },
  {
   "cell_type": "code",
   "execution_count": null,
   "metadata": {},
   "outputs": [],
   "source": [
    "plt.figure()\n",
    "tracer = \"BGS_ANY\"    \n",
    "red_pip_angular = get_wp_for(tracer, 'pip_bitwise', 'Y1', 'iron', 'v1.5pip', \"custom\", ZMAX, 8, True)\n",
    "blue_pip_angular = get_wp_for(tracer, 'pip_bitwise', 'Y1', 'iron', 'v1.5pip', \"custom\", ZMAX, 8, False)\n",
    "\n",
    "#plt.plot(all_default[:,0], all_default[:,2], 'o', color='k')\n",
    "plt.plot(red_pip_angular[:,0], red_pip_angular[:,2], 'o', color='r')\n",
    "plt.plot(blue_pip_angular[:,0], blue_pip_angular[:,2], 'o', color='b')\n",
    "#plt.plot(test3[:,1], test3[:,2], '.') #It's almost the same, what is the difference? TODO\n",
    "\n",
    "plt.xscale('log')\n",
    "plt.yscale('log')\n",
    "plt.ylabel(r'$w_p(r_p)$')\n",
    "plt.xlabel(r'$r_p$ [Mpc/h]') \n"
   ]
  },
  {
   "cell_type": "code",
   "execution_count": null,
   "metadata": {},
   "outputs": [],
   "source": [
    "tracer = 'BGS_BRIGHT'\n",
    "all_default = get_wp_for(tracer, 'default_bitwise_FKP', 'Y1', 'iron', 'v1.5pip', 'log2', ZMAX,8)\n",
    "red_default = get_wp_for(tracer, 'default_bitwise_FKP', 'Y1', 'iron', 'v1.5pip', 'log2', ZMAX,8, True)\n",
    "blue_default = get_wp_for(tracer, 'default_bitwise_FKP', 'Y1', 'iron', 'v1.5pip', 'log2', ZMAX,8, False)\n",
    "\n",
    "red_default_angular = get_wp_for(tracer, 'default_angular_bitwise_FKP', 'Y1', 'iron', 'v1.5pip', 'log2', ZMAX,8, True)\n",
    "blue_default_angular = get_wp_for(tracer, 'default_angular_bitwise_FKP', 'Y1', 'iron', 'v1.5pip', 'log2', ZMAX,8, False)\n",
    "\n",
    "red_pip_angular = get_wp_for(tracer, 'pip_angular_bitwise_FKP', 'Y1', 'iron', 'v1.5pip', 'log2', ZMAX,8, True)\n",
    "blue_pip_angular = get_wp_for(tracer, 'pip_angular_bitwise_FKP', 'Y1', 'iron', 'v1.5pip', 'log2', ZMAX,8, False)\n",
    "\n",
    "plt.figure()\n",
    "plt.plot(red_default[:,0], red_default[:,2], 'o', color='red', label='Red, default')\n",
    "plt.plot(red_default_angular[:,0], red_default_angular[:,2], '-', color='darkred', label='Red, default angular')\n",
    "plt.plot(red_pip_angular[:,0], red_pip_angular[:,2], '--', color='orange', label='Red, pip angular')\n",
    "plt.plot(blue_default[:,0], blue_default[:,2], 'o', color='blue', label='Blue, default')\n",
    "plt.plot(blue_default_angular[:,0], blue_default_angular[:,2], '-', color='darkblue', label='Blue, default angular')\n",
    "plt.plot(blue_pip_angular[:,0], blue_pip_angular[:,2], '--', color='skyblue', label='Blue, pip angular')\n",
    "plt.xscale('log')\n",
    "plt.yscale('log')\n",
    "plt.ylabel(r'$w_p(r_p)$')\n",
    "plt.xlabel(r'$r_p$ [Mpc/h]') \n",
    "plt.legend()\n",
    "plt.title('BGS BRIGHT -19<r<-18 ; z<0.14977')\n",
    "plt.show()"
   ]
  },
  {
   "cell_type": "code",
   "execution_count": null,
   "metadata": {},
   "outputs": [],
   "source": []
  }
 ],
 "metadata": {
  "kernelspec": {
   "display_name": "DESI main",
   "language": "python",
   "name": "desi-main"
  },
  "language_info": {
   "codemirror_mode": {
    "name": "ipython",
    "version": 3
   },
   "file_extension": ".py",
   "mimetype": "text/x-python",
   "name": "python",
   "nbconvert_exporter": "python",
   "pygments_lexer": "ipython3",
   "version": "3.10.14"
  }
 },
 "nbformat": 4,
 "nbformat_minor": 2
}
