{
 "cells": [
  {
   "cell_type": "code",
   "execution_count": 1,
   "metadata": {},
   "outputs": [],
   "source": [
    "import numpy as np\n",
    "import astropy.coordinates as coord\n",
    "import sys\n",
    "import matplotlib.pyplot as plt\n",
    "from astropy.table import Table,join\n",
    "\n",
    "if './SelfCalGroupFinder/py/' not in sys.path:\n",
    "    sys.path.append('./SelfCalGroupFinder/py/')\n",
    "from groupcatalog import *\n",
    "import catalog_definitions as cat\n",
    "from pyutils import *\n",
    "from dataloc import *\n",
    "import plotting as pp\n",
    "%load_ext autoreload\n",
    "%autoreload 2"
   ]
  },
  {
   "cell_type": "markdown",
   "metadata": {},
   "source": [
    "## Running Group Finder\n",
    "\n",
    "This notebook will call the functions to preprocess, run group finder, and run postprocessing code to build up a GroupCatalog object, which mostly wraps a pandas DataFrame containing the resulting group catalog data.\n",
    "\n",
    "After running this on a given GroupCatalog definition, a serialized (via pickle) version of the GroupCatalog object will exist which can be deserialized elsewhere for analysis. See post_plots.ipynb for that."
   ]
  },
  {
   "cell_type": "code",
   "execution_count": null,
   "metadata": {},
   "outputs": [],
   "source": [
    "datasets_to_run: list[GroupCatalog] = []\n",
    "#datasets_to_run.extend(cat.sdss_list)\n",
    "#datasets_to_run.extend(cat.uchuu_list)\n",
    "#datasets_to_run.extend(cat.mxxl_list)\n",
    "#datasets_to_run.extend(cat.bgs_sv3_list)  \n",
    "#datasets_to_run.extend(cat.bgs_y1_list)\n",
    "#datasets_to_run.extend(cat.bgs_y3_list)\n",
    "\n",
    "datasets_to_run.extend([\n",
    "    cat.bgs_y3_like_sv3_pz_2_4\n",
    "])\n",
    "\n",
    "\n",
    "# To just run postprocessing on GF output, comment out run_group_finder()\n",
    "for d in datasets_to_run:\n",
    "    d.preprocess()\n",
    "    d.run_group_finder(popmock=False)\n",
    "    d.postprocess()\n",
    "    #d.run_corrfunc()\n",
    "    serialize(d)\n",
    "\n",
    "    #d = deserialize(d)\n",
    "    #d.calculate_projected_clustering(with_extra_randoms=True) # 15m\n",
    "    #d.calculate_projected_clustering_in_magbins(with_extra_randoms=True) # 45m\n",
    "    #serialize(d)\n"
   ]
  },
  {
   "cell_type": "code",
   "execution_count": null,
   "metadata": {},
   "outputs": [],
   "source": [
    "bgs_sv3_pz_2_4_10p = deserialize(cat.bgs_sv3_pz_2_4_10p)\n",
    "bgs_sv3_pz_2_4_10p.add_jackknife_err_to_proj_clustering(with_extra_randoms=True, for_mag_bins=False)\n",
    "serialize(bgs_sv3_pz_2_4_10p)"
   ]
  },
  {
   "cell_type": "code",
   "execution_count": null,
   "metadata": {},
   "outputs": [],
   "source": []
  }
 ],
 "metadata": {
  "kernelspec": {
   "display_name": "gf",
   "language": "python",
   "name": "python3"
  },
  "language_info": {
   "codemirror_mode": {
    "name": "ipython",
    "version": 3
   },
   "file_extension": ".py",
   "mimetype": "text/x-python",
   "name": "python",
   "nbconvert_exporter": "python",
   "pygments_lexer": "ipython3",
   "version": "3.11.9"
  }
 },
 "nbformat": 4,
 "nbformat_minor": 2
}
