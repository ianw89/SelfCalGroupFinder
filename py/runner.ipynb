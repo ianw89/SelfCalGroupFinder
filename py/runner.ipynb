{
 "cells": [
  {
   "cell_type": "markdown",
   "metadata": {},
   "source": [
    "## Running Group Finder\n",
    "\n",
    "This notebook will call the functions to preprocess, run group finder, and run postprocessing code to build up a GroupCatalog object, which mostly wraps a pandas DataFrame containing the resulting group catalog data.\n",
    "\n",
    "After running this on a given GroupCatalog definition, a serialized (via pickle) version of the GroupCatalog object will exist which can be deserialized elsewhere for analysis. See post_plots.ipynb for that."
   ]
  },
  {
   "cell_type": "code",
   "execution_count": null,
   "metadata": {},
   "outputs": [],
   "source": [
    "import sys\n",
    "import matplotlib.pyplot as plt\n",
    "from astropy.table import Table,join\n",
    "import astropy.io.fits as fits\n",
    "\n",
    "if './SelfCalGroupFinder/py/' not in sys.path:\n",
    "    sys.path.append('./SelfCalGroupFinder/py/')\n",
    "from groupcatalog import *\n",
    "import catalog_definitions as cat\n",
    "from pyutils import *\n",
    "from dataloc import *\n",
    "import plotting as pp\n",
    "%load_ext autoreload\n",
    "%autoreload 2"
   ]
  },
  {
   "cell_type": "code",
   "execution_count": null,
   "metadata": {},
   "outputs": [
    {
     "name": "stdout",
     "output_type": "stream",
     "text": [
      "Pre-processing...\n",
      "Reading data from  /mount/sirocco1/imw2293/GROUP_CAT/DATA/BGS_IRON/ian_BGS_merged.fits\n",
      "\n",
      "Mode PHOTOZ PLUS\n",
      "10,805,993 objects in file\n",
      "17,302 galaxies (0.16%) have a SGA collision, are not SGA centrals, and are blue enough to remove.\n",
      "212,528 galaxies (1.97%) have fracflux in two bands too high to keep.\n",
      "5,656,813 galaxies in the neighbor catalog.\n",
      "2,008,391 galaxies left for main catalog after filters.\n",
      "429539 (21.4)% need redshifts\n",
      "Matching 429,539 lost galaxies to 543,532 SDSS galaxies\n",
      "21,922 of 429,539 lost galaxies matched to SDSS catalog (would have matched 22,372 with 3\")\n",
      "18,333 are reasonable matches given the photo-z.\n",
      "(18333, 50) (18333, 50)\n",
      "Quiescent Fraction for Dn4000: 61.39% (N=18333)\n",
      "Quiescent Fraction for missing: nan% (N=0)\n",
      "Overall Quiescent Fraction after very blue cut: 61.13%\n",
      "18,333 of 429,539 redshifts taken from SDSS.\n",
      "411,206 remaining galaxies need redshifts.\n",
      "Initializing PhotometricRedshiftGuesser for Mode.PHOTOZ_PLUS_v2\n"
     ]
    },
    {
     "name": "stderr",
     "output_type": "stream",
     "text": [
      "/var/imw2293/miniconda3/envs/gf/lib/python3.11/site-packages/numpy/core/fromnumeric.py:3504: RuntimeWarning: Mean of empty slice.\n",
      "  return _methods._mean(a, axis=axis, dtype=dtype,\n",
      "/var/imw2293/miniconda3/envs/gf/lib/python3.11/site-packages/numpy/core/_methods.py:129: RuntimeWarning: invalid value encountered in scalar divide\n",
      "  ret = ret.dtype.type(ret / rcount)\n"
     ]
    },
    {
     "name": "stdout",
     "output_type": "stream",
     "text": [
      "Assigning missing redshifts... \n",
      "Using given parameters: N=8, p=([1.2938, 1.5467, 3.0134], [1.2229, 0.8628, 2.5882], [0.8706, 0.6126, 2.4447], [1.1163, 1.2938, 3.165])\n",
      "Assigning missing redshifts complete.\n",
      "Neighbor usage %: 66.69\n",
      "(411206, 50) (411206, 50)\n",
      "Quiescent Fraction for Dn4000: 47.65% (N=411206)\n",
      "Quiescent Fraction for missing: nan% (N=0)\n",
      "Overall Quiescent Fraction after very blue cut: 47.33%\n",
      "Catalog contains 964,084 quiescent and 1,044,307 star-forming galaxies\n",
      "3,639 galaxies have redshifts outside the range of the catalog and will be removed.\n",
      "1,734 unobserved galaxies have implied log(L_gal) > 11.60 and will be removed.\n",
      "0 galaxies have nan log_L_gal and will be removed.\n",
      "Final Catalog Size: 2,004,739.\n",
      "Galprops pickling took 1.2981 seconds\n",
      "Output file will be /mount/sirocco1/imw2293/GROUP_CAT/OUTPUT/BGS_Y1_PZP_V2.4_C1/BGS Y1 PZP v2.4 C1.dat\n",
      "Time for file writing: 7.36\n",
      "Pre-processing complete in 6.4e+01 seconds.\n",
      "Skipping pre-processing\n",
      "Running Group Finder for BGS Y1 PZP v2.4 C1\n",
      "['perf', 'record', '-g', '/mount/sirocco1/imw2293/GROUP_CAT/SelfCalGroupFinder/bin/PerfGroupFinder', '/mount/sirocco1/imw2293/GROUP_CAT/OUTPUT/BGS_Y1_PZP_V2.4_C1/BGS Y1 PZP v2.4 C1.dat', '0.0010255909527222941', '0.4999885689890976', '0.0649677', '--fluxlim=19.5,2', '-c', '--popmock=/mount/sirocco1/imw2293/GROUP_CAT/DATA/POPMOCK/hosthalo_z0.0_M1e10_Lsat.dat,volume_bins.dat', '--wcen=19.73787,6.394322,24.657218,11.571343,33.11654,9.403598', '--bsat=-3.755194,16.879988,9.941906,0.958446', '--pipe=94']\n"
     ]
    },
    {
     "name": "stderr",
     "output_type": "stream",
     "text": [
      "input> FLUXLIM: 1, COLOR: 1, STELLAR_MASS: 0 \n",
      "input> z: 0.001026-0.499989, frac_area: 0.064968\n",
      "input> wcen ON: 19.737869 6.394322 24.657219 11.571343 33.116539 9.403598\n",
      "input> Bsat ON: -3.755194 16.879988 9.941906 0.958446\n",
      "input> SECOND_PARAMETER= 0\n",
      "Allocating space for [2004739] galaxies\n",
      "min vmax= 8.753051e+00 max vmax= 1.479995e+11\n",
      "Done reading in from [/mount/sirocco1/imw2293/GROUP_CAT/OUTPUT/BGS_Y1_PZP_V2.4_C1/BGS Y1 PZP v2.4 C1.dat]\n",
      "Sorting galaxies...\n",
      "Done sorting galaxies.\n",
      "Starting inverse-sham...\n",
      "Done inverse-sham.\n",
      "Building KD-tree...\n",
      "Done building KD-tree. 2004739\n",
      "iter 1 ngroups=1606499 fsat=0.198640 (kdtime=0.61 3.66)\n",
      "iter 2 ngroups=1556831 fsat=0.223608 (kdtime=0.52 3.42)\n",
      "iter 3 ngroups=1546286 fsat=0.228811 (kdtime=0.53 3.41)\n",
      "iter 4 ngroups=1543401 fsat=0.230199 (kdtime=0.52 3.41)\n",
      "iter 5 ngroups=1542166 fsat=0.230777 (kdtime=0.53 3.44)\n",
      "Group finding complete. All iterations took 17.34s.\n",
      "groupfind() took 44.10 sec\n",
      "lsat_model> Applying Lsat model...\n",
      "Writing LSAT to pipe\n",
      "Reading Volume Bins...\n",
      "Tabulating HODs...\n",
      "WARNING: nhalo[0][146] = 0, setting to nsatr[0][146] = 3.700871e-06\n",
      "WARNING: nhalo[3][152] = 0, setting to nsatr[3][152] = 1.871869e-07\n",
      "Writing LHMR to pipe\n",
      "Writing HOD to pipe\n",
      "No HOD extrapolation needed for imag=5\n",
      "No HOD extrapolation needed for imag=5\n",
      "No HOD extrapolation needed for imag=5\n",
      "popsim> reading mock halo data...\n",
      "popsim> NHALO=3370079\n",
      "popsim> done reading halo data [3370079].\n",
      "lsat + hod + prep popsim: 6.34 sec\n",
      "Populating mock catalog\n",
      "popsim> starting population for imag=0, type=0, mag=17\n",
      "popsim> starting population for imag=0, type=1, mag=17\n",
      "popsim> starting population for imag=3, type=0, mag=20\n",
      "popsim> starting population for imag=4, type=1, mag=21\n",
      "popsim> starting population for imag=1, type=0, mag=18\n",
      "popsim> starting population for imag=1, type=1, mag=18\n",
      "popsim> starting population for imag=5, type=0, mag=22\n",
      "popsim> starting population for imag=4, type=0, mag=21\n",
      "popsim> starting population for imag=3, type=1, mag=20\n",
      "popsim> starting population for imag=2, type=0, mag=19\n",
      "popsim> starting population for imag=2, type=1, mag=19\n",
      "popsim> starting population for imag=5, type=1, mag=22\n",
      "popsim> 2.86 sec\n",
      "Writing fsat to pipe\n",
      "[ perf record: Woken up 82 times to write data ]\n",
      "[ perf record: Captured and wrote 22.680 MB perf.data (345225 samples) ]\n"
     ]
    },
    {
     "name": "stdout",
     "output_type": "stream",
     "text": [
      "Group Finder completed successfully.\n",
      "run_group_finder() took 53.7 seconds.\n",
      "Running Corrfunc on mock populated with HOD from this sample.\n",
      "Done with wp on mock populated with HOD from this sample (time = 1.8s).\n",
      "Post-processing...\n",
      "Post-processing done.\n",
      "Red Clustering χ^2:  [ 77. 146.  83.  12.   9.   4.]\n",
      "Blue Clustering χ^2:  [ 9.  4. 12.  3. 11.  2.]\n",
      "No sep Clustering χ^2:  [0 0 0 0 0 0]\n",
      "LSat χ^2:  [0. 2. 3. 1. 0. 1. 0. 0. 1. 1. 0. 0. 1. 7. 0. 5. 2. 1. 5. 0.]\n",
      "χ^2: 402.9. χ^2/DOF: 2.014 (dof=200)\n"
     ]
    }
   ],
   "source": [
    "datasets_to_run: list[GroupCatalog] = []\n",
    "#datasets_to_run.extend(cat.sdss_list)\n",
    "#datasets_to_run.extend(cat.uchuu_list)\n",
    "#datasets_to_run.extend(cat.mxxl_list)\n",
    "#datasets_to_run.extend(cat.bgs_sv3_list)  \n",
    "#datasets_to_run.extend(cat.bgs_y1_list)  \n",
    "#datasets_to_run.extend(cat.bgs_y3_list)  \n",
    "#datasets_to_run.extend(cat.bgs_aux_list)\n",
    "\n",
    "# TODO LOA columns not same as KIBO I guess...\n",
    "\n",
    "gc = cat.bgs_sv3_pz_2_4_10p_c1\n",
    "\n",
    "datasets_to_run.extend([\n",
    "    #gc\n",
    "    cat.bgs_y1_pzp_2_4_c1\n",
    "    #cat.bgs_y3_pzp_2_4_c1\n",
    "    #cat.bgs_y1_hybrid8_mcmc\n",
    "])\n",
    "\n",
    "# run_group_finder() took 189.6 seconds for bgs_y1_pzp_2_4_c1\n",
    "# nanoflann: run_group_finder() took 65.4 seconds. groupfind() took 40.35 sec. All iterations took 13.72s.\n",
    "# run_group_finder() took 67.4 seconds. groupfind() took 40.62 sec. All iterations took 11.95s.\n",
    "# No output: run_group_finder() took 57.7 seconds.\n",
    "\n",
    "\n",
    "\n",
    "# run_group_finder() took 13.4 seconds for bgs_y1mini_pzp_2_4_c1\n",
    "# nanoflann: run_group_finder() took 12.3s. groupfind() took 2.05 sec. All iterations took 0.65s.\n",
    "# run_group_finder() took 11.9 seconds. groupfind() took 1.89 sec. All iterations took 0.56s.\n",
    "# No output: run_group_finder() took 11.4 seconds.\n",
    "\n",
    "\n",
    "for d in datasets_to_run:\n",
    "    #d = deserialize(d)\n",
    "    d.preprocess()\n",
    "    success = d.run_group_finder(popmock=True, profile=True, silent=False)\n",
    "    if not success:\n",
    "        print(f\"Group finder failed for {d.name}\")\n",
    "        continue\n",
    "    d.calc_wp_for_mock()\n",
    "    d.postprocess()\n",
    "    d.dump()\n",
    "    d.chisqr()\n",
    "\n",
    "    #d = deserialize(d)\n",
    "    #d.calculate_projected_clustering(with_extra_randoms=True) # 15m\n",
    "    #d.calculate_projected_clustering_in_magbins(with_extra_randoms=True) # 45m\n",
    "    #serialize(d)\n"
   ]
  },
  {
   "cell_type": "code",
   "execution_count": null,
   "metadata": {},
   "outputs": [],
   "source": [
    "#χ^2: 663.7. χ^2/DOF: 3.319 (dof=200)"
   ]
  },
  {
   "cell_type": "code",
   "execution_count": null,
   "metadata": {},
   "outputs": [],
   "source": [
    "pp.proj_clustering_plot(gc)\n",
    "pp.lsat_data_compare_plot(gc)\n",
    "pp.hod_plot(gc)\n",
    "pp.single_plots(gc)"
   ]
  },
  {
   "cell_type": "code",
   "execution_count": null,
   "metadata": {},
   "outputs": [],
   "source": [
    "bgs_sv3_pz_2_4_10p = deserialize(cat.bgs_sv3_pz_2_4_10p)\n",
    "bgs_sv3_pz_2_4_10p.add_jackknife_err_to_proj_clustering(with_extra_randoms=True, for_mag_bins=False)\n",
    "serialize(bgs_sv3_pz_2_4_10p)"
   ]
  },
  {
   "cell_type": "markdown",
   "metadata": {},
   "source": [
    "## Test of writing\n"
   ]
  },
  {
   "cell_type": "code",
   "execution_count": null,
   "metadata": {},
   "outputs": [],
   "source": [
    "catalog = deserialize(cat.bgs_sv3_pz_2_4_10p)\n",
    "catalog.all_data['Z_ASSIGNED_FLAG'] = catalog.all_data['Z_ASSIGNED_FLAG'].astype('int32')\n",
    "columns_to_write = [\n",
    "            'TARGETID', \n",
    "            'RA',\n",
    "            'DEC',\n",
    "            'Z',\n",
    "            'L_GAL', \n",
    "            'VMAX',\n",
    "            'P_SAT', \n",
    "            'M_HALO',\n",
    "            'N_SAT', \n",
    "            'L_TOT', \n",
    "            'IGRP', \n",
    "            'WEIGHT', \n",
    "            'APP_MAG_R', \n",
    "            'Z_ASSIGNED_FLAG',\n",
    "            'G_R',\n",
    "            'IS_SAT', \n",
    "            'QUIESCENT', \n",
    "            'MSTAR' \n",
    "        ]\n",
    "\n",
    "table = Table.from_pandas(\n",
    "    catalog.all_data.loc[:, columns_to_write],\n",
    "    units={ \n",
    "        'RA': u.degree,\n",
    "        'DEC': u.degree,\n",
    "        'L_GAL': u.solLum,\n",
    "        'VMAX': u.Mpc**3,\n",
    "        'M_HALO': u.solMass,\n",
    "        'L_TOT': u.solLum,\n",
    "        'MSTAR': u.solMass\n",
    "    } # Others are dimensionless\n",
    "    )\n",
    "table.info.name = \"GALAXIES\"\n",
    "table.info"
   ]
  },
  {
   "cell_type": "code",
   "execution_count": null,
   "metadata": {},
   "outputs": [],
   "source": [
    "frompath = catalog.write_sharable_output_file()\n",
    "\n",
    "read = Table.read(frompath)\n",
    "read"
   ]
  },
  {
   "cell_type": "code",
   "execution_count": null,
   "metadata": {},
   "outputs": [],
   "source": [
    "\n",
    "hdul = fits.open(frompath, memmap=True)\n",
    "hdul.info()\n",
    "hdul[1].name = \"GALAXIES\"\n",
    "hdul.info()\n",
    "hdul.writeto(frompath, overwrite=True)\n",
    "hdul = fits.open(frompath, memmap=True)\n",
    "hdul.info()"
   ]
  }
 ],
 "metadata": {
  "kernelspec": {
   "display_name": "gf",
   "language": "python",
   "name": "python3"
  },
  "language_info": {
   "codemirror_mode": {
    "name": "ipython",
    "version": 3
   },
   "file_extension": ".py",
   "mimetype": "text/x-python",
   "name": "python",
   "nbconvert_exporter": "python",
   "pygments_lexer": "ipython3",
   "version": "3.11.9"
  }
 },
 "nbformat": 4,
 "nbformat_minor": 2
}
