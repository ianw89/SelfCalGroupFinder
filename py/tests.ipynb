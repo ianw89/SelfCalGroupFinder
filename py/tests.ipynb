{
 "cells": [
  {
   "cell_type": "code",
   "execution_count": 2,
   "metadata": {},
   "outputs": [],
   "source": [
    "import numpy as np\n",
    "import pandas as pd\n",
    "import matplotlib.pyplot as plt\n",
    "import astropy.coordinates as coord\n",
    "import astropy.units as u\n",
    "import sys\n",
    "from astropy.table import Table\n",
    "\n",
    "if './SelfCalGroupFinder/py/' not in sys.path:\n",
    "    sys.path.append('./SelfCalGroupFinder/py/')\n",
    "from pyutils import *\n",
    "import plotting as pp\n",
    "from dataloc import *\n",
    "import catalog_definitions as cat\n",
    "from groupcatalog import deserialize, serialize, GroupCatalog, SDSSGroupCatalog, mstar_vmax_weighted, add_halo_columns\n",
    "import groupcatalog as gc\n",
    "\n",
    "%load_ext autoreload\n",
    "%autoreload 2"
   ]
  },
  {
   "cell_type": "code",
   "execution_count": 3,
   "metadata": {},
   "outputs": [],
   "source": [
    "blue_color = GLOBAL_RED_COLOR_CUT - 0.1\n",
    "red_color = GLOBAL_RED_COLOR_CUT + 0.1\n",
    "\n",
    "blue_dn = -1\n",
    "red_dn = 3\n",
    "\n",
    "results = is_quiescent_BGS_smart(np.array([7,8,9]), np.array([red_dn, np.nan, blue_dn]), np.array([blue_color, blue_color, red_color]))\n",
    "assert results[0] == True\n",
    "assert results[1] == False\n",
    "assert results[2] == False"
   ]
  },
  {
   "cell_type": "code",
   "execution_count": null,
   "metadata": {},
   "outputs": [],
   "source": [
    "# Basic test of multiple versions of SimpleRedshiftGuesser\n",
    "# Ensure it handles arrays of inputs and gives a reasonable answer for a couple obvious cases\n",
    "\n",
    "# Target (lost galaxies) properties\n",
    "t_app_mag = np.array([19.0,18.0,12.0])\n",
    "t_pobs = np.array([0.5, 0.5, 0.5])\n",
    "t_q = np.array([True, True, False])\n",
    "\n",
    "# Neighbor properties\n",
    "nn_z = np.array([0.1, 0.2, 0.3])\n",
    "nn_dist = np.array([250.0, 3.0, 30.0])\n",
    "nn_q = np.array([True, True, False])\n",
    "\n",
    "simple = SimpleRedshiftGuesser(None, None, ver='5.0')\n",
    "z, nn_used = simple.choose_redshift(nn_z, nn_dist, t_pobs, t_app_mag, t_q, nn_q)\n",
    "\n",
    "assert not nn_used[0]\n",
    "assert nn_used[1]\n",
    "assert not nn_used[2]\n",
    "assert z[0] > 0.0\n",
    "assert z[1] == 0.2\n",
    "assert z[2] < 0.1\n",
    "\n",
    "simple = SimpleRedshiftGuesser(None, None, ver='4.0')\n",
    "z, nn_used = simple.choose_redshift(nn_z, nn_dist, t_pobs, t_app_mag, t_q, nn_q)\n",
    "\n",
    "assert not nn_used[0]\n",
    "assert nn_used[1]\n",
    "assert not nn_used[2]\n",
    "assert z[0] > 0.0\n",
    "assert z[1] == 0.2\n",
    "assert z[2] < 0.1\n",
    "\n",
    "simple = SimpleRedshiftGuesser(None, None, ver='2.0')\n",
    "z, nn_used = simple.choose_redshift(nn_z, nn_dist, t_pobs, t_app_mag, t_q, nn_q)\n",
    "\n",
    "assert not nn_used[0]\n",
    "assert nn_used[1]\n",
    "assert not nn_used[2]\n",
    "assert z[0] > 0.0\n",
    "assert z[1] == 0.2\n",
    "assert z[2] < 0.1\n"
   ]
  },
  {
   "cell_type": "code",
   "execution_count": null,
   "metadata": {},
   "outputs": [],
   "source": [
    "# Basic tests for PhotometricRedshiftGuesser\n",
    "\n",
    "# Target (lost galaxies) properties\n",
    "t_app_mag = np.array([19.0,18.0,12.0])\n",
    "t_pobs = np.array([0.5, 0.5, 0.5])\n",
    "t_q = np.array([True, True, False])\n",
    "\n",
    "# Neighbor properties\n",
    "nn_z = np.array([[0.1, 0.2, 0.3]])\n",
    "nn_dist = np.array([[250.0, 3.0, 30.0]])\n",
    "nn_q = np.array([[True, True, False]])\n",
    "\n",
    "scorer = PhotometricRedshiftGuesser()\n",
    "z, nn_used = scorer.choose_redshift(nn_z, nn_dist, t_pobs, t_app_mag, t_q, nn_q)\n",
    "\n",
    "assert np.isnan(nn_used[0])\n",
    "assert nn_used[1]\n",
    "assert np.isnan(nn_used[2])\n",
    "assert z[0] > 0.0\n",
    "assert z[1] == 0.2\n",
    "assert z[2] < 0.1"
   ]
  },
  {
   "cell_type": "code",
   "execution_count": null,
   "metadata": {},
   "outputs": [],
   "source": []
  }
 ],
 "metadata": {
  "kernelspec": {
   "display_name": "gf",
   "language": "python",
   "name": "python3"
  },
  "language_info": {
   "codemirror_mode": {
    "name": "ipython",
    "version": 3
   },
   "file_extension": ".py",
   "mimetype": "text/x-python",
   "name": "python",
   "nbconvert_exporter": "python",
   "pygments_lexer": "ipython3",
   "version": "3.11.9"
  }
 },
 "nbformat": 4,
 "nbformat_minor": 2
}
