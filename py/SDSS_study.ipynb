{
 "cells": [
  {
   "cell_type": "code",
   "execution_count": null,
   "metadata": {},
   "outputs": [],
   "source": [
    "import numpy as np\n",
    "import pandas as pd\n",
    "import matplotlib.pyplot as plt\n",
    "import matplotlib.colors as c\n",
    "import astropy.coordinates as coord\n",
    "import astropy.units as u\n",
    "import astropy.io.fits as fits\n",
    "import healpy as hp\n",
    "from astropy.table import Table,join\n",
    "import types\n",
    "import sys\n",
    "\n",
    "if './SelfCalGroupFinder/py/' not in sys.path:\n",
    "    sys.path.append('./SelfCalGroupFinder/py/')\n",
    "from pyutils import *\n",
    "from dataloc import *\n",
    "import groupcatalog as gc\n",
    "import catalog_definitions as cat\n",
    "\n",
    "%load_ext autoreload\n",
    "%autoreload 2"
   ]
  },
  {
   "cell_type": "code",
   "execution_count": null,
   "metadata": {},
   "outputs": [],
   "source": [
    "id_table = Table.read(SDSS_DR7B_ID_FILE, names=['indx', 'run', 'rerun', 'camcol', 'field', 'id'], delimiter='\\s', format='ascii')\n",
    "id_table.keep_columns(['indx'])\n",
    "print(len(id_table))"
   ]
  },
  {
   "cell_type": "code",
   "execution_count": null,
   "metadata": {},
   "outputs": [],
   "source": [
    "# <indx> <sector> <mregion> <ra> <dec> <cz> <fgotten> <selection fn>\n",
    "#lss_table = Table.read(SDSS_DR7B_LSS_FILE, names=['indx', 'sector', 'mregion', 'ra', 'dec', 'cz', 'fgotten', 'selection_fn'], guess=False, delimiter='\\s', format='ascii')"
   ]
  },
  {
   "cell_type": "code",
   "execution_count": null,
   "metadata": {},
   "outputs": [],
   "source": [
    "# <indx> <M_u> <M_g> <M_r> <M_i> <M_z> <mu_{50}> <r50/r90>\n",
    "#phot_table = Table.read(SDSS_DR7B_PHOTO_FILE, names=['indx', 'M_u', 'M_g', 'M_r', 'M_i', 'M_z', 'mu_50', 'r50_r90'], guess=False, delimiter='\\s', format='ascii')"
   ]
  },
  {
   "cell_type": "code",
   "execution_count": null,
   "metadata": {},
   "outputs": [],
   "source": [
    "df_good = id_table.to_pandas()"
   ]
  },
  {
   "cell_type": "code",
   "execution_count": null,
   "metadata": {},
   "outputs": [],
   "source": [
    "obj_table = Table.read(SDSS_DR7_OBJECT_FILE, format='fits')\n",
    "spec_table = Table.read(SDSS_DR7_SPECTRO_FILE, format='fits')\n",
    "collisions_table = Table.read(SDSS_DR7_COLLISIONS_FILE, format='fits')\n",
    "imaging_table = Table.read(SDSS_DR7_IMAGING_FILE, format='fits')\n",
    "print(len(obj_table))\n",
    "print(len(spec_table))\n",
    "print(len(collisions_table))\n",
    "print(len(imaging_table))"
   ]
  },
  {
   "cell_type": "code",
   "execution_count": null,
   "metadata": {},
   "outputs": [],
   "source": [
    "obj_table.keep_columns(['RA', 'DEC'])\n",
    "spec_table.keep_columns(['OBJTYPE', 'CLASS', 'SUBCLASS'])\n",
    "collisions_table.keep_columns(['Z','Z_SDSS','Z_SPECTRO','Z_FIXED','FIXED','ZTYPE','GOT'])\n",
    "#imaging_table.keep_columns(['OBJC_TYPE', ])\n",
    "\n",
    "df = obj_table.to_pandas()\n",
    "df = df.join(spec_table.to_pandas(), how='left')\n",
    "df = df.join(collisions_table.to_pandas(), how='left')\n",
    "print(len(df))"
   ]
  },
  {
   "cell_type": "code",
   "execution_count": null,
   "metadata": {},
   "outputs": [],
   "source": [
    "df_good = df_good.join(df, how='inner', on='indx')"
   ]
  },
  {
   "cell_type": "code",
   "execution_count": null,
   "metadata": {},
   "outputs": [],
   "source": [
    "print(df_good.FIXED.sum() / len(df_good))\n",
    "print(df_good.GOT.sum() / len(df_good))\n",
    "print(df_good.groupby('ZTYPE').RA.count() / len(df_good))\n",
    "print(df_good[df_good['Z_FIXED'] != -1.0].RA.count() / len(df_good)) # Weird, this is not the same percent of FIXED"
   ]
  },
  {
   "cell_type": "code",
   "execution_count": null,
   "metadata": {},
   "outputs": [],
   "source": [
    "# DAT file Jeremy built before going into GF\n",
    "tinker_catalog_df = pd.read_csv(SDSS_v1_DAT_FILE, delimiter=' ', names=('RA', 'Dec', 'z', 'logLgal', 'V_max', 'color', 'chi'))\n",
    "\n",
    "# Read in Jeremy's group catalog \n",
    "catalog = cat.sdss_published\n",
    "catalog.postprocess()\n",
    "\n",
    "assert len(df_good) == len(tinker_catalog_df)\n",
    "assert len(df_good) == len(catalog.all_data)\n",
    "\n",
    "assert np.isclose(df_good.RA, tinker_catalog_df.RA, rtol=1E-6, atol=1E-5).all()\n",
    "assert np.isclose(df_good.RA, catalog.all_data.RA, rtol=1E-6, atol=1E-5).all()\n",
    "\n",
    "print(df_good['RA'][0:5])\n",
    "print(tinker_catalog_df['RA'][0:5])\n",
    "print(catalog.all_data['RA'][0:5])"
   ]
  },
  {
   "cell_type": "code",
   "execution_count": null,
   "metadata": {},
   "outputs": [],
   "source": [
    "catalog.all_data = catalog.all_data.join(df_good.FIXED, how='inner')\n",
    "#catalog.all_data = catalog.all_data.join(df_good.Z_SPECTRO, how='inner')\n",
    "catalog.all_data['z_DESI1'] = np.nan\n",
    "catalog.all_data['z_DESI3'] = np.nan"
   ]
  },
  {
   "cell_type": "code",
   "execution_count": null,
   "metadata": {},
   "outputs": [],
   "source": [
    "desi_Y1_observed_galaxies = gc.deserialize(cat.bgs_fiberonly_1pass)\n",
    "desi_Y1_catalog = coord.SkyCoord(ra=desi_Y1_observed_galaxies.all_data.RA.to_numpy()*u.degree, dec=desi_Y1_observed_galaxies.all_data.Dec.to_numpy()*u.degree, frame='icrs')\n",
    "desi_Y1_z = desi_Y1_observed_galaxies.all_data['z'].to_numpy()\n",
    "\n",
    "desi_Y3_observed_galaxies = gc.deserialize(cat.bgs_y3_fiberonly_1pass)\n",
    "desi_Y3_catalog = coord.SkyCoord(ra=desi_Y3_observed_galaxies.all_data.RA.to_numpy()*u.degree, dec=desi_Y3_observed_galaxies.all_data.Dec.to_numpy()*u.degree, frame='icrs')\n",
    "desi_Y3_z = desi_Y3_observed_galaxies.all_data['z'].to_numpy()\n",
    "\n",
    "def match_redshifts_from_DESI(df: pd.DataFrame, desi_catalog, desi_z, colname):\n",
    "    lost = df.FIXED == 1 \n",
    "\n",
    "    to_match = coord.SkyCoord(ra=df.loc[lost, 'RA'].to_numpy()*u.degree, dec=df.loc[lost,'Dec'].to_numpy()*u.degree, frame='icrs')\n",
    "    idx, d2d, d3d = coord.match_coordinates_sky(to_match, desi_catalog, nthneighbor=1)\n",
    "    ang_distances = d2d.to(u.arcsec).value\n",
    "    z_to_steal = desi_z[idx]\n",
    "\n",
    "    # if angular distance is < 3\", then we consider it a match to SDSS catalog and copy over it's z\n",
    "    ANGULAR_DISTANCE_MATCH = 3\n",
    "    matched = ang_distances < ANGULAR_DISTANCE_MATCH\n",
    "    print(f\"Matched {matched.sum()} out of {len(df.loc[lost])} ({matched.sum()/len(df.loc[lost]):.1%}) lost SDSS with DESI redshifts\")\n",
    "\n",
    "    df.loc[lost, colname] = np.where(matched, z_to_steal, np.nan)\n",
    "\n",
    "\n",
    "match_redshifts_from_DESI(catalog.all_data, desi_Y1_catalog, desi_Y1_z, 'z_DESI1')\n",
    "match_redshifts_from_DESI(catalog.all_data, desi_Y3_catalog, desi_Y3_z, 'z_DESI3')"
   ]
  },
  {
   "cell_type": "code",
   "execution_count": null,
   "metadata": {},
   "outputs": [],
   "source": [
    "lost_gals = catalog.all_data.loc[catalog.all_data.FIXED == 1]\n",
    "# For the matched ones, we can now calculate the difference in redshift\n",
    "\n",
    "for colname in ['z_DESI1', 'z_DESI3']:\n",
    "    matched_gals = lost_gals[~np.isnan(lost_gals[colname])].copy()\n",
    "    dz = matched_gals['z'] - matched_gals[colname]\n",
    "\n",
    "    print(f\"{len(matched_gals)} galaxies with DESI redshifts matched to SDSS with {colname}\")\n",
    "\n",
    "    CLOSE_ENOUGH = 0.005 # cz = 1500 km/s\n",
    "    QUITE_CLOSE = 0.001\n",
    "    print(f\"{np.isclose(matched_gals['z'], matched_gals[colname], rtol=0.0, atol=CLOSE_ENOUGH).sum() / len(matched_gals):.3f} of galaxies are within 0.005 of DESI redshift\")\n",
    "    print(f\"{np.isclose(matched_gals['z'], matched_gals[colname], rtol=0.0, atol=QUITE_CLOSE).sum() / len(matched_gals):.3f} of galaxies are within 0.001 of DESI redshift\")\n",
    "\n",
    "\n",
    "    plt.figure()\n",
    "    junk=plt.hist(dz, bins=200, range=(-0.1, 0.1))\n",
    "    plt.xlim(-0.1, 0.1)\n",
    "    plt.yscale('log')\n",
    "    plt.ylabel('Number of Galaxies')\n",
    "    plt.xlabel(f'z_SDSS - {colname}')\n",
    "    # draw horizontal line at 0.005 and 0.001\n",
    "    plt.axvline(CLOSE_ENOUGH, color='r')\n",
    "    plt.axvline(-CLOSE_ENOUGH, color='r')\n",
    "    #plt.axvline(QUITE_CLOSE, color='g')\n",
    "    #plt.axvline(-QUITE_CLOSE, color='g')\n",
    "    plt.draw()"
   ]
  },
  {
   "cell_type": "code",
   "execution_count": null,
   "metadata": {},
   "outputs": [],
   "source": [
    "# When z_DESI is not -1.0, set z to be z_DESI\n",
    "catalog.all_data['z'] = np.where(np.isnan(catalog.all_data['z_DESI3']), catalog.all_data['z'], catalog.all_data['z_DESI3'])\n",
    "\n",
    "# Make a column that is True when FIXED and z_DESI is not nan\n",
    "catalog.all_data['z_assigned_flag'] = ((catalog.all_data.FIXED == 1) & (~np.isnan(catalog.all_data['z_DESI3']))).astype(int)\n"
   ]
  },
  {
   "cell_type": "code",
   "execution_count": null,
   "metadata": {},
   "outputs": [],
   "source": [
    "catalog.all_data['quiescent'] = catalog.all_data['quiescent'].astype(float)\n",
    "\n",
    "# TODO BUG for the copied over from DESI ones, we may have incorrect color / chi info\n",
    "catalog.all_data['color_flag'] = tinker_catalog_df.color\n",
    "catalog.all_data['chi'] = tinker_catalog_df.chi"
   ]
  },
  {
   "cell_type": "code",
   "execution_count": null,
   "metadata": {},
   "outputs": [],
   "source": [
    "# Write the new version of the fluxlim file to go into group finder\n",
    "catalog.all_data[['RA', 'Dec', 'z', 'logLgal', 'V_max', 'color_flag', 'chi']].to_csv(SDSS_v2_DAT_FILE, sep=' ', header=False, index=False)"
   ]
  },
  {
   "cell_type": "code",
   "execution_count": null,
   "metadata": {},
   "outputs": [],
   "source": [
    "print(f\"SDSS v2 Completeness: {(catalog.all_data.z_assigned_flag == 0).sum() / len(catalog.all_data)}\")"
   ]
  },
  {
   "cell_type": "code",
   "execution_count": null,
   "metadata": {},
   "outputs": [],
   "source": [
    "# Read old galprops file\n",
    "tinker_galprops = pd.read_csv(SDSS_v1_GALPROPS_FILE, delimiter=' ', names=('Mag_g', 'Mag_r', 'sigma_v', 'Dn4000', 'concentration', 'log_M_star'))\n",
    "tinker_galprops = tinker_galprops.join(catalog.all_data[['z_assigned_flag']], how='left')\n",
    "\n",
    "# TODO the rows we updated still have old copied over values here\n",
    "\n",
    "# And write it as v2\n",
    "tinker_galprops.to_csv(SDSS_v2_GALPROPS_FILE, sep=' ', header=False, index=False)"
   ]
  },
  {
   "cell_type": "code",
   "execution_count": null,
   "metadata": {},
   "outputs": [],
   "source": []
  }
 ],
 "metadata": {
  "kernelspec": {
   "display_name": "ian-conda311",
   "language": "python",
   "name": "python3"
  },
  "language_info": {
   "codemirror_mode": {
    "name": "ipython",
    "version": 3
   },
   "file_extension": ".py",
   "mimetype": "text/x-python",
   "name": "python",
   "nbconvert_exporter": "python",
   "pygments_lexer": "ipython3",
   "version": "3.11.4"
  }
 },
 "nbformat": 4,
 "nbformat_minor": 2
}
