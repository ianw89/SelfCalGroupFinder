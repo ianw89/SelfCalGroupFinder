{
 "cells": [
  {
   "cell_type": "code",
   "execution_count": 3,
   "metadata": {},
   "outputs": [],
   "source": [
    "import halotools.empirical_models as ht\n",
    "import numpy as np\n",
    "import matplotlib as plt"
   ]
  },
  {
   "cell_type": "code",
   "execution_count": null,
   "metadata": {},
   "outputs": [],
   "source": [
    "model = ht.NFWProfile()\n",
    "Npts = 150\n",
    "radius = np.logspace(-2, -0.5, Npts)\n",
    "total_mass = np.zeros(Npts) + 3e12\n",
    "conc = 4\n",
    "result = model.circular_velocity(radius, total_mass, conc)\n",
    "plt.plot(radius, result)\n",
    "conc = 6\n",
    "result = model.circular_velocity(radius, total_mass, conc)\n",
    "plt.plot(radius, result)\n",
    "conc = 10\n",
    "result = model.circular_velocity(radius, total_mass, conc)\n",
    "plt.plot(radius, result)\n",
    "\n",
    "plt.xlabel('Radius [Mpc]')\n",
    "plt.ylabel('Circular Velocity [km/s]')\n",
    "plt.show()\n",
    "\n",
    "model.halo_mass_to_halo_radius(3e12)\n"
   ]
  }
 ],
 "metadata": {
  "language_info": {
   "name": "python"
  }
 },
 "nbformat": 4,
 "nbformat_minor": 2
}
