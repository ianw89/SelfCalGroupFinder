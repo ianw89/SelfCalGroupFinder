{
 "cells": [
  {
   "cell_type": "code",
   "execution_count": null,
   "id": "22e5ccc2",
   "metadata": {},
   "outputs": [],
   "source": [
    "%load_ext autoreload\n",
    "%autoreload 2\n",
    "\n",
    "import sys\n",
    "import os\n",
    "import numpy as np\n",
    "import matplotlib.pyplot as plt\n",
    "import fitsio\n",
    "from pycorr import TwoPointCorrelationFunction, TwoPointEstimator, project_to_multipoles, project_to_wp, utils, setup_logging\n",
    "from scipy.optimize import curve_fit\n",
    "from LSS.common_tools import mknz\n",
    "from astropy.table import Table\n",
    "import itertools\n",
    "\n",
    "from dataloc import *\n",
    "from groupcatalog import read_wp_file\n",
    "\n",
    "# MAKE ALL PLOTS TEXT BIGGER\n",
    "plt.rcParams.update({'font.size': 15})\n",
    "# But legend a bit smaller\n",
    "plt.rcParams.update({'legend.fontsize': 12})\n",
    "# Set DPI up a bit\n",
    "plt.rcParams.update({'figure.dpi': 150})\n"
   ]
  },
  {
   "cell_type": "markdown",
   "id": "03fab502",
   "metadata": {},
   "source": [
    "This notebook creates takes an LSSCatalog and cuts the data and randoms to a little patch to be used for rapid validation."
   ]
  },
  {
   "cell_type": "code",
   "execution_count": null,
   "id": "b1515fae",
   "metadata": {},
   "outputs": [],
   "source": [
    "dir = os.path.join(CUSTOM_CLUSTERING_RESULTS_FOLDER, 'Y1', 'LSS', 'iron', 'LSScats', 'v1.5pip')\n",
    "outdir = os.path.join(dir, 'mini')\n",
    "print(f'Using directory {dir} for data')\n",
    "print(f'Using directory {outdir} for output')"
   ]
  },
  {
   "cell_type": "code",
   "execution_count": null,
   "id": "d876db90",
   "metadata": {},
   "outputs": [],
   "source": [
    "RA_MAX = 175\n",
    "RA_MIN = 160\n",
    "DEC_MAX = 3\n",
    "DEC_MIN = -7\n",
    "# Despite being a 150 deg sq cut, the randoms measure it to be ~141.6 deg sq.\n",
    "def reduce_table(tbl):\n",
    "    ol = len(tbl)\n",
    "    sel = np.ones(len(tbl), dtype=bool)\n",
    "    sel &= (tbl['RA'] < RA_MAX)\n",
    "    sel &= (tbl['RA'] > RA_MIN)\n",
    "    sel &= (tbl['DEC'] < DEC_MAX)\n",
    "    sel &= (tbl['DEC'] > DEC_MIN)\n",
    "    reduced = tbl[sel]\n",
    "    print(f'Reduced table from {ol} to {len(reduced)}')\n",
    "    return reduced"
   ]
  },
  {
   "cell_type": "code",
   "execution_count": null,
   "id": "8f7032e2",
   "metadata": {},
   "outputs": [],
   "source": [
    "dpath = os.path.join(dir, f'BGS_BRIGHT_full_HPmapcut.dat.fits')\n",
    "dtbl = fitsio.read(dpath)\n",
    "dtbl = reduce_table(dtbl)\n",
    "fitsio.write(os.path.join(outdir, 'BGS_BRIGHT_full_HPmapcut.dat.fits'), dtbl)\n",
    "del dtbl\n",
    "\n",
    "for j in np.arange(0, 18):\n",
    "    rpath = os.path.join(dir, f'BGS_BRIGHT_{j}_full_HPmapcut.ran.fits')\n",
    "    rtbl = fitsio.read(rpath)\n",
    "    rtbl = reduce_table(rtbl)\n",
    "    fitsio.write(os.path.join(outdir, f'BGS_BRIGHT_{j}_full_HPmapcut.ran.fits'), rtbl)\n",
    "    del rtbl"
   ]
  },
  {
   "cell_type": "code",
   "execution_count": null,
   "id": "803233c5",
   "metadata": {},
   "outputs": [],
   "source": [
    "#for i in ['N', 'S']: # The area is only in NGC anyway\n",
    "for i in ['N']:\n",
    "    dpath = os.path.join(dir, f'BGS_BRIGHT_{i}GC_clustering.dat.fits')\n",
    "    dtbl = fitsio.read(dpath)\n",
    "    dtbl = reduce_table(dtbl)\n",
    "    fitsio.write(os.path.join(outdir, f'BGS_BRIGHT_{i}GC_clustering.dat.fits'), dtbl)\n",
    "    del dtbl\n",
    "\n",
    "    for j in np.arange(0, 18):\n",
    "        rpath = os.path.join(dir, f'BGS_BRIGHT_{i}GC_{j}_clustering.ran.fits')\n",
    "        rtbl = fitsio.read(rpath)\n",
    "        rtbl = reduce_table(rtbl)\n",
    "        fitsio.write(os.path.join(outdir, f'BGS_BRIGHT_{i}GC_{j}_clustering.ran.fits'), rtbl)\n",
    "        del rtbl"
   ]
  },
  {
   "cell_type": "code",
   "execution_count": null,
   "id": "15d439d1",
   "metadata": {},
   "outputs": [],
   "source": []
  }
 ],
 "metadata": {
  "kernelspec": {
   "display_name": "baseclone",
   "language": "python",
   "name": "python3"
  },
  "language_info": {
   "codemirror_mode": {
    "name": "ipython",
    "version": 3
   },
   "file_extension": ".py",
   "mimetype": "text/x-python",
   "name": "python",
   "nbconvert_exporter": "python",
   "pygments_lexer": "ipython3",
   "version": "3.10.13"
  }
 },
 "nbformat": 4,
 "nbformat_minor": 5
}
