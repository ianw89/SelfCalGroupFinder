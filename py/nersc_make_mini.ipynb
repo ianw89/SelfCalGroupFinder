{
 "cells": [
  {
   "cell_type": "code",
   "execution_count": 1,
   "id": "22e5ccc2",
   "metadata": {},
   "outputs": [],
   "source": [
    "%load_ext autoreload\n",
    "%autoreload 2\n",
    "\n",
    "import sys\n",
    "import os\n",
    "import numpy as np\n",
    "import matplotlib.pyplot as plt\n",
    "import fitsio\n",
    "from pycorr import TwoPointCorrelationFunction, TwoPointEstimator, project_to_multipoles, project_to_wp, utils, setup_logging\n",
    "from scipy.optimize import curve_fit\n",
    "from LSS.common_tools import mknz\n",
    "from astropy.table import Table\n",
    "import itertools\n",
    "\n",
    "from dataloc import *\n",
    "from groupcatalog import read_wp_file\n",
    "\n",
    "# MAKE ALL PLOTS TEXT BIGGER\n",
    "plt.rcParams.update({'font.size': 15})\n",
    "# But legend a bit smaller\n",
    "plt.rcParams.update({'legend.fontsize': 12})\n",
    "# Set DPI up a bit\n",
    "plt.rcParams.update({'figure.dpi': 150})\n"
   ]
  },
  {
   "cell_type": "markdown",
   "id": "03fab502",
   "metadata": {},
   "source": [
    "This notebook creates takes an LSSCatalog and cuts the data and randoms to a little patch to be used for rapid validation."
   ]
  },
  {
   "cell_type": "code",
   "execution_count": 4,
   "id": "b1515fae",
   "metadata": {},
   "outputs": [
    {
     "name": "stdout",
     "output_type": "stream",
     "text": [
      "Using directory /global/cfs/cdirs/desi/users/ianw89/clustering/Y1/LSS/iron/LSScats/v1.5pip for data\n",
      "Using directory /global/cfs/cdirs/desi/users/ianw89/clustering/Y1/LSS/iron/LSScats/v1.5pip/mini for output\n"
     ]
    }
   ],
   "source": [
    "dir = os.path.join(CUSTOM_CLUSTERING_RESULTS_FOLDER, 'Y1', 'LSS', 'iron', 'LSScats', 'v1.5pip')\n",
    "outdir = os.path.join(dir, 'mini')\n",
    "print(f'Using directory {dir} for data')\n",
    "print(f'Using directory {outdir} for output')"
   ]
  },
  {
   "cell_type": "code",
   "execution_count": null,
   "id": "803233c5",
   "metadata": {},
   "outputs": [
    {
     "name": "stdout",
     "output_type": "stream",
     "text": [
      "Reduced table from 2909876 to 97438\n"
     ]
    },
    {
     "name": "stderr",
     "output_type": "stream",
     "text": [
      "/tmp/ipykernel_846480/2710902730.py:20: DeprecationWarning: The keyword arguments '{'overwrite': True, 'format': 'fits'}' are being ignored! This warning will be an error in a future version of `fitsio`!\n",
      "  fitsio.write(os.path.join(outdir, f'BGS_BRIGHT_{i}GC_clustering.dat.fits'), dtbl, overwrite=True, format='fits')\n"
     ]
    },
    {
     "name": "stdout",
     "output_type": "stream",
     "text": [
      "Reduced table from 13248857 to 353947\n"
     ]
    },
    {
     "name": "stderr",
     "output_type": "stream",
     "text": [
      "/tmp/ipykernel_846480/2710902730.py:27: DeprecationWarning: The keyword arguments '{'overwrite': True, 'format': 'fits'}' are being ignored! This warning will be an error in a future version of `fitsio`!\n",
      "  fitsio.write(os.path.join(outdir, f'BGS_BRIGHT_{i}GC_{j}_clustering.ran.fits'), rtbl, overwrite=True, format='fits')\n"
     ]
    },
    {
     "name": "stdout",
     "output_type": "stream",
     "text": [
      "Reduced table from 13251505 to 353745\n",
      "Reduced table from 13247566 to 355329\n",
      "Reduced table from 13250420 to 353115\n",
      "Reduced table from 13255925 to 353968\n",
      "Reduced table from 13253133 to 353332\n",
      "Reduced table from 13247575 to 353749\n",
      "Reduced table from 13251243 to 354184\n",
      "Reduced table from 13254259 to 353837\n",
      "Reduced table from 13252687 to 353495\n",
      "Reduced table from 13244381 to 354490\n",
      "Reduced table from 13251506 to 354491\n",
      "Reduced table from 13250433 to 354081\n",
      "Reduced table from 13254937 to 354049\n",
      "Reduced table from 13251127 to 354768\n",
      "Reduced table from 13255872 to 354537\n",
      "Reduced table from 13248374 to 353515\n",
      "Reduced table from 13249438 to 352831\n",
      "Reduced table from 1047989 to 0\n",
      "Reduced table from 5432939 to 0\n",
      "Reduced table from 5435725 to 0\n",
      "Reduced table from 5429301 to 0\n",
      "Reduced table from 5432593 to 0\n",
      "Reduced table from 5431828 to 0\n",
      "Reduced table from 5432297 to 0\n",
      "Reduced table from 5430447 to 0\n",
      "Reduced table from 5432556 to 0\n",
      "Reduced table from 5431190 to 0\n",
      "Reduced table from 5429141 to 0\n",
      "Reduced table from 5432835 to 0\n",
      "Reduced table from 5433295 to 0\n",
      "Reduced table from 5431594 to 0\n",
      "Reduced table from 5430151 to 0\n",
      "Reduced table from 5430164 to 0\n",
      "Reduced table from 5433214 to 0\n",
      "Reduced table from 5433647 to 0\n",
      "Reduced table from 5432395 to 0\n"
     ]
    }
   ],
   "source": [
    "RA_MAX = 175\n",
    "RA_MIN = 160\n",
    "DEC_MAX = 3\n",
    "DEC_MIN = -7\n",
    "# Despite being a 150 deg sq cut, the randoms measure it to be ~141.6 deg sq.\n",
    "def reduce_table(tbl):\n",
    "    ol = len(tbl)\n",
    "    sel = np.ones(len(tbl), dtype=bool)\n",
    "    sel &= (tbl['RA'] < RA_MAX)\n",
    "    sel &= (tbl['RA'] > RA_MIN)\n",
    "    sel &= (tbl['DEC'] < DEC_MAX)\n",
    "    sel &= (tbl['DEC'] > DEC_MIN)\n",
    "    reduced = tbl[sel]\n",
    "    print(f'Reduced table from {ol} to {len(reduced)}')\n",
    "    return reduced\n",
    "\n",
    "#for i in ['N', 'S']: # The area is only in NGC anyway\n",
    "for i in ['N']:\n",
    "    dpath = os.path.join(dir, f'BGS_BRIGHT_{i}GC_clustering.dat.fits')\n",
    "    dtbl = fitsio.read(dpath)\n",
    "    dtbl = reduce_table(dtbl)\n",
    "    fitsio.write(os.path.join(outdir, f'BGS_BRIGHT_{i}GC_clustering.dat.fits'), dtbl)\n",
    "    del dtbl\n",
    "\n",
    "    for j in np.arange(0, 18):\n",
    "        rpath = os.path.join(dir, f'BGS_BRIGHT_{i}GC_{j}_clustering.ran.fits')\n",
    "        rtbl = fitsio.read(rpath)\n",
    "        rtbl = reduce_table(rtbl)\n",
    "        fitsio.write(os.path.join(outdir, f'BGS_BRIGHT_{i}GC_{j}_clustering.ran.fits'), rtbl)\n",
    "        del rtbl"
   ]
  },
  {
   "cell_type": "code",
   "execution_count": null,
   "id": "15d439d1",
   "metadata": {},
   "outputs": [],
   "source": []
  }
 ],
 "metadata": {
  "kernelspec": {
   "display_name": "Python 3",
   "language": "python",
   "name": "python3"
  },
  "language_info": {
   "codemirror_mode": {
    "name": "ipython",
    "version": 3
   },
   "file_extension": ".py",
   "mimetype": "text/x-python",
   "name": "python",
   "nbconvert_exporter": "python",
   "pygments_lexer": "ipython3",
   "version": "3.10.13"
  }
 },
 "nbformat": 4,
 "nbformat_minor": 5
}
