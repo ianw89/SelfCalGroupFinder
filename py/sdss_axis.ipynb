{
 "cells": [
  {
   "cell_type": "code",
   "execution_count": null,
   "metadata": {},
   "outputs": [],
   "source": [
    "import numpy as np\n",
    "import astropy as ap\n",
    "import matplotlib.pyplot as plt\n",
    "import sys\n",
    "if './SelfCalGroupFinder/py/' not in sys.path:\n",
    "    sys.path.append('./SelfCalGroupFinder/py/')\n",
    "import groupcatalog as gc\n",
    "import catalog_definitions as cat"
   ]
  },
  {
   "cell_type": "code",
   "execution_count": null,
   "metadata": {},
   "outputs": [],
   "source": [
    "cat.sdss_published.postprocess()"
   ]
  },
  {
   "cell_type": "code",
   "execution_count": null,
   "metadata": {},
   "outputs": [],
   "source": [
    "targets = cat.sdss_published.all_data.loc[cat.sdss_published.all_data['Z'] < 0.1]\n",
    "targets = targets.loc[targets['quiescent'] == 0]\n",
    "targets = targets.loc[targets['IS_SAT'] == 0]\n",
    "targets.reset_index(drop=True, inplace=True)"
   ]
  },
  {
   "cell_type": "code",
   "execution_count": null,
   "metadata": {},
   "outputs": [],
   "source": [
    "from dataloc import *\n",
    "from astropy.table import Table\n",
    "#nasa_sloan_atlas_file = SDSS_FOLDER + 'nsa_v0_1_2.fits'\n",
    "nasa_sloan_atlas_file = '/export/sirocco1/tinker/SDSS_DATA/MANGA/nsa_v1_0_1.fits'\n",
    "nsa_data = Table.read(nasa_sloan_atlas_file, format='fits')"
   ]
  },
  {
   "cell_type": "code",
   "execution_count": null,
   "metadata": {},
   "outputs": [],
   "source": [
    "print(len(nsa_data))\n",
    "print(nsa_data.columns)"
   ]
  },
  {
   "cell_type": "code",
   "execution_count": null,
   "metadata": {},
   "outputs": [],
   "source": [
    "import astropy.coordinates as coord\n",
    "import astropy.units as u\n",
    "nsa_catalog = coord.SkyCoord(ra=nsa_data['RA']*u.degree, dec=nsa_data['DEC']*u.degree, frame='icrs')\n",
    "to_match = coord.SkyCoord(ra=targets.RA.to_numpy()*u.degree, dec=targets.Dec.to_numpy()*u.degree, frame='icrs')\n",
    "\n",
    "idx, d2d, d3d = coord.match_coordinates_sky(to_match, nsa_catalog, nthneighbor=1, storekdtree=False)\n",
    "\n",
    "ang_distances = d2d.to(u.arcsec).value\n",
    "\n",
    "ANGULAR_DISTANCE_MATCH = 3\n",
    "matched = ang_distances < ANGULAR_DISTANCE_MATCH\n",
    "\n",
    "np.sum(matched)/len(matched)"
   ]
  },
  {
   "cell_type": "code",
   "execution_count": null,
   "metadata": {},
   "outputs": [],
   "source": [
    "print(len(nsa_catalog))\n",
    "print(len(to_match))"
   ]
  },
  {
   "cell_type": "code",
   "execution_count": null,
   "metadata": {},
   "outputs": [],
   "source": [
    "zeros = np.zeros(len(to_match), dtype=float)\n",
    "BA50 = np.where(matched, nsa_data['PETRO_BA50'][idx], zeros)\n",
    "BA90 = np.where(matched, nsa_data['SERSIC_BA'][idx], zeros)\n",
    "#SERSIC_BA = np.where(matched, nsa_data['SERSIC_BA'][idx], zeros)\n",
    "\n",
    "targets['PETRO_BA50'] = BA50\n",
    "targets['SERSIC_BA'] = BA90\n",
    "#targets['SERSIC_BA'] = SERSIC_BA\n"
   ]
  },
  {
   "cell_type": "code",
   "execution_count": null,
   "metadata": {},
   "outputs": [],
   "source": [
    "targets_reduced = targets.loc[targets['PETRO_BA50'] > 0.0]\n",
    "targets_reduced = targets_reduced.loc[targets_reduced['SERSIC_BA'] > 0.0]\n",
    "print(len(targets_reduced), len(targets))"
   ]
  },
  {
   "cell_type": "code",
   "execution_count": null,
   "metadata": {},
   "outputs": [],
   "source": [
    "plt.plot(np.log10(gc.Mhalo_labels), targets_reduced.groupby('Mh_bin').PETRO_BA50.mean(), label='PETRO_BA50')\n",
    "plt.plot(np.log10(gc.Mhalo_labels), targets_reduced.groupby('Mh_bin').SERSIC_BA.mean(), label='SERSIC_BA')\n",
    "#plt.plot(np.log10(gc.Mhalo_labels), targets.groupby('Mh_bin').SERSIC_BA.mean(), label='Sersic BA')\n",
    "plt.xlim(10.75, 14)\n",
    "plt.xlabel(\"log$(M_{halo})$\")\n",
    "plt.legend()"
   ]
  },
  {
   "cell_type": "code",
   "execution_count": null,
   "metadata": {},
   "outputs": [],
   "source": [
    "plt.plot(np.log10(gc.Mhalo_labels), targets_reduced.groupby('Mh_bin').RA.count())\n",
    "plt.yscale('log')"
   ]
  },
  {
   "cell_type": "code",
   "execution_count": null,
   "metadata": {},
   "outputs": [],
   "source": [
    "plt.hist(np.log10(targets_reduced['M_HALO']), bins=20)\n",
    "plt.yscale('log')"
   ]
  },
  {
   "cell_type": "code",
   "execution_count": null,
   "metadata": {},
   "outputs": [],
   "source": [
    "plt.plot(np.log10(gc.mstar_labels), targets_reduced.groupby('Mstar_bin').PETRO_BA50.mean(), label='PETRO_BA50')\n",
    "plt.plot(np.log10(gc.mstar_labels), targets_reduced.groupby('Mstar_bin').SERSIC_BA.mean(), label='SERSIC_BA')\n",
    "plt.xlabel(\"log$(M_{\\\\star})$\")\n",
    "plt.legend()\n",
    "plt.title(\"Axis Ratio vs Stellar Mass\")"
   ]
  },
  {
   "cell_type": "code",
   "execution_count": null,
   "metadata": {},
   "outputs": [],
   "source": [
    "# Get mode of PETRO_BA50 for each bin\n",
    "BA50_bins = np.linspace(0,1,40)\n",
    "\n",
    "def get_mode(x):\n",
    "    return BA50_bins[np.histogram(x, bins=BA50_bins)[0].argmax()]\n",
    "\n",
    "modes1 = targets_reduced.groupby('Mh_bin').PETRO_BA50.apply(lambda x: get_mode(x))\n",
    "modes2 = targets_reduced.groupby('Mh_bin').SERSIC_BA.apply(lambda x: get_mode(x))\n",
    "\n",
    "plt.plot(np.log10(gc.Mhalo_labels), modes1, label='PETRO_BA50')\n",
    "plt.plot(np.log10(gc.Mhalo_labels), modes2, label='SERSIC_BA')\n",
    "plt.xlim(10.75, 14)\n",
    "plt.xlabel(\"log$(M_{halo})$\")\n",
    "plt.legend()"
   ]
  },
  {
   "cell_type": "code",
   "execution_count": null,
   "metadata": {},
   "outputs": [],
   "source": [
    "frac_low = targets_reduced.groupby('Mh_bin').apply(lambda x: np.sum(x.PETRO_BA50 < 0.3)/len(x))\n",
    "frac_low2 = targets_reduced.groupby('Mh_bin').apply(lambda x: np.sum(x.SERSIC_BA < 0.2)/len(x))\n",
    "\n",
    "plt.plot(np.log10(gc.Mhalo_labels), frac_low, label='PETRO_BA50 < 0.3')\n",
    "plt.plot(np.log10(gc.Mhalo_labels), frac_low2, label='SERSIC_BA, < 0.2')\n",
    "plt.xlabel(\"log$(M_{halo})$\")\n",
    "plt.ylabel(\"Fraction with Low B/A\")\n",
    "plt.legend()\n",
    "plt.yscale('log')\n",
    "plt.xlim(10.75, 14)"
   ]
  },
  {
   "cell_type": "code",
   "execution_count": null,
   "metadata": {},
   "outputs": [],
   "source": []
  }
 ],
 "metadata": {
  "kernelspec": {
   "display_name": "ian-conda311",
   "language": "python",
   "name": "python3"
  },
  "language_info": {
   "name": "python",
   "version": "3.11.4"
  }
 },
 "nbformat": 4,
 "nbformat_minor": 2
}
