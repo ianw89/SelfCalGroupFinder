{
 "cells": [
  {
   "cell_type": "code",
   "execution_count": null,
   "metadata": {},
   "outputs": [],
   "source": [
    "import numpy as np\n",
    "import pandas as pd\n",
    "import matplotlib.pyplot as plt\n",
    "import astropy.coordinates as coord\n",
    "import astropy.units as u\n",
    "import emcee\n",
    "import sys\n",
    "from astropy.table import Table\n",
    "\n",
    "if './SelfCalGroupFinder/py/' not in sys.path:\n",
    "    sys.path.append('./SelfCalGroupFinder/py/')\n",
    "from pyutils import *\n",
    "import plotting as pp\n",
    "from dataloc import *\n",
    "from bgs_helpers import *\n",
    "import catalog_definitions as cat\n",
    "from groupcatalog import *\n",
    "\n",
    "%load_ext autoreload\n",
    "%autoreload 2\n",
    "DPI = 100\n",
    "pp.DPI = DPI"
   ]
  },
  {
   "cell_type": "markdown",
   "metadata": {},
   "source": [
    "After the group finder is run, this notebook is used to postprocess the results, generating plots and such for analysis.\n"
   ]
  },
  {
   "cell_type": "markdown",
   "metadata": {},
   "source": [
    "## Loading existing datasets "
   ]
  },
  {
   "cell_type": "code",
   "execution_count": 48,
   "metadata": {},
   "outputs": [],
   "source": [
    "#mxxl_all=deserialize(cat.mxxl_all)\n",
    "#mxxl_fiberonly=deserialize(cat.mxxl_fiberonly)\n",
    "#mxxl_nn=deserialize(cat.mxxl_nn)\n",
    "mxxl_simple_4=deserialize(cat.mxxl_simple_4)"
   ]
  },
  {
   "cell_type": "code",
   "execution_count": 2,
   "metadata": {},
   "outputs": [],
   "source": [
    "sdss_vanilla = deserialize(cat.sdss_vanilla_v2)\n",
    "sdss_colors = deserialize(cat.sdss_colors_v2)\n",
    "sdss_colors_chi = deserialize(cat.sdss_colors_chi_v2)\n",
    "cat.sdss_published.postprocess()\n",
    "sdss_published = cat.sdss_published # It really is ~exactly sdss_colors_chi, which is great news for reproducibility\n",
    "sdss_vanilla_old = deserialize(cat.sdss_vanilla)\n",
    "sdss_bgscut = deserialize(cat.sdss_bgscut)"
   ]
  },
  {
   "cell_type": "code",
   "execution_count": 4,
   "metadata": {},
   "outputs": [],
   "source": [
    "fiberonly_BGS=deserialize(cat.bgs_fiberonly)\n",
    "fiberonly_1pass_BGS=deserialize(cat.bgs_fiberonly_1pass)\n",
    "nn_BGS=deserialize(cat.bgs_nn)\n",
    "nn_BGS_sdsslike=deserialize(cat.bgs_nn_sdsslike)\n",
    "simple4_BGS=deserialize(cat.bgs_simple_4)\n",
    "#simple4_BGS_old=deserialize(cat.bgs_simple_4_old)\n",
    "#simple4_BGS_c=deserialize(cat.bgs_simple_4_c)\n",
    "#bgs_simple_4_no_sdss=deserialize(cat.bgs_simple_4_no_sdss)\n",
    "bgs_simple_4_4p = deserialize(cat.bgs_simple_4_4p)\n",
    "bgs_simple_4_1pass = deserialize(cat.bgs_simple_4_1pass)\n",
    "bgs_simple_5 = deserialize(cat.bgs_simple_5)\n"
   ]
  },
  {
   "cell_type": "code",
   "execution_count": 51,
   "metadata": {},
   "outputs": [],
   "source": [
    "bgs_y3_simple_4 = deserialize(cat.bgs_y3_simple_4)\n",
    "bgs_y3_simple_5 = deserialize(cat.bgs_y3_simple_5)\n",
    "bgs_y3_simple_4_4p = deserialize(cat.bgs_y3_simple_4_4p)"
   ]
  },
  {
   "cell_type": "code",
   "execution_count": 6,
   "metadata": {},
   "outputs": [],
   "source": [
    "bgs_sv3_simple_4_10p = deserialize(cat.bgs_sv3_simple_4_10p)\n",
    "bgs_sv3_simple_4_9p = deserialize(cat.bgs_sv3_simple_4_9p)\n",
    "bgs_sv3_simple_4_8p = deserialize(cat.bgs_sv3_simple_4_8p)\n",
    "bgs_sv3_simple_4_7p = deserialize(cat.bgs_sv3_simple_4_7p)\n",
    "bgs_sv3_simple_4_6p = deserialize(cat.bgs_sv3_simple_4_6p)\n",
    "bgs_sv3_simple_4_5p = deserialize(cat.bgs_sv3_simple_4_5p)\n",
    "bgs_sv3_simple_4_4p = deserialize(cat.bgs_sv3_simple_4_4p)\n",
    "bgs_sv3_simple_4_3p = deserialize(cat.bgs_sv3_simple_4_3p)\n",
    "bgs_sv3_simple_4_2p = deserialize(cat.bgs_sv3_simple_4_2p)\n",
    "bgs_sv3_simple_4_1p = deserialize(cat.bgs_sv3_simple_4_1p)\n",
    "\n",
    "bgs_sv3_fiberonly_10p = deserialize(cat.bgs_sv3_fiberonly_10p)\n",
    "\n",
    "bgs_sv3_nn_10p = deserialize(cat.bgs_sv3_nn_10p)\n",
    "bgs_sv3_nn_7p = deserialize(cat.bgs_sv3_nn_7p)\n",
    "bgs_sv3_nn_6p = deserialize(cat.bgs_sv3_nn_6p)\n",
    "\n",
    "bgs_sv3_simple_5_10p = deserialize(cat.bgs_sv3_simple_5_10p)\n",
    "bgs_sv3_simple_5_9p = deserialize(cat.bgs_sv3_simple_5_9p)\n",
    "bgs_sv3_simple_5_8p = deserialize(cat.bgs_sv3_simple_5_8p)\n",
    "bgs_sv3_simple_5_7p = deserialize(cat.bgs_sv3_simple_5_7p)\n",
    "\n",
    "bgs_sv3_pz_1_10p = deserialize(cat.bgs_sv3_pz_1_10p)\n",
    "bgs_sv3_pz_2_4_10p = deserialize(cat.bgs_sv3_pz_2_4_10p) # Our best source of BGS Truth\n",
    "bgs_sv3_pz_1_0_7p = deserialize(cat.bgs_sv3_pz_1_0_7p)\n",
    "bgs_sv3_pz_2_0_7p = deserialize(cat.bgs_sv3_pz_2_0_7p)\n",
    "bgs_sv3_pz_2_4_7p = deserialize(cat.bgs_sv3_pz_2_4_7p)\n",
    "bgs_sv3_pz_2_5_7p = deserialize(cat.bgs_sv3_pz_2_5_7p)\n",
    "bgs_sv3_pz_3_1_7p = deserialize(cat.bgs_sv3_pz_3_1_7p)\n",
    "\n",
    "bgs_y3_like_sv3_fiberonly = deserialize(cat.bgs_y3_like_sv3_fiberonly)\n",
    "bgs_y3_like_sv3_pz_2_4 = deserialize(cat.bgs_y3_like_sv3_pz_2_4)"
   ]
  },
  {
   "cell_type": "code",
   "execution_count": null,
   "metadata": {},
   "outputs": [],
   "source": [
    "all_u = deserialize(cat.uchuu_all)"
   ]
  },
  {
   "cell_type": "markdown",
   "metadata": {},
   "source": [
    "### Get catalogs from MCMC chains"
   ]
  },
  {
   "cell_type": "code",
   "execution_count": null,
   "metadata": {},
   "outputs": [],
   "source": [
    "# Get GF MCMC results for SDSS\n",
    "run = 1\n",
    "path = f'/mount/sirocco1/imw2293/GROUP_CAT/MCMC/mcmc_{run}/mcmc_{run}.dat'\n",
    "reader = emcee.backends.HDFBackend(path, read_only=True)\n",
    "sdss_colors_mine = SDSSGroupCatalog.from_MCMC(reader, \"SDSS Colors Mine\", SDSS_v2_DAT_FILE, SDSS_v2_GALPROPS_FILE)\n",
    "sdss_colors_mine.run_group_finder(popmock=True)\n",
    "sdss_colors_mine.run_corrfunc()\n",
    "sdss_colors_mine.postprocess()\n",
    "serialize(sdss_colors_mine)"
   ]
  },
  {
   "cell_type": "code",
   "execution_count": null,
   "metadata": {},
   "outputs": [],
   "source": [
    "# Get best preprocess photo-z-plus v2 result for SV3\n",
    "path = f'/mount/sirocco1/imw2293/GROUP_CAT/mcmc13_m4_2_4.h5'\n",
    "reader = emcee.backends.HDFBackend(path, read_only=True)\n",
    "bgs_sv3_pz2_mcmcbest = BGSGroupCatalog.from_MCMC(reader, Mode.PHOTOZ_PLUS_v2)\n",
    "bgs_sv3_pz2_mcmcbest.run_group_finder(popmock=False)\n",
    "bgs_sv3_pz2_mcmcbest.postprocess()\n",
    "serialize(bgs_sv3_pz2_mcmcbest)\n",
    "\n",
    "# 64.94% neighbor\n",
    "#[6.32102907 1.59813654 1.49851461 3.18966963 0.83098626 2.83411711 3.26649451 1.75386219 1.95862571 2.56928697 0.91387857 1.70360255 3.6181996 ]"
   ]
  },
  {
   "cell_type": "code",
   "execution_count": null,
   "metadata": {},
   "outputs": [],
   "source": [
    "# Get best preprocess photo-z-plus v3 result for SV3\n",
    "path = f'/mount/sirocco1/imw2293/GROUP_CAT/mcmc13_m4_3_1.h5'\n",
    "reader = emcee.backends.HDFBackend(path, read_only=True)\n",
    "bgs_sv3_pz3_mcmcbest = BGSGroupCatalog.from_MCMC(reader, Mode.PHOTOZ_PLUS_v3)\n",
    "bgs_sv3_pz3_mcmcbest.run_group_finder(popmock=False)\n",
    "bgs_sv3_pz3_mcmcbest.postprocess()\n",
    "serialize(bgs_sv3_pz3_mcmcbest)\n",
    "\n",
    "# 37% Neighbor for this, not bad\n",
    "#[3.68776334 1.03045493 1.00947751 2.79354858 0.88263756 1.15014321 2.71197235 0.63517952 1.44684275 2.63171751 1.16820625 0.96790557 3.02351026]\n",
    "\n",
    "# This one is great at 63.13% Neighbor.\n",
    "# [8.26010114 1.29383299 1.54671643 3.01349293 1.2229046  0.86286149 2.58828658 0.87067123 0.61260216 2.44470607 1.11635435 1.29386183 3.16506802]"
   ]
  },
  {
   "cell_type": "code",
   "execution_count": null,
   "metadata": {},
   "outputs": [],
   "source": [
    "# In case MCMC has been dumb, check similar parameter values\n",
    "import copy\n",
    "bb, rb, br, rr = bgs_sv3_pz3_mcmcbest.extra_params[1:13].reshape(4, 3)\n",
    "\n",
    "params = [bb, rb, br, rr]\n",
    "colors = [[0, 0, 1.0], [1.0, 0, 0.4], [0.2, 0.7, 0.2], [1.0, 0.0, 0.0]]\n",
    "variants = []\n",
    "\n",
    "for i, (param, color) in enumerate(zip(params, colors), start=1):\n",
    "    variant = BGSGroupCatalog(\n",
    "        f\"PZP 3 Variant {i}\",\n",
    "        bgs_sv3_pz3_mcmcbest.mode,\n",
    "        bgs_sv3_pz3_mcmcbest.mag_cut,\n",
    "        bgs_sv3_pz3_mcmcbest.catalog_mag_cut,\n",
    "        bgs_sv3_pz3_mcmcbest.sdss_fill,\n",
    "        bgs_sv3_pz3_mcmcbest.num_passes,\n",
    "        bgs_sv3_pz3_mcmcbest.drop_passes,\n",
    "        bgs_sv3_pz3_mcmcbest.data_cut,\n",
    "        bgs_sv3_pz3_mcmcbest.extra_params\n",
    "    )\n",
    "    variant.extra_params = [bgs_sv3_pz3_mcmcbest.extra_params[0], param, param, param, param]\n",
    "    variant.color = color\n",
    "    variant.preprocess()\n",
    "    variant.run_group_finder(popmock=False)\n",
    "    variant.postprocess()\n",
    "    variants.append(variant)\n",
    "\n",
    "bgs_sv3_pz3_mcmcbest_var1, bgs_sv3_pz3_mcmcbest_var2, bgs_sv3_pz3_mcmcbest_var3, bgs_sv3_pz3_mcmcbest_var4 = variants\n"
   ]
  },
  {
   "cell_type": "markdown",
   "metadata": {},
   "source": [
    "## Publishing / Sharing"
   ]
  },
  {
   "cell_type": "code",
   "execution_count": null,
   "metadata": {},
   "outputs": [],
   "source": [
    "# Make a call like this to write a csv for sharing on NERSC\n",
    "simple4_BGS.write_sharable_output_file()\n",
    "bgs_simple_4_1pass.write_sharable_output_file()"
   ]
  },
  {
   "cell_type": "markdown",
   "metadata": {},
   "source": [
    "# Special handling for SV3 'Truth' "
   ]
  },
  {
   "cell_type": "code",
   "execution_count": null,
   "metadata": {},
   "outputs": [],
   "source": [
    "#bgs_sv3_pz_2_4_10p.calculate_projected_clustering(with_extra_randoms=True)\n",
    "#bgs_sv3_pz_2_4_10p.calculate_projected_clustering_in_magbins(with_extra_randoms=True)\n",
    "#bgs_sv3_pz_2_4_10p.add_jackknife_err_to_proj_clustering(with_extra_randoms=True, for_mag_bins=False)\n",
    "bgs_sv3_pz_2_4_10p.add_jackknife_err_to_proj_clustering(with_extra_randoms=False, for_mag_bins=True) # BUG Broken\n",
    "serialize(bgs_sv3_pz_2_4_10p)\n",
    "\n",
    "with np.printoptions(precision=2, suppress=True, linewidth=200):\n",
    "    print(bgs_sv3_pz_2_4_10p.wp_all_extra[1])\n",
    "    print(bgs_sv3_pz_2_4_10p.wp_err)\n",
    "\n",
    "    std_devs = np.sqrt(np.diag(bgs_sv3_pz_2_4_10p.wp_cov))\n",
    "    print(std_devs)\n",
    "\n",
    "    print(bgs_sv3_pz_2_4_10p.wp_cov)\n"
   ]
  },
  {
   "cell_type": "code",
   "execution_count": null,
   "metadata": {},
   "outputs": [],
   "source": [
    "# Question - does using the small set of randoms vs the full set of randoms make a difference?\n",
    "percent_diff = np.abs(bgs_sv3_pz_2_4_10p.wp_all[1] - bgs_sv3_pz_2_4_10p.wp_all_extra[1]) / bgs_sv3_pz_2_4_10p.wp_all[1] * 100\n",
    "print(percent_diff)\n",
    "red_p_diff = np.abs(bgs_sv3_pz_2_4_10p.wp_all[2] - bgs_sv3_pz_2_4_10p.wp_all_extra[2]) / bgs_sv3_pz_2_4_10p.wp_all[2] * 100\n",
    "print(red_p_diff)\n",
    "blue_p_diff = np.abs(bgs_sv3_pz_2_4_10p.wp_all[3] - bgs_sv3_pz_2_4_10p.wp_all_extra[3]) / bgs_sv3_pz_2_4_10p.wp_all[3] * 100\n",
    "print(blue_p_diff)\n",
    "# Answer - Less than 1% generally\n",
    "\n",
    "colors = ['k', 'r', 'b']\n",
    "f = bgs_sv3_pz_2_4_10p\n",
    "plt.figure(figsize=(5, 5))\n",
    "if f.wp_err is not None:\n",
    "    plt.errorbar(f.wp_all[0][:-1], f.wp_all[1], yerr=f.wp_err, marker='o', linestyle='-', label='All', color=colors[0], alpha=0.5)\n",
    "    plt.errorbar(f.wp_all[0][:-1], f.wp_all[2], yerr=f.wp_r_err, marker='o', linestyle='-', label='Red', color=colors[1], alpha=0.5)\n",
    "    plt.errorbar(f.wp_all[0][:-1], f.wp_all[3], yerr=f.wp_b_err, marker='o', linestyle='-', label='Blue', color=colors[2], alpha=0.5)\n",
    "else:\n",
    "    plt.plot(f.wp_all[0][:-1], f.wp_all[1], marker='o', linestyle='-', label='All', color=colors[0])\n",
    "    plt.plot(f.wp_all[0][:-1], f.wp_all[2], marker='o', linestyle='-', label='Red', color=colors[1])\n",
    "    plt.plot(f.wp_all[0][:-1], f.wp_all[3], marker='o', linestyle='-', label='Blue', color=colors[2])\n",
    "\n",
    "plt.plot(f.wp_all_extra[0][:-1], f.wp_all_extra[1], marker='x', linestyle='--', label='All Extra Rands', color=colors[0])\n",
    "plt.plot(f.wp_all_extra[0][:-1], f.wp_all_extra[2], marker='x', linestyle='--', label='Red Extra Rands', color=colors[1])\n",
    "plt.plot(f.wp_all_extra[0][:-1], f.wp_all_extra[3], marker='x', linestyle='--', label='Blue Extra Rands', color=colors[2])\n",
    "\n",
    "plt.xscale('log')\n",
    "plt.ylim(8, 2000)\n",
    "plt.yscale('log')\n",
    "plt.xlabel(r'$r_p$ [Mpc/h]')\n",
    "plt.ylabel(r'$w_p(r_p)$')\n",
    "plt.legend()\n",
    "plt.title('Full Sample $w_p(r_p)$ ')\n",
    "plt.grid(True)\n",
    "plt.show()"
   ]
  },
  {
   "cell_type": "markdown",
   "metadata": {},
   "source": [
    "# Current Comparison"
   ]
  },
  {
   "cell_type": "code",
   "execution_count": 12,
   "metadata": {},
   "outputs": [],
   "source": [
    "sets = [bgs_y3_like_sv3_pz_2_4, bgs_sv3_pz_2_4_7p]\n",
    "#bgs_sv3_pz_2_5_7p.marker = '--'\n",
    "#sets = [bgs_sv3_pz3_mcmcbest, bgs_sv3_pz2_mcmcbest]\n",
    "\n",
    "#bgs_sv3_pz_2_4_7p.name = \"New Technique\"\n",
    "#bgs_sv3_nn_7p.name = \"Old Technique\"\n",
    "#bgs_sv3_pz_2_4_10p.name = \"~Truth\"\n"
   ]
  },
  {
   "cell_type": "code",
   "execution_count": null,
   "metadata": {},
   "outputs": [],
   "source": [
    "pp.plots(*sets, bgs_sv3_pz_2_4_10p, show_err=bgs_sv3_pz_2_4_10p)\n",
    "\n",
    "for s in sets:\n",
    "    pp.completeness_stats(s)"
   ]
  },
  {
   "cell_type": "code",
   "execution_count": null,
   "metadata": {},
   "outputs": [],
   "source": [
    "with np.printoptions(precision=0, suppress=True, linewidth=300):\n",
    "    print(bgs_sv3_pz_2_4_10p.all_data.groupby('Lgal_bin', observed=False).size().to_numpy(dtype=float))\n",
    "    print(cic_binning(bgs_sv3_pz_2_4_10p.all_data['L_gal'].to_numpy(), [L_gal_bins]))\n"
   ]
  },
  {
   "cell_type": "code",
   "execution_count": null,
   "metadata": {},
   "outputs": [],
   "source": [
    "truth_to_use = bgs_sv3_pz_2_4_10p.all_data\n",
    "for s in sets:\n",
    "    s.get_true_z_from(truth_to_use)\n",
    "    s.refresh_df_views()"
   ]
  },
  {
   "cell_type": "code",
   "execution_count": null,
   "metadata": {},
   "outputs": [],
   "source": [
    "pp.luminosity_function_plots(*sets)"
   ]
  },
  {
   "cell_type": "code",
   "execution_count": null,
   "metadata": {},
   "outputs": [],
   "source": [
    "# TODO update with photoz_plus_metric_1()\n",
    "\n",
    "# For all the z_assigned_flag galaxies, compare the z we assigned to the z_obs\n",
    "# Need to ignore ones where z_obs is nan or -99 or whatever\n",
    "# bgs_sv3_pz_1_1_7p\n",
    "\n",
    "pp.correct_redshifts_assigned_plot(*sets)"
   ]
  },
  {
   "cell_type": "code",
   "execution_count": null,
   "metadata": {},
   "outputs": [],
   "source": [
    "for s in sets:\n",
    "    pp.single_plots(s)\n",
    "\n",
    "pp.single_plots(bgs_sv3_pz_2_4_10p)"
   ]
  },
  {
   "cell_type": "code",
   "execution_count": null,
   "metadata": {},
   "outputs": [],
   "source": [
    "for s in sets:\n",
    "    red = s.all_data.loc[z_flag_is_not_spectro_z(s.all_data['z_assigned_flag'])]\n",
    "    delta_red = red['z'] - red['z_obs']\n",
    "    plt.hist(delta_red, bins=100, range=(-0.05, 0.05), histtype='step', label=s.name, color=s.color)\n",
    "    plt.yscale('log')\n",
    "    plt.legend()"
   ]
  },
  {
   "cell_type": "code",
   "execution_count": null,
   "metadata": {},
   "outputs": [],
   "source": [
    "pp.test_purity_and_completeness(*sets, lost_only=True)\n",
    "pp.purity_complete_plots(*sets)"
   ]
  },
  {
   "cell_type": "code",
   "execution_count": null,
   "metadata": {},
   "outputs": [],
   "source": [
    "# Make a bar plot of the z_assigned_flag values for each set\n",
    "for s in sets:\n",
    "    j=plt.hist(s.all_data['z_assigned_flag'], bins=[-3,-2,-1,0,1,2,3,4,5,6,7,8,9,10,11,12], histtype='step', label=s.name)\n",
    "\n",
    "#plt.yscale('log')\n",
    "plt.ylim(0, 10000)\n",
    "plt.legend()"
   ]
  },
  {
   "cell_type": "code",
   "execution_count": null,
   "metadata": {},
   "outputs": [],
   "source": [
    "# Projected Clustering\n",
    "for s in sets:\n",
    "    pp.wp_rp(s)\n",
    "    pp.wp_rp_magbins(s)"
   ]
  },
  {
   "cell_type": "code",
   "execution_count": null,
   "metadata": {},
   "outputs": [],
   "source": [
    "pp.wp_rp(bgs_sv3_pz_2_4_10p)\n",
    "pp.wp_rp_magbins(bgs_sv3_pz_2_4_10p)"
   ]
  },
  {
   "cell_type": "code",
   "execution_count": null,
   "metadata": {},
   "outputs": [],
   "source": [
    "for s in sets:\n",
    "    pp.compare_wp_rp(s, bgs_sv3_pz_2_4_10p)\n"
   ]
  },
  {
   "cell_type": "code",
   "execution_count": null,
   "metadata": {},
   "outputs": [],
   "source": [
    "fig=pp.make_map(bgs_sv3_pz_2_4_7p.all_data['RA'].to_numpy(), bgs_sv3_pz_2_4_7p.all_data['Dec'].to_numpy())\n"
   ]
  },
  {
   "cell_type": "code",
   "execution_count": null,
   "metadata": {},
   "outputs": [],
   "source": [
    "pp.make_map(bgs_y3_like_sv3_pz_2_4.all_data['RA'].to_numpy(), bgs_y3_like_sv3_pz_2_4.all_data['Dec'].to_numpy(), fig=fig, alpha=0.01)\n"
   ]
  },
  {
   "cell_type": "code",
   "execution_count": null,
   "metadata": {},
   "outputs": [],
   "source": [
    "#pp.plot_positions(bgs_y3_like_sv3_pz_2_4.all_data, BGS_Y3_TILES_FILE"
   ]
  },
  {
   "cell_type": "markdown",
   "metadata": {},
   "source": [
    "# View Plots"
   ]
  },
  {
   "cell_type": "code",
   "execution_count": null,
   "metadata": {},
   "outputs": [],
   "source": [
    "# SV3 10p and SDSS BGS-cut are very similar!\n",
    "bgs_sv3_nn_10p.color = 'k'\n",
    "pp.plots(bgs_sv3_nn_10p, sdss_bgscut)"
   ]
  },
  {
   "cell_type": "code",
   "execution_count": null,
   "metadata": {},
   "outputs": [],
   "source": [
    "# SV3 PLOTS (FULL 10 pass FOOTPRINT)\n",
    "\n",
    "pp.LEGENDS_ON = False\n",
    "pp.plots(bgs_sv3_simple_4_10p, bgs_sv3_simple_4_9p, bgs_sv3_simple_4_8p, bgs_sv3_simple_4_7p, bgs_sv3_simple_4_6p, bgs_sv3_simple_4_5p, bgs_sv3_simple_4_4p, bgs_sv3_simple_4_3p, bgs_sv3_simple_4_2p, bgs_sv3_simple_4_1p)\n",
    "pp.LEGENDS_ON = True\n",
    "\n",
    "pp.completeness_comparison(bgs_sv3_simple_4_10p, bgs_sv3_simple_4_9p, bgs_sv3_simple_4_8p, bgs_sv3_simple_4_7p, bgs_sv3_simple_4_6p, bgs_sv3_simple_4_5p, bgs_sv3_simple_4_4p, bgs_sv3_simple_4_3p, bgs_sv3_simple_4_2p, bgs_sv3_simple_4_1p)\n"
   ]
  },
  {
   "cell_type": "code",
   "execution_count": null,
   "metadata": {},
   "outputs": [],
   "source": [
    "pp.z_assigned_fraction(bgs_sv3_simple_4_10p, bgs_sv3_simple_4_9p, bgs_sv3_simple_4_8p, bgs_sv3_simple_4_7p, bgs_sv3_simple_4_6p, bgs_sv3_simple_4_5p, bgs_sv3_simple_4_4p, bgs_sv3_simple_4_3p, bgs_sv3_simple_4_2p, bgs_sv3_simple_4_1p)"
   ]
  },
  {
   "cell_type": "code",
   "execution_count": null,
   "metadata": {},
   "outputs": [],
   "source": [
    "# SV3 function of # passes plots (USING CENTERS ONLY)\n",
    "bgs_sv3_simple_4_7p.color = 'red'\n",
    "bgs_sv3_simple_4_7p.centered.color = 'red'\n",
    "\n",
    "pp.LEGENDS_ON = False\n",
    "pp.plots(\n",
    "    bgs_sv3_simple_4_10p.centered,\n",
    "    bgs_sv3_simple_4_9p.centered,\n",
    "    bgs_sv3_simple_4_8p.centered,\n",
    "    bgs_sv3_simple_4_7p.centered,\n",
    "    bgs_sv3_simple_4_6p.centered,\n",
    "    bgs_sv3_simple_4_5p.centered,\n",
    "    bgs_sv3_simple_4_4p.centered,\n",
    "    bgs_sv3_simple_4_3p.centered,\n",
    "    bgs_sv3_simple_4_2p.centered,\n",
    "    bgs_sv3_simple_4_1p.centered\n",
    ")    \n",
    "pp.LEGENDS_ON = True"
   ]
  },
  {
   "cell_type": "code",
   "execution_count": null,
   "metadata": {},
   "outputs": [],
   "source": [
    "# SV3 function of # passes plots (USING CENTERS ONLY)\n",
    "bgs_sv3_simple_5_7p.color = 'red'\n",
    "bgs_sv3_simple_5_7p.centered.color = 'red'\n",
    "\n",
    "pp.LEGENDS_ON = False\n",
    "pp.plots(\n",
    "    bgs_sv3_simple_5_10p.centered,\n",
    "    bgs_sv3_simple_5_9p.centered,\n",
    "    bgs_sv3_simple_5_8p.centered,\n",
    "    bgs_sv3_simple_5_7p.centered,\n",
    ")    \n",
    "pp.LEGENDS_ON = True"
   ]
  },
  {
   "cell_type": "code",
   "execution_count": null,
   "metadata": {},
   "outputs": [],
   "source": [
    "# Cutting SDSS to remove regions with poor BGS overlap barely improves the completeness\n",
    "pp.plots(sdss_bgscut, sdss_vanilla)\n",
    "print(f\"{spectroscopic_complete_percent(sdss_bgscut.all_data['z_assigned_flag']):.2f}% spectroscopic complete for BGS cut\")\n",
    "print(f\"{spectroscopic_complete_percent(sdss_vanilla.all_data['z_assigned_flag']):.2f}% spectroscopic complete for Vanilla\")"
   ]
  },
  {
   "cell_type": "code",
   "execution_count": null,
   "metadata": {},
   "outputs": [],
   "source": [
    "pp.hod_plots(bgs_sv3_simple_4_10p)"
   ]
  },
  {
   "cell_type": "code",
   "execution_count": null,
   "metadata": {},
   "outputs": [],
   "source": [
    "# View plots for my SDSS results from my MCMC chains\n",
    "to_compare = sdss_vanilla\n",
    "to_compare.run_group_finder(popmock=True)\n",
    "to_compare.run_corrfunc()\n",
    "to_compare.postprocess()\n",
    "\n",
    "pp.proj_clustering_plot(sdss_vanilla)\n",
    "pp.lsat_data_compare_plot(sdss_vanilla)\n",
    "\n",
    "\n",
    "#sdss_colors_chi.color = 'r'\n",
    "#pp.plots(sdss_colors_mine, sdss_colors, sdss_colors_chi)"
   ]
  },
  {
   "cell_type": "code",
   "execution_count": null,
   "metadata": {},
   "outputs": [],
   "source": [
    "#simple4_BGS.name = 'DESI BGS Y1'\n",
    "pp.plots(simple4_BGS, sdss_vanilla, sdss_colors, sdss_colors_chi)\n",
    "#pp.plots(cat.sdss_published, sdss_colors_chi)"
   ]
  },
  {
   "cell_type": "code",
   "execution_count": null,
   "metadata": {},
   "outputs": [],
   "source": [
    "# Why doesn't mstar missing % exactly match z_assigned_flag? \n",
    "# Probably redshift failures. Still have a spectra so still have mstar\n",
    "print(np.sum(np.isnan(simple4_BGS.all_data.mstar)) / len(simple4_BGS.all_data.mstar))\n",
    "print(np.sum(simple4_BGS.all_data.z_assigned_flag != 0) / len(simple4_BGS.all_data.z_assigned_flag))"
   ]
  },
  {
   "cell_type": "code",
   "execution_count": null,
   "metadata": {},
   "outputs": [],
   "source": [
    "pp.compare_fsat_color_split(sdss_vanilla_old, sdss_vanilla, project_percent=0.52)\n"
   ]
  },
  {
   "cell_type": "code",
   "execution_count": null,
   "metadata": {},
   "outputs": [],
   "source": [
    "bgs_simple_4_1pass.color = 'r'\n",
    "pp.plots(simple4_BGS, bgs_simple_4_1pass)"
   ]
  },
  {
   "cell_type": "code",
   "execution_count": null,
   "metadata": {},
   "outputs": [],
   "source": [
    "pp.compare_fsat_color_split(bgs_sv3_simple_4_10p, sdss_vanilla)\n"
   ]
  },
  {
   "cell_type": "code",
   "execution_count": null,
   "metadata": {},
   "outputs": [],
   "source": [
    "#pp.compare_fsat_color_split(all, simple_2)\n",
    "#pp.compare_fsat_color_split(all, simple_4)\n",
    "#pp.compare_fsat_color_split(sdss_vanilla, simple4_BGS)\n",
    "pp.compare_fsat_color_split(bgs_sv3_simple_4_10p, simple4_BGS)\n",
    "pp.compare_fsat_color_split(bgs_sv3_simple_4_10p, bgs_sv3_fiberonly_10p)\n",
    "#pp.compare_fsat_color_split(bgs_sv3_10p, bgs_sv3_10p_all)\n",
    "#pp.compare_fsat_color_split(sdss_vanilla, bgs_simple_4_1pass)\n"
   ]
  },
  {
   "cell_type": "code",
   "execution_count": null,
   "metadata": {},
   "outputs": [],
   "source": [
    "pp.qf.centered_plot(simple4_BGS)\n",
    "pp.qf.centered_plot(sdss_published)"
   ]
  },
  {
   "cell_type": "code",
   "execution_count": null,
   "metadata": {},
   "outputs": [],
   "source": [
    "pp.fsat_by_z_bins(simple4_BGS, z_bins=np.array([0.0, 0.05, 0.1, 0.15, 0.2, 0.25, 0.3, 0.35, 0.4, 0.5, 1.0]), show_plots=True)\n",
    "#pp.fsat_by_z_bins(mxxl_simple_4, z_bins=np.array([0.0, 0.05, 0.1, 0.15, 0.2, 0.25, 0.3, 0.35, 0.4, 0.5, 1.0]), show_plots=False, aggregation=pp.fsat_truth_vmax_weighted)\n"
   ]
  },
  {
   "cell_type": "code",
   "execution_count": null,
   "metadata": {},
   "outputs": [],
   "source": [
    "pp.qf_cen_plot(bgs_sv3_pz3_mcmcbest, sdss_published)"
   ]
  },
  {
   "cell_type": "code",
   "execution_count": null,
   "metadata": {},
   "outputs": [],
   "source": [
    "pp.fsat_by_z_bins(simple4_BGS, z_bins=np.array([0.0, 0.2, 1.0]))\n"
   ]
  },
  {
   "cell_type": "code",
   "execution_count": null,
   "metadata": {},
   "outputs": [],
   "source": [
    "pp.plots(fiberonly_BGS, nn_BGS, simple4_BGS)\n"
   ]
  },
  {
   "cell_type": "code",
   "execution_count": null,
   "metadata": {},
   "outputs": [],
   "source": [
    "pp.plots(bgs_sv3_simple_4_10p, bgs_sv3_fiberonly_10p)\n"
   ]
  },
  {
   "cell_type": "code",
   "execution_count": null,
   "metadata": {},
   "outputs": [],
   "source": [
    "# Print out biggest group size\n",
    "for dataset in [simple4_BGS, fiberonly_BGS, fiberonly_1pass_BGS, sdss_vanilla]:\n",
    "    print(dataset.name)\n",
    "    print(dataset.all_data.groupby('igrp').size().max())\n"
   ]
  },
  {
   "cell_type": "code",
   "execution_count": null,
   "metadata": {},
   "outputs": [],
   "source": [
    "# SDSS Examine Bimodality\n",
    "\n",
    "z=sdss_vanilla.all_data['z']\n",
    "gmr=sdss_vanilla.all_data['Mag_g'] - sdss_vanilla.all_data['Mag_r']\n",
    "junk=plt.hist(gmr, bins=np.linspace(-1,3,300), alpha=0.4)\n",
    "#junk=plt.hist(k_correct(sdss_vanilla.all_data['Mag_g'], z, gmr, band='g')  - k_correct(sdss_vanilla.all_data['Mag_r'], z, gmr, band='r'), bins=500, alpha=0.4)\n",
    "junk=plt.hist(sdss_vanilla.all_data['Dn4000'], bins=np.linspace(0,4,300), alpha=0.4)\n",
    "plt.xlim(-1, 3)"
   ]
  },
  {
   "cell_type": "code",
   "execution_count": null,
   "metadata": {},
   "outputs": [],
   "source": [
    "# Investigate changes in halo mass function from wcen\n",
    "m1=np.log10(sdss_vanilla.all_data['M_halo'])\n",
    "m2=np.log10(sdss_colors.all_data['M_halo'])\n",
    "m3=np.log10(sdss_colors_chi.all_data['M_halo'])\n",
    "\n",
    "# bin m1,m2,m3 the same way\n",
    "n_bins = 20\n",
    "bins = np.linspace(10.8, 15.0, n_bins)\n",
    "d1 = np.digitize(m1, bins)\n",
    "d2 = np.digitize(m2, bins)\n",
    "d3 = np.digitize(m3, bins)\n",
    "\n",
    "# count the number of galaxies in each bin\n",
    "n1 = np.array([np.sum(d1==i) for i in range(1, n_bins+1)])\n",
    "n2 = np.array([np.sum(d2==i) for i in range(1, n_bins+1)])\n",
    "n3 = np.array([np.sum(d3==i) for i in range(1, n_bins+1)])\n",
    "\n",
    "# Do the same but for log10(counts)\n",
    "n1 = np.log10(n1)\n",
    "n2 = np.log10(n2)\n",
    "n3 = np.log10(n3)\n",
    "print(n1,n2,3)\n",
    "\n",
    "# Log difference\n",
    "p1 = np.abs(n1-n2)\n",
    "p2 = np.abs(n1-n3)\n",
    "\n",
    "plt.plot(bins, p1, label='SDSS Colors vs Vanilla')\n",
    "plt.plot(bins, p2, label='SDSS Colors+Chi vs Vanilla')\n",
    "\n",
    "plt.xlabel('log10(M_halo)')\n",
    "plt.ylabel('Log10 Difference in Counts')\n",
    "plt.legend()"
   ]
  },
  {
   "cell_type": "code",
   "execution_count": null,
   "metadata": {},
   "outputs": [],
   "source": []
  },
  {
   "cell_type": "markdown",
   "metadata": {},
   "source": [
    "## Make single group CSV for legacysurvey.org/viewer visualization"
   ]
  },
  {
   "cell_type": "code",
   "execution_count": null,
   "metadata": {},
   "outputs": [],
   "source": [
    "df = pd.read_csv(OUTPUT_FOLDER + 'NERSC_BGS_1pass_v1.out')\n",
    "centrals_of_big_groups = df['N_sat'] > 0\n",
    "group_ids = df.loc[centrals_of_big_groups].igrp.unique()"
   ]
  },
  {
   "cell_type": "code",
   "execution_count": null,
   "metadata": {},
   "outputs": [],
   "source": [
    "df[df.igrp == 1644058]"
   ]
  },
  {
   "cell_type": "code",
   "execution_count": null,
   "metadata": {},
   "outputs": [],
   "source": [
    "print(group_ids[0:10])"
   ]
  },
  {
   "cell_type": "code",
   "execution_count": null,
   "metadata": {},
   "outputs": [],
   "source": [
    "#for i in group_ids[0:10]:\n",
    "for i in [1644058, 1644051]:\n",
    "    #df.loc[df.igrp == i, ['RA', 'Dec']].to_csv(OUTPUT_FOLDER + f'group{i}.csv', index=False)\n",
    "    print(df.loc[df.igrp == i, ['RA', 'Dec', 'z', 'z_assigned_flag']])"
   ]
  },
  {
   "cell_type": "markdown",
   "metadata": {},
   "source": [
    "## Study z_phot vs z_spectra"
   ]
  },
  {
   "cell_type": "code",
   "execution_count": null,
   "metadata": {},
   "outputs": [],
   "source": [
    "df = bgs_sv3_pz_2_4_10p.all_data\n",
    "\n",
    "low_cut = 0.0001 # not a dramatic shift when moving from here to 0.1\n",
    "quality = (df['z_phot'] != NO_PHOTO_Z) & z_flag_is_spectro_z(df['z_assigned_flag']) & (df['z_obs'] > low_cut) & (df['L_gal'] < 1E9)\n",
    "#quality = (df['z_phot'] != NO_PHOTO_Z) & z_flag_is_spectro_z(df['z_assigned_flag']) & (df['z_obs'] > low_cut)\n",
    "\n",
    "# Investigate the photo-z error distribution for red and blue galaxies\n",
    "# Blue exhibits and offset and a less peaked distribution than red\n",
    "# Red does have some skew\n",
    "red = df.loc[np.logical_and(df.quiescent, quality)]\n",
    "blue = df.loc[np.logical_and(~df.quiescent, quality)]\n",
    "delta_red = red['z_phot'] - red['z_obs']\n",
    "delta_blue = blue['z_phot'] - blue['z_obs']\n",
    "delta_all = df.loc[quality, 'z_phot'] - df.loc[quality, 'z_obs']\n",
    "\n",
    "plt.hist(delta_red, bins=100, range=(-0.06, 0.06), histtype='step', color='red', label='Red')\n",
    "plt.hist(delta_blue, bins=100, range=(-0.06, 0.06), histtype='step', color='blue', label='Blue')\n",
    "plt.hist(delta_all, bins=100, range=(-0.06, 0.06), histtype='step', color='k', label='All')\n",
    "#plt.yscale('log')\n",
    "plt.legend()\n",
    "\n",
    "# draw a vertical line at 0\n",
    "plt.axvline(0, color='black', lw=1)\n",
    "plt.axvline(-SIM_Z_THRESH, color='green')\n",
    "plt.axvline(SIM_Z_THRESH, color='green')\n",
    "\n",
    "percentiles = np.percentile(delta_all, [16, 50, 84])\n",
    "print(f\"Median delta z: {percentiles[1]:.4f}, 16th percentile: {percentiles[0]:.4f}, 84th percentile: {percentiles[2]:.4f}\")\n",
    "# add bars for the percentiles\n",
    "#plt.axvline(percentiles[0], color='green')\n",
    "#plt.axvline(percentiles[2], color='green')\n",
    "\n",
    "# What % fall within 0.005 of the true redshift?\n",
    "within_5_milli = np.abs(delta_all) < SIM_Z_THRESH\n",
    "print(f\"{np.sum(within_5_milli) / len(delta_all) * 100:.2f}% of galaxies have a photometric redshift within {SIM_Z_THRESH} of the spectroscopic redshift.\")\n",
    "print(f\"For red: {np.sum(np.abs(delta_red) < SIM_Z_THRESH) / len(delta_red) * 100:.2f}%\")\n",
    "print(f\"For blue: {np.sum(np.abs(delta_blue) < SIM_Z_THRESH) / len(delta_blue) * 100:.2f}%\")\n"
   ]
  },
  {
   "cell_type": "markdown",
   "metadata": {},
   "source": [
    "## BGS and SDSS Target Overlap Analysis\n",
    "\n",
    "TODO: need to use a version of SDSS data that doesn't have nearest-neighbor assigned redshifts in it!"
   ]
  },
  {
   "cell_type": "code",
   "execution_count": null,
   "metadata": {},
   "outputs": [],
   "source": [
    "pd.options.mode.copy_on_write = True\n",
    "\n",
    "# For this comparison, use pure NN BGS \n",
    "bgs_to_use = simple4_BGS.all_data\n",
    "lost_bgs = bgs_to_use.loc[bgs_to_use['z_assigned_flag'] != 0]\n",
    "sdss_cat = sdss_vanilla.all_data\n",
    "\n",
    "catalog = coord.SkyCoord(ra=sdss_cat.RA.to_numpy()*u.degree, dec=sdss_cat.Dec.to_numpy()*u.degree, frame='icrs')\n",
    "to_match = coord.SkyCoord(ra=lost_bgs.RA.to_numpy()*u.degree, dec=lost_bgs.Dec.to_numpy()*u.degree, frame='icrs')\n",
    "\n",
    "idx, d2d, d3d = coord.match_coordinates_sky(to_match, catalog, nthneighbor=1, storekdtree=False)\n",
    "\n",
    "# if angular distance is < 3\", then we consider it a match to SDSS catalog\n",
    "lost_bgs['sdss_z'] = np.where(d2d < 3*u.arcsec, sdss_cat.iloc[idx]['z'], np.nan)\n",
    "lost_bgs_matched = lost_bgs.loc[~np.isnan(lost_bgs['sdss_z'])]\n",
    "print(f\"Matched {len(lost_bgs_matched)} out of {len(lost_bgs)} lost BGS galaxies to SDSS catalog, ({len(lost_bgs_matched)/len(lost_bgs)*100:.2f}%)\")\n",
    "\n",
    "good_match = np.isclose(lost_bgs_matched.z, lost_bgs_matched.sdss_z, atol=0.001).sum()\n",
    "print(f\"Good match: {good_match} out of {len(lost_bgs_matched)}, or {good_match/len(lost_bgs_matched)*100:.2f}%\")"
   ]
  },
  {
   "cell_type": "markdown",
   "metadata": {},
   "source": [
    "## Info for clustering"
   ]
  },
  {
   "cell_type": "code",
   "execution_count": null,
   "metadata": {},
   "outputs": [],
   "source": [
    "# Figure out abs mag bins redshift maxes to use\n",
    "df = bgs_sv3_pz_2_4_10p.all_data\n",
    "df['MAG'] = log_solar_L_to_abs_mag_r(np.log10(df['L_gal']))\n",
    "\n",
    "df = df.loc[z_flag_is_spectro_z(df['z_assigned_flag'])]\n",
    "\n",
    "mags = np.array([-14, -15, -16, -17, -18, -19, -20, -21, -22, -23])\n",
    "\n",
    "# TODO why are some observed redshifts higher than my theoretical max?\n",
    "print(\"DIM\")\n",
    "for m in mags:\n",
    "    print(f\"Mag-5log(h) > {m}:  zmax theory={get_max_observable_z(m, 19.5).value:.5f}  zmax obs={df.loc[df['MAG'] > m, 'z'].max()}\")\n",
    "print(\"BRIGHT\")"
   ]
  },
  {
   "cell_type": "code",
   "execution_count": null,
   "metadata": {},
   "outputs": [],
   "source": [
    "bgs_sv3_pz_2_4_10p.calculate_projected_clustering()\n",
    "# why is n=0? # BUG\n",
    "pp.wp_rp(bgs_sv3_pz_2_4_10p.wp_all[0], bgs_sv3_pz_2_4_10p.wp_all[1])#, bgs_sv3_pz_2_4_10p.wp_all[2], bgs_sv3_pz_2_4_10p.wp_all[3])"
   ]
  },
  {
   "cell_type": "code",
   "execution_count": null,
   "metadata": {},
   "outputs": [],
   "source": [
    "print(f\"Co-moving Dist:  {get_cosmology().comoving_distance([0.01, 0.1, 0.2, 0.4]).value}\") # / Mpc/h\n",
    "print(f\"Co-moving Dist:  {get_cosmology().luminosity_distance([0.01, 0.1, 0.2, 0.4]).value / np.array([1.01, 1.1, 1.2, 1.4])}\") # / Mpc/h\n",
    "print(f\"Luminosity Dist: {get_cosmology().luminosity_distance([0.01, 0.1, 0.2, 0.4]).value}\") # / Mpc/h"
   ]
  },
  {
   "cell_type": "markdown",
   "metadata": {},
   "source": [
    "### SDSS Tutorial of Corrfunc"
   ]
  },
  {
   "cell_type": "code",
   "execution_count": null,
   "metadata": {},
   "outputs": [],
   "source": [
    "# Mock catalog (SDSS-North) supplied with Corrfunc\n",
    "mock_catalog = pjoin(dirname(abspath(Corrfunc.__file__)), \"../mocks/tests/data/\", \"Mr19_mock_northonly.rdcz.ff\")\n",
    "RA, DEC, CZ = read_catalog(mock_catalog)\n",
    "\n",
    "# Randoms catalog (SDSS-North) supplied with Corrfunc\n",
    "randoms_catalog = pjoin(dirname(abspath(Corrfunc.__file__)), \"../mocks/tests/data/\", \"Mr19_randoms_northonly.rdcz.ff\")\n",
    "RAND_RA, RAND_DEC, RAND_CZ = read_catalog(randoms_catalog)\n",
    "\n",
    "rbins, wp = calculate_wp(RA, DEC, CZ, RAND_RA, RAND_DEC, RAND_CZ)\n",
    "\n",
    "pp.wp_rp(rbins, wp)"
   ]
  },
  {
   "cell_type": "code",
   "execution_count": null,
   "metadata": {},
   "outputs": [],
   "source": [
    "j=plt.hist(RAND_CZ, bins=100, histtype='step', density=True)\n",
    "j=plt.hist(CZ, bins=100, histtype='step', density=True)"
   ]
  },
  {
   "cell_type": "markdown",
   "metadata": {},
   "source": [
    "## Viraj Targets"
   ]
  },
  {
   "cell_type": "code",
   "execution_count": 52,
   "metadata": {},
   "outputs": [],
   "source": [
    "# Viraj Compare\n",
    "path = DATA_FOLDER + 'VIRAJ/jura_bgs_bright_catalog_for_ian.fits'\n",
    "table = Table.read(path)\n",
    "viraj_df = table.to_pandas()\n",
    "viraj_df.set_index('TARGETID', inplace=True)"
   ]
  },
  {
   "cell_type": "code",
   "execution_count": 53,
   "metadata": {},
   "outputs": [],
   "source": [
    "def merge_viraj_ian(viraj_df: pd.DataFrame, gc : GroupCatalog):\n",
    "    ian_df = gc.all_data.set_index('target_id').loc[:, ['z', 'L_gal', 'V_max', 'P_sat', 'M_halo', 'N_sat', 'L_tot',\n",
    "       'igrp', 'weight', 'app_mag', 'z_assigned_flag', 'g_r', 'z_phot', 'is_sat', 'quiescent']]\n",
    "    print(ian_df.igrp.dtype)\n",
    "    #ian_df['quiescent'] = ian_df['quiescent'].astype(float)\n",
    "    ian_df['N_sat'] = ian_df['N_sat'].astype(int)\n",
    "    together = viraj_df.join(ian_df, how='inner', validate='one_to_one')\n",
    "    print(together.igrp.dtype)\n",
    "    print(f\"Viraj targets: {len(viraj_df):,}, Ian {gc.name} Catalog: {len(ian_df):,}, # of Viraj Targets found in Ian's: {(~np.isnan(together.is_sat)).sum():,}\")\n",
    "    return together"
   ]
  },
  {
   "cell_type": "code",
   "execution_count": null,
   "metadata": {},
   "outputs": [],
   "source": [
    "together1 = merge_viraj_ian(viraj_df, bgs_simple_4_1pass)\n",
    "together2 = merge_viraj_ian(viraj_df, simple4_BGS)\n",
    "together3 = merge_viraj_ian(viraj_df, bgs_y3_simple_5)"
   ]
  },
  {
   "cell_type": "code",
   "execution_count": null,
   "metadata": {},
   "outputs": [],
   "source": [
    "missing=together3.loc[np.isnan(together3.is_sat)]\n",
    "missing"
   ]
  },
  {
   "cell_type": "code",
   "execution_count": null,
   "metadata": {},
   "outputs": [],
   "source": [
    "print(bgs_y3_simple_5.all_data.igrp.dtype)\n",
    "print(together3.igrp.dtype)"
   ]
  },
  {
   "cell_type": "code",
   "execution_count": 57,
   "metadata": {},
   "outputs": [],
   "source": [
    "to_write = Table.from_pandas(together3, index=True)\n",
    "to_write.write(DATA_FOLDER + 'VIRAJ/jura_bgs_bright_catalog_for_ian_matched.fits', overwrite=True)"
   ]
  },
  {
   "cell_type": "code",
   "execution_count": 58,
   "metadata": {},
   "outputs": [],
   "source": [
    "combined = Table.read(DATA_FOLDER + 'VIRAJ/jura_bgs_bright_catalog_for_ian_matched.fits', format='fits')\n",
    "df = combined.to_pandas()"
   ]
  },
  {
   "cell_type": "code",
   "execution_count": null,
   "metadata": {},
   "outputs": [],
   "source": [
    "df"
   ]
  },
  {
   "cell_type": "markdown",
   "metadata": {},
   "source": [
    "## Mock and SV3 Analysis"
   ]
  },
  {
   "cell_type": "markdown",
   "metadata": {},
   "source": [
    "### UCHUU Issues"
   ]
  },
  {
   "cell_type": "code",
   "execution_count": null,
   "metadata": {},
   "outputs": [],
   "source": [
    "plt.hist(all_u.all_data['M_halo'], bins=pp.Mhalo_bins, alpha=0.4)\n",
    "plt.hist(all_u.all_data['uchuu_halo_mass']*10**10, bins=pp.Mhalo_bins, alpha=0.4)\n",
    "plt.loglog()\n",
    "\n",
    "# TODO do we expect the mass distribution of halos to be so different from the UCHUU SHAM catalog and our assigned halo?"
   ]
  },
  {
   "cell_type": "code",
   "execution_count": null,
   "metadata": {},
   "outputs": [],
   "source": [
    "# TODO 1 / VMax corrections do odd thing to UCHUU Truth. Why?\n",
    "pp.hod_plots(all_u)"
   ]
  },
  {
   "cell_type": "markdown",
   "metadata": {},
   "source": [
    "### What effect does Fiber Assignment have on the luminosity function?"
   ]
  },
  {
   "cell_type": "code",
   "execution_count": null,
   "metadata": {},
   "outputs": [],
   "source": [
    "#pp.group_finder_centrals_halo_masses_plots(mxxl_all, [mxxl_fiberonly, mxxl_simple_4])\n",
    "pp.group_finder_centrals_halo_masses_plots(bgs_sv3_pz_2_4_10p, [bgs_sv3_pz_1_7p, bgs_sv3_simple_5_7p])"
   ]
  },
  {
   "cell_type": "markdown",
   "metadata": {},
   "source": [
    "### Compare halos to truth"
   ]
  },
  {
   "cell_type": "code",
   "execution_count": null,
   "metadata": {},
   "outputs": [],
   "source": [
    "pp.assigned_halo_analysis(mxxl_simple_4)"
   ]
  },
  {
   "cell_type": "markdown",
   "metadata": {},
   "source": [
    "### Compare assigned implied abs mags to truth from MXXL"
   ]
  },
  {
   "cell_type": "code",
   "execution_count": null,
   "metadata": {},
   "outputs": [],
   "source": [
    "all_unobs_counts = mxxl_all.all_data[mxxl_all.all_data.z_assigned_flag != 0].groupby('Lgal_bin').RA.count()\n",
    "simple_4_ubobs_counts = mxxl_simple_4.all_data.groupby('Lgal_bin').RA.count()\n"
   ]
  },
  {
   "cell_type": "code",
   "execution_count": null,
   "metadata": {},
   "outputs": [],
   "source": [
    "pp.L_func_plot([mxxl_all, mxxl_simple_4], [all_unobs_counts, simple_4_ubobs_counts])\n",
    "\n",
    "\n",
    "\n",
    "#pp.L_func_plot([all, simple_4], [all.all_data.L_gal[all.all_data.z_assigned_flag == 0], simple_4.all_data.L_gal[simple_4.all_data.z_assigned_flag == 0]])\n"
   ]
  },
  {
   "cell_type": "markdown",
   "metadata": {},
   "source": [
    "## SV3 Edge Effects Quantification"
   ]
  },
  {
   "cell_type": "code",
   "execution_count": null,
   "metadata": {},
   "outputs": [],
   "source": [
    "inner_galaxies = filter_SV3_to_avoid_edges(bgs_sv3_simple_4_10p)\n",
    "inner_galaxies.color = 'k'\n",
    "inner_galaxies.name = 'SV3 Inner Galaxies'\n",
    "pp.plots(inner_galaxies, bgs_sv3_simple_4_10p)"
   ]
  },
  {
   "cell_type": "code",
   "execution_count": null,
   "metadata": {},
   "outputs": [],
   "source": [
    "fig = pp.make_map(bgs_sv3_simple_4_10p.all_data.RA.to_numpy(), bgs_sv3_simple_4_10p.all_data.Dec.to_numpy())\n",
    "fig = pp.make_map(inner_galaxies.all_data.RA.to_numpy(), inner_galaxies.all_data.Dec.to_numpy(), fig=fig)"
   ]
  },
  {
   "cell_type": "code",
   "execution_count": null,
   "metadata": {},
   "outputs": [],
   "source": [
    "bgs_sv3_simple_4_10p.all_data.groupby('Lgal_bin')['z'].median()"
   ]
  },
  {
   "cell_type": "code",
   "execution_count": null,
   "metadata": {},
   "outputs": [],
   "source": [
    "centering_versions = [\n",
    "    filter_SV3_to_avoid_edges(bgs_sv3_simple_4_10p, 1.5),\n",
    "    filter_SV3_to_avoid_edges(bgs_sv3_simple_4_10p, 1.4),\n",
    "    filter_SV3_to_avoid_edges(bgs_sv3_simple_4_10p, 1.3),\n",
    "    filter_SV3_to_avoid_edges(bgs_sv3_simple_4_10p, 1.2),\n",
    "    filter_SV3_to_avoid_edges(bgs_sv3_simple_4_10p, 1.1),\n",
    "    filter_SV3_to_avoid_edges(bgs_sv3_simple_4_10p, 1.0),\n",
    "    filter_SV3_to_avoid_edges(bgs_sv3_simple_4_10p, 0.9),\n",
    "]\n",
    "pickle.dump(centering_versions, open('centering_versions.pkl', 'wb'))"
   ]
  },
  {
   "cell_type": "code",
   "execution_count": null,
   "metadata": {},
   "outputs": [],
   "source": [
    "import copy\n",
    "lowz = bgs_sv3_simple_4_10p.all_data.loc[bgs_sv3_simple_4_10p.all_data.z < 0.03]\n",
    "lowz_gc = copy.deepcopy(bgs_sv3_simple_4_10p)\n",
    "lowz_gc.all_data = lowz\n",
    "lowz_gc.refresh_df_views()\n",
    "centering_versions_lowz = [\n",
    "    filter_SV3_to_avoid_edges(lowz_gc, 1.5),\n",
    "    filter_SV3_to_avoid_edges(lowz_gc, 1.4),\n",
    "    filter_SV3_to_avoid_edges(lowz_gc, 1.3),\n",
    "    filter_SV3_to_avoid_edges(lowz_gc, 1.2),\n",
    "    filter_SV3_to_avoid_edges(lowz_gc, 1.1),\n",
    "    filter_SV3_to_avoid_edges(lowz_gc, 1.0),\n",
    "    filter_SV3_to_avoid_edges(lowz_gc, 0.9),\n",
    "]"
   ]
  },
  {
   "cell_type": "code",
   "execution_count": null,
   "metadata": {},
   "outputs": [],
   "source": [
    "pickle.load(open('centering_versions.pkl', 'rb'))\n",
    "\n",
    "for i, d in enumerate(centering_versions):\n",
    "    d.color = [0, i/len(centering_versions), 0]\n",
    "    d.name = f'SV3 10p, {1.5-i*0.1:.1f} deg center cut'\n",
    "\n",
    "pp.LEGENDS_ON = False\n",
    "bgs_sv3_simple_4_10p.color = 'blue'\n",
    "pp.fsat_by_zbins_sv3_centers(bgs_sv3_simple_4_10p, *centering_versions, z_bins=np.array([0.0, 0.03, 1.0]))\n",
    "pp.single_plots(bgs_sv3_simple_4_10p)\n",
    "pp.single_plots(centering_versions[2])\n",
    "pp.single_plots(centering_versions[4])\n",
    "pp.single_plots(centering_versions[6])\n",
    "pp.LEGENDS_ON = True\n",
    "\n",
    "#pp.fsat_by_z_bins(bgs_sv3_simple_4_10p, z_bins=np.array([0.0, 0.03, 1.0]))\n",
    "#for d in centering_versions:\n",
    "#    pp.fsat_by_z_bins(d, z_bins=np.array([0.0, 0.03, 1.0]))\n"
   ]
  },
  {
   "cell_type": "code",
   "execution_count": null,
   "metadata": {},
   "outputs": [],
   "source": [
    "lowz_gc.color = 'blue'\n",
    "pp.single_plots(lowz_gc)\n",
    "pp.single_plots(centering_versions_lowz[2])\n",
    "pp.single_plots(centering_versions_lowz[4])\n",
    "pp.single_plots(centering_versions_lowz[6])\n"
   ]
  },
  {
   "cell_type": "code",
   "execution_count": null,
   "metadata": {},
   "outputs": [],
   "source": [
    "#fig = pp.make_map(bgs_sv3_simple_4_10p.all_data.RA.to_numpy(), bgs_sv3_simple_4_10p.all_data.Dec.to_numpy())\n",
    "\n",
    "#for i, gc in enumerate(centering_versions):\n",
    "#    fig = pp.make_map(gc.all_data.RA.to_numpy(), gc.all_data.Dec.to_numpy(), fig=fig)\n",
    "\n",
    "#plot_positions(bgs_sv3_simple_4_10p, *centering_versions, tiles_df=None, split=False, DEG_LONG=7, ra_min = 186.5, dec_min = 60)\n",
    "# BUG pass in all_data, not the GroupCatalog object\n",
    "plot_positions(bgs_sv3_simple_4_10p.all_data, *centering_versions, tiles_df=None, split=False, DEG_LONG=6, ra_min = 147, dec_min = -1)"
   ]
  },
  {
   "cell_type": "markdown",
   "metadata": {},
   "source": [
    "## Lost Galaxy Luminosity Function"
   ]
  },
  {
   "cell_type": "markdown",
   "metadata": {},
   "source": [
    "Take a cut of SV3 whose completeness is similar to Y1 BGS.\n",
    "\n",
    "Question: is the luminosity function of lost galaxies (that were later observed) is different from the luminosity function observed galaxies?\n",
    "\n",
    "They seem similar; perhaps a mild slant. Overall it seems that trying to match the observed luminosity function with the lost ones is ok.\n",
    "\n",
    "Now for lost galaxies in 6pass that we have later got redshifts for.\n",
    "\n",
    "Question: What did our processing do to the luminosity function for lost galaxies?\n",
    "\n",
    "Our processing squeezes the luminosity function. We move galaxies from the wings towards the middle."
   ]
  },
  {
   "cell_type": "markdown",
   "metadata": {},
   "source": [
    "## Galaxy Neighborhood Examiner"
   ]
  },
  {
   "cell_type": "code",
   "execution_count": null,
   "metadata": {},
   "outputs": [],
   "source": [
    "add_halo_columns(bgs_sv3_simple_4_7p)\n",
    "red = bgs_sv3_simple_4_7p.all_data"
   ]
  },
  {
   "cell_type": "code",
   "execution_count": null,
   "metadata": {},
   "outputs": [],
   "source": [
    "lost_galaxies = red.loc[red['z_assigned_flag'] != 0]\n",
    "#lost_galaxies_2 = nn.all_data.loc[nn.all_data['fiber_assigned_0'] == 0]\n",
    "obs_galaxies = red.loc[red['z_assigned_flag'] == 0]\n",
    "#obs_galaxies_2 = nn.all_data.loc[nn.all_data['fiber_assigned_0'] == 1]\n",
    "print(\"Lost galaxies: \", len(lost_galaxies), \"Observed Galaxies: \", len(obs_galaxies))"
   ]
  },
  {
   "cell_type": "code",
   "execution_count": null,
   "metadata": {},
   "outputs": [],
   "source": [
    "#%matplotlib qt "
   ]
  },
  {
   "cell_type": "code",
   "execution_count": null,
   "metadata": {},
   "outputs": [],
   "source": [
    "np.log10(Mhalo_bins[16])"
   ]
  },
  {
   "cell_type": "code",
   "execution_count": null,
   "metadata": {},
   "outputs": [],
   "source": [
    "obs_galaxies[np.logical_and(np.isclose(obs_galaxies['Mh_bin'], Mhalo_bins[16]), close_enough(0.03, obs_galaxies['z']))]"
   ]
  },
  {
   "cell_type": "markdown",
   "metadata": {},
   "source": []
  },
  {
   "cell_type": "code",
   "execution_count": null,
   "metadata": {},
   "outputs": [],
   "source": [
    "PLOTS_TO_MAKE = 10\n",
    "GALAXY_POOL = obs_galaxies\n",
    "\n",
    "#START_INDEX = 777\n",
    "#for i in range(START_INDEX, START_INDEX + PLOTS_TO_MAKE):\n",
    "#    index = lost_galaxies.index[i]\n",
    "#    examine_around(index)\n",
    "print(\"Number of galaxies to choose from: \", len(GALAXY_POOL))\n",
    "indexes = np.random.randint(0, len(GALAXY_POOL)-1, size=PLOTS_TO_MAKE)\n",
    "for i in indexes:\n",
    "    target = GALAXY_POOL.iloc[i]\n",
    "    pp.examine_around(target, red)"
   ]
  },
  {
   "cell_type": "markdown",
   "metadata": {},
   "source": [
    "### Idea: analyze entire neighborhood and look for groups of similar z galaxies, choose a z from the biggest group"
   ]
  },
  {
   "cell_type": "code",
   "execution_count": null,
   "metadata": {},
   "outputs": [],
   "source": [
    "def neighbor_exam(target):\n",
    "    nearby_angle = coord.Angle('5m')\n",
    "    z_eff = target.z\n",
    "    target_dist_true = z_to_ldist(target.z_obs)\n",
    "\n",
    "    ra_max = (coord.Angle(target.RA*u.degree) + nearby_angle).value\n",
    "    ra_min = (coord.Angle(target.RA*u.degree) - nearby_angle).value\n",
    "    dec_max = (coord.Angle(target.Dec*u.degree) + nearby_angle).value\n",
    "    dec_min = (coord.Angle(target.Dec*u.degree) - nearby_angle).value\n",
    "\n",
    "    nearby = obs_galaxies.query('RA < @ra_max and RA > @ra_min and Dec < @dec_max and Dec > @dec_min')\n",
    "\n",
    "    close_neighbors = 0\n",
    "    if len(nearby) > 0:\n",
    "        close_neighbors = np.isclose(nearby.ldist_true.to_numpy(), target_dist_true, rtol=0.0, atol=20)\n",
    "\n",
    "    return (np.sum(close_neighbors), len(nearby), np.sum(close_neighbors)/len(nearby))\n",
    "\n",
    "MAX = 300\n",
    "close = np.empty(MAX)\n",
    "total = np.empty(MAX)\n",
    "frac = np.empty(MAX)\n",
    "for i in range(0,MAX):\n",
    "    target = lost_galaxies.iloc[i]\n",
    "    close[i], total[i], frac[i] = neighbor_exam(target)"
   ]
  },
  {
   "cell_type": "code",
   "execution_count": null,
   "metadata": {},
   "outputs": [],
   "source": [
    "max_finished = 81408\n",
    "finished_close = close[0:max_finished]\n",
    "finished_total = total[0:max_finished]\n",
    "with open(OUTPUT_FOLDER + 'mxxl_lostgal_neighborhood_close.npy', 'wb') as f:\n",
    "    np.save(f, finished_close)\n",
    "with open(OUTPUT_FOLDER + 'mxxl_lostgal_neighborhood_total.npy', 'wb') as f:\n",
    "    np.save(f, finished_total)"
   ]
  },
  {
   "cell_type": "code",
   "execution_count": null,
   "metadata": {},
   "outputs": [],
   "source": [
    "with open(OUTPUT_FOLDER + 'mxxl_lostgal_neighborhood_close.npy', 'rb') as f:\n",
    "    close = np.load(f)\n",
    "\n",
    "with open(OUTPUT_FOLDER + 'mxxl_lostgal_neighborhood_total.npy', 'rb') as f:\n",
    "    total = np.load(f)\n",
    "\n",
    "frac = close / total"
   ]
  },
  {
   "cell_type": "code",
   "execution_count": null,
   "metadata": {},
   "outputs": [],
   "source": [
    "bins = np.linspace(0,30,31)\n",
    "trash = plt.hist(close, bins=bins)\n",
    "plt.title(\"Lost Galaxies Neighbors at ~Correct z\")\n",
    "plt.xlabel(\"Count of Similar z Neighbors\")\n",
    "plt.ylabel(\"Count of Lost Galaxies\")\n",
    "print(\"Hopeless Fraction: \", np.sum(close==0) / len(close))\n",
    "print(\"Essentially Hopeless Fraction: \", (np.sum(close==0) + np.sum(close==1)) / len(close))"
   ]
  },
  {
   "cell_type": "code",
   "execution_count": null,
   "metadata": {},
   "outputs": [],
   "source": [
    "viable = close > 1\n",
    "frac[viable]\n",
    "trash=plt.hist(frac[viable], bins=30)\n",
    "plt.title(\"Viable Lost Galaxies: Correct z Neighbor Fraction\")\n",
    "plt.xlabel(\"Fraction with Similar z\")\n",
    "plt.ylabel(\"Count of Viable Lost Galaxies\")"
   ]
  },
  {
   "cell_type": "markdown",
   "metadata": {},
   "source": []
  },
  {
   "cell_type": "markdown",
   "metadata": {},
   "source": [
    "# Tests"
   ]
  },
  {
   "cell_type": "code",
   "execution_count": null,
   "metadata": {},
   "outputs": [],
   "source": [
    "# How many halos were assigned below a certain cutoff?\n",
    "df = simple4_BGS.all_data\n",
    "M_HALL_CUT = 10**11\n",
    "small_halo_df = df[df.M_halo < M_HALL_CUT]\n",
    "\n",
    "print(len(small_halo_df), len(df))\n",
    "\n",
    "junk=plt.hist(small_halo_df.z, bins=100)\n"
   ]
  },
  {
   "cell_type": "code",
   "execution_count": null,
   "metadata": {},
   "outputs": [],
   "source": []
  }
 ],
 "metadata": {
  "kernelspec": {
   "display_name": "gf",
   "language": "python",
   "name": "python3"
  },
  "language_info": {
   "codemirror_mode": {
    "name": "ipython",
    "version": 3
   },
   "file_extension": ".py",
   "mimetype": "text/x-python",
   "name": "python",
   "nbconvert_exporter": "python",
   "pygments_lexer": "ipython3",
   "version": "3.11.9"
  }
 },
 "nbformat": 4,
 "nbformat_minor": 2
}
