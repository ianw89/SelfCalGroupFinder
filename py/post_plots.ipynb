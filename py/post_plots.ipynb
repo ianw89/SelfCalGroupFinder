{
 "cells": [
  {
   "cell_type": "code",
   "execution_count": null,
   "metadata": {},
   "outputs": [],
   "source": [
    "import numpy as np\n",
    "import pandas as pd\n",
    "import matplotlib.pyplot as plt\n",
    "import astropy.coordinates as coord\n",
    "import astropy.units as u\n",
    "import emcee\n",
    "import sys\n",
    "import copy\n",
    "from astropy.table import Table\n",
    "\n",
    "if './SelfCalGroupFinder/py/' not in sys.path:\n",
    "    sys.path.append('./SelfCalGroupFinder/py/')\n",
    "from pyutils import *\n",
    "import plotting as pp\n",
    "from dataloc import *\n",
    "import catalog_definitions as cat\n",
    "from groupcatalog import deserialize, serialize, GroupCatalog, SDSSGroupCatalog, mstar_vmax_weighted, add_halo_columns\n",
    "import groupcatalog as gc\n",
    "\n",
    "%load_ext autoreload\n",
    "%autoreload 2"
   ]
  },
  {
   "cell_type": "code",
   "execution_count": 50,
   "metadata": {},
   "outputs": [],
   "source": [
    "DPI = 150\n",
    "pp.DPI = DPI"
   ]
  },
  {
   "cell_type": "markdown",
   "metadata": {},
   "source": [
    "After the group finder is run, this notebook is used to post pp.process the results, generating plots and such for analysis.\n"
   ]
  },
  {
   "cell_type": "markdown",
   "metadata": {},
   "source": [
    "## Loading existing datasets "
   ]
  },
  {
   "cell_type": "code",
   "execution_count": 60,
   "metadata": {},
   "outputs": [],
   "source": [
    "#mxxl_all=deserialize(cat.mxxl_all)\n",
    "#mxxl_fiberonly=deserialize(cat.mxxl_fiberonly)\n",
    "#mxxl_nn=deserialize(cat.mxxl_nn)\n",
    "mxxl_simple_4=deserialize(cat.mxxl_simple_4)"
   ]
  },
  {
   "cell_type": "code",
   "execution_count": null,
   "metadata": {},
   "outputs": [],
   "source": [
    "sdss_vanilla = deserialize(cat.sdss_vanilla_v2)\n",
    "sdss_colors = deserialize(cat.sdss_colors_v2)\n",
    "sdss_colors_chi = deserialize(cat.sdss_colors_chi_v2)\n",
    "cat.sdss_published.postprocess()\n",
    "sdss_published = cat.sdss_published # It really is ~exactly sdss_colors_chi, which is great news for reproducibility\n",
    "sdss_vanilla_old = deserialize(cat.sdss_vanilla)"
   ]
  },
  {
   "cell_type": "code",
   "execution_count": 3,
   "metadata": {},
   "outputs": [],
   "source": [
    "fiberonly_BGS=deserialize(cat.bgs_fiberonly)\n",
    "fiberonly_1pass_BGS=deserialize(cat.bgs_fiberonly_1pass)\n",
    "nn_BGS=deserialize(cat.bgs_nn)\n",
    "nn_BGS_sdsslike=deserialize(cat.bgs_nn_sdsslike)\n",
    "#simple2_BGS=deserialize(cat.bgs_simple_2)\n",
    "#simple2_BGS_c=deserialize(cat.bgs_simple_2_c)\n",
    "simple4_BGS=deserialize(cat.bgs_simple_4)\n",
    "#simple4_BGS_old=deserialize(cat.bgs_simple_4_old)\n",
    "#simple4_BGS_c=deserialize(cat.bgs_simple_4_c)\n",
    "#bgs_simple_4_no_sdss=deserialize(cat.bgs_simple_4_no_sdss)\n",
    "bgs_simple_4_4p = deserialize(cat.bgs_simple_4_4p)\n",
    "bgs_simple_4_1pass = deserialize(cat.bgs_simple_4_1pass)\n",
    "bgs_simple_5 = deserialize(cat.bgs_simple_5)\n"
   ]
  },
  {
   "cell_type": "code",
   "execution_count": 51,
   "metadata": {},
   "outputs": [],
   "source": [
    "bgs_y3_simple_4 = deserialize(cat.bgs_y3_simple_4)\n",
    "bgs_y3_simple_5 = deserialize(cat.bgs_y3_simple_5)\n",
    "#bgs_y3_simple_4_4p = deserialize(cat.bgs_y3_simple_4_4p)"
   ]
  },
  {
   "cell_type": "code",
   "execution_count": 61,
   "metadata": {},
   "outputs": [],
   "source": [
    "# LOAD ALL INCLUSIVE SV3 VERSIONS\n",
    "bgs_sv3_simple_4_10p = deserialize(cat.bgs_sv3_simple_4_10p)\n",
    "bgs_sv3_simple_4_9p = deserialize(cat.bgs_sv3_simple_4_9p)\n",
    "bgs_sv3_simple_4_8p = deserialize(cat.bgs_sv3_simple_4_8p)\n",
    "bgs_sv3_simple_4_7p = deserialize(cat.bgs_sv3_simple_4_7p)\n",
    "bgs_sv3_simple_4_6p = deserialize(cat.bgs_sv3_simple_4_6p)\n",
    "bgs_sv3_simple_4_5p = deserialize(cat.bgs_sv3_simple_4_5p)\n",
    "bgs_sv3_simple_4_4p = deserialize(cat.bgs_sv3_simple_4_4p)\n",
    "bgs_sv3_simple_4_3p = deserialize(cat.bgs_sv3_simple_4_3p)\n",
    "bgs_sv3_simple_4_2p = deserialize(cat.bgs_sv3_simple_4_2p)\n",
    "bgs_sv3_simple_4_1p = deserialize(cat.bgs_sv3_simple_4_1p)\n",
    "\n",
    "bgs_sv3_fiberonly_10p = deserialize(cat.bgs_sv3_fiberonly_10p)\n",
    "\n",
    "bgs_sv3_nn_7p = deserialize(cat.bgs_sv3_nn_7p)\n",
    "bgs_sv3_nn_6p = deserialize(cat.bgs_sv3_nn_6p)"
   ]
  },
  {
   "cell_type": "code",
   "execution_count": 62,
   "metadata": {},
   "outputs": [],
   "source": [
    "bgs_sv3_simple_5_10p = deserialize(cat.bgs_sv3_simple_5_10p)\n",
    "bgs_sv3_simple_5_9p = deserialize(cat.bgs_sv3_simple_5_9p)\n",
    "bgs_sv3_simple_5_8p = deserialize(cat.bgs_sv3_simple_5_8p)\n",
    "bgs_sv3_simple_5_7p = deserialize(cat.bgs_sv3_simple_5_7p)\n",
    "bgs_sv3_simple_5_6p = deserialize(cat.bgs_sv3_simple_5_6p)\n",
    "bgs_sv3_simple_5_5p = deserialize(cat.bgs_sv3_simple_5_5p)\n",
    "bgs_sv3_simple_5_4p = deserialize(cat.bgs_sv3_simple_5_4p)\n",
    "bgs_sv3_simple_5_3p = deserialize(cat.bgs_sv3_simple_5_3p)\n",
    "bgs_sv3_simple_5_2p = deserialize(cat.bgs_sv3_simple_5_2p)\n",
    "bgs_sv3_simple_5_1p = deserialize(cat.bgs_sv3_simple_5_1p)\n",
    "\n",
    "bgs_sv3_pz_1_10p = deserialize(cat.bgs_sv3_pz_1_10p)\n",
    "bgs_sv3_pz_1_7p = deserialize(cat.bgs_sv3_pz_1_7p)"
   ]
  },
  {
   "cell_type": "code",
   "execution_count": null,
   "metadata": {},
   "outputs": [],
   "source": [
    "all_u = deserialize(cat.uchuu_all)"
   ]
  },
  {
   "cell_type": "code",
   "execution_count": null,
   "metadata": {},
   "outputs": [],
   "source": [
    "run = 1\n",
    "path = f'/mount/sirocco1/imw2293/GROUP_CAT/MCMC/mcmc_{run}/mcmc_{run}.dat'\n",
    "reader = emcee.backends.HDFBackend(path, read_only=True)\n",
    "sdss_colors_mine = SDSSGroupCatalog.from_MCMC(reader, \"SDSS Colors Mine\", SDSS_v2_DAT_FILE, SDSS_v2_GALPROPS_FILE)\n",
    "sdss_colors_mine.run_group_finder(popmock=True)\n",
    "sdss_colors_mine.run_corrfunc()\n",
    "sdss_colors_mine.postprocess()\n",
    "serialize(sdss_colors_mine)"
   ]
  },
  {
   "cell_type": "markdown",
   "metadata": {},
   "source": [
    "## Publishing / Sharing"
   ]
  },
  {
   "cell_type": "code",
   "execution_count": null,
   "metadata": {},
   "outputs": [],
   "source": [
    "# Make a call like this to write a csv for sharing on NERSC\n",
    "simple4_BGS.write_sharable_output_file()\n",
    "bgs_simple_4_1pass.write_sharable_output_file()"
   ]
  },
  {
   "cell_type": "markdown",
   "metadata": {},
   "source": [
    "## View Plots"
   ]
  },
  {
   "cell_type": "code",
   "execution_count": null,
   "metadata": {},
   "outputs": [],
   "source": [
    "# Primary comparison v5\n",
    "bgs_y3_simple_5.color = 'darkorange'\n",
    "bgs_sv3_simple_5_7p.centered.color = 'red'\n",
    "bgs_simple_5.color = 'k'\n",
    "pp.plots(bgs_simple_5, bgs_y3_simple_5,bgs_sv3_simple_5_10p.centered, bgs_sv3_simple_5_7p.centered, sdss_vanilla)"
   ]
  },
  {
   "cell_type": "code",
   "execution_count": null,
   "metadata": {},
   "outputs": [],
   "source": [
    "# Primary Comparison v4\n",
    "bgs_y3_simple_4.color = 'darkorange'\n",
    "bgs_sv3_simple_4_7p.centered.color = 'red'\n",
    "pp.plots(simple4_BGS, bgs_y3_simple_4,bgs_sv3_simple_4_10p.centered, bgs_sv3_simple_4_7p.centered, sdss_vanilla)\n"
   ]
  },
  {
   "cell_type": "code",
   "execution_count": null,
   "metadata": {},
   "outputs": [],
   "source": [
    "# Photo-z-plus\n",
    "pp.plots(bgs_sv3_pz_1_10p, bgs_sv3_simple_4_10p, bgs_sv3_pz_1_7p, bgs_sv3_simple_4_7p, sdss_vanilla, mxxl_simple_4)"
   ]
  },
  {
   "cell_type": "code",
   "execution_count": null,
   "metadata": {},
   "outputs": [],
   "source": [
    "# Simple v4 vs v5\n",
    "bgs_y3_simple_5.marker = '--'\n",
    "bgs_y3_simple_5.color = 'darkorange'\n",
    "bgs_y3_simple_4.color = 'darkorange'\n",
    "bgs_sv3_simple_5_7p.centered.marker = '--'\n",
    "bgs_sv3_simple_4_7p.centered.color = 'red'\n",
    "bgs_sv3_simple_5_7p.centered.color = 'red'\n",
    "bgs_simple_5.marker = '--'\n",
    "bgs_simple_5.color = 'k'\n",
    "pp.plots(simple4_BGS, bgs_simple_5, bgs_y3_simple_4, bgs_y3_simple_5, bgs_sv3_simple_4_7p.centered, bgs_sv3_simple_5_7p.centered)\n",
    "\n",
    "bgs_y3_simple_5.marker = '-'\n",
    "bgs_sv3_simple_5_7p.centered.marker = '-'\n",
    "bgs_simple_5.marker = '-'\n"
   ]
  },
  {
   "cell_type": "code",
   "execution_count": null,
   "metadata": {},
   "outputs": [],
   "source": [
    "pp.single_plots(bgs_y3_simple_5)"
   ]
  },
  {
   "cell_type": "code",
   "execution_count": null,
   "metadata": {},
   "outputs": [],
   "source": []
  },
  {
   "cell_type": "code",
   "execution_count": null,
   "metadata": {},
   "outputs": [],
   "source": [
    "# BGS Completeness and NN/Other z assignment stats\n",
    "def completeness_stats(d: GroupCatalog):\n",
    "    name = d.name.replace(\"BGS sv3\", \"SV3\")\n",
    "    print(f\"{name} completeness: {np.sum(d.all_data.z_assigned_flag == 0) / len(d.all_data.z_assigned_flag):.1%}\")\n",
    "    print(f\"  NN/Other ratio: {np.sum(d.all_data.z_assigned_flag == 1) / np.sum(d.all_data.z_assigned_flag != 0):.1%}\")\n",
    "\n",
    "#for d in [simple4_BGS, simple4_BGS_old, bgs_y3_simple_4, bgs_simple_5, bgs_y3_simple_5]:\n",
    "#    completeness_stats(d)\n",
    "\n",
    "#for d in [bgs_sv3_simple_4_10p, bgs_sv3_simple_4_9p, bgs_sv3_simple_4_8p, bgs_sv3_simple_4_7p, bgs_sv3_simple_4_6p, bgs_sv3_simple_4_5p, bgs_sv3_simple_4_4p, bgs_sv3_simple_4_3p, bgs_sv3_simple_4_2p, bgs_sv3_simple_4_1p]:\n",
    "#    completeness_stats(d)\n",
    "\n",
    "#for d in [bgs_sv3_simple_4_10p.centered, bgs_sv3_simple_4_9p.centered, bgs_sv3_simple_4_8p.centered, bgs_sv3_simple_4_7p.centered, bgs_sv3_simple_4_6p.centered, bgs_sv3_simple_4_5p.centered, bgs_sv3_simple_4_4p.centered, bgs_sv3_simple_4_3p.centered, bgs_sv3_simple_4_2p.centered, bgs_sv3_simple_4_1p.centered]:\n",
    "#    completeness_stats(d)\n",
    "\n",
    "#for d in [bgs_sv3_simple_5_10p, bgs_sv3_simple_5_9p, bgs_sv3_simple_5_8p, bgs_sv3_simple_5_7p, bgs_sv3_simple_5_6p, bgs_sv3_simple_5_5p, bgs_sv3_simple_5_4p, bgs_sv3_simple_5_3p, bgs_sv3_simple_5_2p, bgs_sv3_simple_5_1p]:\n",
    "#    completeness_stats(d)\n",
    "\n",
    "#for d in [bgs_sv3_simple_5_10p.centered, bgs_sv3_simple_5_9p.centered, bgs_sv3_simple_5_8p.centered, bgs_sv3_simple_5_7p.centered, bgs_sv3_simple_5_6p.centered, bgs_sv3_simple_5_5p.centered, bgs_sv3_simple_5_4p.centered, bgs_sv3_simple_5_3p.centered, bgs_sv3_simple_5_2p.centered, bgs_sv3_simple_5_1p.centered]:\n",
    "#    completeness_stats(d)\n",
    "\n",
    "for d in [bgs_sv3_simple_5_7p, bgs_simple_5, simple4_BGS]:\n",
    "    completeness_stats(d)\n"
   ]
  },
  {
   "cell_type": "code",
   "execution_count": null,
   "metadata": {},
   "outputs": [],
   "source": [
    "# SV3 PLOTS (FULL 10 pass FOOTPRINT)\n",
    "bgs_sv3_simple_4_7p.color = 'red'\n",
    "\n",
    "pp.LEGENDS_ON = False\n",
    "pp.plots(bgs_sv3_simple_4_10p, bgs_sv3_simple_4_9p, bgs_sv3_simple_4_8p, bgs_sv3_simple_4_7p, bgs_sv3_simple_4_6p, bgs_sv3_simple_4_5p, bgs_sv3_simple_4_4p, bgs_sv3_simple_4_3p, bgs_sv3_simple_4_2p, bgs_sv3_simple_4_1p)\n",
    "pp.LEGENDS_ON = True\n",
    "\n",
    "pp.completeness_comparison(bgs_sv3_simple_4_10p, bgs_sv3_simple_4_9p, bgs_sv3_simple_4_8p, bgs_sv3_simple_4_7p, bgs_sv3_simple_4_6p, bgs_sv3_simple_4_5p, bgs_sv3_simple_4_4p, bgs_sv3_simple_4_3p, bgs_sv3_simple_4_2p, bgs_sv3_simple_4_1p)\n"
   ]
  },
  {
   "cell_type": "code",
   "execution_count": null,
   "metadata": {},
   "outputs": [],
   "source": [
    "pp.z_assigned_fraction(bgs_sv3_simple_4_10p, bgs_sv3_simple_4_9p, bgs_sv3_simple_4_8p, bgs_sv3_simple_4_7p, bgs_sv3_simple_4_6p, bgs_sv3_simple_4_5p, bgs_sv3_simple_4_4p, bgs_sv3_simple_4_3p, bgs_sv3_simple_4_2p, bgs_sv3_simple_4_1p)"
   ]
  },
  {
   "cell_type": "code",
   "execution_count": null,
   "metadata": {},
   "outputs": [],
   "source": [
    "# SV3 function of # passes plots (USING CENTERS ONLY)\n",
    "bgs_sv3_simple_4_7p.color = 'red'\n",
    "bgs_sv3_simple_4_7p.centered.color = 'red'\n",
    "\n",
    "pp.LEGENDS_ON = False\n",
    "pp.plots(\n",
    "    bgs_sv3_simple_4_10p.centered,\n",
    "    bgs_sv3_simple_4_9p.centered,\n",
    "    bgs_sv3_simple_4_8p.centered,\n",
    "    bgs_sv3_simple_4_7p.centered,\n",
    "    bgs_sv3_simple_4_6p.centered,\n",
    "    bgs_sv3_simple_4_5p.centered,\n",
    "    bgs_sv3_simple_4_4p.centered,\n",
    "    bgs_sv3_simple_4_3p.centered,\n",
    "    bgs_sv3_simple_4_2p.centered,\n",
    "    bgs_sv3_simple_4_1p.centered\n",
    ")    \n",
    "pp.LEGENDS_ON = True"
   ]
  },
  {
   "cell_type": "code",
   "execution_count": null,
   "metadata": {},
   "outputs": [],
   "source": [
    "# SV3 function of # passes plots (USING CENTERS ONLY)\n",
    "bgs_sv3_simple_5_7p.color = 'red'\n",
    "bgs_sv3_simple_5_7p.centered.color = 'red'\n",
    "\n",
    "pp.LEGENDS_ON = False\n",
    "pp.plots(\n",
    "    bgs_sv3_simple_5_10p.centered,\n",
    "    bgs_sv3_simple_5_9p.centered,\n",
    "    bgs_sv3_simple_5_8p.centered,\n",
    "    bgs_sv3_simple_5_7p.centered,\n",
    "    bgs_sv3_simple_5_6p.centered,\n",
    "    bgs_sv3_simple_5_5p.centered,\n",
    "    bgs_sv3_simple_5_4p.centered,\n",
    "    bgs_sv3_simple_5_3p.centered,\n",
    "    bgs_sv3_simple_5_2p.centered,\n",
    "    bgs_sv3_simple_5_1p.centered\n",
    ")    \n",
    "pp.LEGENDS_ON = True"
   ]
  },
  {
   "cell_type": "code",
   "execution_count": null,
   "metadata": {},
   "outputs": [],
   "source": [
    "# SV3 with pure NN\n",
    "bgs_sv3_nn_6p.color = [0.6, 0.6, 0.0]\n",
    "pp.plots(bgs_sv3_simple_4_10p, bgs_sv3_simple_4_6p, bgs_sv3_nn_6p)"
   ]
  },
  {
   "cell_type": "code",
   "execution_count": null,
   "metadata": {},
   "outputs": [],
   "source": [
    "# View plots for my SDSS results from my MCMC chains\n",
    "to_compare = sdss_vanilla\n",
    "to_compare.run_group_finder(popmock=True)\n",
    "to_compare.run_corrfunc()\n",
    "to_compare.postprocess()\n",
    "\n",
    "pp.proj_clustering_plot(sdss_vanilla)\n",
    "pp.lsat_data_compare_plot(sdss_vanilla)\n",
    "\n",
    "\n",
    "#sdss_colors_chi.color = 'r'\n",
    "#pp.plots(sdss_colors_mine, sdss_colors, sdss_colors_chi)"
   ]
  },
  {
   "cell_type": "code",
   "execution_count": null,
   "metadata": {},
   "outputs": [],
   "source": [
    "#simple4_BGS.name = 'DESI BGS Y1'\n",
    "pp.plots(simple4_BGS, sdss_vanilla, sdss_colors, sdss_colors_chi)\n",
    "#pp.plots(cat.sdss_published, sdss_colors_chi)"
   ]
  },
  {
   "cell_type": "code",
   "execution_count": null,
   "metadata": {},
   "outputs": [],
   "source": [
    "# Why doesn't mstar missing % exactly match z_assigned_flag? \n",
    "# Probably redshift failures. Still have a spectra so still have mstar\n",
    "print(np.sum(np.isnan(simple4_BGS.all_data.mstar)) / len(simple4_BGS.all_data.mstar))\n",
    "print(np.sum(simple4_BGS.all_data.z_assigned_flag != 0) / len(simple4_BGS.all_data.z_assigned_flag))"
   ]
  },
  {
   "cell_type": "code",
   "execution_count": null,
   "metadata": {},
   "outputs": [],
   "source": [
    "pp.compare_fsat_color_split(sdss_vanilla_old, sdss_vanilla, project_percent=0.52)\n"
   ]
  },
  {
   "cell_type": "code",
   "execution_count": null,
   "metadata": {},
   "outputs": [],
   "source": [
    "bgs_simple_4_1pass.color = 'r'\n",
    "pp.plots(simple4_BGS, bgs_simple_4_1pass)"
   ]
  },
  {
   "cell_type": "code",
   "execution_count": null,
   "metadata": {},
   "outputs": [],
   "source": [
    "pp.compare_fsat_color_split(bgs_sv3_simple_4_10p, sdss_vanilla)\n"
   ]
  },
  {
   "cell_type": "code",
   "execution_count": null,
   "metadata": {},
   "outputs": [],
   "source": [
    "#pp.compare_fsat_color_split(all, simple_2)\n",
    "#pp.compare_fsat_color_split(all, simple_4)\n",
    "#pp.compare_fsat_color_split(sdss_vanilla, simple4_BGS)\n",
    "pp.compare_fsat_color_split(bgs_sv3_simple_4_10p, simple4_BGS)\n",
    "pp.compare_fsat_color_split(bgs_sv3_simple_4_10p, bgs_sv3_fiberonly_10p)\n",
    "#pp.compare_fsat_color_split(bgs_sv3_10p, bgs_sv3_10p_all)\n",
    "#pp.compare_fsat_color_split(sdss_vanilla, bgs_simple_4_1pass)\n"
   ]
  },
  {
   "cell_type": "code",
   "execution_count": null,
   "metadata": {},
   "outputs": [],
   "source": [
    "pp.qf.centered_plot(simple4_BGS)\n",
    "pp.qf.centered_plot(sdss_published)"
   ]
  },
  {
   "cell_type": "code",
   "execution_count": null,
   "metadata": {},
   "outputs": [],
   "source": [
    "pp.fsat_by_z_bins(simple4_BGS, z_bins=np.array([0.0, 0.05, 0.1, 0.15, 0.2, 0.25, 0.3, 0.35, 0.4, 0.5, 1.0]), show_plots=True)\n",
    "#pp.fsat_by_z_bins(mxxl_simple_4, z_bins=np.array([0.0, 0.05, 0.1, 0.15, 0.2, 0.25, 0.3, 0.35, 0.4, 0.5, 1.0]), show_plots=False, aggregation=pp.fsat_truth_vmax_weighted)\n"
   ]
  },
  {
   "cell_type": "code",
   "execution_count": null,
   "metadata": {},
   "outputs": [],
   "source": [
    "pp.fsat_by_z_bins(simple4_BGS, z_bins=np.array([0.0, 0.2, 1.0]))\n"
   ]
  },
  {
   "cell_type": "code",
   "execution_count": null,
   "metadata": {},
   "outputs": [],
   "source": [
    "pp.plots(mxxl_all, mxxl_fiberonly, mxxl_nn, mxxl_simple_4)\n"
   ]
  },
  {
   "cell_type": "code",
   "execution_count": null,
   "metadata": {},
   "outputs": [],
   "source": [
    "pp.plots(fiberonly_BGS, nn_BGS, simple4_BGS)\n"
   ]
  },
  {
   "cell_type": "code",
   "execution_count": null,
   "metadata": {},
   "outputs": [],
   "source": [
    "simple4_BGS.name = 'Our Algorithm BGS Y1'"
   ]
  },
  {
   "cell_type": "code",
   "execution_count": null,
   "metadata": {},
   "outputs": [],
   "source": [
    "pp.plots(bgs_sv3_simple_4_10p, bgs_sv3_fiberonly_10p)\n"
   ]
  },
  {
   "cell_type": "code",
   "execution_count": null,
   "metadata": {},
   "outputs": [],
   "source": [
    "# Print out biggest group size\n",
    "for dataset in [simple4_BGS, simple2_BGS, fiberonly_BGS, fiberonly_1pass_BGS, sdss_vanilla]:\n",
    "    print(dataset.name)\n",
    "    print(dataset.all_data.groupby('igrp').size().max())\n"
   ]
  },
  {
   "cell_type": "code",
   "execution_count": null,
   "metadata": {},
   "outputs": [],
   "source": [
    "# SDSS Examine Bimodality\n",
    "\n",
    "z=sdss_vanilla.all_data['z']\n",
    "gmr=sdss_vanilla.all_data['Mag_g'] - sdss_vanilla.all_data['Mag_r']\n",
    "junk=plt.hist(gmr, bins=np.linspace(-1,3,300), alpha=0.4)\n",
    "#junk=plt.hist(k_correct(sdss_vanilla.all_data['Mag_g'], z, gmr, band='g')  - k_correct(sdss_vanilla.all_data['Mag_r'], z, gmr, band='r'), bins=500, alpha=0.4)\n",
    "junk=plt.hist(sdss_vanilla.all_data['Dn4000'], bins=np.linspace(0,4,300), alpha=0.4)\n",
    "plt.xlim(-1, 3)"
   ]
  },
  {
   "cell_type": "code",
   "execution_count": null,
   "metadata": {},
   "outputs": [],
   "source": [
    "# Investigate changes in halo mass function from wcen\n",
    "m1=np.log10(sdss_vanilla.all_data['M_halo'])\n",
    "m2=np.log10(sdss_colors.all_data['M_halo'])\n",
    "m3=np.log10(sdss_colors_chi.all_data['M_halo'])\n",
    "\n",
    "# bin m1,m2,m3 the same way\n",
    "n_bins = 20\n",
    "bins = np.linspace(10.8, 15.0, n_bins)\n",
    "d1 = np.digitize(m1, bins)\n",
    "d2 = np.digitize(m2, bins)\n",
    "d3 = np.digitize(m3, bins)\n",
    "\n",
    "# count the number of galaxies in each bin\n",
    "n1 = np.array([np.sum(d1==i) for i in range(1, n_bins+1)])\n",
    "n2 = np.array([np.sum(d2==i) for i in range(1, n_bins+1)])\n",
    "n3 = np.array([np.sum(d3==i) for i in range(1, n_bins+1)])\n",
    "\n",
    "# Do the same but for log10(counts)\n",
    "n1 = np.log10(n1)\n",
    "n2 = np.log10(n2)\n",
    "n3 = np.log10(n3)\n",
    "print(n1,n2,3)\n",
    "\n",
    "# Log difference\n",
    "p1 = np.abs(n1-n2)\n",
    "p2 = np.abs(n1-n3)\n",
    "\n",
    "plt.plot(bins, p1, label='SDSS Colors vs Vanilla')\n",
    "plt.plot(bins, p2, label='SDSS Colors+Chi vs Vanilla')\n",
    "\n",
    "plt.xlabel('log10(M_halo)')\n",
    "plt.ylabel('Log10 Difference in Counts')\n",
    "plt.legend()"
   ]
  },
  {
   "cell_type": "markdown",
   "metadata": {},
   "source": [
    "## Make single group CSV for legacysurvey.org/viewer visualization"
   ]
  },
  {
   "cell_type": "code",
   "execution_count": null,
   "metadata": {},
   "outputs": [],
   "source": [
    "df = pd.read_csv(OUTPUT_FOLDER + 'NERSC_BGS_1pass_v1.out')\n",
    "centrals_of_big_groups = df['N_sat'] > 0\n",
    "group_ids = df.loc[centrals_of_big_groups].igrp.unique()"
   ]
  },
  {
   "cell_type": "code",
   "execution_count": null,
   "metadata": {},
   "outputs": [],
   "source": [
    "df[df.igrp == 1644058]"
   ]
  },
  {
   "cell_type": "code",
   "execution_count": null,
   "metadata": {},
   "outputs": [],
   "source": [
    "print(group_ids[0:10])"
   ]
  },
  {
   "cell_type": "code",
   "execution_count": null,
   "metadata": {},
   "outputs": [],
   "source": [
    "#for i in group_ids[0:10]:\n",
    "for i in [1644058, 1644051]:\n",
    "    #df.loc[df.igrp == i, ['RA', 'Dec']].to_csv(OUTPUT_FOLDER + f'group{i}.csv', index=False)\n",
    "    print(df.loc[df.igrp == i, ['RA', 'Dec', 'z', 'z_assigned_flag']])"
   ]
  },
  {
   "cell_type": "markdown",
   "metadata": {},
   "source": [
    "## Study z_phot vs z_spectra"
   ]
  },
  {
   "cell_type": "code",
   "execution_count": null,
   "metadata": {},
   "outputs": [],
   "source": [
    "df = bgs_y3_simple_5.all_data\n",
    "good_idx = np.flatnonzero((df['z_phot'] != -99.0) & df['z_assigned_flag'] == 0)\n",
    "\n",
    "\n",
    "delta_z = df['z_phot'][good_idx] - df['z'][good_idx]\n",
    "plt.hist(delta_z, bins=500, range=(-0.1, 0.1))\n",
    "plt.yscale(\"log\")\n",
    "plt.title(\"Photo-z Quality\")\n",
    "plt.ylabel(\"Count\")\n",
    "plt.xlabel(\"z_phot - z_spec\")\n",
    "\n",
    "# add bars for my z_thresh\n",
    "plt.axvline(-SIM_Z_THRESH, color='red')\n",
    "plt.axvline(SIM_Z_THRESH, color='red')\n",
    "\n",
    "percentiles = np.percentile(delta_z, [16, 50, 84])\n",
    "print(f\"Median delta z: {percentiles[1]:.4f}, 16th percentile: {percentiles[0]:.4f}, 84th percentile: {percentiles[2]:.4f}\")\n",
    "# add bars for the percentiles\n",
    "#plt.axvline(percentiles[0], color='green')\n",
    "#plt.axvline(percentiles[2], color='green')\n",
    "\n",
    "\n",
    "\n",
    "# What % fall within 0.005 of the true redshift?\n",
    "within_5_milli = np.abs(delta_z) < SIM_Z_THRESH\n",
    "print(f\"{np.sum(within_5_milli) / len(delta_z) * 100:.2f}% of galaxies have a photometric redshift within {SIM_Z_THRESH} of the spectroscopic redshift.\")\n",
    "\n",
    "# Now look only at quiescent galaxies less than 10^9 solar luminosities\n",
    "# TODO \n",
    "#luminosity = abs_mag_r_to_log_solar_L(app_mag_to_abs_mag_k(app_mag_r, z_obs, g_r_apparent))\n"
   ]
  },
  {
   "cell_type": "markdown",
   "metadata": {},
   "source": [
    "## BGS and SDSS Target Overlap Analysis\n",
    "\n",
    "TODO: need to use a version of SDSS data that doesn't have nearest-neighbor assigned redshifts in it!"
   ]
  },
  {
   "cell_type": "code",
   "execution_count": null,
   "metadata": {},
   "outputs": [],
   "source": [
    "pd.options.mode.copy_on_write = True\n",
    "\n",
    "# For this comparison, use pure NN BGS \n",
    "bgs_to_use = simple4_BGS.all_data\n",
    "lost_bgs = bgs_to_use.loc[bgs_to_use['z_assigned_flag'] != 0]\n",
    "sdss_cat = sdss_vanilla.all_data\n",
    "\n",
    "catalog = coord.SkyCoord(ra=sdss_cat.RA.to_numpy()*u.degree, dec=sdss_cat.Dec.to_numpy()*u.degree, frame='icrs')\n",
    "to_match = coord.SkyCoord(ra=lost_bgs.RA.to_numpy()*u.degree, dec=lost_bgs.Dec.to_numpy()*u.degree, frame='icrs')\n",
    "\n",
    "idx, d2d, d3d = coord.match_coordinates_sky(to_match, catalog, nthneighbor=1, storekdtree=False)\n",
    "\n",
    "# if angular distance is < 3\", then we consider it a match to SDSS catalog\n",
    "lost_bgs['sdss_z'] = np.where(d2d < 3*u.arcsec, sdss_cat.iloc[idx]['z'], np.nan)\n",
    "lost_bgs_matched = lost_bgs.loc[~np.isnan(lost_bgs['sdss_z'])]\n",
    "print(f\"Matched {len(lost_bgs_matched)} out of {len(lost_bgs)} lost BGS galaxies to SDSS catalog, ({len(lost_bgs_matched)/len(lost_bgs)*100:.2f}%)\")\n",
    "\n",
    "good_match = np.isclose(lost_bgs_matched.z, lost_bgs_matched.sdss_z, atol=0.001).sum()\n",
    "print(f\"Good match: {good_match} out of {len(lost_bgs_matched)}, or {good_match/len(lost_bgs_matched)*100:.2f}%\")"
   ]
  },
  {
   "cell_type": "markdown",
   "metadata": {},
   "source": []
  },
  {
   "cell_type": "markdown",
   "metadata": {},
   "source": [
    "## Viraj Targets"
   ]
  },
  {
   "cell_type": "code",
   "execution_count": 52,
   "metadata": {},
   "outputs": [],
   "source": [
    "# Viraj Compare\n",
    "path = DATA_FOLDER + 'VIRAJ/jura_bgs_bright_catalog_for_ian.fits'\n",
    "table = Table.read(path)\n",
    "viraj_df = table.to_pandas()\n",
    "viraj_df.set_index('TARGETID', inplace=True)"
   ]
  },
  {
   "cell_type": "code",
   "execution_count": 53,
   "metadata": {},
   "outputs": [],
   "source": [
    "def merge_viraj_ian(viraj_df: pd.DataFrame, gc : GroupCatalog):\n",
    "    ian_df = gc.all_data.set_index('target_id').loc[:, ['z', 'L_gal', 'V_max', 'P_sat', 'M_halo', 'N_sat', 'L_tot',\n",
    "       'igrp', 'weight', 'app_mag', 'z_assigned_flag', 'g_r', 'z_phot', 'is_sat', 'quiescent']]\n",
    "    print(ian_df.igrp.dtype)\n",
    "    #ian_df['quiescent'] = ian_df['quiescent'].astype(float)\n",
    "    ian_df['N_sat'] = ian_df['N_sat'].astype(int)\n",
    "    together = viraj_df.join(ian_df, how='inner', validate='one_to_one')\n",
    "    print(together.igrp.dtype)\n",
    "    print(f\"Viraj targets: {len(viraj_df):,}, Ian {gc.name} Catalog: {len(ian_df):,}, # of Viraj Targets found in Ian's: {(~np.isnan(together.is_sat)).sum():,}\")\n",
    "    return together"
   ]
  },
  {
   "cell_type": "code",
   "execution_count": null,
   "metadata": {},
   "outputs": [],
   "source": [
    "together1 = merge_viraj_ian(viraj_df, bgs_simple_4_1pass)\n",
    "together2 = merge_viraj_ian(viraj_df, simple4_BGS)\n",
    "together3 = merge_viraj_ian(viraj_df, bgs_y3_simple_5)"
   ]
  },
  {
   "cell_type": "code",
   "execution_count": null,
   "metadata": {},
   "outputs": [],
   "source": [
    "missing=together3.loc[np.isnan(together3.is_sat)]\n",
    "missing"
   ]
  },
  {
   "cell_type": "code",
   "execution_count": null,
   "metadata": {},
   "outputs": [],
   "source": [
    "print(bgs_y3_simple_5.all_data.igrp.dtype)\n",
    "print(together3.igrp.dtype)"
   ]
  },
  {
   "cell_type": "code",
   "execution_count": 57,
   "metadata": {},
   "outputs": [],
   "source": [
    "to_write = Table.from_pandas(together3, index=True)\n",
    "to_write.write(DATA_FOLDER + 'VIRAJ/jura_bgs_bright_catalog_for_ian_matched.fits', overwrite=True)"
   ]
  },
  {
   "cell_type": "code",
   "execution_count": 58,
   "metadata": {},
   "outputs": [],
   "source": [
    "combined = Table.read(DATA_FOLDER + 'VIRAJ/jura_bgs_bright_catalog_for_ian_matched.fits', format='fits')\n",
    "df = combined.to_pandas()"
   ]
  },
  {
   "cell_type": "code",
   "execution_count": null,
   "metadata": {},
   "outputs": [],
   "source": [
    "df"
   ]
  },
  {
   "cell_type": "markdown",
   "metadata": {},
   "source": [
    "## Mock and SV3 Analysis"
   ]
  },
  {
   "cell_type": "markdown",
   "metadata": {},
   "source": [
    "### UCHUU Issues"
   ]
  },
  {
   "cell_type": "code",
   "execution_count": null,
   "metadata": {},
   "outputs": [],
   "source": [
    "plt.hist(all_u.all_data['M_halo'], bins=pp.Mhalo_bins, alpha=0.4)\n",
    "plt.hist(all_u.all_data['uchuu_halo_mass']*10**10, bins=pp.Mhalo_bins, alpha=0.4)\n",
    "plt.loglog()\n",
    "\n",
    "# TODO do we expect the mass distribution of halos to be so different from the UCHUU SHAM catalog and our assigned halo?"
   ]
  },
  {
   "cell_type": "code",
   "execution_count": null,
   "metadata": {},
   "outputs": [],
   "source": [
    "# TODO 1 / VMax corrections do odd thing to UCHUU Truth. Why?\n",
    "pp.hod_plots(all_u)"
   ]
  },
  {
   "cell_type": "markdown",
   "metadata": {},
   "source": [
    "### What effect does Fiber Assignment have on the luminosity function?"
   ]
  },
  {
   "cell_type": "code",
   "execution_count": null,
   "metadata": {},
   "outputs": [],
   "source": [
    "pp.group_finder_centrals_halo_masses_plots(mxxl_all, [mxxl_fiberonly, mxxl_simple_4])"
   ]
  },
  {
   "cell_type": "markdown",
   "metadata": {},
   "source": [
    "### Purity and Completeness"
   ]
  },
  {
   "cell_type": "code",
   "execution_count": null,
   "metadata": {},
   "outputs": [],
   "source": [
    "pp.test_purity_and_completeness(mxxl_all, mxxl_fiberonly, mxxl_nn, mxxl_simple_4)"
   ]
  },
  {
   "cell_type": "code",
   "execution_count": null,
   "metadata": {},
   "outputs": [],
   "source": [
    "pp.purity_complete_plots(mxxl_all, mxxl_fiberonly, mxxl_nn, mxxl_simple_4)"
   ]
  },
  {
   "cell_type": "markdown",
   "metadata": {},
   "source": [
    "### Compare halos to truth"
   ]
  },
  {
   "cell_type": "code",
   "execution_count": null,
   "metadata": {},
   "outputs": [],
   "source": [
    "pp.assigned_halo_analysis(mxxl_simple_4)"
   ]
  },
  {
   "cell_type": "markdown",
   "metadata": {},
   "source": [
    "### Compare assigned implied abs mags to truth from MXXL"
   ]
  },
  {
   "cell_type": "code",
   "execution_count": null,
   "metadata": {},
   "outputs": [],
   "source": [
    "all_unobs_counts = mxxl_all.all_data[mxxl_all.all_data.z_assigned_flag != 0].groupby('Lgal_bin').RA.count()\n",
    "simple_4_ubobs_counts = mxxl_simple_4.all_data.groupby('Lgal_bin').RA.count()\n"
   ]
  },
  {
   "cell_type": "code",
   "execution_count": null,
   "metadata": {},
   "outputs": [],
   "source": [
    "pp.L_func_plot([mxxl_all, mxxl_simple_4], [all_unobs_counts, simple_4_ubobs_counts])\n",
    "\n",
    "\n",
    "\n",
    "#pp.L_func_plot([all, simple_4], [all.all_data.L_gal[all.all_data.z_assigned_flag == 0], simple_4.all_data.L_gal[simple_4.all_data.z_assigned_flag == 0]])\n"
   ]
  },
  {
   "cell_type": "markdown",
   "metadata": {},
   "source": [
    "### Correct Redshifts"
   ]
  },
  {
   "cell_type": "code",
   "execution_count": null,
   "metadata": {},
   "outputs": [],
   "source": [
    "def merit_score(simz_score):\n",
    "    return 2*(simz_score - 0.5) # 1 to -1\n",
    "\n",
    "# For all the z_assigned_flag galaxies, compare the z we assigned to the z_obs\n",
    "# Need to ignore ones where z_obs is nan or -99 or whatever\n",
    "sets = [bgs_sv3_pz_1_7p, bgs_sv3_simple_5_7p, bgs_sv3_simple_4_7p, bgs_sv3_nn_7p, mxxl_simple_4]\n",
    "scores_all_lost = []\n",
    "scores_n_only = []\n",
    "\n",
    "for s in sets:\n",
    "    print(f\"*** Summarizing results for {s.name} ***\")\n",
    "\n",
    "    print(f\"All lost galaxies (with 'truth'):\")\n",
    "    valid_idx = (s.all_data['z_obs'] != -99) & (~np.isnan(s.all_data['z_obs']))\n",
    "    assigned_z = s.all_data.loc[valid_idx & (s.all_data['z_assigned_flag'] != 0), 'z']\n",
    "    observed_z = s.all_data.loc[valid_idx & (s.all_data['z_assigned_flag'] != 0), 'z_obs']\n",
    "    score = sim_z_score(assigned_z, observed_z)\n",
    "    scores_all_lost.append(score.mean())\n",
    "    print(f\" Galaxies to compare: {len(assigned_z)} ({len(assigned_z) / len(s.all_data):.1%})\")\n",
    "    print(f\" Neighbor z used {np.sum(s.all_data.z_assigned_flag == 1) / np.sum(s.all_data.z_assigned_flag != 0):.1%}\")\n",
    "    print(f\" Score Mean: {score.mean():.4f}\")\n",
    "\n",
    "    print(\"Neighbor-assigned Only:\")\n",
    "    assigned_z2 = s.all_data.loc[valid_idx & (s.all_data['z_assigned_flag'] == 1), 'z']\n",
    "    observed_z2 = s.all_data.loc[valid_idx & (s.all_data['z_assigned_flag'] == 1), 'z_obs']\n",
    "    score2 = sim_z_score(assigned_z2, observed_z2)\n",
    "    scores_n_only.append(score2.mean())\n",
    "    print(f\" Galaxies to compare: {len(assigned_z2)} ({len(assigned_z2) / len(s.all_data):.1%})\")\n",
    "    print(f\" Score Mean: {score2.mean():.4f}\")\n",
    "\n",
    "# Plotting the results\n",
    "labels = [s.name for s in sets]\n",
    "x = np.arange(len(labels))  # the label locations\n",
    "width = 0.35  # the width of the bars\n",
    "\n",
    "fig, ax = plt.subplots()\n",
    "rects1 = ax.bar(x - width/2, scores_all_lost, width, label='All Lost')\n",
    "rects2 = ax.bar(x + width/2, scores_n_only, width, label='Neighbor-assigned Only')\n",
    "\n",
    "# Add some text for labels, title and custom x-axis tick labels, etc.\n",
    "ax.set_xlabel('Catalogs')\n",
    "ax.set_ylabel('Mean Scores')\n",
    "ax.set_title('Mean Scores by Catalog and Assignment Type')\n",
    "ax.set_xticks(x)\n",
    "ax.set_xticklabels(labels, rotation=45, ha='right')\n",
    "ax.legend()\n",
    "\n",
    "fig.tight_layout()\n",
    "\n",
    "plt.show()\n"
   ]
  },
  {
   "cell_type": "code",
   "execution_count": null,
   "metadata": {},
   "outputs": [],
   "source": [
    "def merit_score(simz_score):\n",
    "    return 2*(simz_score - 0.5) # 1 to -1\n",
    "\n",
    "# do like the above, but use "
   ]
  },
  {
   "cell_type": "markdown",
   "metadata": {},
   "source": [
    "## SV3 Edge Effects Quantification"
   ]
  },
  {
   "cell_type": "code",
   "execution_count": null,
   "metadata": {},
   "outputs": [],
   "source": [
    "inner_galaxies = gc.filter_SV3_to_avoid_edges(bgs_sv3_simple_4_10p)\n",
    "inner_galaxies.color = 'k'\n",
    "inner_galaxies.name = 'SV3 Inner Galaxies'\n",
    "pp.plots(inner_galaxies, bgs_sv3_simple_4_10p)"
   ]
  },
  {
   "cell_type": "code",
   "execution_count": null,
   "metadata": {},
   "outputs": [],
   "source": [
    "fig = pp.make_map(bgs_sv3_simple_4_10p.all_data.RA.to_numpy(), bgs_sv3_simple_4_10p.all_data.Dec.to_numpy())\n",
    "fig = pp.make_map(inner_galaxies.all_data.RA.to_numpy(), inner_galaxies.all_data.Dec.to_numpy(), fig=fig)"
   ]
  },
  {
   "cell_type": "code",
   "execution_count": null,
   "metadata": {},
   "outputs": [],
   "source": [
    "bgs_sv3_simple_4_10p.all_data.groupby('Lgal_bin')['z'].median()"
   ]
  },
  {
   "cell_type": "code",
   "execution_count": null,
   "metadata": {},
   "outputs": [],
   "source": [
    "centering_versions = [\n",
    "    gc.filter_SV3_to_avoid_edges(bgs_sv3_simple_4_10p, 1.5),\n",
    "    gc.filter_SV3_to_avoid_edges(bgs_sv3_simple_4_10p, 1.4),\n",
    "    gc.filter_SV3_to_avoid_edges(bgs_sv3_simple_4_10p, 1.3),\n",
    "    gc.filter_SV3_to_avoid_edges(bgs_sv3_simple_4_10p, 1.2),\n",
    "    gc.filter_SV3_to_avoid_edges(bgs_sv3_simple_4_10p, 1.1),\n",
    "    gc.filter_SV3_to_avoid_edges(bgs_sv3_simple_4_10p, 1.0),\n",
    "    gc.filter_SV3_to_avoid_edges(bgs_sv3_simple_4_10p, 0.9),\n",
    "]\n",
    "pickle.dump(centering_versions, open('centering_versions.pkl', 'wb'))"
   ]
  },
  {
   "cell_type": "code",
   "execution_count": null,
   "metadata": {},
   "outputs": [],
   "source": [
    "import copy\n",
    "lowz = bgs_sv3_simple_4_10p.all_data.loc[bgs_sv3_simple_4_10p.all_data.z < 0.03]\n",
    "lowz_gc = copy.deepcopy(bgs_sv3_simple_4_10p)\n",
    "lowz_gc.all_data = lowz\n",
    "lowz_gc.refresh_df_views()\n",
    "centering_versions_lowz = [\n",
    "    gc.filter_SV3_to_avoid_edges(lowz_gc, 1.5),\n",
    "    gc.filter_SV3_to_avoid_edges(lowz_gc, 1.4),\n",
    "    gc.filter_SV3_to_avoid_edges(lowz_gc, 1.3),\n",
    "    gc.filter_SV3_to_avoid_edges(lowz_gc, 1.2),\n",
    "    gc.filter_SV3_to_avoid_edges(lowz_gc, 1.1),\n",
    "    gc.filter_SV3_to_avoid_edges(lowz_gc, 1.0),\n",
    "    gc.filter_SV3_to_avoid_edges(lowz_gc, 0.9),\n",
    "]"
   ]
  },
  {
   "cell_type": "code",
   "execution_count": null,
   "metadata": {},
   "outputs": [],
   "source": [
    "pickle.load(open('centering_versions.pkl', 'rb'))\n",
    "\n",
    "for i, d in enumerate(centering_versions):\n",
    "    d.color = [0, i/len(centering_versions), 0]\n",
    "    d.name = f'SV3 10p, {1.5-i*0.1:.1f} deg center cut'\n",
    "\n",
    "pp.LEGENDS_ON = False\n",
    "bgs_sv3_simple_4_10p.color = 'blue'\n",
    "pp.fsat_by_zbins_sv3_centers(bgs_sv3_simple_4_10p, *centering_versions, z_bins=np.array([0.0, 0.03, 1.0]))\n",
    "pp.single_plots(bgs_sv3_simple_4_10p)\n",
    "pp.single_plots(centering_versions[2])\n",
    "pp.single_plots(centering_versions[4])\n",
    "pp.single_plots(centering_versions[6])\n",
    "pp.LEGENDS_ON = True\n",
    "\n",
    "#pp.fsat_by_z_bins(bgs_sv3_simple_4_10p, z_bins=np.array([0.0, 0.03, 1.0]))\n",
    "#for d in centering_versions:\n",
    "#    pp.fsat_by_z_bins(d, z_bins=np.array([0.0, 0.03, 1.0]))\n"
   ]
  },
  {
   "cell_type": "code",
   "execution_count": null,
   "metadata": {},
   "outputs": [],
   "source": [
    "lowz_gc.color = 'blue'\n",
    "pp.single_plots(lowz_gc)\n",
    "pp.single_plots(centering_versions_lowz[2])\n",
    "pp.single_plots(centering_versions_lowz[4])\n",
    "pp.single_plots(centering_versions_lowz[6])\n"
   ]
  },
  {
   "cell_type": "code",
   "execution_count": null,
   "metadata": {},
   "outputs": [],
   "source": [
    "#fig = pp.make_map(bgs_sv3_simple_4_10p.all_data.RA.to_numpy(), bgs_sv3_simple_4_10p.all_data.Dec.to_numpy())\n",
    "\n",
    "#for i, gc in enumerate(centering_versions):\n",
    "#    fig = pp.make_map(gc.all_data.RA.to_numpy(), gc.all_data.Dec.to_numpy(), fig=fig)\n",
    "\n",
    "#plot_positions(bgs_sv3_simple_4_10p, *centering_versions, tiles_df=None, split=False, DEG_LONG=7, ra_min = 186.5, dec_min = 60)\n",
    "# BUG pass in all_data, not the GroupCatalog object\n",
    "plot_positions(bgs_sv3_simple_4_10p.all_data, *centering_versions, tiles_df=None, split=False, DEG_LONG=6, ra_min = 147, dec_min = -1)"
   ]
  },
  {
   "cell_type": "markdown",
   "metadata": {},
   "source": [
    "## Lost Galaxy Luminosity Function"
   ]
  },
  {
   "cell_type": "code",
   "execution_count": null,
   "metadata": {},
   "outputs": [],
   "source": [
    "bgs_sv3_simple_4_9p.get_true_z_from(bgs_sv3_simple_4_10p.all_data)\n",
    "bgs_sv3_simple_4_8p.get_true_z_from(bgs_sv3_simple_4_10p.all_data)\n",
    "bgs_sv3_simple_4_7p.get_true_z_from(bgs_sv3_simple_4_10p.all_data)\n",
    "bgs_sv3_simple_4_6p.get_true_z_from(bgs_sv3_simple_4_10p.all_data)\n",
    "bgs_sv3_simple_4_5p.get_true_z_from(bgs_sv3_simple_4_10p.all_data)\n",
    "bgs_sv3_simple_4_4p.get_true_z_from(bgs_sv3_simple_4_10p.all_data)\n",
    "bgs_sv3_simple_4_3p.get_true_z_from(bgs_sv3_simple_4_10p.all_data)\n",
    "bgs_sv3_simple_4_2p.get_true_z_from(bgs_sv3_simple_4_10p.all_data)\n",
    "bgs_sv3_simple_4_1p.get_true_z_from(bgs_sv3_simple_4_10p.all_data)\n",
    "bgs_sv3_nn_6p.get_true_z_from(bgs_sv3_simple_4_10p.all_data)"
   ]
  },
  {
   "cell_type": "code",
   "execution_count": null,
   "metadata": {},
   "outputs": [],
   "source": [
    "def compare_L_funcs(one: pd.DataFrame, two: pd.DataFrame):\n",
    "    one_counts = one.groupby('Lgal_bin').RA.count()\n",
    "    two_counts = two.groupby('Lgal_bin').RA.count()\n",
    "    pp.L_func_plot([one, two], [one_counts, two_counts])"
   ]
  },
  {
   "cell_type": "code",
   "execution_count": null,
   "metadata": {},
   "outputs": [],
   "source": [
    "data = bgs_sv3_nn_6p.all_data\n",
    "lostrows = data.z_assigned_flag != 0\n",
    "lost_and_havetruth_rows = np.logical_and(data.z_assigned_flag != 0, data.z_T > 0)\n",
    "lost_galaxies = data.loc[lostrows]\n",
    "lost_withT_galaxies = data.loc[lost_and_havetruth_rows]\n",
    "obs_galaxies = data.loc[~lostrows]\n",
    "#.loc[obs_galaxies.z_truth > 0]\n",
    "\n",
    "assert np.isclose(obs_galaxies.z, obs_galaxies.z_T).all()\n",
    "assert np.isclose(obs_galaxies.L_gal, obs_galaxies.L_gal_T).all()\n",
    "\n",
    "bins = np.log10(gc.L_gal_bins)\n",
    "\n",
    "obs_counts = obs_galaxies.groupby(\"Lgal_bin\").RA.count()\n",
    "lost_assumed_counts_with_all = lost_galaxies.groupby(\"Lgal_bin\").RA.count()\n",
    "lost_assumed_counts = lost_withT_galaxies.groupby(\"Lgal_bin\").RA.count()\n",
    "lost_truth_counts = lost_withT_galaxies.groupby(\"Lgal_bin_T\").RA.count()\n",
    "\n",
    "print(\"Before Correction\")\n",
    "print(obs_counts.sum())\n",
    "print(lost_assumed_counts_with_all.sum())\n",
    "print(lost_assumed_counts.sum())\n",
    "print(lost_truth_counts.sum())\n",
    "\n",
    "# Boost them all up to the counts of obs_counts for more even comparison\n",
    "lost_assumed_counts_with_all = (lost_assumed_counts_with_all * len(obs_galaxies) / len(lost_galaxies)).astype(int)\n",
    "lost_assumed_counts = (lost_assumed_counts * len(obs_galaxies) / len(lost_withT_galaxies)).astype(int)\n",
    "lost_truth_counts = (lost_truth_counts * len(obs_galaxies) / len(lost_withT_galaxies)).astype(int)\n",
    "\n",
    "print(\"After Correction\")\n",
    "print(obs_counts.sum())\n",
    "print(lost_assumed_counts_with_all.sum())\n",
    "print(lost_assumed_counts.sum())\n",
    "print(lost_truth_counts.sum())\n",
    "\n",
    "percent_diff_with_obs = ((obs_counts - lost_assumed_counts_with_all) / lost_assumed_counts_with_all) * 100\n",
    "\n",
    "percent_diff_with_all = ((lost_assumed_counts- lost_assumed_counts_with_all) / lost_assumed_counts_with_all) * 100\n",
    "\n",
    "percent_diff = ((lost_assumed_counts - lost_truth_counts) / lost_truth_counts) * 100\n",
    "\n"
   ]
  },
  {
   "cell_type": "markdown",
   "metadata": {},
   "source": [
    "Take a cut of SV3 whose completeness is similar to Y1 BGS.\n",
    "\n",
    "Question: is the luminosity function of lost galaxies (that were later observed) is different from the luminosity function observed galaxies?\n"
   ]
  },
  {
   "cell_type": "code",
   "execution_count": null,
   "metadata": {},
   "outputs": [],
   "source": [
    "plt.figure()\n",
    "j=plt.hist(np.log10(obs_galaxies['L_gal']), bins=bins, density=True, histtype='step', color='b', label='Obs galaxies')\n",
    "#j=plt.hist(np.log10(obs_galaxies['L_gal_T']), bins=bins, density=True, histtype='step', label='Obs galaxies (True)')\n",
    "#j=plt.hist(np.log10(lost_galaxies['L_gal']), bins=bins, density=True, histtype='step', label='Lost galaxies')\n",
    "#j=plt.hist(np.log10(lost_withT_galaxies['L_gal']), bins=bins, density=True, histtype='step', label='Lost gals w/ Truth')\n",
    "j=plt.hist(np.log10(lost_withT_galaxies['L_gal_T']), bins=bins, density=True, histtype='step', color='g', label='Lost gals w/ Truth (True)')\n",
    "plt.legend()\n",
    "plt.title(\"Do Obs and Lost Gals Have Different Luminosity Funcs?\")\n",
    "plt.xlabel('$log(L_{gal})$')\n",
    "plt.draw()\n",
    "\n",
    "plt.figure()\n",
    "obs_vs_losttruth = ((obs_counts - lost_truth_counts) / lost_truth_counts) * 100\n",
    "plt.plot(obs_vs_losttruth.index, obs_vs_losttruth.values, label=\"Observed => Lost Truth\")\n",
    "plt.title(\"Do Obs and Lost Gals Have Different Luminosity Funcs?\")\n",
    "plt.xlabel(\"$L_{gal}$ bin\")\n",
    "plt.ylabel(\"% Change in counts\")\n",
    "plt.xscale('log')\n",
    "plt.xlim(1E8, 1E11)\n",
    "plt.ylim(-25, 25)\n",
    "plt.legend()\n",
    "plt.axhline(0, color='black', lw=1)\n",
    "plt.draw()"
   ]
  },
  {
   "cell_type": "markdown",
   "metadata": {},
   "source": [
    "They seem similar; perhaps a mild slant. Overall it seems that trying to match the observed luminosity function with the lost ones is ok.\n"
   ]
  },
  {
   "cell_type": "code",
   "execution_count": null,
   "metadata": {},
   "outputs": [],
   "source": [
    "# This compares lost galaxies vs lost galaxies with truth, but using the assumed redshifts for all them. \n",
    "\"\"\"\n",
    "plt.figure()\n",
    "plt.plot(percent_diff_with_all.index, percent_diff_with_all.values, color='orange', label=\"All Lost => Lost w/ Truth\")\n",
    "plt.title(\"But...\")\n",
    "plt.xlabel(\"$L_{gal}$ bin\")\n",
    "plt.ylabel(\"% Change in counts\")\n",
    "plt.xscale('log')\n",
    "plt.xlim(1E8, 1E11)\n",
    "plt.ylim(-25, 25)\n",
    "plt.legend()\n",
    "plt.axhline(0, color='black', lw=1)\n",
    "plt.draw()\n",
    "\"\"\""
   ]
  },
  {
   "cell_type": "markdown",
   "metadata": {},
   "source": [
    "Now for lost galaxies in 6pass that we have later got redshifts for.\n",
    "\n",
    "Question: What did our processing do to the luminosity function for lost galaxies?"
   ]
  },
  {
   "cell_type": "code",
   "execution_count": null,
   "metadata": {},
   "outputs": [],
   "source": [
    "plt.figure()\n",
    "j=plt.hist(np.log10(lost_withT_galaxies['L_gal']), bins=bins, histtype='step', color='orange', label='Lost gals w/ Truth (Assumed)')\n",
    "j=plt.hist(np.log10(lost_withT_galaxies['L_gal_T']), bins=bins, histtype='step', color='g', label='Lost gals w/ Truth (True)')\n",
    "plt.legend()\n",
    "plt.title(\"Luminosity function\")\n",
    "plt.xlabel('$log(L_{gal})$')\n",
    "plt.draw()\n",
    "\n",
    "plt.figure()\n",
    "plt.plot(percent_diff.index, percent_diff.values, color='orange', label=\"Truth => Assumed\")\n",
    "plt.title(\"Effect on Luminosity Function of Lost Gals\")\n",
    "plt.xlabel(\"$L_{gal}$ bin\")\n",
    "plt.ylabel(\"% Change in counts\")\n",
    "plt.xscale('log')\n",
    "plt.xlim(1E8, 1E11)\n",
    "plt.ylim(-60, 60)\n",
    "plt.legend()\n",
    "plt.axhline(0, color='black', lw=1)\n",
    "plt.draw()"
   ]
  },
  {
   "cell_type": "markdown",
   "metadata": {},
   "source": [
    "Our processing squeezes the luminosity function. We move galaxies from the wings towards the middle."
   ]
  },
  {
   "cell_type": "markdown",
   "metadata": {},
   "source": [
    "## Galaxy Neighborhood Examiner"
   ]
  },
  {
   "cell_type": "code",
   "execution_count": null,
   "metadata": {},
   "outputs": [],
   "source": [
    "add_halo_columns(bgs_sv3_simple_4_7p)\n",
    "data = bgs_sv3_simple_4_7p.all_data"
   ]
  },
  {
   "cell_type": "code",
   "execution_count": null,
   "metadata": {},
   "outputs": [],
   "source": [
    "lost_galaxies = data.loc[data['z_assigned_flag'] != 0]\n",
    "#lost_galaxies_2 = nn.all_data.loc[nn.all_data['fiber_assigned_0'] == 0]\n",
    "obs_galaxies = data.loc[data['z_assigned_flag'] == 0]\n",
    "#obs_galaxies_2 = nn.all_data.loc[nn.all_data['fiber_assigned_0'] == 1]\n",
    "print(\"Lost galaxies: \", len(lost_galaxies), \"Observed Galaxies: \", len(obs_galaxies))"
   ]
  },
  {
   "cell_type": "code",
   "execution_count": null,
   "metadata": {},
   "outputs": [],
   "source": [
    "#%matplotlib qt "
   ]
  },
  {
   "cell_type": "code",
   "execution_count": null,
   "metadata": {},
   "outputs": [],
   "source": [
    "np.log10(gc.Mhalo_bins[16])"
   ]
  },
  {
   "cell_type": "code",
   "execution_count": null,
   "metadata": {},
   "outputs": [],
   "source": [
    "obs_galaxies[np.logical_and(np.isclose(obs_galaxies['Mh_bin'], gc.Mhalo_bins[16]), close_enough(0.03, obs_galaxies['z']))]"
   ]
  },
  {
   "cell_type": "markdown",
   "metadata": {},
   "source": []
  },
  {
   "cell_type": "code",
   "execution_count": null,
   "metadata": {},
   "outputs": [],
   "source": [
    "PLOTS_TO_MAKE = 10\n",
    "GALAXY_POOL = obs_galaxies\n",
    "\n",
    "#START_INDEX = 777\n",
    "#for i in range(START_INDEX, START_INDEX + PLOTS_TO_MAKE):\n",
    "#    index = lost_galaxies.index[i]\n",
    "#    examine_around(index)\n",
    "print(\"Number of galaxies to choose from: \", len(GALAXY_POOL))\n",
    "indexes = np.random.randint(0, len(GALAXY_POOL)-1, size=PLOTS_TO_MAKE)\n",
    "for i in indexes:\n",
    "    target = GALAXY_POOL.iloc[i]\n",
    "    pp.examine_around(target, data)"
   ]
  },
  {
   "cell_type": "markdown",
   "metadata": {},
   "source": [
    "### Idea: analyze entire neighborhood and look for groups of similar z galaxies, choose a z from the biggest group"
   ]
  },
  {
   "cell_type": "code",
   "execution_count": null,
   "metadata": {},
   "outputs": [],
   "source": [
    "def neighbor_exam(target):\n",
    "    nearby_angle = coord.Angle('5m')\n",
    "    z_eff = target.z\n",
    "    target_dist_true = z_to_ldist(target.z_obs)\n",
    "\n",
    "    ra_max = (coord.Angle(target.RA*u.degree) + nearby_angle).value\n",
    "    ra_min = (coord.Angle(target.RA*u.degree) - nearby_angle).value\n",
    "    dec_max = (coord.Angle(target.Dec*u.degree) + nearby_angle).value\n",
    "    dec_min = (coord.Angle(target.Dec*u.degree) - nearby_angle).value\n",
    "\n",
    "    nearby = obs_galaxies.query('RA < @ra_max and RA > @ra_min and Dec < @dec_max and Dec > @dec_min')\n",
    "\n",
    "    close_neighbors = 0\n",
    "    if len(nearby) > 0:\n",
    "        close_neighbors = np.isclose(nearby.ldist_true.to_numpy(), target_dist_true, rtol=0.0, atol=20)\n",
    "\n",
    "    return (np.sum(close_neighbors), len(nearby), np.sum(close_neighbors)/len(nearby))\n",
    "\n",
    "MAX = 300\n",
    "close = np.empty(MAX)\n",
    "total = np.empty(MAX)\n",
    "frac = np.empty(MAX)\n",
    "for i in range(0,MAX):\n",
    "    target = lost_galaxies.iloc[i]\n",
    "    close[i], total[i], frac[i] = neighbor_exam(target)"
   ]
  },
  {
   "cell_type": "code",
   "execution_count": null,
   "metadata": {},
   "outputs": [],
   "source": [
    "max_finished = 81408\n",
    "finished_close = close[0:max_finished]\n",
    "finished_total = total[0:max_finished]\n",
    "with open(OUTPUT_FOLDER + 'mxxl_lostgal_neighborhood_close.npy', 'wb') as f:\n",
    "    np.save(f, finished_close)\n",
    "with open(OUTPUT_FOLDER + 'mxxl_lostgal_neighborhood_total.npy', 'wb') as f:\n",
    "    np.save(f, finished_total)"
   ]
  },
  {
   "cell_type": "code",
   "execution_count": null,
   "metadata": {},
   "outputs": [],
   "source": [
    "with open(OUTPUT_FOLDER + 'mxxl_lostgal_neighborhood_close.npy', 'rb') as f:\n",
    "    close = np.load(f)\n",
    "\n",
    "with open(OUTPUT_FOLDER + 'mxxl_lostgal_neighborhood_total.npy', 'rb') as f:\n",
    "    total = np.load(f)\n",
    "\n",
    "frac = close / total"
   ]
  },
  {
   "cell_type": "code",
   "execution_count": null,
   "metadata": {},
   "outputs": [],
   "source": [
    "bins = np.linspace(0,30,31)\n",
    "trash = plt.hist(close, bins=bins)\n",
    "plt.title(\"Lost Galaxies Neighbors at ~Correct z\")\n",
    "plt.xlabel(\"Count of Similar z Neighbors\")\n",
    "plt.ylabel(\"Count of Lost Galaxies\")\n",
    "print(\"Hopeless Fraction: \", np.sum(close==0) / len(close))\n",
    "print(\"Essentially Hopeless Fraction: \", (np.sum(close==0) + np.sum(close==1)) / len(close))"
   ]
  },
  {
   "cell_type": "code",
   "execution_count": null,
   "metadata": {},
   "outputs": [],
   "source": [
    "viable = close > 1\n",
    "frac[viable]\n",
    "trash=plt.hist(frac[viable], bins=30)\n",
    "plt.title(\"Viable Lost Galaxies: Correct z Neighbor Fraction\")\n",
    "plt.xlabel(\"Fraction with Similar z\")\n",
    "plt.ylabel(\"Count of Viable Lost Galaxies\")"
   ]
  },
  {
   "cell_type": "markdown",
   "metadata": {},
   "source": []
  },
  {
   "cell_type": "markdown",
   "metadata": {},
   "source": [
    "# Tests"
   ]
  },
  {
   "cell_type": "code",
   "execution_count": null,
   "metadata": {},
   "outputs": [],
   "source": [
    "# How many halos were assigned below a certain cutoff?\n",
    "df = simple4_BGS.all_data\n",
    "M_HALL_CUT = 10**11\n",
    "small_halo_df = df[df.M_halo < M_HALL_CUT]\n",
    "\n",
    "print(len(small_halo_df), len(df))\n",
    "\n",
    "junk=plt.hist(small_halo_df.z, bins=100)\n"
   ]
  },
  {
   "cell_type": "code",
   "execution_count": null,
   "metadata": {},
   "outputs": [],
   "source": []
  }
 ],
 "metadata": {
  "kernelspec": {
   "display_name": "ian-conda311",
   "language": "python",
   "name": "python3"
  },
  "language_info": {
   "codemirror_mode": {
    "name": "ipython",
    "version": 3
   },
   "file_extension": ".py",
   "mimetype": "text/x-python",
   "name": "python",
   "nbconvert_exporter": "python",
   "pygments_lexer": "ipython3",
   "version": "3.11.9"
  }
 },
 "nbformat": 4,
 "nbformat_minor": 2
}
