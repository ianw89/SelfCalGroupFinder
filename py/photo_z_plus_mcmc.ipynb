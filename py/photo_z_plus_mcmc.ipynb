{
 "cells": [
  {
   "cell_type": "code",
   "execution_count": null,
   "metadata": {},
   "outputs": [],
   "source": [
    "import numpy as np\n",
    "import matplotlib.pyplot as plt\n",
    "import sys\n",
    "import emcee\n",
    "import corner\n",
    "\n",
    "if './SelfCalGroupFinder/py/' not in sys.path:\n",
    "    sys.path.append('./SelfCalGroupFinder/py/')\n",
    "from pyutils import *\n",
    "from dataloc import *\n",
    "import groupcatalog as gc\n",
    "\n",
    "%load_ext autoreload\n",
    "%autoreload 2"
   ]
  },
  {
   "cell_type": "markdown",
   "metadata": {},
   "source": [
    "# MCMC of photo-z-plus results\n",
    "\n",
    "These are the chains used to find parameters for the photo-z-plus technique of filling in missing redshifts (fiber incompleteness in BGS)."
   ]
  },
  {
   "cell_type": "code",
   "execution_count": null,
   "metadata": {},
   "outputs": [],
   "source": [
    "MCMC_FOLDER = OUTPUT_FOLDER + 'MCMC_PZP/'\n",
    "\n",
    "# Older versions with different metrics, parameters numbers, etc\n",
    "#backend = emcee.backends.HDFBackend(MCMC_FOLDER + \"mcmc17_1_4.h5\", read_only=True)\n",
    "#backend = emcee.backends.HDFBackend(MCMC_FOLDER + \"mcmc17b_1_5.h5\", read_only=True)\n",
    "#backend = emcee.backends.HDFBackend(MCMC_FOLDER + \"mcmc17_2_0.h5\", read_only=True)\n",
    "#backend = emcee.backends.HDFBackend(MCMC_FOLDER + \"mcmc13_2_1.h5\", read_only=True)\n",
    "#backend = emcee.backends.HDFBackend(MCMC_FOLDER + \"mcmc13_2_2.h5\", read_only=True)\n",
    "#backend = emcee.backends.HDFBackend(MCMC_FOLDER + \"mcmc13_1_6.h5\", read_only=True)\n",
    "#backend = emcee.backends.HDFBackend(MCMC_FOLDER + \"mcmc13_2_3.h5\", read_only=True)\n",
    "\n",
    "# These are the latest versions of parameters and metrics\n",
    "#backend = emcee.backends.HDFBackend(MCMC_FOLDER + \"mcmc13_m4_1_7.h5\", read_only=True)\n",
    "##backend = emcee.backends.HDFBackend(MCMC_FOLDER + \"mcmc13_m4_2_4.h5\", read_only=True)\n",
    "#backend = emcee.backends.HDFBackend(BASE_FOLDER + \"mcmc13_m4_3_1.h5\", read_only=True)\n",
    "\n",
    "backend = emcee.backends.HDFBackend(BASE_FOLDER + \"mcmc13_m4_2_6.h5\", read_only=True)\n",
    "\n",
    "\n",
    "print(backend.shape)\n",
    "\n",
    "sampler = emcee.EnsembleSampler(backend.shape[0], backend.shape[1], gc.log_probability, backend=backend)\n",
    "samples = sampler.get_chain(flat=True)\n",
    "print(f\"Flat iterations run {len(samples)}\")\n",
    "\n",
    "# Get the log probabilities and sort them to find the top N parameter sets\n",
    "log_prob = sampler.get_log_prob(flat=True)\n",
    "top_N = 5  # Number of top parameter sets to display\n",
    "top_indices = np.argsort(log_prob)[::-1]  # Sort in descending order\n",
    "\n",
    "selected_indices = []\n",
    "for idx in top_indices:\n",
    "    params = samples[idx]\n",
    "    if all(not np.all(np.isclose(params, samples[prev_idx], rtol=0.5)) for prev_idx in selected_indices):\n",
    "        selected_indices.append(idx)\n",
    "        if len(selected_indices) >= top_N:\n",
    "            break\n",
    "\n",
    "with np.printoptions(precision=4, suppress=True, linewidth=200):\n",
    "    for i, idx in enumerate(selected_indices):\n",
    "        params = samples[idx]\n",
    "        print(f\"Rank {i+1}:\")\n",
    "        print(f\"Parameters: [{int(params[0])}, {np.array2string(params[1:4], separator=', ')} {np.array2string(params[4:7], separator=', ')} {np.array2string(params[7:10], separator=', ')}, {np.array2string(params[10:13], separator=', ')}]\")\n",
    "        print(f\"SCORE: {log_prob[idx]:.4f}\")\n",
    "        print()\n"
   ]
  },
  {
   "cell_type": "code",
   "execution_count": null,
   "metadata": {},
   "outputs": [],
   "source": [
    "try:\n",
    "    tau = sampler.get_autocorr_time()\n",
    "    print(tau)\n",
    "except:\n",
    "    print(\"Not burnt in yet\")\n",
    "\n",
    "flatchain = sampler.get_chain(discard=500, thin=3, flat=True)\n",
    "print(np.shape(flatchain))\n",
    "fig = corner.corner(flatchain)"
   ]
  },
  {
   "cell_type": "code",
   "execution_count": null,
   "metadata": {},
   "outputs": [],
   "source": [
    "# print the distribution of scores\n",
    "plt.hist(log_prob, bins=np.linspace(.35, .6, 100))\n",
    "plt.yscale('log')"
   ]
  },
  {
   "cell_type": "code",
   "execution_count": null,
   "metadata": {},
   "outputs": [],
   "source": [
    "c = sampler.get_chain(discard=0)\n",
    "print(np.shape(c))\n",
    "\n",
    "for i in range(c.shape[2]):\n",
    "    plt.figure()\n",
    "    plt.plot(c[:,:,i])\n",
    "    plt.show()\n"
   ]
  },
  {
   "cell_type": "code",
   "execution_count": null,
   "metadata": {},
   "outputs": [],
   "source": []
  }
 ],
 "metadata": {
  "kernelspec": {
   "display_name": "gf",
   "language": "python",
   "name": "python3"
  },
  "language_info": {
   "codemirror_mode": {
    "name": "ipython",
    "version": 3
   },
   "file_extension": ".py",
   "mimetype": "text/x-python",
   "name": "python",
   "nbconvert_exporter": "python",
   "pygments_lexer": "ipython3",
   "version": "3.11.9"
  }
 },
 "nbformat": 4,
 "nbformat_minor": 2
}
