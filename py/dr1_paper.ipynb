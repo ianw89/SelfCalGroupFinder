{
 "cells": [
  {
   "cell_type": "code",
   "execution_count": null,
   "id": "c5617087",
   "metadata": {},
   "outputs": [],
   "source": [
    "import numpy as np\n",
    "import pandas as pd\n",
    "import matplotlib.pyplot as plt\n",
    "import astropy.coordinates as coord\n",
    "import astropy.units as u\n",
    "import sys\n",
    "from astropy.table import Table\n",
    "\n",
    "if './SelfCalGroupFinder/py/' not in sys.path:\n",
    "    sys.path.append('./SelfCalGroupFinder/py/')\n",
    "from pyutils import *\n",
    "import plotting as pp\n",
    "from dataloc import *\n",
    "from bgs_helpers import *\n",
    "import catalog_definitions as cat\n",
    "from groupcatalog import *\n",
    "\n",
    "%load_ext autoreload\n",
    "%autoreload 2\n",
    "%matplotlib inline\n",
    "\n",
    "# Make plots high definition\n",
    "plt.rcParams['figure.dpi'] = pp.DPI_PAPER\n",
    "\n",
    "def savefig(filename, **kwargs):\n",
    "    \"\"\"Save the current figure as a PNG file and close it.\"\"\"\n",
    "    path = os.path.join(PAPER_PLOT_FOLDER, f'{filename}.png')\n",
    "    plt.savefig(path, bbox_inches='tight', **kwargs)"
   ]
  },
  {
   "cell_type": "code",
   "execution_count": null,
   "id": "9b65eeb1",
   "metadata": {},
   "outputs": [],
   "source": [
    "gc = deserialize(cat.bgs_y1_pzp_2_4_c2)\n",
    "df = gc.all_data\n",
    "gc.sanity_tests()"
   ]
  },
  {
   "cell_type": "code",
   "execution_count": null,
   "id": "81d3127c",
   "metadata": {},
   "outputs": [],
   "source": [
    "gc.bootstrap_statistics()"
   ]
  },
  {
   "cell_type": "code",
   "execution_count": null,
   "id": "b6298143",
   "metadata": {},
   "outputs": [],
   "source": [
    "gc.dump()"
   ]
  },
  {
   "cell_type": "code",
   "execution_count": null,
   "id": "41b11960",
   "metadata": {},
   "outputs": [],
   "source": [
    "gc.basic_stats()"
   ]
  },
  {
   "cell_type": "code",
   "execution_count": null,
   "id": "30685d01",
   "metadata": {},
   "outputs": [],
   "source": [
    "pp.proj_clustering_plot(gc)\n",
    "savefig('wp fit y1')\n",
    "plt.show()"
   ]
  },
  {
   "cell_type": "code",
   "execution_count": null,
   "id": "005831ef",
   "metadata": {},
   "outputs": [],
   "source": [
    "pp.lsat_data_compare_werr_plot(gc)\n",
    "savefig('lsatratio fit y1')\n",
    "plt.show()"
   ]
  },
  {
   "cell_type": "code",
   "execution_count": null,
   "id": "2de7eb7c",
   "metadata": {},
   "outputs": [],
   "source": [
    "pp.LHMR_savederr(gc, add_bootstrapped_err=True)  \n",
    "savefig('lhmr y1')   \n",
    "plt.show() "
   ]
  },
  {
   "cell_type": "code",
   "execution_count": null,
   "id": "ad0bc604",
   "metadata": {},
   "outputs": [],
   "source": [
    "pp.LHMR_scatter_savederr(gc)\n",
    "savefig('lhmr scatter y1') \n",
    "plt.show()"
   ]
  },
  {
   "cell_type": "code",
   "execution_count": null,
   "id": "70549e47",
   "metadata": {},
   "outputs": [],
   "source": [
    "pp.SHMR_savederr(gc, add_bootstrapped_err=True)  \n",
    "savefig('shmr y1')   \n",
    "plt.show()"
   ]
  },
  {
   "cell_type": "code",
   "execution_count": null,
   "id": "a6acd517",
   "metadata": {},
   "outputs": [],
   "source": [
    "pp.SHMR_scatter_savederr(gc, add_bootstrapped_err=True)  \n",
    "savefig('shmr scatter y1') \n",
    "plt.show()"
   ]
  },
  {
   "cell_type": "code",
   "execution_count": null,
   "id": "0507a8be",
   "metadata": {},
   "outputs": [],
   "source": [
    "pp.fsat_with_err_from_saved(gc, add_boostrapped_err=True)\n",
    "savefig('fsat y1')\n",
    "plt.show()"
   ]
  },
  {
   "cell_type": "code",
   "execution_count": null,
   "id": "ecc6ad5f",
   "metadata": {},
   "outputs": [],
   "source": [
    "pp.hod_plot(gc, pretty=True)\n",
    "savefig('hod y1')\n",
    "plt.show()"
   ]
  },
  {
   "cell_type": "markdown",
   "id": "a5114737",
   "metadata": {},
   "source": [
    "## Error Analysis"
   ]
  },
  {
   "cell_type": "code",
   "execution_count": null,
   "id": "1112f5f4",
   "metadata": {},
   "outputs": [],
   "source": [
    "# fsat - Compare bootstrapped statistical error to saved systematic error\n",
    "q_stat_sys_ratio = gc.fsat_q_bootstrap_err / pp.fsat_variance_from_saved()[1]\n",
    "sf_stat_sys_ratio = gc.fsat_sf_bootstrap_err / pp.fsat_variance_from_saved()[2]\n",
    "plt.figure()\n",
    "plt.plot(LogLgal_labels, q_stat_sys_ratio, 'r.-', label='Quiescent')\n",
    "plt.plot(LogLgal_labels, sf_stat_sys_ratio, 'b.-', label='Star-forming')\n",
    "plt.yscale('log')\n",
    "plt.hlines(1, *plt.xlim(), color='k', linestyle='--')\n",
    "plt.xlabel('log$(L_{\\mathrm{gal}}~/~[L_{\\odot}~/h^2])$')\n",
    "plt.ylabel('Bootstrap Error / Systematic Error')\n",
    "plt.title('Bootstrap vs Systematic Error')\n",
    "plt.twiny()\n",
    "plt.xlim(log_solar_L_to_abs_mag_r(LogLgal_labels[0]), log_solar_L_to_abs_mag_r(LogLgal_labels[-1]))\n",
    "plt.xticks(np.arange(-25, -12, 2))\n",
    "plt.xlabel(\"$M_r$ - 5log(h)\")\n",
    "plt.legend()\n",
    "plt.show()"
   ]
  },
  {
   "cell_type": "code",
   "execution_count": null,
   "id": "4c7bf311",
   "metadata": {},
   "outputs": [],
   "source": [
    "# LHMR - Compare bootstrapped statistical error to saved systematic error\n",
    "q_stat_sys_ratio = gc.lhmr_q_bootstrap_err / pp.lhmr_variance_from_saved()[1]\n",
    "sf_stat_sys_ratio = gc.lhmr_sf_bootstrap_err / pp.lhmr_variance_from_saved()[5]\n",
    "plt.figure()\n",
    "plt.plot(np.log10(Mhalo_labels), q_stat_sys_ratio, 'r.-', label='Quiescent')\n",
    "plt.plot(np.log10(Mhalo_labels), sf_stat_sys_ratio, 'b.-', label='Star-forming')\n",
    "plt.yscale('log')\n",
    "plt.hlines(1, *plt.xlim(), color='k', linestyle='--')\n",
    "plt.xlabel('log$(M_h~/~[M_\\\\odot /h]$)')\n",
    "plt.ylabel('Bootstrap / Systematic')\n",
    "plt.title('LHMR Bootstrap vs Systematic Error')\n",
    "plt.legend()\n",
    "plt.show()\n",
    "\n",
    "# TODO BUG? This lhmr_sf_bootstrap_err jumps up and down crazily for Mhalo ~ 10^12 to 10^13. Why?"
   ]
  },
  {
   "cell_type": "code",
   "execution_count": null,
   "id": "0ca1eb8f",
   "metadata": {},
   "outputs": [],
   "source": [
    "plt.plot(np.log10(Mhalo_labels), gc.lhmr_sf_bootstrap_err, 'b-', label='Star-forming Bootstrap')\n",
    "plt.plot(np.log10(Mhalo_labels), pp.lhmr_variance_from_saved()[5], 'b--', label='Star-forming Systematic')\n",
    "plt.plot(np.log10(Mhalo_labels), gc.lhmr_q_bootstrap_err, 'r-', label='Quiescent Bootstrap')\n",
    "plt.plot(np.log10(Mhalo_labels), pp.lhmr_variance_from_saved()[1], 'r--', label='Quiescent Systematic')\n",
    "plt.yscale('log')\n",
    "plt.xlabel('log$(M_h~/~[M_\\\\odot /h]$)')\n",
    "plt.ylabel('Error')\n",
    "plt.title('LHMR Bootstrap vs Systematic Error')\n",
    "plt.legend()\n",
    "plt.show()"
   ]
  },
  {
   "cell_type": "code",
   "execution_count": null,
   "id": "e809b80d",
   "metadata": {},
   "outputs": [],
   "source": [
    "# LHMR - Compare bootstrapped statistical error to saved systematic error\n",
    "q_stat_sys_ratio = gc.lhmr_q_scatter_bootstrap_err / pp.lhmr_variance_from_saved()[3]\n",
    "sf_stat_sys_ratio = gc.lhmr_sf_scatter_bootstrap_err / pp.lhmr_variance_from_saved()[7]\n",
    "plt.figure()\n",
    "plt.plot(np.log10(Mhalo_labels), q_stat_sys_ratio, 'r.-', label='Quiescent')\n",
    "plt.plot(np.log10(Mhalo_labels), sf_stat_sys_ratio, 'b.-', label='Star-forming')\n",
    "plt.yscale('log')\n",
    "plt.hlines(1, *plt.xlim(), color='k', linestyle='--')\n",
    "plt.xlabel('log$(M_h~/~[M_\\\\odot /h]$)')\n",
    "plt.ylabel('Bootstrap / Systematic')\n",
    "plt.title('LHMR Scatter Bootstrap vs Sys Error')\n",
    "plt.legend()\n",
    "plt.show()\n",
    "\n",
    "# TODO BUG? This lhmr_sf_bootstrap_err jumps up and down crazily for Mhalo ~ 10^12 to 10^13. Why?"
   ]
  },
  {
   "cell_type": "code",
   "execution_count": null,
   "id": "2f2d2144",
   "metadata": {},
   "outputs": [],
   "source": [
    "plt.figure()\n",
    "plt.plot(np.log10(Mhalo_labels), gc.lhmr_sf_scatter_bootstrap_err, 'b-', label='SF Bootstrap')\n",
    "plt.plot(np.log10(Mhalo_labels), pp.lhmr_variance_from_saved()[7], 'b--', label='SF Systematic')\n",
    "plt.plot(np.log10(Mhalo_labels), gc.lhmr_q_scatter_bootstrap_err, 'r-', label='Q Bootstrap')\n",
    "plt.plot(np.log10(Mhalo_labels), pp.lhmr_variance_from_saved()[3], 'r--', label='Q Systematic')\n",
    "plt.yscale('log')\n",
    "plt.xlabel('log$(M_h~/~[M_\\\\odot /h]$)')\n",
    "plt.ylabel('Error')\n",
    "plt.title('LHMR Scatter Bootstrap vs Sys Err')\n",
    "plt.ylim(1e-3, 1)\n",
    "plt.legend()\n",
    "plt.show()"
   ]
  },
  {
   "cell_type": "code",
   "execution_count": null,
   "id": "7f9a4f4b",
   "metadata": {},
   "outputs": [],
   "source": []
  }
 ],
 "metadata": {
  "kernelspec": {
   "display_name": "gf",
   "language": "python",
   "name": "python3"
  },
  "language_info": {
   "codemirror_mode": {
    "name": "ipython",
    "version": 3
   },
   "file_extension": ".py",
   "mimetype": "text/x-python",
   "name": "python",
   "nbconvert_exporter": "python",
   "pygments_lexer": "ipython3",
   "version": "3.11.9"
  }
 },
 "nbformat": 4,
 "nbformat_minor": 5
}
