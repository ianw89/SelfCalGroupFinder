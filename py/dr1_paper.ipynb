{
 "cells": [
  {
   "cell_type": "code",
   "execution_count": null,
   "id": "c5617087",
   "metadata": {},
   "outputs": [],
   "source": [
    "import numpy as np\n",
    "import pandas as pd\n",
    "import matplotlib.pyplot as plt\n",
    "import astropy.coordinates as coord\n",
    "import astropy.units as u\n",
    "import sys\n",
    "from astropy.table import Table\n",
    "\n",
    "if './SelfCalGroupFinder/py/' not in sys.path:\n",
    "    sys.path.append('./SelfCalGroupFinder/py/')\n",
    "from pyutils import *\n",
    "import plotting as pp\n",
    "from dataloc import *\n",
    "from bgs_helpers import *\n",
    "import catalog_definitions as cat\n",
    "from groupcatalog import *\n",
    "import hod\n",
    "\n",
    "%load_ext autoreload\n",
    "%autoreload 2\n",
    "%matplotlib inline\n",
    "\n",
    "# Make plots high definition\n",
    "plt.rcParams['figure.dpi'] = pp.DPI_PAPER\n",
    "\n",
    "def savefig(filename, **kwargs):\n",
    "    \"\"\"Save the current figure as a PNG file and close it.\"\"\"\n",
    "    path = os.path.join(PAPER_PLOT_FOLDER, f'{filename}.png')\n",
    "    plt.savefig(path, bbox_inches='tight', **kwargs)"
   ]
  },
  {
   "cell_type": "code",
   "execution_count": null,
   "id": "9b65eeb1",
   "metadata": {},
   "outputs": [],
   "source": [
    "gc = deserialize(cat.bgs_y1_pzp_2_4_c2)\n",
    "df = gc.all_data\n",
    "gc.sanity_tests()"
   ]
  },
  {
   "cell_type": "markdown",
   "id": "94c9f806",
   "metadata": {},
   "source": [
    "## HOD Experiments"
   ]
  },
  {
   "cell_type": "code",
   "execution_count": null,
   "id": "19d0991c",
   "metadata": {},
   "outputs": [],
   "source": [
    "hods = tabulate_hod_by_luminosity(gc)\n",
    "hods_from_cpp = hod.HODTabulated.from_cpp(gc.hod, gc.caldata)"
   ]
  },
  {
   "cell_type": "code",
   "execution_count": null,
   "id": "37e12586",
   "metadata": {},
   "outputs": [],
   "source": [
    "#gc.fit_hod_bins_to_model_for_display()\n",
    "#gc.dump()"
   ]
  },
  {
   "cell_type": "code",
   "execution_count": null,
   "id": "3bb5794b",
   "metadata": {},
   "outputs": [],
   "source": [
    "pp.hod_bins_plot(gc, hods, model=False)\n",
    "plt.show()"
   ]
  },
  {
   "cell_type": "code",
   "execution_count": null,
   "id": "f54a2dcf",
   "metadata": {},
   "outputs": [],
   "source": [
    "pp.hod_bins_plot(gc, hods_from_cpp, model=False)\n",
    "plt.show()"
   ]
  },
  {
   "cell_type": "code",
   "execution_count": null,
   "id": "fa5b4c3e",
   "metadata": {},
   "outputs": [],
   "source": [
    "gc.fit_hod_thresholds_to_model_for_display()\n",
    "gc.dump()"
   ]
  },
  {
   "cell_type": "code",
   "execution_count": null,
   "id": "4c013957",
   "metadata": {},
   "outputs": [],
   "source": [
    "pp.hod_thresholds_plot(gc, 'r')\n",
    "savefig('hod thresh fit red y1')\n",
    "plt.show()"
   ]
  },
  {
   "cell_type": "code",
   "execution_count": null,
   "id": "148e65c6",
   "metadata": {},
   "outputs": [],
   "source": [
    "pp.hod_thresholds_plot(gc, 'b')\n",
    "savefig('hod thresh fit blue y1')\n",
    "plt.show()"
   ]
  },
  {
   "cell_type": "code",
   "execution_count": null,
   "id": "1180036d",
   "metadata": {},
   "outputs": [],
   "source": [
    "pp.hod_thresholds_plot(gc, 'k')\n",
    "savefig('hod thresh fit all y1')\n",
    "plt.show()"
   ]
  },
  {
   "cell_type": "code",
   "execution_count": null,
   "id": "f4002cbd",
   "metadata": {},
   "outputs": [],
   "source": [
    "all_match = True\n",
    "for lbin in np.arange(len(hods.mag_bin_centers)):\n",
    "    comparisons = {\n",
    "        \"Quiescent Centrals\": (hods.central_q[lbin, :], hods_from_cpp.central_q[lbin, :]),\n",
    "        \"Quiescent Satellites\": (hods.satellite_q[lbin, :], hods_from_cpp.satellite_q[lbin, :]),\n",
    "        \"Star-forming Centrals\": (hods.central_sf[lbin, :], hods_from_cpp.central_sf[lbin, :]),\n",
    "        \"Star-forming Satellites\": (hods.satellite_sf[lbin, :], hods_from_cpp.satellite_sf[lbin, :]),\n",
    "        \"All Centrals\": (hods.central_all[lbin, :], hods_from_cpp.central_all[lbin, :]),\n",
    "        \"All Satellites\": (hods.satellite_all[lbin, :], hods_from_cpp.satellite_all[lbin, :]),\n",
    "        \"Unweighted Halo Counts\": (hods.unweighted_counts[:, lbin], hods_from_cpp.unweighted_counts[:, lbin])\n",
    "    }\n",
    "\n",
    "    for name, (py_hod, cpp_hod) in comparisons.items():\n",
    "        if not np.allclose(py_hod, cpp_hod, equal_nan=True):\n",
    "            all_match = False\n",
    "            print(f\"\\n--- Mismatch found for {name} in lbin {lbin} ---\")\n",
    "            diff = py_hod - cpp_hod\n",
    "            # Create a DataFrame to show a clean comparison\n",
    "            comparison_df = pd.DataFrame({\n",
    "                'logM_bin': hods.logM_bin_centers,\n",
    "                'py_hod_log': py_hod,\n",
    "                'cpp_hod_log': cpp_hod,\n",
    "                'difference': diff\n",
    "            })\n",
    "            # Display only the rows where there is a non-zero difference\n",
    "            print(comparison_df[~np.isclose(diff, 0)])\n",
    "\n",
    "\n",
    "if all_match:\n",
    "    print(\"✅ HOD tabulation verification successful: Python function matches C++ output.\")\n"
   ]
  },
  {
   "cell_type": "markdown",
   "id": "d1d6a3fb",
   "metadata": {},
   "source": [
    "## Main Plots"
   ]
  },
  {
   "cell_type": "code",
   "execution_count": null,
   "id": "81d3127c",
   "metadata": {},
   "outputs": [],
   "source": [
    "gc.postprocess()\n",
    "gc.bootstrap_statistics()\n",
    "gc.dump()"
   ]
  },
  {
   "cell_type": "code",
   "execution_count": null,
   "id": "41b11960",
   "metadata": {},
   "outputs": [],
   "source": [
    "gc.basic_stats()"
   ]
  },
  {
   "cell_type": "code",
   "execution_count": null,
   "id": "30685d01",
   "metadata": {},
   "outputs": [],
   "source": [
    "pp.proj_clustering_plot(gc)\n",
    "savefig('wp fit y1')\n",
    "plt.show()"
   ]
  },
  {
   "cell_type": "code",
   "execution_count": null,
   "id": "005831ef",
   "metadata": {},
   "outputs": [],
   "source": [
    "pp.lsat_data_compare_werr_plot(gc)\n",
    "savefig('lsatratio fit y1')\n",
    "plt.show()"
   ]
  },
  {
   "cell_type": "code",
   "execution_count": null,
   "id": "f7c8a7ba",
   "metadata": {},
   "outputs": [],
   "source": [
    "cat.sdss_published.postprocess()\n",
    "sdss = cat.sdss_published\n",
    "#sdss=deserialize(cat.sdss_colors_chi_v2)\n",
    "#sdss.postprocess()\n",
    "#sdss.bootstrap_statistics()\n",
    "#sdss.dump()\n",
    "# SDSS LHMR Inset is not matching the SDSS paper for blue..."
   ]
  },
  {
   "cell_type": "code",
   "execution_count": null,
   "id": "2de7eb7c",
   "metadata": {},
   "outputs": [],
   "source": [
    "pp.LHMR_savederr(gc, inset=sdss)  \n",
    "savefig('lhmr y1')   \n",
    "plt.show() "
   ]
  },
  {
   "cell_type": "code",
   "execution_count": null,
   "id": "ad0bc604",
   "metadata": {},
   "outputs": [],
   "source": [
    "pp.LHMR_scatter_savederr(gc)\n",
    "savefig('lhmr scatter y1') \n",
    "plt.show()"
   ]
  },
  {
   "cell_type": "code",
   "execution_count": null,
   "id": "70549e47",
   "metadata": {},
   "outputs": [],
   "source": [
    "pp.SHMR_savederr(gc)  \n",
    "savefig('shmr y1')   \n",
    "plt.show()"
   ]
  },
  {
   "cell_type": "code",
   "execution_count": null,
   "id": "a6acd517",
   "metadata": {},
   "outputs": [],
   "source": [
    "pp.SHMR_scatter_savederr(gc)  \n",
    "savefig('shmr scatter y1') \n",
    "plt.show()"
   ]
  },
  {
   "cell_type": "code",
   "execution_count": null,
   "id": "0507a8be",
   "metadata": {},
   "outputs": [],
   "source": [
    "pp.fsat_with_err_from_saved(gc)\n",
    "savefig('fsat y1')\n",
    "plt.show()"
   ]
  },
  {
   "cell_type": "code",
   "execution_count": null,
   "id": "c2ffb16e",
   "metadata": {},
   "outputs": [],
   "source": [
    "pp.qf_cen_plot(gc, mstar=True)\n",
    "plt.show()"
   ]
  },
  {
   "cell_type": "code",
   "execution_count": null,
   "id": "ecc6ad5f",
   "metadata": {},
   "outputs": [],
   "source": [
    "hods_from_cpp = hod.HODTabulated.from_cpp(gc.hod, gc.caldata) # TODO if this is all set, can save it off (and maybe replace the .hod property)\n",
    "pp.hod_bins_plot(gc, hods_from_cpp)\n",
    "savefig('hod y1')\n",
    "plt.show()"
   ]
  },
  {
   "cell_type": "code",
   "execution_count": null,
   "id": "d1eb1ae3",
   "metadata": {},
   "outputs": [],
   "source": [
    "fig1, fig2 = pp.hod_bins_plot(gc, hods_from_cpp, model=True, seperate=True)\n",
    "plt.figure(fig1.number)\n",
    "savefig('hod red fit y1')\n",
    "plt.figure(fig2.number)\n",
    "savefig('hod blue fit y1')\n",
    "plt.show()"
   ]
  },
  {
   "cell_type": "code",
   "execution_count": null,
   "id": "1ec17a09",
   "metadata": {},
   "outputs": [],
   "source": [
    "# Prep for Fiber Incompleteness Appendix Plots\n",
    "sets = [deserialize(cat.bgs_y3_like_sv3_nn), deserialize(cat.bgs_y3_like_sv3_pz_2_0), deserialize(cat.bgs_y3_like_sv3_pz_2_4)]\n",
    "truth_catalog = deserialize(cat.bgs_sv3_pz_2_4_10p) \n",
    "for s in sets:\n",
    "    print(s.name)\n",
    "    s.get_true_z_from(truth_catalog.all_data)\n",
    "    s.refresh_df_views()\n",
    "sets[0].name = 'Nearest Neighbor'\n",
    "sets[1].name = 'Photo-z'\n",
    "sets[2].name = 'New Technique'"
   ]
  },
  {
   "cell_type": "code",
   "execution_count": null,
   "id": "2a1bfd7d",
   "metadata": {},
   "outputs": [],
   "source": [
    "pp.test_purity_and_completeness(*sets, truth_catalog=truth_catalog, lost_only=False)\n",
    "pp.purity_complete_plots(*sets, ymin=0.0)\n",
    "savefig('purity_completeness_y1') \n",
    "plt.show()"
   ]
  },
  {
   "cell_type": "code",
   "execution_count": null,
   "id": "31d4900d",
   "metadata": {},
   "outputs": [],
   "source": [
    "pp.lostgal_lum_func_paper_compare(*sets)\n",
    "savefig('lost gal lum func')\n",
    "plt.show()"
   ]
  },
  {
   "cell_type": "markdown",
   "id": "aed7c34b",
   "metadata": {},
   "source": [
    "## Outliers"
   ]
  },
  {
   "cell_type": "code",
   "execution_count": null,
   "id": "8ad03ba8",
   "metadata": {},
   "outputs": [],
   "source": [
    "# Find blue galaxies (QUIESCENT == False)\n",
    "blue_galaxies = df[~df['QUIESCENT']].copy()\n",
    "blue_galaxies['LOG_LGAL'] = np.log10(blue_galaxies['L_GAL'])\n",
    "\n",
    "# For each Mh_bin, look for outliers in LOG_LGAL and LOGMSTAR using the IQR method (3×IQR)\n",
    "outliers = []\n",
    "for mh_bin in blue_galaxies['Mh_bin'].cat.categories:\n",
    "    group = blue_galaxies[blue_galaxies['Mh_bin'] == mh_bin]\n",
    "    if len(group) == 0:\n",
    "        continue\n",
    "\n",
    "    # Outliers in LOG_LGAL\n",
    "    q1, q3 = np.percentile(group['LOG_LGAL'], [1, 99])\n",
    "    iqr = q3 - q1\n",
    "    lgal_out = group[(group['LOG_LGAL'] < q1 - 2 * iqr) | (group['LOG_LGAL'] > q3 + 2 * iqr)]\n",
    "\n",
    "    # Outliers in LOGMSTAR (already in log space)\n",
    "    q1_m, q3_m = np.percentile(group['LOGMSTAR'], [1, 99])\n",
    "    iqr_m = q3_m - q1_m\n",
    "    mstar_out = group[(group['LOGMSTAR'] < q1_m - 2 * iqr_m) | (group['LOGMSTAR'] > q3_m + 2 * iqr_m)]\n",
    "\n",
    "    if not lgal_out.empty:\n",
    "        outliers.append({\n",
    "            'Mh_bin': mh_bin,\n",
    "            'count': len(group),\n",
    "            'LOG_LGAL_outliers': lgal_out,\n",
    "            'LOGMSTAR_outliers': mstar_out\n",
    "        })\n",
    "\n",
    "# Example: print number of outliers per Mh_bin\n",
    "for o in outliers:\n",
    "    print(f\"Mh_bin: {o['Mh_bin']:.1e}, Count: {o['count']} LOG_LGAL outliers: {len(o['LOG_LGAL_outliers'])}, LOGMSTAR outliers: {len(o['LOGMSTAR_outliers'])}\")"
   ]
  },
  {
   "cell_type": "markdown",
   "id": "a5114737",
   "metadata": {},
   "source": [
    "## Error Analysis"
   ]
  },
  {
   "cell_type": "code",
   "execution_count": null,
   "id": "b93e6f9d",
   "metadata": {},
   "outputs": [],
   "source": [
    "# Let's compare the std to the middle 68% confidence interval\n",
    "fsat_arr, fsatr_arr, fsatb_arr = np.load(FSAT_VALUES_FROM_LOGS)\n",
    "fsatr_std = np.std(fsatr_arr, axis=0)\n",
    "fsatb_std = np.std(fsatb_arr, axis=0)\n",
    "fsatr_ci_low = np.percentile(fsatr_arr, 16, axis=0)\n",
    "fsatr_ci_high = np.percentile(fsatr_arr, 84, axis=0)\n",
    "fsatb_ci_low = np.percentile(fsatb_arr, 16, axis=0)\n",
    "fsatb_ci_high = np.percentile(fsatb_arr, 84, axis=0)\n",
    "\n",
    "plt.figure(figsize=(8,6))\n",
    "plt.plot(L_gal_labels, fsatr_std, label='Q Std', color='red', marker='o')\n",
    "plt.plot(L_gal_labels, fsatb_std, label='SF Std', color='blue', marker='o')\n",
    "plt.plot(L_gal_labels, (fsatr_ci_high - fsatr_ci_low)/2, label='Q 68% CI', color='orange', marker='x')\n",
    "plt.plot(L_gal_labels, (fsatb_ci_high - fsatb_ci_low)/2, label='SF 68% CI', color='cyan', marker='x')\n",
    "plt.xscale('log')\n",
    "plt.yscale('log')\n",
    "plt.ylabel('fsat')\n",
    "plt.legend()\n",
    "plt.grid(True)\n",
    "plt.show()"
   ]
  },
  {
   "cell_type": "code",
   "execution_count": null,
   "id": "1112f5f4",
   "metadata": {},
   "outputs": [],
   "source": [
    "# fsat - Compare bootstrapped statistical error to saved systematic error\n",
    "q_stat_sys_ratio = gc.fsat_q_bootstrap_err / pp.fsat_variance_from_saved()[1]\n",
    "sf_stat_sys_ratio = gc.fsat_sf_bootstrap_err / pp.fsat_variance_from_saved()[2]\n",
    "plt.figure()\n",
    "plt.plot(LogLgal_labels, q_stat_sys_ratio, 'r.-', label='Quiescent')\n",
    "plt.plot(LogLgal_labels, sf_stat_sys_ratio, 'b.-', label='Star-forming')\n",
    "plt.yscale('log')\n",
    "plt.hlines(1, *plt.xlim(), color='k', linestyle='--')\n",
    "plt.xlabel('log$(L_{\\mathrm{gal}}~/~[L_{\\odot}~/h^2])$')\n",
    "plt.ylabel('Bootstrap Error / Systematic Error')\n",
    "plt.title('fsat Bootstrap vs Systematic Error')\n",
    "plt.twiny()\n",
    "plt.xlim(log_solar_L_to_abs_mag_r(LogLgal_labels[0]), log_solar_L_to_abs_mag_r(LogLgal_labels[-1]))\n",
    "plt.xticks(np.arange(-25, -12, 2))\n",
    "plt.xlabel(\"$M_r$ - 5log(h)\")\n",
    "plt.legend()\n",
    "plt.show()"
   ]
  },
  {
   "cell_type": "code",
   "execution_count": null,
   "id": "4c7bf311",
   "metadata": {},
   "outputs": [],
   "source": [
    "# LHMR - Compare bootstrapped statistical error to saved systematic error\n",
    "q_stat_sys_ratio = gc.lhmr_q_bootstrap_err / pp.lhmr_variance_from_saved()[1]\n",
    "sf_stat_sys_ratio = gc.lhmr_sf_bootstrap_err / pp.lhmr_variance_from_saved()[5]\n",
    "plt.figure()\n",
    "plt.plot(np.log10(Mhalo_labels), q_stat_sys_ratio, 'r.-', label='Quiescent')\n",
    "plt.plot(np.log10(Mhalo_labels), sf_stat_sys_ratio, 'b.-', label='Star-forming')\n",
    "plt.yscale('log')\n",
    "plt.hlines(1, *plt.xlim(), color='k', linestyle='--')\n",
    "plt.xlabel('log$(M_h~/~[M_\\\\odot /h]$)')\n",
    "plt.ylabel('Bootstrap / Systematic')\n",
    "plt.title('LHMR Bootstrap vs Systematic Error')\n",
    "plt.legend()\n",
    "plt.grid(True)\n",
    "plt.show()\n",
    "\n",
    "# TODO BUG? This lhmr_sf_bootstrap_err jumps up and down crazily for Mhalo ~ 10^12 to 10^13. Why?"
   ]
  },
  {
   "cell_type": "code",
   "execution_count": null,
   "id": "0ca1eb8f",
   "metadata": {},
   "outputs": [],
   "source": [
    "plt.plot(np.log10(Mhalo_labels), gc.lhmr_sf_bootstrap_err, 'b-', label='SF Bootstrap')\n",
    "plt.plot(np.log10(Mhalo_labels), pp.lhmr_variance_from_saved()[5], 'b--', label='SF Systematic')\n",
    "plt.plot(np.log10(Mhalo_labels), gc.lhmr_q_bootstrap_err, 'r-', label='Q Bootstrap')\n",
    "plt.plot(np.log10(Mhalo_labels), pp.lhmr_variance_from_saved()[1], 'r--', label='Q Systematic')\n",
    "plt.yscale('log')\n",
    "plt.xlabel('log$(M_h~/~[M_\\\\odot /h]$)')\n",
    "plt.ylabel('Error')\n",
    "plt.title('LHMR Bootstrap vs Systematic Error')\n",
    "plt.grid(True)\n",
    "plt.legend()\n",
    "\n",
    "# if outliers contains the Mh_bin, highlight that here\n",
    "for o in outliers:\n",
    "    plt.axvline(np.log10(o['Mh_bin']), color='gray', linestyle='-', alpha=0.5)\n",
    "\n",
    "plt.show()"
   ]
  },
  {
   "cell_type": "code",
   "execution_count": null,
   "id": "e809b80d",
   "metadata": {},
   "outputs": [],
   "source": [
    "# LHMR - Compare bootstrapped statistical error to saved systematic error\n",
    "q_stat_sys_ratio = gc.lhmr_q_scatter_bootstrap_err / pp.lhmr_variance_from_saved()[3]\n",
    "sf_stat_sys_ratio = gc.lhmr_sf_scatter_bootstrap_err / pp.lhmr_variance_from_saved()[7]\n",
    "plt.figure()\n",
    "plt.plot(np.log10(Mhalo_labels), q_stat_sys_ratio, 'r.-', label='Quiescent')\n",
    "plt.plot(np.log10(Mhalo_labels), sf_stat_sys_ratio, 'b.-', label='Star-forming')\n",
    "plt.yscale('log')\n",
    "plt.hlines(1, *plt.xlim(), color='k', linestyle='--')\n",
    "plt.xlabel('log$(M_h~/~[M_\\\\odot /h]$)')\n",
    "plt.ylabel('Bootstrap / Systematic')\n",
    "plt.title('LHMR Scatter Bootstrap vs Sys Error')\n",
    "plt.legend()\n",
    "plt.show()\n",
    "\n",
    "# TODO BUG? This lhmr_sf_bootstrap_err jumps up and down crazily for Mhalo ~  10^13 due to outliers that survived our cuts"
   ]
  },
  {
   "cell_type": "code",
   "execution_count": null,
   "id": "2f2d2144",
   "metadata": {},
   "outputs": [],
   "source": [
    "plt.figure()\n",
    "plt.plot(np.log10(Mhalo_labels), gc.lhmr_sf_scatter_bootstrap_err, 'b-', label='SF Bootstrap')\n",
    "plt.plot(np.log10(Mhalo_labels), pp.lhmr_variance_from_saved()[7], 'b--', label='SF Systematic')\n",
    "plt.plot(np.log10(Mhalo_labels), gc.lhmr_q_scatter_bootstrap_err, 'r-', label='Q Bootstrap')\n",
    "plt.plot(np.log10(Mhalo_labels), pp.lhmr_variance_from_saved()[3], 'r--', label='Q Systematic')\n",
    "plt.yscale('log')\n",
    "plt.xlabel('log$(M_h~/~[M_\\\\odot /h]$)')\n",
    "plt.ylabel('Error')\n",
    "plt.title('LHMR Scatter Bootstrap vs Sys Err')\n",
    "plt.ylim(1e-3, 1)\n",
    "plt.legend()\n",
    "plt.show()"
   ]
  },
  {
   "cell_type": "code",
   "execution_count": null,
   "id": "7f9a4f4b",
   "metadata": {},
   "outputs": [],
   "source": []
  },
  {
   "cell_type": "code",
   "execution_count": null,
   "id": "e194233c",
   "metadata": {},
   "outputs": [],
   "source": []
  }
 ],
 "metadata": {
  "kernelspec": {
   "display_name": "gf",
   "language": "python",
   "name": "python3"
  },
  "language_info": {
   "codemirror_mode": {
    "name": "ipython",
    "version": 3
   },
   "file_extension": ".py",
   "mimetype": "text/x-python",
   "name": "python",
   "nbconvert_exporter": "python",
   "pygments_lexer": "ipython3",
   "version": "3.11.9"
  }
 },
 "nbformat": 4,
 "nbformat_minor": 5
}
