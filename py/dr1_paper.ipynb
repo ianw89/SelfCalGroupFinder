{
 "cells": [
  {
   "cell_type": "code",
   "execution_count": null,
   "id": "c5617087",
   "metadata": {},
   "outputs": [],
   "source": [
    "import numpy as np\n",
    "import pandas as pd\n",
    "import matplotlib.pyplot as plt\n",
    "import astropy.coordinates as coord\n",
    "import astropy.units as u\n",
    "import sys\n",
    "from astropy.table import Table\n",
    "\n",
    "if './SelfCalGroupFinder/py/' not in sys.path:\n",
    "    sys.path.append('./SelfCalGroupFinder/py/')\n",
    "from pyutils import *\n",
    "import plotting as pp\n",
    "from dataloc import *\n",
    "from bgs_helpers import *\n",
    "import catalog_definitions as cat\n",
    "from groupcatalog import *\n",
    "\n",
    "%load_ext autoreload\n",
    "%autoreload 2\n",
    "%matplotlib inline\n",
    "\n",
    "# Make plots high definition\n",
    "plt.rcParams['figure.dpi'] = pp.DPI_PAPER"
   ]
  },
  {
   "cell_type": "code",
   "execution_count": null,
   "id": "9b65eeb1",
   "metadata": {},
   "outputs": [],
   "source": [
    "gc = deserialize(cat.bgs_y1_pzp_2_4_c2)\n",
    "df = gc.all_data\n",
    "gc.sanity_tests()"
   ]
  },
  {
   "cell_type": "code",
   "execution_count": null,
   "id": "41b11960",
   "metadata": {},
   "outputs": [],
   "source": [
    "gc.basic_stats()"
   ]
  },
  {
   "cell_type": "code",
   "execution_count": null,
   "id": "04470273",
   "metadata": {},
   "outputs": [],
   "source": [
    "def savefig(filename, **kwargs):\n",
    "    \"\"\"Save the current figure as a PNG file and close it.\"\"\"\n",
    "    path = os.path.join(PAPER_PLOT_FOLDER, f'{filename}.png')\n",
    "    plt.savefig(path, bbox_inches='tight', **kwargs)"
   ]
  },
  {
   "cell_type": "code",
   "execution_count": null,
   "id": "2de7eb7c",
   "metadata": {},
   "outputs": [],
   "source": [
    "pp.LHMR_savederr(gc)  \n",
    "savefig('lhmr y1')   \n",
    "plt.show() "
   ]
  },
  {
   "cell_type": "code",
   "execution_count": null,
   "id": "ad0bc604",
   "metadata": {},
   "outputs": [],
   "source": [
    "pp.LHMR_scatter_savederr(gc)\n",
    "savefig('lhmr scatter y1') \n",
    "plt.show()"
   ]
  },
  {
   "cell_type": "code",
   "execution_count": null,
   "id": "0507a8be",
   "metadata": {},
   "outputs": [],
   "source": [
    "pp.fsat_with_err_from_saved(gc)\n",
    "savefig('fsat y1')\n",
    "plt.show()"
   ]
  },
  {
   "cell_type": "code",
   "execution_count": null,
   "id": "528dd893",
   "metadata": {},
   "outputs": [],
   "source": [
    "pp.single_plots(gc)"
   ]
  },
  {
   "cell_type": "code",
   "execution_count": null,
   "id": "2cd3ae0d",
   "metadata": {},
   "outputs": [],
   "source": [
    "pp.fsat_with_err_from_saved(gc)\n",
    "savefig('fsat y1')\n",
    "plt.show()"
   ]
  },
  {
   "cell_type": "code",
   "execution_count": null,
   "id": "3d6f529c",
   "metadata": {},
   "outputs": [],
   "source": []
  }
 ],
 "metadata": {
  "kernelspec": {
   "display_name": "gf",
   "language": "python",
   "name": "python3"
  },
  "language_info": {
   "codemirror_mode": {
    "name": "ipython",
    "version": 3
   },
   "file_extension": ".py",
   "mimetype": "text/x-python",
   "name": "python",
   "nbconvert_exporter": "python",
   "pygments_lexer": "ipython3",
   "version": "3.11.9"
  }
 },
 "nbformat": 4,
 "nbformat_minor": 5
}
