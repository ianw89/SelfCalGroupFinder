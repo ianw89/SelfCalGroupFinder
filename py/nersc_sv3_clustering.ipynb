{
 "cells": [
  {
   "cell_type": "code",
   "execution_count": null,
   "id": "9337318c",
   "metadata": {},
   "outputs": [],
   "source": [
    "# Goal: see if SV3 10-pass region with PIP clustering is matched by various things from my fiber incompleteness handled version of the data\n",
    "\n",
    "# Run sv3-tests.sh"
   ]
  },
  {
   "cell_type": "code",
   "execution_count": null,
   "id": "23d3e57f",
   "metadata": {},
   "outputs": [],
   "source": [
    "import sys, os\n",
    "import numpy as np\n",
    "from astropy.table import Table, vstack\n",
    "from pycorr import TwoPointCorrelationFunction, TwoPointEstimator, project_to_multipoles, project_to_wp, utils, setup_logging\n",
    "from dataloc import *\n",
    "from desiclusteringtools import *\n",
    "import matplotlib.pyplot as plt"
   ]
  },
  {
   "cell_type": "code",
   "execution_count": null,
   "id": "e4412d2b",
   "metadata": {},
   "outputs": [],
   "source": [
    "fn_pattern = f'BGS_BRIGHT_0_full.ran.fits'\n",
    "dirin = f\"/global/cfs/cdirs/desi/users/ianw89/newclustering/SV3/LSS/fuji/LSScats/3.1/\"\n",
    "tbl = Table.read(os.path.join(dirin, fn_pattern))\n",
    "\n",
    "# Convert RA, DEC to radians for Mollweide projection\n",
    "ra = np.array(tbl['RA'])\n",
    "dec = np.array(tbl['DEC'])\n",
    "ra_rad = np.radians(ra)\n",
    "ra_rad = np.remainder(ra_rad + 2*np.pi, 2*np.pi)  # ensure [0, 2pi]\n",
    "ra_rad[ra_rad > np.pi] -= 2*np.pi  # shift to [-pi, pi]\n",
    "dec_rad = np.radians(dec)\n",
    "ra_rad = ra_rad + np.pi\n",
    "ra_rad[ra_rad > np.pi] -= 2*np.pi\n",
    "\n",
    "plt.figure(figsize=(10, 5))\n",
    "ax = plt.subplot(111, projection='mollweide')\n",
    "ax.hexbin(ra_rad, dec_rad, gridsize=300, cmap='viridis', mincnt=1)\n",
    "ax.set_xlabel('RA')\n",
    "ax.set_ylabel('DEC')\n",
    "ax.set_title('Mollweide Projection Randoms')\n",
    "ax.grid(True)\n",
    "plt.show()"
   ]
  },
  {
   "cell_type": "code",
   "execution_count": null,
   "id": "f398329d",
   "metadata": {},
   "outputs": [],
   "source": [
    "fn_pattern = f'BGS_BRIGHT_10p_clustering.dat.fits'\n",
    "dirin = f\"/global/cfs/cdirs/desi/users/ianw89/newclustering/SV3/LSS/fuji/LSScats/3.1/ALL\"\n",
    "tbl = Table.read(os.path.join(dirin, fn_pattern))\n",
    "print(f\"Columns in the table: {tbl.colnames}\")\n",
    "print(f\"Rows in the table: {len(tbl)}\")\n",
    "# TODO Code to make a GroupCatalog object become something like this table. Use functions in mkCat_subSamp maybe?"
   ]
  },
  {
   "cell_type": "code",
   "execution_count": null,
   "id": "5032769b",
   "metadata": {},
   "outputs": [],
   "source": [
    "survey = 'SV3'\n",
    "verspec = 'fuji'\n",
    "ver = '3.1'\n",
    "color = 'ALL'\n",
    "dir = os.path.join(CUSTOM_CLUSTERING_RESULTS_FOLDER_NEW, survey, 'LSS', verspec, 'LSScats', ver, color, 'rppi')\n",
    "#wp_fn = os.path.join(dir, f'wp_BGS_BRIGHT_10p_NGC_0.001_0.5_pip_bitwise_custom1_njack0_nran1_split20.txt')\n",
    "allcounts_fn = os.path.join(dir, f'allcounts_BGS_BRIGHT_10p_NGC_0.001_0.5_pip_bitwise_custom_njack16_nran18_split20.npy')\n",
    "tpc = TwoPointEstimator.load(allcounts_fn)\n",
    "rp, wp, cov = tpc.get_corr(return_sep=True, return_cov=True, mode='wp')\n",
    "\n",
    "color = 'SF'\n",
    "dir = os.path.join(CUSTOM_CLUSTERING_RESULTS_FOLDER_NEW, survey, 'LSS', verspec, 'LSScats', ver, color, 'rppi')\n",
    "#wp_fn = os.path.join(dir, f'wp_BGS_BRIGHT_10p_NGC_0.001_0.5_pip_bitwise_custom1_njack0_nran1_split20.txt')\n",
    "allcounts_fn = os.path.join(dir, f'allcounts_BGS_BRIGHT_SF_10p_NGC_0.001_0.5_pip_bitwise_custom_njack16_nran18_split20.npy')\n",
    "tpc = TwoPointEstimator.load(allcounts_fn)\n",
    "rp2, wp2, cov2 = tpc.get_corr(return_sep=True, return_cov=True, mode='wp')\n",
    "\n",
    "color = 'Q'\n",
    "dir = os.path.join(CUSTOM_CLUSTERING_RESULTS_FOLDER_NEW, survey, 'LSS', verspec, 'LSScats', ver, color, 'rppi')\n",
    "#wp_fn = os.path.join(dir, f'wp_BGS_BRIGHT_10p_NGC_0.001_0.5_pip_bitwise_custom1_njack0_nran1_split20.txt')\n",
    "allcounts_fn = os.path.join(dir, f'allcounts_BGS_BRIGHT_Q_10p_NGC_0.001_0.5_pip_bitwise_custom_njack16_nran18_split20.npy')\n",
    "tpc = TwoPointEstimator.load(allcounts_fn)\n",
    "rp3, wp3, cov3 = tpc.get_corr(return_sep=True, return_cov=True, mode='wp')"
   ]
  },
  {
   "cell_type": "code",
   "execution_count": null,
   "id": "7fe6300c",
   "metadata": {},
   "outputs": [],
   "source": [
    "plt.figure(figsize=(5, 5))\n",
    "plt.xscale('log')\n",
    "plt.yscale('log')\n",
    "plt.ylim(2, 4000)\n",
    "plt.ylabel(r'$w_p(r_p)$')\n",
    "plt.xlabel(r'$r_p$ [Mpc/h]')\n",
    "\n",
    "plt.errorbar(rp, wp, label='Orig All PIP', yerr=np.sqrt(cov.diagonal()), color='k')\n",
    "plt.errorbar(rp2, wp2, label='Orig SF PIP', yerr=np.sqrt(cov2.diagonal()), color='b')\n",
    "plt.errorbar(rp3, wp3, label='Orig Q PIP', yerr=np.sqrt(cov3.diagonal()), color='r')\n",
    "plt.legend()\n",
    "\n",
    "# The hope is that all my group catalogs with fiber incompleteness handled properly will match these PIP results"
   ]
  },
  {
   "cell_type": "code",
   "execution_count": null,
   "id": "98f68ec5",
   "metadata": {},
   "outputs": [],
   "source": []
  }
 ],
 "metadata": {
  "kernelspec": {
   "display_name": "base",
   "language": "python",
   "name": "python3"
  },
  "language_info": {
   "codemirror_mode": {
    "name": "ipython",
    "version": 3
   },
   "file_extension": ".py",
   "mimetype": "text/x-python",
   "name": "python",
   "nbconvert_exporter": "python",
   "pygments_lexer": "ipython3",
   "version": "3.10.13"
  }
 },
 "nbformat": 4,
 "nbformat_minor": 5
}
