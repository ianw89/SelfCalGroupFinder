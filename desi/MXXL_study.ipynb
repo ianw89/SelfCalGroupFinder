{
 "cells": [
  {
   "cell_type": "code",
   "execution_count": null,
   "metadata": {},
   "outputs": [],
   "source": [
    "import numpy as np\n",
    "import pandas as pd\n",
    "import matplotlib.pyplot as plt\n",
    "import matplotlib.colors as c\n",
    "import h5py\n",
    "import astropy.coordinates as coord\n",
    "import astropy.units as u\n",
    "from pyutils import *\n",
    "import numpy.ma as ma\n",
    "from random import randint\n",
    "from ctypes import c_uint64\n",
    "import pickle\n",
    "from astropy.table import Table\n",
    "from postprocess import *\n",
    "from dataloc import *\n",
    "import k_correction as kcorr\n",
    "import kcorr.k_corrections as desikc\n"
   ]
  },
  {
   "cell_type": "code",
   "execution_count": null,
   "metadata": {},
   "outputs": [],
   "source": [
    "%load_ext autoreload\n",
    "%autoreload 2"
   ]
  },
  {
   "cell_type": "markdown",
   "metadata": {},
   "source": [
    "# MXXL Experiments"
   ]
  },
  {
   "cell_type": "code",
   "execution_count": null,
   "metadata": {},
   "outputs": [],
   "source": [
    "BITWORD = 'bitweight0'\n",
    "BIT_CHOICE = 0\n",
    "FIBER_ASSIGNED_SELECTOR = 2**BIT_CHOICE\n",
    "\n",
    "infile = h5py.File(MXXL_DATA_DIR + 'weights_3pass.hdf5', 'r')\n",
    "\n",
    "dec = infile['Data/dec'][:]\n",
    "ra = infile['Data/ra'][:]\n",
    "z_obs = infile['Data/z_obs'][:]\n",
    "app_mag = infile['Data/app_mag'][:]\n",
    "g_r = infile['Data/g_r'][:]\n",
    "abs_mag = infile['Data/abs_mag'][:] # We aren't using these; computing ourselves. \n",
    "galaxy_type = infile['Data/galaxy_type'][:]\n",
    "mxxl_halo_mass = infile['Data/halo_mass'][:]\n",
    "mxxl_halo_id = infile['Data/mxxl_id'][:]\n",
    "observed = (infile['Weight/'+BITWORD][:] & FIBER_ASSIGNED_SELECTOR ).astype(bool)\n"
   ]
  },
  {
   "cell_type": "code",
   "execution_count": null,
   "metadata": {},
   "outputs": [],
   "source": [
    "df = pd.DataFrame(data={\n",
    "    'dec': dec, \n",
    "    'ra': ra,\n",
    "    'z_obs': z_obs,\n",
    "    'app_mag': app_mag,\n",
    "    'g_r': g_r,\n",
    "    'abs_mag': abs_mag,\n",
    "    'galaxy_type': galaxy_type,\n",
    "    'mxxl_halo_mass': mxxl_halo_mass,\n",
    "    'mxxl_halo_id': mxxl_halo_id,\n",
    "    'observed': observed\n",
    "    })\n"
   ]
  },
  {
   "cell_type": "markdown",
   "metadata": {},
   "source": [
    "## Various Simple Plots"
   ]
  },
  {
   "cell_type": "code",
   "execution_count": null,
   "metadata": {},
   "outputs": [],
   "source": [
    "def plots_by_app_mag_bins(df):\n",
    "    # Makes bins of app_mag\n",
    "    mag_bins = np.linspace(16, 19.5, 6)\n",
    "    df['mag_bin'] = pd.cut(df.app_mag, mag_bins, labels=False)\n",
    "\n",
    "    color_bins = np.linspace(0.0, 2.0, 200)\n",
    "\n",
    "    # Make histogram of g_r by the app mag bins\n",
    "    plt.figure()\n",
    "    for bin_num in range(len(mag_bins)-1):\n",
    "        bin_mask = df.mag_bin == bin_num\n",
    "        g_r_bin = df.g_r[bin_mask]\n",
    "        plt.hist(g_r_bin, bins=color_bins, histtype='step', label=f'{mag_bins[bin_num]:.1f} < mag < {mag_bins[bin_num+1]:.1f}', density=True)\n",
    "    plt.xlabel('g-r')\n",
    "    plt.legend()\n",
    "    plt.xlim(0.5, 1.0)\n",
    "\n",
    "    # Make histogram of z_obs by the app mag bins\n",
    "    plt.figure()\n",
    "    z_bins = np.linspace(0, 0.5, 50)\n",
    "    for bin_num in range(len(mag_bins)-1):\n",
    "        bin_mask = df.mag_bin == bin_num\n",
    "        z_bin = df.z_obs[bin_mask]\n",
    "        plt.hist(z_bin[df.observed[bin_mask]], bins=z_bins, histtype='step', label=f'{mag_bins[bin_num]:.1f} < mag < {mag_bins[bin_num+1]:.1f}', density=True)\n",
    "    plt.xlabel('z_obs')\n",
    "    plt.legend()\n",
    "    plt.xlim(0, 0.5)\n",
    "    plt.title('Observed galaxies')\n",
    "\n",
    "    # Make quiescent cut in df\n",
    "    df['quiescent'] = is_quiescent_BGS_gmr(None, df.g_r)\n",
    "\n",
    "    # Make histogram of z_obs by the app mag bins only for quiescent and then not quiescent galaxies\n",
    "    plt.figure()\n",
    "    for bin_num in range(len(mag_bins)-1):\n",
    "        bin_mask = df.mag_bin == bin_num\n",
    "        z_bin = df.z_obs[bin_mask]\n",
    "        plt.hist(z_bin[df.quiescent[bin_mask]], bins=z_bins, histtype='step', label=f'{mag_bins[bin_num]:.1f} < mag < {mag_bins[bin_num+1]:.1f} quiescent', density=True)\n",
    "    plt.xlabel('z_obs')\n",
    "    plt.legend()\n",
    "    plt.xlim(0, 0.5)\n",
    "    plt.title('Red galaxies')\n",
    "\n",
    "    plt.figure()\n",
    "    for bin_num in range(len(mag_bins)-1):\n",
    "        bin_mask = df.mag_bin == bin_num\n",
    "        z_bin = df.z_obs[bin_mask]\n",
    "        plt.hist(z_bin[~df.quiescent[bin_mask]], bins=z_bins, histtype='step', label=f'{mag_bins[bin_num]:.1f} < mag < {mag_bins[bin_num+1]:.1f} star-forming', density=True)\n",
    "    plt.xlabel('z_obs')\n",
    "    plt.legend()\n",
    "    plt.xlim(0, 0.5)\n",
    "    plt.title('Blue galaxies')\n",
    "\n",
    "    # Make histogram of the lost galaxies by the app mag bins\n",
    "    plt.figure()\n",
    "    for bin_num in range(len(mag_bins)-1):\n",
    "        bin_mask = df.mag_bin == bin_num\n",
    "        z_bin = df.z_obs[bin_mask]\n",
    "        plt.hist(z_bin[~df.observed[bin_mask]], bins=z_bins, histtype='step', label=f'{mag_bins[bin_num]:.1f} < mag < {mag_bins[bin_num+1]:.1f} lost', density=True)\n",
    "    plt.xlabel('z_obs')\n",
    "    plt.legend()\n",
    "    plt.xlim(0, 0.5)\n",
    "    plt.title('Lost galaxies')\n",
    "\n",
    "plots_by_app_mag_bins(df)"
   ]
  },
  {
   "cell_type": "code",
   "execution_count": null,
   "metadata": {},
   "outputs": [],
   "source": [
    "keep = df.app_mag < 19.5\n",
    "df = df[keep].reset_index(drop=True)\n",
    "indexes_assigned = np.argwhere(df.observed)\n",
    "assert np.max(indexes_assigned) <= len(df), \"Indexes not assigned are out of range\""
   ]
  },
  {
   "cell_type": "code",
   "execution_count": null,
   "metadata": {},
   "outputs": [],
   "source": [
    "# Looks a lot like BGS, 0.76 is fine for color cut\n",
    "junk=plt.hist(df.g_r, bins=100)\n",
    "plt.xlim(0.5, 0.9)"
   ]
  },
  {
   "cell_type": "code",
   "execution_count": null,
   "metadata": {},
   "outputs": [],
   "source": [
    "DATA_CUT_INDEX = 1000000 #21201544 #3000000 \n",
    "\n",
    "weights = h5py.File(MXXL_DATA_DIR + 'weights_3pass.hdf5', 'r')\n",
    "print(list(weights))\n",
    "print(list(weights['Data']))\n",
    "print(list(weights['Weight']))"
   ]
  },
  {
   "cell_type": "code",
   "execution_count": null,
   "metadata": {},
   "outputs": [],
   "source": [
    "small_z_obs = weights['Data/z_obs'][0:DATA_CUT_INDEX]\n",
    "angular_bins = plt.hist(small_z_obs, bins=50)\n",
    "plt.xlabel(\"$z_{obs}$\")\n",
    "plt.title(\"Histogram of Observed Redshifts\")\n"
   ]
  },
  {
   "cell_type": "code",
   "execution_count": null,
   "metadata": {},
   "outputs": [],
   "source": [
    "mxxl_ra = weights['Data/ra'][0:DATA_CUT_INDEX]\n",
    "mxxl_dec = weights['Data/dec'][0:DATA_CUT_INDEX]\n",
    "mxxl_app_mag = weights['Data/app_mag'][0:DATA_CUT_INDEX]\n",
    "bright_filter = mxxl_app_mag < 19.5 \n",
    "mxxl_ra_bright = mxxl_ra[bright_filter]\n",
    "mxxl_dec_bright = mxxl_dec[bright_filter]  \n",
    "mxxl_app_mag_bright = mxxl_app_mag[bright_filter]"
   ]
  },
  {
   "cell_type": "code",
   "execution_count": null,
   "metadata": {},
   "outputs": [],
   "source": [
    "print(estimate_frac_area(mxxl_ra, mxxl_dec))\n",
    "print(estimate_frac_area(mxxl_ra_bright, mxxl_dec_bright))"
   ]
  },
  {
   "cell_type": "code",
   "execution_count": null,
   "metadata": {},
   "outputs": [],
   "source": [
    "rnd_indices = np.random.choice(len(mxxl_ra), len(mxxl_ra)//50, replace=False)\n",
    "fig = make_map(mxxl_ra[rnd_indices], mxxl_dec[rnd_indices]), # This looks like Alex' paper, good\n"
   ]
  },
  {
   "cell_type": "code",
   "execution_count": null,
   "metadata": {},
   "outputs": [],
   "source": [
    "\n",
    "mxxl_halo_id = weights['Data/mxxl_id'][0:DATA_CUT_INDEX]\n",
    "np.sum(mxxl_halo_id == 0) / len(mxxl_halo_id)\n",
    "# 2.5% of galaxies have 0 for the MXXL Halo ID because that are in halos that were added by hand post-simulation\n",
    "# This was done because the small halos were not resolved in the simulation\n",
    "# Gal type 2 and 3 are central and satellite galaxies that were unresolved\n",
    "\n",
    "small_gal_type = weights['Data/galaxy_type'][0:DATA_CUT_INDEX]\n",
    "\n",
    "weird_indexes = np.argwhere(np.invert(mxxl_halo_id.astype(bool)))\n",
    "weird_types = small_gal_type[weird_indexes]\n",
    "trash = plt.hist(weird_types)"
   ]
  },
  {
   "cell_type": "code",
   "execution_count": null,
   "metadata": {},
   "outputs": [],
   "source": [
    "app_mag = df.app_mag.to_numpy()\n",
    "angular_bins = plt.hist(app_mag, bins=50)\n",
    "plt.xlabel(\"Apparent Mag\")\n",
    "plt.title(\"Histogram of Apparent Mags\")"
   ]
  },
  {
   "cell_type": "markdown",
   "metadata": {},
   "source": [
    "## Abs Mag, K correction Analysis"
   ]
  },
  {
   "cell_type": "code",
   "execution_count": null,
   "metadata": {},
   "outputs": [],
   "source": [
    "z_obs = df.z_obs.to_numpy()\n",
    "g_r = df.g_r.to_numpy()\n",
    "\n",
    "R = app_mag_to_abs_mag(df.app_mag.to_numpy(), z_obs)\n",
    "\n",
    "kcorr_r_gama = kcorr.GAMA_KCorrection(band='R')\n",
    "R_k_GAMA = R - kcorr_r_gama.k(z_obs, g_r)"
   ]
  },
  {
   "cell_type": "code",
   "execution_count": null,
   "metadata": {},
   "outputs": [],
   "source": [
    "kcorr_r_bgs  = desikc.DESI_KCorrection(band='R', file='jmext', photsys='N')\n",
    "R_k_BGS = R - kcorr_r_bgs.k(z_obs, g_r)"
   ]
  },
  {
   "cell_type": "code",
   "execution_count": null,
   "metadata": {},
   "outputs": [],
   "source": [
    "kcorr_r_bgs2  = desikc.DESI_KCorrection(band='R', file='jmext', photsys='S')\n",
    "R_k_BGS2 = R - kcorr_r_bgs.k(z_obs, g_r)"
   ]
  },
  {
   "cell_type": "code",
   "execution_count": null,
   "metadata": {},
   "outputs": [],
   "source": [
    "# N vs S doesn't matter\n",
    "np.sum(np.isclose(R_k_BGS, R_k_BGS2, rtol=10E-6)) / len(R_k_BGS)"
   ]
  },
  {
   "cell_type": "code",
   "execution_count": null,
   "metadata": {},
   "outputs": [],
   "source": [
    "# Compare my_abs_mag to abs_mag. \n",
    "bins = np.linspace(-25, -10, 100)\n",
    "#my_counts, my_bins, my_p = plt.hist(R, label=\"my abs_mag\", bins=bins, alpha=0.5)\n",
    "#alex_counts, alex_bins, alex_p = plt.hist(df.abs_mag.to_numpy(), label=\"alex abs_mag\", bins=bins, alpha=0.5)\n",
    "my_k_counts, my_k_bins, my_k_p = plt.hist(R_k_GAMA, label=\"my GAMA k abs_mag\", bins=bins, alpha=0.5)\n",
    "my_k_counts, my_k_bins, my_k_p = plt.hist(R_k_BGS, label=\"my BGS k abs_mag N\", bins=bins, alpha=0.5)\n",
    "#my_k_counts, my_k_bins, my_k_p = plt.hist(R_k_BGS2, label=\"my BGS k abs_mag S\", bins=bins, alpha=0.5)\n",
    "#z = plt.hist(my_abs_mag_k, label=\"my k abs_mag\", bins=50)\n",
    "plt.xlabel(\"Absolute Mag\")\n",
    "plt.ylabel(\"Count\")\n",
    "plt.title(\"Compare Absolute Mags\")\n",
    "plt.yscale('log')\n",
    "plt.legend()\n",
    "\n",
    "#print(f\"The peaks are Alex: {alex_bins[np.argmax(alex_counts)]:.1f}, My {my_bins[np.argmax(my_counts)]:.1f}, My K {my_k_bins[np.argmax(my_k_counts)]:.1f}\")"
   ]
  },
  {
   "cell_type": "markdown",
   "metadata": {},
   "source": [
    "## What is a reasonable z fudge factor for 'close enough' redshifts given galaxies $v_{\\mathrm{pec}}$?\n",
    "\n",
    "Galaxies move at hundreds of km/s usually, or thousands in a rich cluster.\n",
    "\n",
    "Two galaxies moving at 600 km/s towards each other along LOS but at same cosmological redshift would have a total redshift difference of 0.004. This suggests a z +/- 0.002 is totally reasonable. In richer areas this could be as high as z +/- 0.010. \n",
    "\n",
    "Adopting z +/- 0.003 for now seems fine. Can refine later."
   ]
  },
  {
   "cell_type": "code",
   "execution_count": null,
   "metadata": {},
   "outputs": [],
   "source": [
    "# What is a reasonable z +/- fudge factor for 'close enough' redshifts? \n",
    "# Consider peculiar velocities.\n",
    "z_test = [0.001, 0.002, 0.003, 0.005, 0.01] * u.dimensionless_unscaled\n",
    "v_pec = z_test.to(u.km / u.s, u.equivalencies.doppler_redshift())\n",
    "for i in range(len(z_test)):\n",
    "    print(f\"z={z_test[i]:.3f} is {v_pec[i]:.0f}\")\n",
    "\n"
   ]
  },
  {
   "cell_type": "markdown",
   "metadata": {},
   "source": [
    "## Get Truth Abs Mag for Correcting\n",
    "\n",
    "This is for the 'fancy' approach that we don't use."
   ]
  },
  {
   "cell_type": "code",
   "execution_count": null,
   "metadata": {},
   "outputs": [],
   "source": [
    "app_mag = weights['Data/app_mag'][:]\n",
    "z_obs = weights['Data/z_obs'][:]\n",
    "APP_MAG_CUT = 19.5\n",
    "bright_filter = app_mag < APP_MAG_CUT \n",
    "redshift_filter = z_obs > 0 \n",
    "keep = np.all([bright_filter, redshift_filter], axis=0)\n",
    "\n",
    "app_mag = app_mag[keep]\n",
    "z_obs = z_obs[keep]\n",
    "\n",
    "my_abs_mag = app_mag_to_abs_mag(app_mag, z_obs)"
   ]
  },
  {
   "cell_type": "code",
   "execution_count": null,
   "metadata": {},
   "outputs": [],
   "source": [
    "angular_bins = np.linspace(min(my_abs_mag), max(my_abs_mag), 100)\n",
    "densities, angular_bins  = np.histogram(my_abs_mag, bins=angular_bins, density=True)\n",
    "t = plt.hist(my_abs_mag, angular_bins, density=True)\n",
    "\n",
    "with open('bin/abs_mag_weight.npy', 'wb') as f:\n",
    "    np.save(f, densities, allow_pickle=False)\n",
    "    np.save(f, angular_bins, allow_pickle=False)"
   ]
  },
  {
   "cell_type": "code",
   "execution_count": null,
   "metadata": {},
   "outputs": [],
   "source": [
    "with open('bin/abs_mag_weight.npy', 'rb') as f:\n",
    "    densities = np.load(f)\n",
    "    angular_bins = np.load(f)\n",
    "\n",
    "plt.plot(angular_bins[0:99], densities)\n",
    "#plt.yscale('log')"
   ]
  },
  {
   "cell_type": "markdown",
   "metadata": {},
   "source": [
    "## Examine map of apparent mag to z distribution"
   ]
  },
  {
   "cell_type": "code",
   "execution_count": null,
   "metadata": {},
   "outputs": [],
   "source": [
    "# Builds a map of apparent mags to a pdf of redshifts.plt\n",
    "# Build the map all the way to 20th mag\n",
    "app_mag = infile['Data/app_mag'][:]\n",
    "z_obs = infile['Data/z_obs'][:]\n",
    "APP_MAG_CUT = 20.0\n",
    "bright_filter = app_mag < APP_MAG_CUT \n",
    "redshift_filter = z_obs > 0 \n",
    "keep = np.all([bright_filter, redshift_filter], axis=0)\n",
    "app_mag = app_mag[keep]\n",
    "z_obs = z_obs[keep]"
   ]
  },
  {
   "cell_type": "code",
   "execution_count": null,
   "metadata": {},
   "outputs": [],
   "source": [
    "app_mag_bins, the_map = build_app_mag_to_z_map(app_mag, z_obs)\n",
    "\n",
    "counts, app_mag_bins_2  = np.histogram(app_mag, bins=app_mag_bins, density=False)\n",
    "plt.figure()\n",
    "t = plt.hist(app_mag, app_mag_bins, density=False)\n",
    "plt.yscale('log')\n",
    "\n",
    "plt.figure()\n",
    "trash=plt.hist(the_map[0],bins=30, density=True)\n",
    "trash=plt.hist(the_map[50],bins=30, density=True)\n",
    "trash=plt.hist(the_map[100],bins=30, density=True)"
   ]
  },
  {
   "cell_type": "code",
   "execution_count": null,
   "metadata": {},
   "outputs": [],
   "source": [
    "# Density of galaxies per sq degree\n",
    "app_mag = weights['Data/app_mag'][:]\n",
    "print(f\"There are ~{np.sum(app_mag < 19.5) / 14000:.0f} galaxies/deg^2 < 19.5 mag\")\n",
    "print(f\"There are ~{np.sum(np.all([app_mag > 19.5, app_mag < 20.0], axis=0)) / 14000:.0f} galaxies/deg^2 between 19.5 and 20.0 mag\")"
   ]
  },
  {
   "cell_type": "markdown",
   "metadata": {},
   "source": [
    "## Nearest Neighbor Angular Separation and Same-Halo Analysis"
   ]
  },
  {
   "cell_type": "code",
   "execution_count": null,
   "metadata": {},
   "outputs": [],
   "source": [
    "APP_MAG_CUT = 19.5\n",
    "bright_filter = app_mag < APP_MAG_CUT # makes a filter array (True/False values)\n",
    "redshift_filter = z_obs > 0 # makes a filter array (True/False values)\n",
    "#location_filter_1 = ra < 270.0\n",
    "#location_filter_2 = ra > 120.0\n",
    "#location_filter_3 = dec > 0.0\n",
    "#location_filter_4 = dec < 45.0\n",
    "keep = np.all([bright_filter, redshift_filter], axis=0)\n",
    "#keep = np.all([bright_filter, redshift_filter, location_filter_1, location_filter_2, location_filter_3, location_filter_4], axis=0)\n",
    "\n",
    "dec = dec[keep]\n",
    "ra = ra[keep]\n",
    "z_obs = z_obs[keep]\n",
    "app_mag = app_mag[keep]\n",
    "mxxl_halo_id = mxxl_halo_id[keep]\n",
    "g_r = g_r[keep]\n",
    "quiescent = is_quiescent_BGS_gmr(None, g_r)\n",
    "\n",
    "observed = observed[keep]\n",
    "unobserved = np.invert(observed)\n",
    "\n",
    "with open('../bin/prob_obs.npy', 'rb') as f:\n",
    "    prob_obs = np.load(f)\n",
    "prob_obs_cut = prob_obs[keep]"
   ]
  },
  {
   "cell_type": "markdown",
   "metadata": {},
   "source": [
    "### Calculate P_obs"
   ]
  },
  {
   "cell_type": "code",
   "execution_count": null,
   "metadata": {},
   "outputs": [],
   "source": [
    "def bitsum(bitstring):\n",
    "    return bin(c_uint64(bitstring).value).count(\"1\")\n",
    "v_bitsum = np.vectorize(bitsum)\n",
    "\n",
    "def summate(a):\n",
    "    return np.sum(v_bitsum(a))\n"
   ]
  },
  {
   "cell_type": "code",
   "execution_count": null,
   "metadata": {},
   "outputs": [],
   "source": [
    "# Skip this if iips were loaded OK. Takes ~8 minutes.\n",
    "\n",
    "# Read all 32 64-bitstrings into memory from the file\n",
    "num_bitstrings = 32\n",
    "galaxy_count = len(input['Weight/bitweight0'])\n",
    "bitweights = np.empty((num_bitstrings, galaxy_count), dtype='i8')\n",
    "\n",
    "for i in range(num_bitstrings):\n",
    "    bitweights[i] = input['Weight/bitweight{0}'.format(i)][:]\n",
    "    \n",
    "prob_obs = np.apply_along_axis(summate, 0, bitweights) / 2048\n",
    "\n",
    "with open('bin/prob_obs.npy', 'wb') as f:\n",
    "    np.save(f, prob_obs)\n"
   ]
  },
  {
   "cell_type": "code",
   "execution_count": null,
   "metadata": {},
   "outputs": [],
   "source": [
    "specimen = 123\n",
    "bit_selector = c_uint64(2).value\n",
    "print('{:064b}'.format(bit_selector))\n",
    "print('')\n",
    "for i in range(num_bitstrings):\n",
    "    value = bitweights[(i,specimen)]\n",
    "    converted = c_uint64(value).value\n",
    "    print('{:064b}'.format(converted), '{:2.0f}'.format(bitsum(value)), bool(converted & bit_selector))\n",
    "\n",
    "print(\"Averaged Probability of being targetted: \", prob_obs[specimen])"
   ]
  },
  {
   "cell_type": "code",
   "execution_count": null,
   "metadata": {},
   "outputs": [],
   "source": [
    "prob_obs_cut = prob_obs[keep]\n",
    "\n",
    "pobs_bins_temp = np.linspace(0,1)\n",
    "trash=plt.hist(prob_obs, bins=pobs_bins_temp, label=\"All galaxies\")\n",
    "trash2=plt.hist(prob_obs_cut, bins=pobs_bins_temp, label=f\"Galaxies below {APP_MAG_CUT} mag\")\n",
    "plt.yscale('log')\n",
    "plt.legend()"
   ]
  },
  {
   "cell_type": "code",
   "execution_count": null,
   "metadata": {},
   "outputs": [],
   "source": [
    "prob_obs_dim = prob_obs[np.invert(keep)]\n",
    "trash=plt.hist(prob_obs_dim, bins=pobs_bins_temp, alpha=0.5, label=f\"Galaxies above {APP_MAG_CUT} mag\")\n",
    "trash2=plt.hist(prob_obs_cut, bins=pobs_bins_temp, alpha=0.5, label=f\"Galaxies below {APP_MAG_CUT} mag\")\n",
    "plt.yscale('log')\n",
    "plt.xlabel('$P_{obs}$')\n",
    "plt.ylabel(\"Count\")\n",
    "plt.legend()"
   ]
  },
  {
   "cell_type": "markdown",
   "metadata": {},
   "source": [
    "### Setup Bins"
   ]
  },
  {
   "cell_type": "code",
   "execution_count": null,
   "metadata": {},
   "outputs": [],
   "source": [
    "# Now bin so that things with ang distances higher than the max we care about are thrown out\n",
    "BIN_COUNT = 20\n",
    "BIGGER_THAN_ANY_NN_DIST = 3600\n",
    "angular_bins = np.append(np.logspace(np.log10(3), np.log10(900), BIN_COUNT - 1), BIGGER_THAN_ANY_NN_DIST)\n",
    "print(\"Angular Distance Bin Markers\", angular_bins)\n",
    "\n",
    "z_bins = np.array(SimpleRedshiftGuesser.z_bins)\n",
    "print(\"Redshift Bin Markers\", z_bins)\n",
    "\n",
    "POBS_BIN_COUNT = 15\n",
    "POBS_bins = np.linspace(0.01, 1.0, POBS_BIN_COUNT)\n",
    "print(\"Pobs Bin Markers\", POBS_bins)\n",
    "\n",
    "APP_MAG_BIN_COUNT = 2\n",
    "app_mag_bins = np.linspace(15.0, 20.01, APP_MAG_BIN_COUNT)\n",
    "print(\"App mag bin markers\", app_mag_bins)\n",
    "\n",
    "LOST_GALAXIES_ONLY = True\n",
    "\n",
    "if LOST_GALAXIES_ONLY:\n",
    "    treename = 'mxxl_same_halo_analysis_fiberassigned_b' + str(BIT_CHOICE)\n",
    "    catalog = coord.SkyCoord(ra=ra[observed]*u.degree, dec=dec[observed]*u.degree, frame='icrs')\n",
    "    mxxl_halo_id_catalog = mxxl_halo_id[observed]\n",
    "    z_obs_catalog = z_obs[observed]\n",
    "    color_catalog = quiescent[observed].astype(int)\n",
    "else:\n",
    "    treename = 'mxxl_same_halo_analysis_all'\n",
    "    catalog = coord.SkyCoord(ra=ra*u.degree, dec=dec*u.degree, frame='icrs')\n",
    "    mxxl_halo_id_catalog = mxxl_halo_id\n",
    "    z_obs_catalog = z_obs\n",
    "    color_catalog = quiescent.astype(int)\n",
    "\n",
    "\n",
    "def getlabel(index, z_bins):\n",
    "    if index==0:\n",
    "        label = \"< {0}\".format(z_bins[index])\n",
    "    else:\n",
    "        label = \"{0} - {1}\".format(z_bins[index-1], z_bins[index])\n",
    "    return label\n"
   ]
  },
  {
   "cell_type": "markdown",
   "metadata": {},
   "source": [
    "### Examine Same-Halo as function of angular distance to NN only"
   ]
  },
  {
   "cell_type": "code",
   "execution_count": null,
   "metadata": {},
   "outputs": [],
   "source": [
    "# Get NN's angular distance distribution and same halo truth from MXXL\n",
    "\n",
    "# Though this is binned by z of the target and not the NN, it shouldn't be able to affect results\n",
    "# by recipricality of NN\n",
    "z_bin = np.digitize(z_obs, z_bins)\n",
    "\n",
    "if LOST_GALAXIES_ONLY:\n",
    "    #nn_bins = np.arange(5)+1\n",
    "    nn_bins=[1]\n",
    "else:\n",
    "    nn_bins = [2]#[2,3,4] # this means closest 3. '1' will find the same object.\n",
    "\n",
    "all_ang_bincounts = np.ones((len(z_bins), len(nn_bins), len(angular_bins)))\n",
    "all_same_halo_bincounts = np.zeros((len(z_bins), len(nn_bins), len(angular_bins)))\n",
    "all_same_z_bincounts = np.zeros((len(z_bins), len(nn_bins), len(angular_bins)))\n",
    "all_sim_z_bincounts = np.zeros((len(z_bins), len(nn_bins), len(angular_bins)))\n",
    "\n",
    "for i in range(len(z_bins)):\n",
    "    for j in range(len(nn_bins)):\n",
    "        if LOST_GALAXIES_ONLY:\n",
    "            target_filter = np.all([z_bin == i, unobserved], axis=0)\n",
    "        else:\n",
    "            target_filter = z_bin == i\n",
    "        to_match = coord.SkyCoord(ra=ra[target_filter]*u.degree, dec=dec[target_filter]*u.degree, frame='icrs')\n",
    "        idx, d2d, d3d = coord.match_coordinates_sky(to_match, catalog, nthneighbor=nn_bins[j], storekdtree=treename)\n",
    "\n",
    "        same_halo = mxxl_halo_id[target_filter] == mxxl_halo_id_catalog[idx]\n",
    "        same_z = np.isclose(z_obs[target_filter], z_obs_catalog[idx], rtol=0, atol=0.000001)\n",
    "        sim_z = np.isclose(z_obs[target_filter], z_obs_catalog[idx], rtol=0, atol=SIM_Z_THRESH)\n",
    "        \n",
    "        angdist_bin_ind = np.digitize(d2d.to(u.arcsec).value, angular_bins)\n",
    "        \n",
    "        bincounts = np.bincount(angdist_bin_ind, minlength=len(angular_bins)) + 1 # avoids divide by 0, won't hurt statistics\n",
    "        all_ang_bincounts[i][j] = bincounts\n",
    "\n",
    "        bincounts2 = np.bincount(angdist_bin_ind, minlength=len(angular_bins), weights=same_halo.astype(int))\n",
    "        all_same_halo_bincounts[i][j] = bincounts2\n",
    "\n",
    "        bincount3 = np.bincount(angdist_bin_ind, minlength=len(angular_bins), weights=same_z.astype(int))\n",
    "        all_same_z_bincounts[i][j] = bincount3\n",
    "\n",
    "        bincount4 = np.bincount(angdist_bin_ind, minlength=len(angular_bins), weights=sim_z.astype(int))\n",
    "        all_sim_z_bincounts[i][j] = bincount4\n",
    "    "
   ]
  },
  {
   "cell_type": "code",
   "execution_count": null,
   "metadata": {},
   "outputs": [],
   "source": [
    "print(\"Galaxies studied: {0}. Same halo: {1}. Similar z: {2}\".format(np.sum(all_ang_bincounts), np.sum(all_same_halo_bincounts), np.sum(all_sim_z_bincounts)))"
   ]
  },
  {
   "cell_type": "code",
   "execution_count": null,
   "metadata": {},
   "outputs": [],
   "source": [
    "# Plots for nearest-neighbor angular distances and same-halo analysis\n",
    "\n",
    "for j in range(len(nn_bins)):\n",
    "    if j < 5:\n",
    "        plt.figure()\n",
    "        for i in range(len(z_bins)):\n",
    "            label = getlabel(i, z_bins)\n",
    "        plt.plot(angular_bins, all_ang_bincounts[i][j], label=label, color=get_color(i))\n",
    "\n",
    "        plt.title(f\"Nearest Neighbor {j} Ang. Distance Distribution\")\n",
    "        plt.ylabel(\"Count\")\n",
    "        plt.xlabel(\"Angular Distance (arcsec)\")\n",
    "        plt.yscale('log')\n",
    "        plt.xscale('log')\n",
    "        plt.legend()\n",
    "        plt.draw()\n",
    "\n",
    "        plt.figure()\n",
    "        for i in range(len(z_bins)):\n",
    "            label = getlabel(i, z_bins)\n",
    "            plt.plot(angular_bins, all_same_halo_bincounts[i][j]/all_ang_bincounts[i][j], label=label, color=get_color(i))\n",
    "            print(\"Total fraction of nearest neighbors in same halo (z {0}, NN-{1}): {2:.3f}\".format(label, j+1, np.sum(all_same_halo_bincounts[i][j]) / np.sum(all_ang_bincounts[i][j])))\n",
    "\n",
    "        plt.title(f\"Nearest Neighbor {j} Same Halo Fraction\")\n",
    "        plt.ylabel(\"NN Same Halo Fraction\")\n",
    "        plt.xlabel(\"Angular Distance (arcsec)\")\n",
    "        plt.xscale('log')\n",
    "        plt.legend()\n",
    "        plt.draw()\n",
    "\n",
    "        plt.figure()\n",
    "        for i in range(len(z_bins)):\n",
    "            label = getlabel(i, z_bins)\n",
    "            plt.plot(angular_bins, all_sim_z_bincounts[i][j]/all_ang_bincounts[i][j], label=label, color=get_color(i))\n",
    "            \n",
    "            print(\"Total fraction of nearest neighbors at sim z (z {0}, NN-{1}): {2:.3f}\".format(label, j+1, np.sum(all_sim_z_bincounts[i][j]) / np.sum(all_ang_bincounts[i][j])))\n",
    "\n",
    "        plt.title(f\"Nearest Neighbor {j} Sim z Fraction\")\n",
    "        plt.ylabel(\"NN Sim z Fraction\")\n",
    "        plt.xlabel(\"Angular Distance (arcsec)\")\n",
    "        plt.xscale('log')\n",
    "        plt.legend()\n",
    "        plt.draw()\n",
    "\n",
    "#print(\"What fraction of the time is the NN >19.5 mag?\")"
   ]
  },
  {
   "cell_type": "markdown",
   "metadata": {},
   "source": [
    "### Color plots of NN Same Halo in z / ang distance / P_obs space"
   ]
  },
  {
   "cell_type": "code",
   "execution_count": null,
   "metadata": {},
   "outputs": [],
   "source": [
    "# TODO consider:\n",
    "# Why do I treat z differently? \n",
    "# Should I move the looks to where the z loop is? \n",
    "# Have less calls to match_coord_sky and post-process? Is that possible?\n",
    "# I think its a lot faster to do that\n",
    "POBS_bin = np.digitize(prob_obs_cut, POBS_bins)\n",
    "app_mag_bin = np.digitize(app_mag, app_mag_bins)\n",
    "\n",
    "if LOST_GALAXIES_ONLY: \n",
    "    nthneighbor = 1\n",
    "else:\n",
    "    nthneighbor = 2 # since catalog includes the targets in this case\n",
    "\n",
    "all_ang_bincounts_2 = np.ones((POBS_BIN_COUNT, 2, 2, len(z_bins), APP_MAG_BIN_COUNT, BIN_COUNT))\n",
    "all_same_halo_bincounts_2 = np.zeros((POBS_BIN_COUNT, 2, 2, len(z_bins), APP_MAG_BIN_COUNT, BIN_COUNT))\n",
    "all_sim_z_bincounts_2 = np.zeros((POBS_BIN_COUNT, 2, 2, len(z_bins), APP_MAG_BIN_COUNT, BIN_COUNT))\n",
    "\n",
    "# Loop through properties of the lost galaxy\n",
    "for i in range(len(POBS_bins)):\n",
    "    for j in [0,1]: # 0 blue, 1 quiescent\n",
    "        for k in range(len(app_mag_bins)):\n",
    "\n",
    "            # Properties of the lost galaxy we need to filter down to \n",
    "            if LOST_GALAXIES_ONLY:\n",
    "                target_filter = np.all([POBS_bin == i, app_mag_bin == k, unobserved, quiescent == j], axis=0)\n",
    "            else:\n",
    "                target_filter = np.all([POBS_bin == i, app_mag_bin == k, quiescent == j], axis=0)\n",
    "\n",
    "            to_match = coord.SkyCoord(ra=ra[target_filter]*u.degree, dec=dec[target_filter]*u.degree, frame='icrs')\n",
    "            idx, d2d, d3d = coord.match_coordinates_sky(to_match, catalog, nthneighbor=nthneighbor, storekdtree=treename)\n",
    "            same_halo = mxxl_halo_id[target_filter] == mxxl_halo_id_catalog[idx]\n",
    "            sim_z = np.isclose(z_obs[target_filter], z_obs_catalog[idx], rtol=0, atol=SIM_Z_THRESH)\n",
    "            same_halo = np.where(mxxl_halo_id[target_filter] == 0, sim_z, mxxl_halo_id[target_filter] == mxxl_halo_id_catalog[idx])\n",
    "\n",
    "            # Properties of the nearest neighbor galaxy we are binning\n",
    "            nn_z_bin_ind = np.digitize(z_obs_catalog[idx], z_bins)\n",
    "            angdist_bin_ind = np.digitize(d2d.to(u.arcsec).value, angular_bins)\n",
    "            \n",
    "            for t_c in [0,1]:\n",
    "                for zb in range(len(z_bins)):\n",
    "                    right_bin = np.all([nn_z_bin_ind == zb, color_catalog[idx] == t_c], axis=0)\n",
    "                    \n",
    "                    bincounts = np.bincount(angdist_bin_ind, minlength=len(angular_bins), weights=right_bin.astype(int))\n",
    "                    all_ang_bincounts_2[i][j][t_c][zb][k] = bincounts\n",
    "\n",
    "                    bincounts2 = np.bincount(angdist_bin_ind, minlength=len(angular_bins), weights=np.all([same_halo, right_bin], axis=0).astype(int))\n",
    "                    all_same_halo_bincounts_2[i][j][t_c][zb][k] = bincounts2\n",
    "\n",
    "                    bincounts3 = np.bincount(angdist_bin_ind, minlength=len(angular_bins), weights=np.all([sim_z, right_bin], axis=0).astype(int))\n",
    "                    all_sim_z_bincounts_2[i][j][t_c][zb][k] = bincounts3"
   ]
  },
  {
   "cell_type": "code",
   "execution_count": null,
   "metadata": {},
   "outputs": [],
   "source": [
    "frac_same_halo_full = all_same_halo_bincounts_2 / (all_ang_bincounts_2)\n",
    "frac_sim_z_full = all_sim_z_bincounts_2 / (all_ang_bincounts_2)\n",
    "\n",
    "frac_same_halo_full=np.nan_to_num(frac_same_halo_full, copy=False) # empty bins we call 0% TODO\n",
    "frac_sim_z_full=np.nan_to_num(frac_sim_z_full, copy=False)"
   ]
  },
  {
   "cell_type": "code",
   "execution_count": null,
   "metadata": {},
   "outputs": [],
   "source": [
    "# To visualize things we need to reduce dimensionality. \n",
    "# Aggregate of either Pobs or app mag, or choose a single value from them to examine.\n",
    "# The below always picks one z per plot.\n",
    "\n",
    "# axis 4 will sum over app mag. Axis 0 will sum over P_obs\n",
    "axis_to_sumover = 4\n",
    "\n",
    "# Use this to aggregate\n",
    "all_same_halo_bincounts_reduced = np.sum(all_same_halo_bincounts_2, axis=axis_to_sumover)\n",
    "all_ang_bincounts_reduced = np.sum(all_ang_bincounts_2, axis=axis_to_sumover)\n",
    "all_sim_z_bincounts_reduced = np.sum(all_sim_z_bincounts_2, axis=axis_to_sumover)\n",
    "\n",
    "# Use this instead to pick out a value\n",
    "index_to_use = 3\n",
    "#all_same_halo_bincounts_reduced = np.take(all_same_halo_bincounts_2, index_to_use, axis=axis_to_sumover)\n",
    "#all_ang_bincounts_reduced = np.take(all_ang_bincounts_2, index_to_use, axis=axis_to_sumover)\n",
    "#all_sim_z_bincounts_reduced = np.take(all_sim_z_bincounts_2, index_to_use, axis=axis_to_sumover)\n",
    "\n",
    "if axis_to_sumover == 0:\n",
    "    all_same_halo_bincounts_reduced = np.swapaxes(all_same_halo_bincounts_reduced, 0,1)\n",
    "    all_same_halo_bincounts_reduced = np.swapaxes(all_same_halo_bincounts_reduced, 0,2)\n",
    "    all_ang_bincounts_reduced = np.swapaxes(all_ang_bincounts_reduced, 0,1)\n",
    "    all_ang_bincounts_reduced = np.swapaxes(all_ang_bincounts_reduced, 0,2)\n",
    "    all_sim_z_bincounts_reduced = np.swapaxes(all_sim_z_bincounts_reduced, 0,1)\n",
    "    all_sim_z_bincounts_reduced = np.swapaxes(all_sim_z_bincounts_reduced, 0,2)\n",
    "\n",
    "frac_same = all_same_halo_bincounts_reduced / (all_ang_bincounts_reduced)\n",
    "frac_sim_z = all_sim_z_bincounts_reduced / (all_ang_bincounts_reduced)\n",
    "frac_same = np.nan_to_num(frac_same, copy=False, nan=0.0)\n",
    "frac_zim_z = np.nan_to_num(frac_sim_z, copy=False, nan=0.0)\n",
    "\n",
    "# Make rough bins of just over a threshold or not\n",
    "nn_success_thresh = 0.4 # change fit lines below if you change this!\n",
    "success_bins = [0,nn_success_thresh,1.01]\n",
    "frac_same_binned = np.digitize(frac_same, bins=success_bins)\n",
    "\n",
    "# Resultant shape must be consistent\n",
    "print(np.shape(all_ang_bincounts_reduced))"
   ]
  },
  {
   "cell_type": "code",
   "execution_count": null,
   "metadata": {},
   "outputs": [],
   "source": [
    "def get_color_label(target_q, nn_q):\n",
    "\n",
    "    if color_index == 1 and NN_color_index == 1:\n",
    "        title = \"Red target, Red NN\"\n",
    "    elif color_index == 0 and NN_color_index == 1:\n",
    "        title = \"Blue target, Red NN\"\n",
    "    elif color_index == 1 and NN_color_index == 0:\n",
    "        title = \"Red target, Blue NN\"\n",
    "    elif color_index == 0 and NN_color_index == 0:\n",
    "        title = \"Blue target, Blue NN\"\n",
    "\n",
    "    return title"
   ]
  },
  {
   "cell_type": "code",
   "execution_count": null,
   "metadata": {},
   "outputs": [],
   "source": [
    "for color_index in [1,0]:\n",
    "    for NN_color_index in [1,0]:\n",
    "\n",
    "        print(get_color_label(color_index, NN_color_index))\n",
    "\n",
    "        ncols = 2 # there is code for 4 plots per row (z), but can make a subplot of it\n",
    "        z_bin_numbers_to_plot = range(len(z_bins))\n",
    "        #z_bin_numbers_to_plot = [1,2]\n",
    "\n",
    "        fig, axes = plt.subplots(nrows=len(z_bin_numbers_to_plot), ncols=ncols, figsize=(6*ncols, 4*len(z_bin_numbers_to_plot)))\n",
    "\n",
    "        if (axis_to_sumover == 4):\n",
    "            y_axis_bins = POBS_bins\n",
    "        if (axis_to_sumover == 0):\n",
    "            y_axis_bins = app_mag_bins\n",
    "\n",
    "        row=-1\n",
    "        for zb in z_bin_numbers_to_plot:\n",
    "            \n",
    "            row+=1\n",
    "            density = all_ang_bincounts_reduced[:,color_index,NN_color_index,zb,:]\n",
    "            #print(f\"Galaxies in this z-bin: {np.sum(density)}\")\n",
    "\n",
    "            if len(z_bin_numbers_to_plot) == 1:\n",
    "                axrow = axes\n",
    "            else:\n",
    "                axrow = axes[row]\n",
    "            \n",
    "            if (ncols != 1):\n",
    "                ax=axrow[0]\n",
    "            else:\n",
    "                ax = axrow\n",
    "            \n",
    "            cplot = ax.pcolor(angular_bins, y_axis_bins, frac_same[:,color_index,NN_color_index,zb,:], shading='auto', cmap='RdYlGn', norm=c.Normalize(vmin=0, vmax=0.8))\n",
    "            fig.colorbar(cplot, ax=ax)\n",
    "            ax.set_title(f\"NN Same Halo Fraction (NN z {getlabel(zb, z_bins)})\")\n",
    "            if (axis_to_sumover == 4):\n",
    "                ax.set_ylabel(\"Lost Galaxy $P_{obs}$\")\n",
    "            if (axis_to_sumover == 0):\n",
    "                ax.set_ylabel(\"Lost Galaxy app r-mag\")\n",
    "            ax.set_xlabel(\"Angular Distance (arcsec) to NN\")\n",
    "            ax.set_xscale('log')\n",
    "            \n",
    "            \n",
    "            cplot = axrow[1].pcolor(angular_bins, y_axis_bins, frac_same_binned[:,color_index,NN_color_index,zb,:], shading='auto', cmap='RdYlGn')\n",
    "            fig.colorbar(cplot, ax=axrow[1])\n",
    "            axrow[1].set_title(f\"NN Same Halo Over 40% (NN z {getlabel(zb, z_bins)})\")\n",
    "            if (axis_to_sumover == 4):\n",
    "                axrow[1].set_ylabel(\"Lost Galaxy $P_{obs}$\")\n",
    "            if (axis_to_sumover == 0):\n",
    "                axrow[1].set_ylabel(\"Lost Galaxy app r-mag\")    \n",
    "            axrow[1].set_xlabel(\"Angular Distance (arcsec) to NN\")\n",
    "            axrow[1].set_xscale('log')\n",
    "            \n",
    "            \"\"\"\n",
    "            cplot = axrow[2].pcolor(angular_bins, y_axis_bins, density, shading='auto', cmap='YlGn', norm=c.LogNorm(vmin=1, vmax=5000))\n",
    "            fig.colorbar(cplot, ax=axrow[2])\n",
    "            axrow[2].set_title(f\"Counts (NN z {getlabel(zb, z_bins)})\")\n",
    "            if (axis_to_sumover == 4):\n",
    "                axrow[2].set_ylabel(\"Lost Galaxy $P_{obs}$\")\n",
    "            if (axis_to_sumover == 0):\n",
    "                axrow[2].set_ylabel(\"Lost Galaxy app r-mag\")    \n",
    "            axrow[2].set_xlabel(\"Angular Distance (arcsec) to NN\")\n",
    "            axrow[2].set_xscale('log')\n",
    "            \"\"\"\n",
    "            if axis_to_sumover == 4:\n",
    "                if ncols == 1 and len(z_bin_numbers_to_plot) == 1:\n",
    "                    ax.scatter(get_NN_40_line(z_bins[zb]-0.01, POBS_bins, color_index, NN_color_index), POBS_bins)\n",
    "                else:\n",
    "                    for i in range(len(axrow)):\n",
    "                        axrow[i].scatter(get_NN_40_line(z_bins[zb]-0.01, POBS_bins, color_index, NN_color_index), POBS_bins)\n",
    "                \n",
    "\n",
    "        #fig.suptitle(title)\n",
    "        fig.tight_layout() \n"
   ]
  },
  {
   "cell_type": "code",
   "execution_count": null,
   "metadata": {},
   "outputs": [],
   "source": [
    "# Make a plot comparing Simple v4 and v2 thresholds\n",
    "\n",
    "# make array of midpoints of z_bins\n",
    "z_bin_midpoints = np.zeros(len(z_bins))\n",
    "for i in range(len(z_bins)):\n",
    "    if i == 0:\n",
    "        z_bin_midpoints[i] = z_bins[i] / 2\n",
    "    else:\n",
    "        z_bin_midpoints[i] = (z_bins[i] + z_bins[i-1]) / 2\n",
    "\n",
    "# Make a plot with 4 lines, one for each color combination, where x axis is the 40% line angular seperation value and y axis is the z bin\n",
    "# Use p_obs_index for the p obs value\n",
    "\n",
    "fig, ax = plt.subplots()\n",
    "for color_index in [0,1]:\n",
    "    for NN_color_index in [0,1]:\n",
    "        dat = np.zeros(len(z_bins))\n",
    "        for i in range(len(z_bins)):\n",
    "            dat[i] = get_NN_40_line(z_bins[i]-0.01, 0.5, color_index, NN_color_index)\n",
    "\n",
    "        if color_index == 1:\n",
    "            color = 'r'\n",
    "        else:\n",
    "            color = 'b'\n",
    "        if NN_color_index == 1:\n",
    "            marker = '-'\n",
    "        else:\n",
    "            marker = '--'\n",
    "        ax.plot(z_bin_midpoints, dat, marker, label=get_color_label(color_index, NN_color_index), color=color)\n",
    "\n",
    "dat = np.zeros(len(z_bins))\n",
    "for i in range(len(z_bins)):\n",
    "    dat[i] = get_NN_40_line_v2(z_bins[i]-0.01, 0.5)\n",
    "ax.plot(z_bin_midpoints, dat, label=\"v2\", color='black')\n",
    "\n",
    "plt.xlabel(\"z\")\n",
    "plt.ylabel(\"40% Threshold Distance [arcsec]\")\n",
    "plt.legend()"
   ]
  },
  {
   "cell_type": "markdown",
   "metadata": {},
   "source": [
    "### Trying to fit the 40% NN success curve"
   ]
  },
  {
   "cell_type": "code",
   "execution_count": null,
   "metadata": {},
   "outputs": [],
   "source": [
    "def get_prob_nn_same_halo(ang_dist, nn_z, my_app_mag, my_pobs):\n",
    "    my_ang_bin = np.digitize(ang_dist, angular_bins)\n",
    "    nn_z_bin = np.digitize(nn_z, z_bins)\n",
    "    my_app_mag_bin = np.digitize(my_app_mag, app_mag_bins)\n",
    "    my_pobs_bin = np.digitize(my_pobs, POBS_bins)\n",
    "    \n",
    "    #print(f\"There are {all_ang_bincounts_2[my_pobs_bin,0,nn_z_bin,my_app_mag_bin,my_ang_bin]} galaxies in this bin\")\n",
    "    return frac_same_halo_full[my_pobs_bin,0,nn_z_bin,my_app_mag_bin, my_ang_bin]"
   ]
  },
  {
   "cell_type": "code",
   "execution_count": null,
   "metadata": {},
   "outputs": [],
   "source": [
    "get_prob_nn_same_halo(13, 0.13, 16.7, 0.4)"
   ]
  },
  {
   "cell_type": "code",
   "execution_count": null,
   "metadata": {},
   "outputs": [],
   "source": [
    "def get_prob_nn_same_halo_index(my_ang_bin, nn_z_bin, my_app_mag_bin, my_pobs_bin):\n",
    "    return frac_same_halo_full[my_pobs_bin,0,nn_z_bin,my_app_mag_bin, my_ang_bin]\n",
    "\n",
    "#all_ang_bincounts_2 = np.ones((POBS_BIN_COUNT, len(nn_bins), len(z_bins), APP_MAG_BIN_COUNT, BIN_COUNT))\n",
    "#all_same_halo_bincounts_2 = np.zeros((POBS_BIN_COUNT, len(nn_bins), len(z_bins), APP_MAG_BIN_COUNT, BIN_COUNT))\n",
    "#all_sim_z_bincounts_2 = np.zeros((POBS_BIN_COUNT, len(nn_bins), len(z_bins), APP_MAG_BIN_COUNT, BIN_COUNT))\n",
    "\n",
    "from scipy.interpolate import interpn\n",
    "\n",
    "points = (range(len(angular_bins)), range(len(z_bins)), range(len(app_mag_bins)), range(len(POBS_bins)))\n",
    "values = get_prob_nn_same_halo_index(*np.meshgrid(*points, indexing='ij'))\n",
    "\n",
    "point = np.array([25, 0.13, 16.7, 0.4])"
   ]
  },
  {
   "cell_type": "code",
   "execution_count": null,
   "metadata": {},
   "outputs": [],
   "source": [
    "from scipy.optimize import curve_fit\n",
    "def func(x, a, b, c):\n",
    "    return a * np.exp(-b * x) + c\n",
    "\n",
    "xdata = np.linspace(0, 4, 50)\n",
    "y = func(xdata, 2.5, 1.3, 0.5)\n",
    "rng = np.random.default_rng()\n",
    "y_noise = 0.2 * rng.normal(size=xdata.size)\n",
    "ydata = y + y_noise\n",
    "plt.plot(xdata, ydata, 'b-', label='data')\n",
    "\n",
    "popt, pcov = curve_fit(func, xdata, ydata)\n",
    "print(popt)\n",
    "print(pcov)\n",
    "np.array([2.56274217, 1.37268521, 0.47427475])\n",
    "plt.plot(xdata, func(xdata, *popt), 'r-', label='fit: a=%5.3f, b=%5.3f, c=%5.3f' % tuple(popt))\n",
    "\n",
    "#popt, pcov = curve_fit(func, xdata, ydata, bounds=(0, [3., 1., 0.5]))\n",
    "#np.array([2.43736712, 1.        , 0.34463856])\n",
    "#plt.plot(xdata, func(xdata, *popt), 'g--', label='fit: a=%5.3f, b=%5.3f, c=%5.3f' % tuple(popt))\n",
    "\n",
    "plt.xlabel('x')\n",
    "plt.ylabel('y')\n",
    "plt.legend()\n",
    "plt.show()"
   ]
  },
  {
   "cell_type": "markdown",
   "metadata": {},
   "source": [
    "### Fancy Algorithm"
   ]
  },
  {
   "cell_type": "code",
   "execution_count": null,
   "metadata": {},
   "outputs": [],
   "source": [
    "NUM_NEIGHBORS = 20\n",
    "fancy_to_match = coord.SkyCoord(ra=ra[unobserved]*u.degree, dec=dec[unobserved]*u.degree, frame='icrs')"
   ]
  },
  {
   "cell_type": "code",
   "execution_count": null,
   "metadata": {},
   "outputs": [],
   "source": [
    "neighbor_indexes = np.zeros(shape=(NUM_NEIGHBORS, len(fancy_to_match)), dtype=np.int32) # indexes point to CATALOG locations\n",
    "ang_distances = np.zeros(shape=(NUM_NEIGHBORS, len(fancy_to_match)))\n",
    "\n",
    "print(f\"Finding nearest {NUM_NEIGHBORS} neighbors... \", end='\\r')   \n",
    "for n in range(0, NUM_NEIGHBORS):\n",
    "    idx, d2d, d3d = coord.match_coordinates_sky(fancy_to_match, catalog, nthneighbor=n+1, storekdtree=treename)\n",
    "    neighbor_indexes[n] = idx # TODO is that right?\n",
    "    ang_distances[n] = d2d.to(u.arcsec).value\n",
    "print(f\"Finding nearest {NUM_NEIGHBORS} neighbors... done!\")   "
   ]
  },
  {
   "cell_type": "code",
   "execution_count": null,
   "metadata": {},
   "outputs": [],
   "source": [
    "with FancyRedshiftGuesser(NUM_NEIGHBORS, debug=False) as scorer:\n",
    "    halo_matches = 0\n",
    "    z_matches = 0\n",
    "\n",
    "    print(f\"Assinging missing redshifts... \")   \n",
    "    # TODO don't loop?\n",
    "    j = 0 # index of the fancy_to_match sized arrays\n",
    "    \n",
    "    #for i in special_id:\n",
    "    for i in indexes_not_assigned: # index of the master arrays\n",
    "\n",
    "        #if i not in [7793057, 11425052]:\n",
    "        #    j+=1\n",
    "        #    continue\n",
    "\n",
    "        if j%10000==0:\n",
    "            print(f\"{j}/{len(fancy_to_match)} complete\", end='\\r')\n",
    "\n",
    "        neighbors = neighbor_indexes[:,j]\n",
    "        neighbors_z = z_obs_catalog[neighbors]\n",
    "        neighbors_ang_dist = ang_distances[:,j]\n",
    "        my_prob_obs = prob_obs_cut[i]\n",
    "        my_app_mag = app_mag[i]\n",
    "\n",
    "        winning_num = scorer.choose_winner(neighbors_z, neighbors_ang_dist, my_prob_obs, my_app_mag, z_obs[i])\n",
    "        winner_index = neighbors[winning_num]\n",
    "\n",
    "        # Track total correct\n",
    "        z_chosen = z_obs_catalog[winner_index] \n",
    "        if np.isclose(z_chosen, z_obs[i], rtol=0, atol=SIM_Z_THRESH):\n",
    "            z_matches += 1\n",
    "        halo_chosen = mxxl_halo_id_catalog[winner_index]\n",
    "        if halo_chosen == mxxl_halo_id[i]:\n",
    "            halo_matches += 1\n",
    "\n",
    "        j += 1 \n",
    "\n",
    "    print(f\"{j}/{len(fancy_to_match)} complete\")\n",
    "\n"
   ]
  },
  {
   "cell_type": "code",
   "execution_count": null,
   "metadata": {},
   "outputs": [],
   "source": [
    "print(f\"Halo matches: {halo_matches / len(fancy_to_match)}\")\n",
    "print(f\"z matches: {z_matches / len(fancy_to_match)}\")"
   ]
  },
  {
   "cell_type": "code",
   "execution_count": null,
   "metadata": {},
   "outputs": [],
   "source": [
    "# View results from a run of the FancyRedshiftGuesser. Must put in the right filename (number)\n",
    "filename = 'bin/redshift_guesser_1691466513.171286.npy'\n",
    "with open(filename, 'rb') as f:\n",
    "    quick_nn = np.load(f)\n",
    "    quick_correct = np.load(f)\n",
    "    nn_used = np.load(f)\n",
    "    nn_correct = np.load(f)\n",
    "\n",
    "print(f\"Quick NN uses: {quick_nn}. Success: {quick_correct / (quick_nn+1)}\")\n",
    "print(f\"NN bin uses: {nn_used}. Success: {nn_correct / (nn_used+1)}\")"
   ]
  },
  {
   "cell_type": "markdown",
   "metadata": {},
   "source": [
    "### Galaxy Pairs Angular Separation and Same-Halo Analysis\n",
    "Continuation of the above.\n",
    "\n",
    "THIS IS N^2 CALCULATION do not run on full sky. Adjust data\n"
   ]
  },
  {
   "cell_type": "code",
   "execution_count": null,
   "metadata": {},
   "outputs": [],
   "source": [
    "# THIS IS N^2 CALCULATION do not run on full sky.\n",
    "total_bincounts = np.ones((len(z_bins), BIN_COUNT))\n",
    "total_same_halo_bincounts = np.zeros((len(z_bins), BIN_COUNT))\n",
    "\n",
    "# Examine each galaxy in the sample pair once\n",
    "for i in range(len(ra)-1):\n",
    "    ang_distance = coord.angular_separation(ra[i]*u.degree, dec[i]*u.degree, ra[i+1:len(ra)]*u.degree, dec[i+1:len(ra)]*u.degree).to(u.arcsec)\n",
    "        \n",
    "    same_halo = mxxl_halo_id[i] == mxxl_halo_id[i+1:len(ra)]\n",
    "    #print(\"Same halo fraction for {0}:\".format(i), np.sum(same_halo) / len(same_halo))\n",
    "\n",
    "    angdist_bin_ind = np.digitize(ang_distance.value, angular_bins)\n",
    "    #print(bin_ind)\n",
    "    bincounts = np.bincount(angdist_bin_ind)[0:BIN_COUNT]\n",
    "    same_halo_bincounts = np.bincount(angdist_bin_ind, weights= same_halo.astype(int)) [0:BIN_COUNT]\n",
    "\n",
    "    z_bin = np.digitize(z_obs[i], z_bins)\n",
    "    total_bincounts[z_bin] = total_bincounts[z_bin] + bincounts\n",
    "    total_same_halo_bincounts[z_bin] = total_same_halo_bincounts[z_bin] + same_halo_bincounts\n",
    "    #print(total_same_halo_bincounts)\n",
    "\n",
    "#print(\"Total counts in each bin:\", total_bincounts)\n",
    "\n",
    "fraction_same_halo = total_same_halo_bincounts / total_bincounts\n",
    "#print(fraction_same_halo)"
   ]
  },
  {
   "cell_type": "code",
   "execution_count": null,
   "metadata": {},
   "outputs": [],
   "source": [
    "# Plots for galaxy pairs\n",
    "plt.figure()\n",
    "for i in range(len(z_bins)):\n",
    "    if i==0:\n",
    "        label = \"< {0}\".format(z_bins[i])\n",
    "    else:\n",
    "        label = \"{0} - {1}\".format(z_bins[i-1], z_bins[i])\n",
    "    plt.plot(angular_bins, total_bincounts[i], label=label)\n",
    "plt.legend()\n",
    "plt.xscale('log')\n",
    "plt.yscale('log')\n",
    "plt.xlabel('Angular Separation (arcsec)')\n",
    "plt.ylabel('Count of Galaxies Pairs')\n",
    "plt.title(\"Galaxy Pair Counts (by ang separation and z)\")\n",
    "plt.draw()\n",
    "\n",
    "plt.figure()\n",
    "for i in range(len(z_bins)):\n",
    "    if i==0:\n",
    "        label = \"< {0}\".format(z_bins[i])\n",
    "    else:\n",
    "        label = \"{0} - {1}\".format(z_bins[i-1], z_bins[i])\n",
    "    plt.plot(angular_bins, fraction_same_halo[i], label=label)\n",
    "plt.legend()\n",
    "plt.xscale('log')\n",
    "plt.xlabel('Angular Separation (arcsec)')\n",
    "plt.ylabel('Fraction Pair in Same Halo')\n",
    "plt.ylim(-0.01, 1.0)\n",
    "plt.title(\"Fraction Pair in Same Halo (by ang separation and z)\")\n",
    "plt.draw()"
   ]
  },
  {
   "cell_type": "markdown",
   "metadata": {},
   "source": [
    "# UCHUU Experiments\n"
   ]
  },
  {
   "cell_type": "markdown",
   "metadata": {},
   "source": [
    "### Experiments"
   ]
  },
  {
   "cell_type": "code",
   "execution_count": null,
   "metadata": {},
   "outputs": [],
   "source": [
    "#[('R_MAG_APP', '>f4'), ('R_MAG_ABS', '>f4'), ('G_R_REST', '>f4'), ('G_R_OBS', '>f4'), ('DEC', '>f8'), ('HALO_MASS', '>f4'), ('CEN', '>i4'), ('RES', '>i4'), ('RA', '>f8'), ('Z_COSMO', '>f4'), ('Z', '>f4'), ('STATUS', '>i4'), ('FIRST_ACC_SCALE', '>f4'), ('M_ACC', '>f4'), ('M_VIR_ALL', '>f4'), ('R_VIR', '>f4'), ('V_PEAK', '>f4'), ('R_S', '>f4'), ('V_RMS', '>f4'), ('NGC', '>f4'), ('SGC', '>f4'), ('HALO_ID', '>i8'), ('PID', '>i8')]))\n",
    "filename='/export/sirocco2/tinker/DESI/UCHUU_MOCKS/BGS_LC_Uchuu.fits'\n",
    "u_table = Table.read(filename, format='fits')"
   ]
  },
  {
   "cell_type": "code",
   "execution_count": null,
   "metadata": {},
   "outputs": [],
   "source": [
    "APP_MAG_CUT = 19.5"
   ]
  },
  {
   "cell_type": "code",
   "execution_count": null,
   "metadata": {},
   "outputs": [],
   "source": [
    "u_table.columns\n",
    "#G_R_OBS"
   ]
  },
  {
   "cell_type": "code",
   "execution_count": null,
   "metadata": {},
   "outputs": [],
   "source": [
    "dec = u_table['DEC']\n",
    "ra = u_table['RA']\n",
    "z_obs = u_table['Z']\n",
    "app_mag = u_table['R_MAG_APP']\n",
    "abs_mag = u_table['R_MAG_ABS']\n",
    "g_r = u_table['G_R_REST'] # TODO before using ensure it should be rest and not observed\n",
    "g_r_obs = u_table['G_R_OBS']\n",
    "central = u_table['CEN']\n",
    "uchuu_halo_mass = u_table['HALO_MASS']\n",
    "uchuu_halo_id = u_table['HALO_ID']\n",
    "\n",
    "bright_filter = app_mag < APP_MAG_CUT \n",
    "redshift_filter = z_obs > 0 \n",
    "keep = np.all([mass_filter, bright_filter, redshift_filter], axis=0)\n",
    "\n",
    "dec = dec[keep]\n",
    "ra = ra[keep]\n",
    "z_obs = z_obs[keep]\n",
    "app_mag = app_mag[keep]\n",
    "abs_mag = abs_mag[keep]\n",
    "g_r = g_r[keep]\n",
    "g_r_obs = g_r_obs[keep]\n",
    "central = central[keep]\n",
    "uchuu_halo_mass = uchuu_halo_mass[keep]\n",
    "uchuu_halo_id = uchuu_halo_id[keep]\n",
    "\n",
    "abs_mag_me = app_mag_to_abs_mag(app_mag, z_obs)\n"
   ]
  },
  {
   "cell_type": "code",
   "execution_count": null,
   "metadata": {},
   "outputs": [],
   "source": [
    "abs_mag_me_k = k_correct(app_mag, z_obs, g_r)\n",
    "# using true g-r instead of the observed g-r gives the reported distribution as shown by plot below\n"
   ]
  },
  {
   "cell_type": "code",
   "execution_count": null,
   "metadata": {},
   "outputs": [],
   "source": [
    "# Compare my_abs_mag to abs_mag. \n",
    "angular_bins = np.linspace(-25, -10, 100)\n",
    "#my_counts, my_bins, my_p = plt.hist(abs_mag_me, label=\"my abs_mag\", bins=bins, alpha=0.5)\n",
    "alex_counts, alex_bins, alex_p = plt.hist(abs_mag, label=\"UCHUU abs_mag\", bins=angular_bins, alpha=0.5)\n",
    "my_k_counts, my_k_bins, my_k_p = plt.hist(abs_mag_me_k, label=\"my k abs_mag\", bins=angular_bins, alpha=0.5)\n",
    "#z = plt.hist(my_abs_mag_k, label=\"my k abs_mag\", bins=50)\n",
    "plt.xlabel(\"Absolute Mag\")\n",
    "plt.ylabel(\"Count\")\n",
    "plt.title(\"Compare Absolute Mags\")\n",
    "plt.yscale('log')\n",
    "plt.legend()\n",
    "\n",
    "#print(f\"The peaks are UCHUU: {alex_bins[np.argmax(alex_counts)]:.1f}, My {my_bins[np.argmax(my_counts)]:.1f}, My K {my_k_bins[np.argmax(my_k_counts)]:.1f}\")"
   ]
  },
  {
   "cell_type": "code",
   "execution_count": null,
   "metadata": {},
   "outputs": [],
   "source": [
    "# UCHUU\n",
    "print(len(ra))\n",
    "estimate_frac_area(ra, dec)\n"
   ]
  },
  {
   "cell_type": "code",
   "execution_count": null,
   "metadata": {},
   "outputs": [],
   "source": [
    "rnd_indices = np.random.choice(len(ra), len(ra)//100, replace=False)\n",
    "fig = make_map(ra[rnd_indices], dec[rnd_indices]), \n"
   ]
  },
  {
   "cell_type": "code",
   "execution_count": null,
   "metadata": {},
   "outputs": [],
   "source": [
    "# TODO only centrals...\n",
    "plt.hist(np.log10(uchuu_halo_mass*10**10), bins=30, alpha=0.5, density=True, label=\"UCHUU\")\n",
    "plt.hist(np.log10(all.all_data['mxxl_halo_mass']*10**10), bins=30, alpha=0.5, density=True, label=\"MXXL\")\n",
    "#plt.yscale('log')\n",
    "plt.title(\"MXXL vs UCHUU Truth Halo Masses\")\n",
    "plt.xlabel('log(M_halo)')\n",
    "plt.ylabel('Density')\n",
    "plt.legend()"
   ]
  },
  {
   "cell_type": "markdown",
   "metadata": {},
   "source": [
    "# Tests"
   ]
  },
  {
   "cell_type": "code",
   "execution_count": null,
   "metadata": {},
   "outputs": [],
   "source": [
    "# Test estimate_frac_area for a completely filled sky\n",
    "_ra = np.linspace(0.01, 359.9, 1000)\n",
    "_dec = np.linspace(0.01, 179.9, 1000)\n",
    "_ra, _dec = np.meshgrid(_ra, _dec)\n",
    "_ra = _ra.flatten()\n",
    "_dec = _dec.flatten()\n",
    "\n",
    "estimate_frac_area(_ra, _dec)"
   ]
  },
  {
   "cell_type": "code",
   "execution_count": null,
   "metadata": {},
   "outputs": [],
   "source": []
  }
 ],
 "metadata": {
  "kernelspec": {
   "display_name": "Python 3.9.12 ('base')",
   "language": "python",
   "name": "python3"
  },
  "language_info": {
   "codemirror_mode": {
    "name": "ipython",
    "version": 3
   },
   "file_extension": ".py",
   "mimetype": "text/x-python",
   "name": "python",
   "nbconvert_exporter": "python",
   "pygments_lexer": "ipython3",
   "version": "3.11.4"
  },
  "orig_nbformat": 4,
  "vscode": {
   "interpreter": {
    "hash": "3067ead486e059ec00ffe7555bdb889e6e264a24dc711bf108106cc7baee8d5d"
   }
  }
 },
 "nbformat": 4,
 "nbformat_minor": 2
}
