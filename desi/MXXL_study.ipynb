{
 "cells": [
  {
   "cell_type": "code",
   "execution_count": null,
   "metadata": {},
   "outputs": [],
   "source": [
    "import numpy as np\n",
    "import pandas as pd\n",
    "import matplotlib.pyplot as plt\n",
    "import matplotlib.colors as c\n",
    "import h5py\n",
    "from astropy.wcs import WCS\n",
    "import astropy.coordinates as coord\n",
    "import astropy.units as u\n",
    "from pyutils import *\n",
    "import types\n",
    "import numpy.ma as ma\n",
    "import sys\n",
    "from random import randint\n",
    "from matplotlib.patches import Circle\n",
    "from ctypes import c_uint64\n",
    "import pickle\n",
    "from astropy.table import Table\n",
    "from postprocess import *\n",
    "import k_correction as kcorr\n",
    "\n",
    "#ROOT_FOLDER = \"/Volumes/Seagate Backup Plus Drive/galaxy-groups-data/\"\n",
    "#ROOT_FOLDER = \"/mnt/f/galaxy-groups-data/\"\n",
    "ROOT_FOLDER = \"../bin/\"\n",
    "BIG_FILES_FOLDER=\"/export/sirocco2/tinker/DESI/MXXL_MOCKS/\"\n"
   ]
  },
  {
   "cell_type": "code",
   "execution_count": null,
   "metadata": {},
   "outputs": [],
   "source": [
    "%load_ext autoreload\n",
    "%autoreload 2"
   ]
  },
  {
   "cell_type": "markdown",
   "metadata": {},
   "source": [
    "# MXXL Experiments"
   ]
  },
  {
   "cell_type": "markdown",
   "metadata": {},
   "source": [
    "## Simple plots of basic data"
   ]
  },
  {
   "cell_type": "code",
   "execution_count": null,
   "metadata": {},
   "outputs": [],
   "source": [
    "BITWORD = 'bitweight0'\n",
    "BIT_CHOICE = 0\n",
    "FIBER_ASSIGNED_SELECTOR = 2**BIT_CHOICE\n",
    "\n",
    "infile = h5py.File(BIG_FILES_FOLDER + 'weights_3pass.hdf5', 'r')\n",
    "\n",
    "dec = infile['Data/dec'][:]\n",
    "ra = infile['Data/ra'][:]\n",
    "z_obs = infile['Data/z_obs'][:]\n",
    "app_mag = infile['Data/app_mag'][:]\n",
    "g_r = infile['Data/g_r'][:]\n",
    "#abs_mag = infile['Data/abs_mag'][:] # We aren't using these; computing ourselves. \n",
    "galaxy_type = infile['Data/galaxy_type'][:]\n",
    "mxxl_halo_mass = infile['Data/halo_mass'][:]\n",
    "mxxl_halo_id = infile['Data/mxxl_id'][:]\n",
    "observed = (infile['Weight/'+BITWORD][:] & FIBER_ASSIGNED_SELECTOR ).astype(bool)\n"
   ]
  },
  {
   "cell_type": "code",
   "execution_count": null,
   "metadata": {},
   "outputs": [],
   "source": [
    "df = pd.DataFrame(data={\n",
    "    'dec': dec, \n",
    "    'ra': ra,\n",
    "    'z_obs': z_obs,\n",
    "    'app_mag': app_mag,\n",
    "    'g_r': g_r,\n",
    "    'galaxy_type': galaxy_type,\n",
    "    'mxxl_halo_mass': mxxl_halo_mass,\n",
    "    'mxxl_halo_id': mxxl_halo_id,\n",
    "    'observed': observed\n",
    "    })\n"
   ]
  },
  {
   "cell_type": "code",
   "execution_count": null,
   "metadata": {},
   "outputs": [],
   "source": [
    "keep = df.app_mag < 17.9\n",
    "df = df[keep].reset_index(drop=True)\n",
    "indexes_assigned = np.argwhere(df.observed)\n",
    "assert np.max(indexes_assigned) <= len(df), \"Indexes not assigned are out of range\""
   ]
  },
  {
   "cell_type": "code",
   "execution_count": null,
   "metadata": {},
   "outputs": [],
   "source": []
  },
  {
   "cell_type": "code",
   "execution_count": null,
   "metadata": {},
   "outputs": [],
   "source": [
    "df.z_eff = np.copy(df.z_obs)"
   ]
  },
  {
   "cell_type": "code",
   "execution_count": null,
   "metadata": {},
   "outputs": [],
   "source": [
    "\n",
    "z_obs_catalog = df.z_obs[0:10].to_numpy()\n"
   ]
  },
  {
   "cell_type": "code",
   "execution_count": null,
   "metadata": {},
   "outputs": [],
   "source": [
    "z_obs_catalog[3]"
   ]
  },
  {
   "cell_type": "code",
   "execution_count": null,
   "metadata": {},
   "outputs": [],
   "source": [
    "DATA_CUT_INDEX = 1000000 #21201544 #3000000 \n",
    "\n",
    "weights = h5py.File(BIG_FILES_FOLDER + 'weights_3pass.hdf5', 'r')\n",
    "print(list(weights))\n",
    "print(list(weights['Data']))\n",
    "print(list(weights['Weight']))"
   ]
  },
  {
   "cell_type": "code",
   "execution_count": null,
   "metadata": {},
   "outputs": [],
   "source": [
    "small_z_obs = weights['Data/z_obs'][0:DATA_CUT_INDEX]\n",
    "bins = plt.hist(small_z_obs, bins=50)\n",
    "plt.xlabel(\"$z_{obs}$\")\n",
    "plt.title(\"Histogram of Observed Redshifts\")\n"
   ]
  },
  {
   "cell_type": "code",
   "execution_count": null,
   "metadata": {},
   "outputs": [],
   "source": [
    "mxxl_ra = weights['Data/ra'][0:DATA_CUT_INDEX]\n",
    "mxxl_dec = weights['Data/dec'][0:DATA_CUT_INDEX]\n",
    "mxxl_app_mag = weights['Data/app_mag'][0:DATA_CUT_INDEX]\n",
    "bright_filter = mxxl_app_mag < 19.5 \n",
    "mxxl_ra_bright = mxxl_ra[bright_filter]\n",
    "mxxl_dec_bright = mxxl_dec[bright_filter]  \n",
    "mxxl_app_mag_bright = mxxl_app_mag[bright_filter]"
   ]
  },
  {
   "cell_type": "code",
   "execution_count": null,
   "metadata": {},
   "outputs": [],
   "source": [
    "print(estimate_frac_area(mxxl_ra, mxxl_dec))\n",
    "print(estimate_frac_area(mxxl_ra_bright, mxxl_dec_bright))"
   ]
  },
  {
   "cell_type": "code",
   "execution_count": null,
   "metadata": {},
   "outputs": [],
   "source": [
    "rnd_indices = np.random.choice(len(mxxl_ra), len(mxxl_ra)//50, replace=False)\n",
    "fig = make_map(mxxl_ra[rnd_indices], mxxl_dec[rnd_indices]), # This looks like Alex' paper, good\n"
   ]
  },
  {
   "cell_type": "code",
   "execution_count": null,
   "metadata": {},
   "outputs": [],
   "source": [
    "\n",
    "mxxl_halo_id = weights['Data/mxxl_id'][0:DATA_CUT_INDEX]\n",
    "np.sum(mxxl_halo_id == 0) / len(mxxl_halo_id)\n",
    "# 2.5% of galaxies have 0 for the MXXL Halo ID because that are in halos that were added by hand post-simulation\n",
    "# This was done because the small halos were not resolved in the simulation\n",
    "# Gal type 2 and 3 are central and satellite galaxies that were unresolved\n",
    "\n",
    "small_gal_type = weights['Data/galaxy_type'][0:DATA_CUT_INDEX]\n",
    "\n",
    "weird_indexes = np.argwhere(np.invert(mxxl_halo_id.astype(bool)))\n",
    "weird_types = small_gal_type[weird_indexes]\n",
    "trash = plt.hist(weird_types)"
   ]
  },
  {
   "cell_type": "code",
   "execution_count": null,
   "metadata": {},
   "outputs": [],
   "source": [
    "small_app_mag = weights['Data/app_mag'][0:DATA_CUT_INDEX]\n",
    "bins = plt.hist(small_app_mag, bins=50)\n",
    "plt.xlabel(\"Apparent Mag\")\n",
    "plt.title(\"Histogram of Apparent Mags\")"
   ]
  },
  {
   "cell_type": "code",
   "execution_count": null,
   "metadata": {},
   "outputs": [],
   "source": [
    "DATA_CUT_INDEX = 1000000\n",
    "ra=weights['Data/ra'][0:DATA_CUT_INDEX]\n",
    "dec=weights['Data/dec'][0:DATA_CUT_INDEX]\n",
    "small_app_mag = weights['Data/app_mag'][0:DATA_CUT_INDEX]\n",
    "small_abs_mag = weights['Data/abs_mag'][0:DATA_CUT_INDEX]\n",
    "small_colours = weights['Data/g_r'][0:DATA_CUT_INDEX]\n",
    "small_z_obs = weights['Data/z_obs'][0:DATA_CUT_INDEX]\n",
    "small_z_cos = weights['Data/z_cos'][0:DATA_CUT_INDEX]\n",
    "bright_filter = small_app_mag < 19.5 \n",
    "\n",
    "ra=ra[bright_filter]\n",
    "dec=dec[bright_filter]\n",
    "small_app_mag=small_app_mag[bright_filter]\n",
    "small_abs_mag=small_abs_mag[bright_filter]\n",
    "small_colours=small_colours[bright_filter]\n",
    "small_z_obs=small_z_obs[bright_filter]\n",
    "small_z_cos=small_z_cos[bright_filter]\n",
    "\n"
   ]
  },
  {
   "cell_type": "code",
   "execution_count": null,
   "metadata": {},
   "outputs": [],
   "source": [
    "plt.hist(small_z_obs - small_z_cos, bins=50)"
   ]
  },
  {
   "cell_type": "code",
   "execution_count": null,
   "metadata": {},
   "outputs": [],
   "source": [
    "print(np.max(small_colours), np.min(small_colours))"
   ]
  },
  {
   "cell_type": "code",
   "execution_count": null,
   "metadata": {},
   "outputs": [],
   "source": [
    "my_abs_mag = app_mag_to_abs_mag(small_app_mag, small_z_obs)\n",
    "#my_abs_mag2 = app_mag_to_abs_mag(small_app_mag, small_z_cos)\n"
   ]
  },
  {
   "cell_type": "code",
   "execution_count": null,
   "metadata": {},
   "outputs": [],
   "source": [
    "my_abs_mag_k = app_mag_to_abs_mag_k(small_app_mag, small_z_obs, small_colours)\n",
    "#my_abs_mag_k2 = app_mag_to_abs_mag_k(small_app_mag, small_z_cos, small_colours)\n",
    "\n",
    "# z cos vs z obs does not make a difference\n"
   ]
  },
  {
   "cell_type": "code",
   "execution_count": null,
   "metadata": {},
   "outputs": [],
   "source": [
    "# Compare my_abs_mag to abs_mag. \n",
    "bins = np.linspace(-25, -10, 100)\n",
    "#my_counts, my_bins, my_p = plt.hist(my_abs_mag, label=\"my abs_mag\", bins=bins, alpha=0.5)\n",
    "#my_counts, my_bins, my_p = plt.hist(my_abs_mag2, label=\"my abs_mag 2\", bins=bins, alpha=0.5)\n",
    "alex_counts, alex_bins, alex_p = plt.hist(small_abs_mag, label=\"alex abs_mag\", bins=bins, alpha=0.5)\n",
    "my_k_counts, my_k_bins, my_k_p = plt.hist(my_abs_mag_k, label=\"my k abs_mag\", bins=bins, alpha=0.5)\n",
    "#z = plt.hist(my_abs_mag_k, label=\"my k abs_mag\", bins=50)\n",
    "plt.xlabel(\"Absolute Mag\")\n",
    "plt.ylabel(\"Count\")\n",
    "plt.title(\"Compare Absolute Mags\")\n",
    "plt.yscale('log')\n",
    "plt.legend()\n",
    "\n",
    "#print(f\"The peaks are Alex: {alex_bins[np.argmax(alex_counts)]:.1f}, My {my_bins[np.argmax(my_counts)]:.1f}, My K {my_k_bins[np.argmax(my_k_counts)]:.1f}\")"
   ]
  },
  {
   "cell_type": "code",
   "execution_count": null,
   "metadata": {},
   "outputs": [],
   "source": []
  },
  {
   "cell_type": "code",
   "execution_count": null,
   "metadata": {},
   "outputs": [],
   "source": [
    "# At what distance (luminosity distance) would the objects appear to be 19.5 mag?\n",
    "v_max = get_max_observable_volume_est(my_abs_mag, small_z_obs, 19.5, ra, dec)\n",
    "v_max2 = get_max_observable_volume_est(small_abs_mag, small_z_obs, 19.5, ra, dec)\n",
    "v_max3 = get_max_observable_volume_est(my_abs_mag_k, small_z_obs, 19.5, ra, dec)\n",
    "\n",
    "bins = plt.hist(np.log10(v_max), label=\"my abs_mag\", bins=100, alpha=0.5)\n",
    "bins = plt.hist(np.log10(v_max2), label=\"alex abs_mag\", bins=100, alpha=0.5)\n",
    "bins = plt.hist(np.log10(v_max3), label=\"my k abs_mag\", bins=100, alpha=0.5)\n",
    "plt.title(\"Compare V_max\")\n",
    "plt.legend()\n",
    "plt.xlabel(\"log(V_max) [Mpc]\")\n",
    "plt.ylabel(\"Count\")"
   ]
  },
  {
   "cell_type": "markdown",
   "metadata": {},
   "source": [
    "### What is a reasonable z fudge factor for 'close enough' redshifts given galaxies $v_{\\mathrm{pec}}$?\n",
    "\n",
    "Galaxies move at hundreds of km/s usually, or thousands in a rich cluster.\n",
    "\n",
    "Two galaxies moving at 600 km/s towards each other along LOS but at same cosmological redshift would have a total redshift difference of 0.004. This suggests a z +/- 0.002 is totally reasonable. In richer areas this could be as high as z +/- 0.010. \n",
    "\n",
    "Adopting z +/- 0.003 for now seems fine. Can refine later."
   ]
  },
  {
   "cell_type": "code",
   "execution_count": null,
   "metadata": {},
   "outputs": [],
   "source": [
    "# What is a reasonable z +/- fudge factor for 'close enough' redshifts? \n",
    "# Consider peculiar velocities.\n",
    "z_test = [0.001, 0.002, 0.003, 0.005, 0.01] * u.dimensionless_unscaled\n",
    "v_pec = z_test.to(u.km / u.s, u.equivalencies.doppler_redshift())\n",
    "for i in range(len(z_test)):\n",
    "    print(f\"z={z_test[i]:.3f} is {v_pec[i]:.0f}\")\n",
    "\n"
   ]
  },
  {
   "cell_type": "markdown",
   "metadata": {},
   "source": [
    "## Get Truth Abs Mag for Correcting\n",
    "\n",
    "This is for the 'fancy' approach that we don't use."
   ]
  },
  {
   "cell_type": "code",
   "execution_count": null,
   "metadata": {},
   "outputs": [],
   "source": [
    "app_mag = weights['Data/app_mag'][:]\n",
    "z_obs = weights['Data/z_obs'][:]\n",
    "APP_MAG_CUT = 19.5\n",
    "bright_filter = app_mag < APP_MAG_CUT \n",
    "redshift_filter = z_obs > 0 \n",
    "keep = np.all([bright_filter, redshift_filter], axis=0)\n",
    "\n",
    "app_mag = app_mag[keep]\n",
    "z_obs = z_obs[keep]\n",
    "\n",
    "my_abs_mag = app_mag_to_abs_mag(app_mag, z_obs)"
   ]
  },
  {
   "cell_type": "code",
   "execution_count": null,
   "metadata": {},
   "outputs": [],
   "source": [
    "bins = np.linspace(min(my_abs_mag), max(my_abs_mag), 100)\n",
    "densities, bins  = np.histogram(my_abs_mag, bins=bins, density=True)\n",
    "t = plt.hist(my_abs_mag, bins, density=True)\n",
    "\n",
    "with open('bin/abs_mag_weight.npy', 'wb') as f:\n",
    "    np.save(f, densities, allow_pickle=False)\n",
    "    np.save(f, bins, allow_pickle=False)"
   ]
  },
  {
   "cell_type": "code",
   "execution_count": null,
   "metadata": {},
   "outputs": [],
   "source": [
    "with open('bin/abs_mag_weight.npy', 'rb') as f:\n",
    "    densities = np.load(f)\n",
    "    bins = np.load(f)\n",
    "\n",
    "plt.plot(bins[0:99], densities)\n",
    "#plt.yscale('log')"
   ]
  },
  {
   "cell_type": "markdown",
   "metadata": {},
   "source": [
    "## Examine map of apparent mag to z distribution"
   ]
  },
  {
   "cell_type": "code",
   "execution_count": null,
   "metadata": {},
   "outputs": [],
   "source": [
    "# Builds a map of apparent mags to a pdf of redshifts.plt\n",
    "# Build the map all the way to 20th mag\n",
    "app_mag = weights['Data/app_mag'][:]\n",
    "z_obs = weights['Data/z_obs'][:]\n",
    "APP_MAG_CUT = 20.0\n",
    "bright_filter = app_mag < APP_MAG_CUT \n",
    "redshift_filter = z_obs > 0 \n",
    "keep = np.all([bright_filter, redshift_filter], axis=0)\n",
    "app_mag = app_mag[keep]\n",
    "z_obs = z_obs[keep]"
   ]
  },
  {
   "cell_type": "code",
   "execution_count": null,
   "metadata": {},
   "outputs": [],
   "source": [
    "app_mag_bins, the_map = build_app_mag_to_z_map(app_mag, z_obs)\n",
    "\n",
    "counts, app_mag_bins_2  = np.histogram(app_mag, bins=app_mag_bins, density=False)\n",
    "plt.figure()\n",
    "t = plt.hist(app_mag, app_mag_bins, density=False)\n",
    "plt.yscale('log')\n",
    "\n",
    "plt.figure()\n",
    "trash=plt.hist(the_map[0],bins=30, density=True)\n",
    "trash=plt.hist(the_map[50],bins=30, density=True)\n",
    "trash=plt.hist(the_map[100],bins=30, density=True)"
   ]
  },
  {
   "cell_type": "markdown",
   "metadata": {},
   "source": [
    "### Density of Galaxies per square degree"
   ]
  },
  {
   "cell_type": "code",
   "execution_count": null,
   "metadata": {},
   "outputs": [],
   "source": [
    "app_mag = weights['Data/app_mag'][:]\n",
    "print(f\"There are ~{np.sum(app_mag < 19.5) / 14000:.0f} galaxies/deg^2 < 19.5 mag\")\n",
    "print(f\"There are ~{np.sum(np.all([app_mag > 19.5, app_mag < 20.0], axis=0)) / 14000:.0f} galaxies/deg^2 between 19.5 and 20.0 mag\")"
   ]
  },
  {
   "cell_type": "markdown",
   "metadata": {},
   "source": [
    "## Nearest Neighbor Angular Separation and Same-Halo Analysis\n"
   ]
  },
  {
   "cell_type": "code",
   "execution_count": null,
   "metadata": {},
   "outputs": [],
   "source": [
    "input = weights\n",
    "dec = input['Data/dec'][:]\n",
    "ra = input['Data/ra'][:]\n",
    "z_obs = input['Data/z_obs'][:]\n",
    "app_mag = input['Data/app_mag'][:]\n",
    "\n",
    "APP_MAG_CUT = 19.5\n",
    "bright_filter = app_mag < APP_MAG_CUT # makes a filter array (True/False values)\n",
    "redshift_filter = z_obs > 0 # makes a filter array (True/False values)\n",
    "#location_filter_1 = ra < 270.0\n",
    "#location_filter_2 = ra > 120.0\n",
    "#location_filter_3 = dec > 0.0\n",
    "#location_filter_4 = dec < 45.0\n",
    "keep = np.all([bright_filter, redshift_filter], axis=0)\n",
    "#keep = np.all([bright_filter, redshift_filter, location_filter_1, location_filter_2, location_filter_3, location_filter_4], axis=0)\n",
    "\n",
    "dec = dec[keep]\n",
    "ra = ra[keep]\n",
    "z_obs = z_obs[keep]\n",
    "app_mag = app_mag[keep]\n",
    "sim_halo_id = input['Data/mxxl_id'][:]\n",
    "sim_halo_id = sim_halo_id[keep]\n",
    "\n",
    "\n",
    "len(dec)"
   ]
  },
  {
   "cell_type": "code",
   "execution_count": null,
   "metadata": {},
   "outputs": [],
   "source": [
    "BIT_CHOICE = 0\n",
    "FIBER_ASSIGNED_SELECTOR = 2**BIT_CHOICE\n",
    "fassigned = (input['Weight/bitweight0'][:] & FIBER_ASSIGNED_SELECTOR).astype(bool) # choose 1 of the 2048 fiber assignment realizations with this bitstring\n",
    "fnotassigned = np.invert(fassigned)\n",
    "\n",
    "fassigned = fassigned[keep]\n",
    "fnotassigned = fnotassigned[keep]\n",
    "indexes_not_assigned = np.argwhere(fnotassigned)\n",
    "\n",
    "print(np.sum(fassigned) / len(dec))\n",
    "\n",
    "with open('../bin/prob_obs.npy', 'rb') as f:\n",
    "    prob_obs = np.load(f)\n",
    "prob_obs_cut = prob_obs[keep]"
   ]
  },
  {
   "cell_type": "markdown",
   "metadata": {},
   "source": [
    "### Calculate P_obs"
   ]
  },
  {
   "cell_type": "code",
   "execution_count": null,
   "metadata": {},
   "outputs": [],
   "source": [
    "def bitsum(bitstring):\n",
    "    return bin(c_uint64(bitstring).value).count(\"1\")\n",
    "v_bitsum = np.vectorize(bitsum)\n",
    "\n",
    "def summate(a):\n",
    "    return np.sum(v_bitsum(a))\n"
   ]
  },
  {
   "cell_type": "code",
   "execution_count": null,
   "metadata": {},
   "outputs": [],
   "source": [
    "# Skip this if iips were loaded OK. Takes ~8 minutes.\n",
    "\n",
    "# Read all 32 64-bitstrings into memory from the file\n",
    "num_bitstrings = 32\n",
    "galaxy_count = len(input['Weight/bitweight0'])\n",
    "bitweights = np.empty((num_bitstrings, galaxy_count), dtype='i8')\n",
    "\n",
    "for i in range(num_bitstrings):\n",
    "    bitweights[i] = input['Weight/bitweight{0}'.format(i)][:]\n",
    "    \n",
    "prob_obs = np.apply_along_axis(summate, 0, bitweights) / 2048\n",
    "\n",
    "with open('bin/prob_obs.npy', 'wb') as f:\n",
    "    np.save(f, prob_obs)\n"
   ]
  },
  {
   "cell_type": "code",
   "execution_count": null,
   "metadata": {},
   "outputs": [],
   "source": [
    "specimen = 123\n",
    "bit_selector = c_uint64(2).value\n",
    "print('{:064b}'.format(bit_selector))\n",
    "print('')\n",
    "for i in range(num_bitstrings):\n",
    "    value = bitweights[(i,specimen)]\n",
    "    converted = c_uint64(value).value\n",
    "    print('{:064b}'.format(converted), '{:2.0f}'.format(bitsum(value)), bool(converted & bit_selector))\n",
    "\n",
    "print(\"Averaged Probability of being targetted: \", prob_obs[specimen])"
   ]
  },
  {
   "cell_type": "code",
   "execution_count": null,
   "metadata": {},
   "outputs": [],
   "source": [
    "prob_obs_cut = prob_obs[keep]\n",
    "\n",
    "pobs_bins_temp = np.linspace(0,1)\n",
    "trash=plt.hist(prob_obs, bins=pobs_bins_temp, label=\"All galaxies\")\n",
    "trash2=plt.hist(prob_obs_cut, bins=pobs_bins_temp, label=f\"Galaxies below {APP_MAG_CUT} mag\")\n",
    "plt.yscale('log')\n",
    "plt.legend()"
   ]
  },
  {
   "cell_type": "code",
   "execution_count": null,
   "metadata": {},
   "outputs": [],
   "source": [
    "prob_obs_dim = prob_obs[np.invert(keep)]\n",
    "trash=plt.hist(prob_obs_dim, bins=pobs_bins_temp, alpha=0.5, label=f\"Galaxies above {APP_MAG_CUT} mag\")\n",
    "trash2=plt.hist(prob_obs_cut, bins=pobs_bins_temp, alpha=0.5, label=f\"Galaxies below {APP_MAG_CUT} mag\")\n",
    "plt.yscale('log')\n",
    "plt.xlabel('$P_{obs}$')\n",
    "plt.ylabel(\"Count\")\n",
    "plt.legend()"
   ]
  },
  {
   "cell_type": "markdown",
   "metadata": {},
   "source": [
    "### Same Halo / Similar z Analysis\n",
    "\n",
    "What fraction of time nearest neighbors in same halo? \n",
    "\n",
    "What is the distribution of Angular distances?\n",
    "\n",
    "What fraction of time is nearest neighbors at a similar enough redshift?"
   ]
  },
  {
   "cell_type": "code",
   "execution_count": null,
   "metadata": {},
   "outputs": [],
   "source": [
    "# Now bin so that things with ang distances higher than the max we care about are thrown out\n",
    "BIN_COUNT = 25\n",
    "bins = np.logspace(np.log10(3), np.log10(60*60), BIN_COUNT)\n",
    "print(\"Angular Distance Bin Markers\", bins)\n",
    "\n",
    "z_bins = SimpleRedshiftGuesser.z_bins\n",
    "print(\"Redshift Bin Markers\", z_bins)\n",
    "\n",
    "POBS_BIN_COUNT = 25\n",
    "POBS_bins = np.linspace(0.01, 1.0, POBS_BIN_COUNT)\n",
    "print(\"Pobs Bin Markers\", POBS_bins)\n",
    "\n",
    "APP_MAG_BIN_COUNT = 25\n",
    "app_mag_bins = np.linspace(15.0, 20.01, APP_MAG_BIN_COUNT)\n",
    "print(\"App mag bin markers\", app_mag_bins)\n",
    "\n",
    "LOST_GALAXIES_ONLY = True\n",
    "\n",
    "if LOST_GALAXIES_ONLY:\n",
    "    treename = 'mxxl_same_halo_analysis_fiberassigned_b' + str(BIT_CHOICE)\n",
    "    catalog = coord.SkyCoord(ra=ra[fassigned]*u.degree, dec=dec[fassigned]*u.degree, frame='icrs')\n",
    "    sim_halo_id_catalog = sim_halo_id[fassigned]\n",
    "    z_obs_catalog = z_obs[fassigned]\n",
    "else:\n",
    "    treename = 'mxxl_same_halo_analysis_all'\n",
    "    catalog = coord.SkyCoord(ra=ra*u.degree, dec=dec*u.degree, frame='icrs')\n",
    "    sim_halo_id_catalog = sim_halo_id\n",
    "    z_obs_catalog = z_obs\n"
   ]
  },
  {
   "cell_type": "code",
   "execution_count": null,
   "metadata": {},
   "outputs": [],
   "source": [
    "# Get NN's angular distance distribution and same halo truth from MXXL\n",
    "\n",
    "# Though this is binned by z of the target and not the NN, it shouldn't be able to affect results\n",
    "# by recipricality of NN\n",
    "z_bin = np.digitize(z_obs, z_bins)\n",
    "\n",
    "if LOST_GALAXIES_ONLY:\n",
    "    #nn_bins = np.arange(5)+1\n",
    "    nn_bins=[1]\n",
    "else:\n",
    "    nn_bins = [2]#[2,3,4] # this means closest 3. '1' will find the same object.\n",
    "\n",
    "all_ang_bincounts = np.ones((len(z_bins), len(nn_bins), len(bins)))\n",
    "all_same_halo_bincounts = np.zeros((len(z_bins), len(nn_bins), len(bins)))\n",
    "all_same_z_bincounts = np.zeros((len(z_bins), len(nn_bins), len(bins)))\n",
    "all_sim_z_bincounts = np.zeros((len(z_bins), len(nn_bins), len(bins)))\n",
    "\n",
    "for i in range(len(z_bins)):\n",
    "    for j in range(len(nn_bins)):\n",
    "        if LOST_GALAXIES_ONLY:\n",
    "            filter = np.all([z_bin == i, fnotassigned], axis=0)\n",
    "        else:\n",
    "            filter = z_bin == i\n",
    "        to_match = coord.SkyCoord(ra=ra[filter]*u.degree, dec=dec[filter]*u.degree, frame='icrs')\n",
    "        idx, d2d, d3d = coord.match_coordinates_sky(to_match, catalog, nthneighbor=nn_bins[j], storekdtree=treename)\n",
    "\n",
    "        same_halo = sim_halo_id[filter] == sim_halo_id_catalog[idx]\n",
    "        same_z = np.isclose(z_obs[filter], z_obs_catalog[idx], rtol=0, atol=0.000001)\n",
    "        sim_z = np.isclose(z_obs[filter], z_obs_catalog[idx], rtol=0, atol=SIM_Z_THRESH)\n",
    "        \n",
    "        angdist_bin_ind = np.digitize(d2d.to(u.arcsec).value, bins)\n",
    "        \n",
    "        bincounts = np.bincount(angdist_bin_ind, minlength=len(bins)) + 1 # avoids divide by 0, won't hurt statistics\n",
    "        all_ang_bincounts[i][j] = bincounts\n",
    "\n",
    "        bincounts2 = np.bincount(angdist_bin_ind, minlength=len(bins), weights=same_halo.astype(int))\n",
    "        all_same_halo_bincounts[i][j] = bincounts2\n",
    "\n",
    "        bincount3 = np.bincount(angdist_bin_ind, minlength=len(bins), weights=same_z.astype(int))\n",
    "        all_same_z_bincounts[i][j] = bincount3\n",
    "\n",
    "        bincount4 = np.bincount(angdist_bin_ind, minlength=len(bins), weights=sim_z.astype(int))\n",
    "        all_sim_z_bincounts[i][j] = bincount4\n",
    "    "
   ]
  },
  {
   "cell_type": "code",
   "execution_count": null,
   "metadata": {},
   "outputs": [],
   "source": [
    "print(\"Galaxies studied: {0}. Same halo: {1}. Similar z: {2}\".format(np.sum(all_ang_bincounts), np.sum(all_same_halo_bincounts), np.sum(all_sim_z_bincounts)))"
   ]
  },
  {
   "cell_type": "code",
   "execution_count": null,
   "metadata": {},
   "outputs": [],
   "source": [
    "# TODO \n",
    "#for b in range(len(all_same_halo_bincounts)):\n",
    "#    print(all_same_halo_bincounts[b], all_same_z_bincounts[b], len(all_same_z_bincounts))\n",
    "\n",
    "np.all(np.isclose(all_same_halo_bincounts, all_same_z_bincounts))"
   ]
  },
  {
   "cell_type": "code",
   "execution_count": null,
   "metadata": {},
   "outputs": [],
   "source": [
    "def getlabel(index, z_bins):\n",
    "    if index==0:\n",
    "        label = \"< {0}\".format(z_bins[index])\n",
    "    else:\n",
    "        label = \"{0} - {1}\".format(z_bins[index-1], z_bins[index])\n",
    "    return label"
   ]
  },
  {
   "cell_type": "code",
   "execution_count": null,
   "metadata": {},
   "outputs": [],
   "source": [
    "# Plots for nearest-neighbor angular distances and same-halo analysis\n",
    "\n",
    "for j in range(len(nn_bins)):\n",
    "    if j < 5:\n",
    "        plt.figure()\n",
    "        for i in range(len(z_bins)):\n",
    "            label = getlabel(i, z_bins)\n",
    "        plt.plot(bins, all_ang_bincounts[i][j], label=label, color=get_color(i))\n",
    "\n",
    "        plt.title(f\"Nearest Neighbor {j} Ang. Distance Distribution\")\n",
    "        plt.ylabel(\"Count\")\n",
    "        plt.xlabel(\"Angular Distance (arcsec)\")\n",
    "        plt.yscale('log')\n",
    "        plt.xscale('log')\n",
    "        plt.legend()\n",
    "        plt.draw()\n",
    "\n",
    "        plt.figure()\n",
    "        for i in range(len(z_bins)):\n",
    "            label = getlabel(i, z_bins)\n",
    "            plt.plot(bins, all_same_halo_bincounts[i][j]/all_ang_bincounts[i][j], label=label, color=get_color(i))\n",
    "            print(\"Total fraction of nearest neighbors in same halo (z {0}, NN-{1}): {2:.3f}\".format(label, j+1, np.sum(all_same_halo_bincounts[i][j]) / np.sum(all_ang_bincounts[i][j])))\n",
    "\n",
    "        plt.title(f\"Nearest Neighbor {j} Same Halo Fraction\")\n",
    "        plt.ylabel(\"NN Same Halo Fraction\")\n",
    "        plt.xlabel(\"Angular Distance (arcsec)\")\n",
    "        plt.xscale('log')\n",
    "        plt.legend()\n",
    "        plt.draw()\n",
    "\n",
    "        plt.figure()\n",
    "        for i in range(len(z_bins)):\n",
    "            label = getlabel(i, z_bins)\n",
    "            plt.plot(bins, all_sim_z_bincounts[i][j]/all_ang_bincounts[i][j], label=label, color=get_color(i))\n",
    "            \n",
    "            print(\"Total fraction of nearest neighbors at sim z (z {0}, NN-{1}): {2:.3f}\".format(label, j+1, np.sum(all_sim_z_bincounts[i][j]) / np.sum(all_ang_bincounts[i][j])))\n",
    "\n",
    "        plt.title(f\"Nearest Neighbor {j} Sim z Fraction\")\n",
    "        plt.ylabel(\"NN Sim z Fraction\")\n",
    "        plt.xlabel(\"Angular Distance (arcsec)\")\n",
    "        plt.xscale('log')\n",
    "        plt.legend()\n",
    "        plt.draw()\n",
    "\n",
    "#print(\"What fraction of the time is the NN >19.5 mag?\")"
   ]
  },
  {
   "cell_type": "markdown",
   "metadata": {},
   "source": [
    "### Color plots of NN Same Halo in z / ang distance / P_obs space"
   ]
  },
  {
   "cell_type": "code",
   "execution_count": null,
   "metadata": {},
   "outputs": [],
   "source": [
    "# TODO consider:\n",
    "# Why do I treat z differently? \n",
    "# Should I move the looks to where the z loop is? \n",
    "# Have less calls to match_coord_sky and post-process? Is that possible?\n",
    "# I think its a lot faster to do that\n",
    "POBS_bin = np.digitize(prob_obs_cut, POBS_bins)\n",
    "app_mag_bin = np.digitize(app_mag, app_mag_bins)\n",
    "\n",
    "if LOST_GALAXIES_ONLY: \n",
    "    nn_bins = [1]\n",
    "else:\n",
    "    nn_bins = [2] # since catalog includes the targets in this case\n",
    "\n",
    "all_ang_bincounts_2 = np.ones((POBS_BIN_COUNT, len(nn_bins), len(z_bins), APP_MAG_BIN_COUNT, BIN_COUNT))\n",
    "all_same_halo_bincounts_2 = np.zeros((POBS_BIN_COUNT, len(nn_bins), len(z_bins), APP_MAG_BIN_COUNT, BIN_COUNT))\n",
    "all_sim_z_bincounts_2 = np.zeros((POBS_BIN_COUNT, len(nn_bins), len(z_bins), APP_MAG_BIN_COUNT, BIN_COUNT))\n",
    "\n",
    "for i in range(len(POBS_bins)):\n",
    "    for j in range(len(nn_bins)):\n",
    "        for k in range(len(app_mag_bins)):\n",
    "\n",
    "            # TODO app mag bins?\n",
    "\n",
    "            if LOST_GALAXIES_ONLY:\n",
    "                filter = np.all([POBS_bin == i, app_mag_bin == k, fnotassigned], axis=0)\n",
    "            else:\n",
    "                filter = np.all([POBS_bin == i, app_mag_bin == k], axis=0)\n",
    "\n",
    "            to_match = coord.SkyCoord(ra=ra[filter]*u.degree, dec=dec[filter]*u.degree, frame='icrs')\n",
    "            idx, d2d, d3d = coord.match_coordinates_sky(to_match, catalog, nthneighbor=nn_bins[j], storekdtree=treename)\n",
    "            same_halo = sim_halo_id[filter] == sim_halo_id_catalog[idx]\n",
    "            sim_z = np.isclose(z_obs[filter], z_obs_catalog[idx], rtol=0, atol=SIM_Z_THRESH)\n",
    "\n",
    "            nn_z_bin_ind = np.digitize(z_obs_catalog[idx], z_bins)\n",
    "            angdist_bin_ind = np.digitize(d2d.to(u.arcsec).value, bins)\n",
    "            \n",
    "            for zb in range(len(z_bins)):\n",
    "                right_z_bin = nn_z_bin_ind == zb\n",
    "                \n",
    "                bincounts = np.bincount(angdist_bin_ind, minlength=len(bins), weights=right_z_bin.astype(int)) + 1 # avoids divide by 0, won't hurt statistics\n",
    "                all_ang_bincounts_2[i][j][zb][k] = bincounts\n",
    "\n",
    "                bincounts2 = np.bincount(angdist_bin_ind, minlength=len(bins), weights=np.all([same_halo, right_z_bin], axis=0).astype(int))\n",
    "                all_same_halo_bincounts_2[i][j][zb][k] = bincounts2\n",
    "\n",
    "                bincounts3 = np.bincount(angdist_bin_ind, minlength=len(bins), weights=np.all([sim_z, right_z_bin], axis=0).astype(int))\n",
    "                all_sim_z_bincounts_2[i][j][zb][k] = bincounts3"
   ]
  },
  {
   "cell_type": "code",
   "execution_count": null,
   "metadata": {},
   "outputs": [],
   "source": [
    "# To visualize things we need to reduce dimensionality. \n",
    "# Aggregate of either Pobs or app mag, or choose a single value from them to examine.\n",
    "# The below always picks one z per plot.\n",
    "\n",
    "# axis 3 will sum over app mag. Axis 0 will sum over P_obs\n",
    "axis_to_sumover = 3\n",
    "# TODO why I am not not exactly reproducing previous results? Close, but not exact...\n",
    "\n",
    "# Use this to aggregate\n",
    "all_same_halo_bincounts_reduced = np.sum(all_same_halo_bincounts_2, axis=axis_to_sumover)\n",
    "all_ang_bincounts_reduced = np.sum(all_ang_bincounts_2, axis=axis_to_sumover)\n",
    "all_sim_z_bincounts_reduced = np.sum(all_sim_z_bincounts_2, axis=axis_to_sumover)\n",
    "\n",
    "# Use this instead to pick out a value\n",
    "#index_to_use = 20\n",
    "#all_same_halo_bincounts_reduced = np.take(all_same_halo_bincounts_2, index_to_use, axis=axis_to_sumover)\n",
    "#all_ang_bincounts_reduced = np.take(all_ang_bincounts_2, index_to_use, axis=axis_to_sumover)\n",
    "#all_sim_z_bincounts_reduced = np.take(all_sim_z_bincounts_2, index_to_use, axis=axis_to_sumover)\n",
    "\n",
    "if axis_to_sumover == 0:\n",
    "    all_same_halo_bincounts_reduced = np.swapaxes(all_same_halo_bincounts_reduced, 0,1)\n",
    "    all_same_halo_bincounts_reduced = np.swapaxes(all_same_halo_bincounts_reduced, 0,2)\n",
    "    all_ang_bincounts_reduced = np.swapaxes(all_ang_bincounts_reduced, 0,1)\n",
    "    all_ang_bincounts_reduced = np.swapaxes(all_ang_bincounts_reduced, 0,2)\n",
    "    all_sim_z_bincounts_reduced = np.swapaxes(all_sim_z_bincounts_reduced, 0,1)\n",
    "    all_sim_z_bincounts_reduced = np.swapaxes(all_sim_z_bincounts_reduced, 0,2)\n",
    "\n",
    "frac_same = all_same_halo_bincounts_reduced / all_ang_bincounts_reduced\n",
    "frac_sim_z = all_sim_z_bincounts_reduced / all_ang_bincounts_reduced\n",
    "\n",
    "# Make rough bins of just over a threshold or not\n",
    "nn_success_thresh = 0.4 # change fit lines below if you change this!\n",
    "success_bins = [0,nn_success_thresh,1.0]\n",
    "frac_same_binned = np.digitize(frac_same, bins=success_bins)\n",
    "\n",
    "# Resultant shape must be consistent\n",
    "print(np.shape(all_ang_bincounts_reduced))"
   ]
  },
  {
   "cell_type": "code",
   "execution_count": null,
   "metadata": {},
   "outputs": [],
   "source": [
    "ncols = 1 # there is code for 4 plots per row (z), but can make a subplot of it\n",
    "z_bin_numbers_to_plot = range(len(z_bins))\n",
    "z_bin_numbers_to_plot = [1]\n",
    "\n",
    "fig, axes = plt.subplots(nrows=len(z_bin_numbers_to_plot), ncols=ncols, figsize=(6*ncols, 4*len(z_bin_numbers_to_plot)))\n",
    "\n",
    "if (axis_to_sumover == 3):\n",
    "    y_axis_bins = POBS_bins\n",
    "if (axis_to_sumover == 0):\n",
    "    y_axis_bins = app_mag_bins\n",
    "\n",
    "row=-1\n",
    "for zb in z_bin_numbers_to_plot:\n",
    "    row+=1\n",
    "    density = all_ang_bincounts_reduced[:,0,zb,:] #/ np.sum(all_ang_bincounts_reduced[:,0,zb,:])\n",
    "    print(f\"Galaxies in this z-bin: {np.sum(density)}\")\n",
    "\n",
    "    if len(z_bin_numbers_to_plot) == 1:\n",
    "        axrow = axes\n",
    "    else:\n",
    "        axrow = axes[row]\n",
    "    \n",
    "    if (ncols != 1):\n",
    "        ax=axrow[0]\n",
    "    else:\n",
    "        ax = axrow\n",
    "    cplot = ax.pcolor(bins, y_axis_bins, frac_same[:,0,zb,:], shading='auto', cmap='RdYlGn', norm=c.Normalize(vmin=0, vmax=0.8))\n",
    "    fig.colorbar(cplot, ax=ax)\n",
    "    ax.set_title(f\"NN Same Halo Fraction (NN z {getlabel(zb, z_bins)})\")\n",
    "    if (axis_to_sumover == 3):\n",
    "        ax.set_ylabel(\"Lost Galaxy $P_{obs}$\")\n",
    "    if (axis_to_sumover == 0):\n",
    "        ax.set_ylabel(\"Lost Galaxy app r-mag\")\n",
    "    ax.set_xlabel(\"Angular Distance (arcsec) to NN\")\n",
    "    ax.set_xscale('log')\n",
    "    ax.set_xlim(2.5,250)\n",
    "    \n",
    "    \"\"\"\n",
    "    cplot = axrow[1].pcolor(bins, y_axis_bins, frac_same_binned[:,0,zb,:], shading='auto', cmap='RdYlGn')\n",
    "    fig.colorbar(cplot, ax=axrow[1])\n",
    "    axrow[1].set_title(f\"NN Same Halo Over 40% (NN z {getlabel(zb, z_bins)})\")\n",
    "    if (axis_to_sumover == 3):\n",
    "        axrow[1].set_ylabel(\"Lost Galaxy $P_{obs}$\")\n",
    "    if (axis_to_sumover == 0):\n",
    "        axrow[1].set_ylabel(\"Lost Galaxy app r-mag\")    \n",
    "    axrow[1].set_xlabel(\"Angular Distance (arcsec) to NN\")\n",
    "    axrow[1].set_xscale('log')\n",
    "    axrow[1].set_xlim(2.5,250)\n",
    "    \"\"\"\n",
    "    \"\"\"\n",
    "    cplot = axes[zb][2].pcolor(bins, y_axis_bins, frac_sim_z[:,0,zb,:], shading='auto', cmap='RdYlGn', norm=c.Normalize(vmin=0, vmax=0.8))\n",
    "    fig.colorbar(cplot, ax=axes[zb][2])\n",
    "    axrow[2].set_title(f\"Nearest Neighbor Sim z Fraction (NN z {getlabel(zb, z_bins)})\")\n",
    "    if (axis_to_sumover == 3):\n",
    "        axrow[2].set_ylabel(\"Lost Galaxy $P_{obs}$\")\n",
    "    if (axis_to_sumover == 0):\n",
    "        axrow[2].set_ylabel(\"Lost Galaxy app r-mag\")    \n",
    "    axrow[2].set_xlabel(\"Angular Distance (arcsec) to NN\")\n",
    "    axrow[2].set_xscale('log')\n",
    "    axrow[2].set_xlim(2.5,250)\n",
    "    \"\"\"\n",
    "    #cplot = axrow[2].pcolor(bins, y_axis_bins, density, shading='auto', cmap='YlGn', norm=c.LogNorm(vmin=0.0001, vmax=0.1))\n",
    "    \"\"\"\n",
    "    cplot = axrow[2].pcolor(bins, y_axis_bins, density, shading='auto', cmap='YlGn', norm=c.LogNorm(vmin=10, vmax=5000))\n",
    "    fig.colorbar(cplot, ax=axrow[2])\n",
    "    axrow[2].set_title(f\"Counts (NN z {getlabel(zb, z_bins)})\")\n",
    "    if (axis_to_sumover == 3):\n",
    "        axrow[2].set_ylabel(\"Lost Galaxy $P_{obs}$\")\n",
    "    if (axis_to_sumover == 0):\n",
    "        axrow[2].set_ylabel(\"Lost Galaxy app r-mag\")    \n",
    "    axrow[2].set_xlabel(\"Angular Distance (arcsec) to NN\")\n",
    "    axrow[2].set_xscale('log')\n",
    "    axrow[2].set_xlim(2.5,250)\n",
    "    \"\"\"\n",
    "    if axis_to_sumover == 3:\n",
    "        if ncols == 1 and len(z_bin_numbers_to_plot) == 1:\n",
    "            axes.scatter(get_NN_40_line(z_bins[zb]-0.01, POBS_bins), POBS_bins)\n",
    "            axes.scatter(get_NN_40_line(z_bins[zb]-0.01, POBS_bins), POBS_bins)\n",
    "        else:\n",
    "            ax.scatter(get_NN_40_line(z_bins[zb]-0.01, POBS_bins), POBS_bins)\n",
    "            ax[1].scatter(get_NN_40_line(z_bins[zb]-0.01, POBS_bins), POBS_bins)\n",
    "    \n",
    "    #axes[plot_index][2].scatter(get_NN_40_line(z_bins[zb]-0.01, POBS_bins), POBS_bins)\n",
    "    \n",
    "fig.tight_layout() \n"
   ]
  },
  {
   "cell_type": "code",
   "execution_count": null,
   "metadata": {},
   "outputs": [],
   "source": []
  },
  {
   "cell_type": "markdown",
   "metadata": {},
   "source": [
    "### Fancy Algorithm"
   ]
  },
  {
   "cell_type": "code",
   "execution_count": null,
   "metadata": {},
   "outputs": [],
   "source": [
    "NUM_NEIGHBORS = 20\n",
    "fancy_to_match = coord.SkyCoord(ra=ra[fnotassigned]*u.degree, dec=dec[fnotassigned]*u.degree, frame='icrs')"
   ]
  },
  {
   "cell_type": "code",
   "execution_count": null,
   "metadata": {},
   "outputs": [],
   "source": [
    "neighbor_indexes = np.zeros(shape=(NUM_NEIGHBORS, len(fancy_to_match)), dtype=np.int32) # indexes point to CATALOG locations\n",
    "ang_distances = np.zeros(shape=(NUM_NEIGHBORS, len(fancy_to_match)))\n",
    "\n",
    "print(f\"Finding nearest {NUM_NEIGHBORS} neighbors... \", end='\\r')   \n",
    "for n in range(0, NUM_NEIGHBORS):\n",
    "    idx, d2d, d3d = coord.match_coordinates_sky(fancy_to_match, catalog, nthneighbor=n+1, storekdtree=treename)\n",
    "    neighbor_indexes[n] = idx # TODO is that right?\n",
    "    ang_distances[n] = d2d.to(u.arcsec).value\n",
    "print(f\"Finding nearest {NUM_NEIGHBORS} neighbors... done!\")   "
   ]
  },
  {
   "cell_type": "code",
   "execution_count": null,
   "metadata": {},
   "outputs": [],
   "source": [
    "with FancyRedshiftGuesser(NUM_NEIGHBORS, debug=False) as scorer:\n",
    "    halo_matches = 0\n",
    "    z_matches = 0\n",
    "\n",
    "    print(f\"Assinging missing redshifts... \")   \n",
    "    # TODO don't loop?\n",
    "    j = 0 # index of the fancy_to_match sized arrays\n",
    "    \n",
    "    #for i in special_id:\n",
    "    for i in indexes_not_assigned: # index of the master arrays\n",
    "\n",
    "        #if i not in [7793057, 11425052]:\n",
    "        #    j+=1\n",
    "        #    continue\n",
    "\n",
    "        if j%10000==0:\n",
    "            print(f\"{j}/{len(fancy_to_match)} complete\", end='\\r')\n",
    "\n",
    "        neighbors = neighbor_indexes[:,j]\n",
    "        neighbors_z = z_obs_catalog[neighbors]\n",
    "        neighbors_ang_dist = ang_distances[:,j]\n",
    "        my_prob_obs = prob_obs_cut[i]\n",
    "        my_app_mag = app_mag[i]\n",
    "\n",
    "        winning_num = scorer.choose_winner(neighbors_z, neighbors_ang_dist, my_prob_obs, my_app_mag, z_obs[i])\n",
    "        winner_index = neighbors[winning_num]\n",
    "\n",
    "        # Track total correct\n",
    "        z_chosen = z_obs_catalog[winner_index] \n",
    "        if np.isclose(z_chosen, z_obs[i], rtol=0, atol=SIM_Z_THRESH):\n",
    "            z_matches += 1\n",
    "        halo_chosen = sim_halo_id_catalog[winner_index]\n",
    "        if halo_chosen == sim_halo_id[i]:\n",
    "            halo_matches += 1\n",
    "\n",
    "        j += 1 \n",
    "\n",
    "    print(f\"{j}/{len(fancy_to_match)} complete\")\n",
    "\n"
   ]
  },
  {
   "cell_type": "code",
   "execution_count": null,
   "metadata": {},
   "outputs": [],
   "source": [
    "print(f\"Halo matches: {halo_matches / len(fancy_to_match)}\")\n",
    "print(f\"z matches: {z_matches / len(fancy_to_match)}\")"
   ]
  },
  {
   "cell_type": "code",
   "execution_count": null,
   "metadata": {},
   "outputs": [],
   "source": [
    "# View results from a run of the FancyRedshiftGuesser. Must put in the right filename (number)\n",
    "filename = 'bin/redshift_guesser_1691466513.171286.npy'\n",
    "with open(filename, 'rb') as f:\n",
    "    quick_nn = np.load(f)\n",
    "    quick_correct = np.load(f)\n",
    "    nn_used = np.load(f)\n",
    "    nn_correct = np.load(f)\n",
    "\n",
    "print(f\"Quick NN uses: {quick_nn}. Success: {quick_correct / (quick_nn+1)}\")\n",
    "print(f\"NN bin uses: {nn_used}. Success: {nn_correct / (nn_used+1)}\")"
   ]
  },
  {
   "cell_type": "markdown",
   "metadata": {},
   "source": [
    "### Galaxy Pairs Angular Separation and Same-Halo Analysis\n",
    "Continuation of the above.\n",
    "\n",
    "THIS IS N^2 CALCULATION do not run on full sky. Adjust data\n"
   ]
  },
  {
   "cell_type": "code",
   "execution_count": null,
   "metadata": {},
   "outputs": [],
   "source": [
    "# THIS IS N^2 CALCULATION do not run on full sky.\n",
    "total_bincounts = np.ones((len(z_bins), BIN_COUNT))\n",
    "total_same_halo_bincounts = np.zeros((len(z_bins), BIN_COUNT))\n",
    "\n",
    "# Examine each galaxy in the sample pair once\n",
    "for i in range(len(ra)-1):\n",
    "    ang_distance = coord.angular_separation(ra[i]*u.degree, dec[i]*u.degree, ra[i+1:len(ra)]*u.degree, dec[i+1:len(ra)]*u.degree).to(u.arcsec)\n",
    "        \n",
    "    same_halo = sim_halo_id[i] == sim_halo_id[i+1:len(ra)]\n",
    "    #print(\"Same halo fraction for {0}:\".format(i), np.sum(same_halo) / len(same_halo))\n",
    "\n",
    "    angdist_bin_ind = np.digitize(ang_distance.value, bins)\n",
    "    #print(bin_ind)\n",
    "    bincounts = np.bincount(angdist_bin_ind)[0:BIN_COUNT]\n",
    "    same_halo_bincounts = np.bincount(angdist_bin_ind, weights= same_halo.astype(int)) [0:BIN_COUNT]\n",
    "\n",
    "    z_bin = np.digitize(z_obs[i], z_bins)\n",
    "    total_bincounts[z_bin] = total_bincounts[z_bin] + bincounts\n",
    "    total_same_halo_bincounts[z_bin] = total_same_halo_bincounts[z_bin] + same_halo_bincounts\n",
    "    #print(total_same_halo_bincounts)\n",
    "\n",
    "#print(\"Total counts in each bin:\", total_bincounts)\n",
    "\n",
    "fraction_same_halo = total_same_halo_bincounts / total_bincounts\n",
    "#print(fraction_same_halo)"
   ]
  },
  {
   "cell_type": "code",
   "execution_count": null,
   "metadata": {},
   "outputs": [],
   "source": [
    "# Plots for galaxy pairs\n",
    "plt.figure()\n",
    "for i in range(len(z_bins)):\n",
    "    if i==0:\n",
    "        label = \"< {0}\".format(z_bins[i])\n",
    "    else:\n",
    "        label = \"{0} - {1}\".format(z_bins[i-1], z_bins[i])\n",
    "    plt.plot(bins, total_bincounts[i], label=label)\n",
    "plt.legend()\n",
    "plt.xscale('log')\n",
    "plt.yscale('log')\n",
    "plt.xlabel('Angular Separation (arcsec)')\n",
    "plt.ylabel('Count of Galaxies Pairs')\n",
    "plt.title(\"Galaxy Pair Counts (by ang separation and z)\")\n",
    "plt.draw()\n",
    "\n",
    "plt.figure()\n",
    "for i in range(len(z_bins)):\n",
    "    if i==0:\n",
    "        label = \"< {0}\".format(z_bins[i])\n",
    "    else:\n",
    "        label = \"{0} - {1}\".format(z_bins[i-1], z_bins[i])\n",
    "    plt.plot(bins, fraction_same_halo[i], label=label)\n",
    "plt.legend()\n",
    "plt.xscale('log')\n",
    "plt.xlabel('Angular Separation (arcsec)')\n",
    "plt.ylabel('Fraction Pair in Same Halo')\n",
    "plt.ylim(-0.01, 1.0)\n",
    "plt.title(\"Fraction Pair in Same Halo (by ang separation and z)\")\n",
    "plt.draw()"
   ]
  },
  {
   "cell_type": "markdown",
   "metadata": {},
   "source": [
    "# UCHUU Experiments\n"
   ]
  },
  {
   "cell_type": "markdown",
   "metadata": {},
   "source": [
    "### Experiments"
   ]
  },
  {
   "cell_type": "code",
   "execution_count": null,
   "metadata": {},
   "outputs": [],
   "source": [
    "#[('R_MAG_APP', '>f4'), ('R_MAG_ABS', '>f4'), ('G_R_REST', '>f4'), ('G_R_OBS', '>f4'), ('DEC', '>f8'), ('HALO_MASS', '>f4'), ('CEN', '>i4'), ('RES', '>i4'), ('RA', '>f8'), ('Z_COSMO', '>f4'), ('Z', '>f4'), ('STATUS', '>i4'), ('FIRST_ACC_SCALE', '>f4'), ('M_ACC', '>f4'), ('M_VIR_ALL', '>f4'), ('R_VIR', '>f4'), ('V_PEAK', '>f4'), ('R_S', '>f4'), ('V_RMS', '>f4'), ('NGC', '>f4'), ('SGC', '>f4'), ('HALO_ID', '>i8'), ('PID', '>i8')]))\n",
    "filename='/export/sirocco2/tinker/DESI/UCHUU_MOCKS/BGS_LC_Uchuu.fits'\n",
    "u_table = Table.read(filename, format='fits')"
   ]
  },
  {
   "cell_type": "code",
   "execution_count": null,
   "metadata": {},
   "outputs": [],
   "source": [
    "APP_MAG_CUT = 19.5"
   ]
  },
  {
   "cell_type": "code",
   "execution_count": null,
   "metadata": {},
   "outputs": [],
   "source": [
    "u_table.columns\n",
    "#G_R_OBS"
   ]
  },
  {
   "cell_type": "code",
   "execution_count": null,
   "metadata": {},
   "outputs": [],
   "source": [
    "dec = u_table['DEC']\n",
    "ra = u_table['RA']\n",
    "z_obs = u_table['Z']\n",
    "app_mag = u_table['R_MAG_APP']\n",
    "abs_mag = u_table['R_MAG_ABS']\n",
    "g_r = u_table['G_R_REST'] # TODO before using ensure it should be rest and not observed\n",
    "g_r_obs = u_table['G_R_OBS']\n",
    "central = u_table['CEN']\n",
    "uchuu_halo_mass = u_table['HALO_MASS']\n",
    "uchuu_halo_id = u_table['HALO_ID']\n",
    "\n",
    "bright_filter = app_mag < APP_MAG_CUT \n",
    "redshift_filter = z_obs > 0 \n",
    "keep = np.all([mass_filter, bright_filter, redshift_filter], axis=0)\n",
    "\n",
    "dec = dec[keep]\n",
    "ra = ra[keep]\n",
    "z_obs = z_obs[keep]\n",
    "app_mag = app_mag[keep]\n",
    "abs_mag = abs_mag[keep]\n",
    "g_r = g_r[keep]\n",
    "g_r_obs = g_r_obs[keep]\n",
    "central = central[keep]\n",
    "uchuu_halo_mass = uchuu_halo_mass[keep]\n",
    "uchuu_halo_id = uchuu_halo_id[keep]\n",
    "\n",
    "abs_mag_me = app_mag_to_abs_mag(app_mag, z_obs)\n"
   ]
  },
  {
   "cell_type": "code",
   "execution_count": null,
   "metadata": {},
   "outputs": [],
   "source": [
    "abs_mag_me_k = k_correct(app_mag, z_obs, g_r)\n",
    "# using true g-r instead of the observed g-r gives the reported distribution as shown by plot below\n"
   ]
  },
  {
   "cell_type": "code",
   "execution_count": null,
   "metadata": {},
   "outputs": [],
   "source": [
    "# Compare my_abs_mag to abs_mag. \n",
    "bins = np.linspace(-25, -10, 100)\n",
    "#my_counts, my_bins, my_p = plt.hist(abs_mag_me, label=\"my abs_mag\", bins=bins, alpha=0.5)\n",
    "alex_counts, alex_bins, alex_p = plt.hist(abs_mag, label=\"UCHUU abs_mag\", bins=bins, alpha=0.5)\n",
    "my_k_counts, my_k_bins, my_k_p = plt.hist(abs_mag_me_k, label=\"my k abs_mag\", bins=bins, alpha=0.5)\n",
    "#z = plt.hist(my_abs_mag_k, label=\"my k abs_mag\", bins=50)\n",
    "plt.xlabel(\"Absolute Mag\")\n",
    "plt.ylabel(\"Count\")\n",
    "plt.title(\"Compare Absolute Mags\")\n",
    "plt.yscale('log')\n",
    "plt.legend()\n",
    "\n",
    "#print(f\"The peaks are UCHUU: {alex_bins[np.argmax(alex_counts)]:.1f}, My {my_bins[np.argmax(my_counts)]:.1f}, My K {my_k_bins[np.argmax(my_k_counts)]:.1f}\")"
   ]
  },
  {
   "cell_type": "code",
   "execution_count": null,
   "metadata": {},
   "outputs": [],
   "source": [
    "# UCHUU\n",
    "print(len(ra))\n",
    "estimate_frac_area(ra, dec)\n"
   ]
  },
  {
   "cell_type": "code",
   "execution_count": null,
   "metadata": {},
   "outputs": [],
   "source": [
    "rnd_indices = np.random.choice(len(ra), len(ra)//100, replace=False)\n",
    "fig = make_map(ra[rnd_indices], dec[rnd_indices]), \n"
   ]
  },
  {
   "cell_type": "code",
   "execution_count": null,
   "metadata": {},
   "outputs": [],
   "source": [
    "# TODO only centrals...\n",
    "plt.hist(np.log10(uchuu_halo_mass*10**10), bins=30, alpha=0.5, density=True, label=\"UCHUU\")\n",
    "plt.hist(np.log10(all.all_data['mxxl_halo_mass']*10**10), bins=30, alpha=0.5, density=True, label=\"MXXL\")\n",
    "#plt.yscale('log')\n",
    "plt.title(\"MXXL vs UCHUU Truth Halo Masses\")\n",
    "plt.xlabel('log(M_halo)')\n",
    "plt.ylabel('Density')\n",
    "plt.legend()"
   ]
  },
  {
   "cell_type": "markdown",
   "metadata": {},
   "source": [
    "# Tests"
   ]
  },
  {
   "cell_type": "code",
   "execution_count": null,
   "metadata": {},
   "outputs": [],
   "source": [
    "# Test estimate_frac_area for a completely filled sky\n",
    "_ra = np.linspace(0.01, 359.9, 1000)\n",
    "_dec = np.linspace(0.01, 179.9, 1000)\n",
    "_ra, _dec = np.meshgrid(_ra, _dec)\n",
    "_ra = _ra.flatten()\n",
    "_dec = _dec.flatten()\n",
    "\n",
    "estimate_frac_area(_ra, _dec)"
   ]
  },
  {
   "cell_type": "code",
   "execution_count": null,
   "metadata": {},
   "outputs": [],
   "source": []
  }
 ],
 "metadata": {
  "kernelspec": {
   "display_name": "Python 3.9.12 ('base')",
   "language": "python",
   "name": "python3"
  },
  "language_info": {
   "codemirror_mode": {
    "name": "ipython",
    "version": 3
   },
   "file_extension": ".py",
   "mimetype": "text/x-python",
   "name": "python",
   "nbconvert_exporter": "python",
   "pygments_lexer": "ipython3",
   "version": "3.11.4"
  },
  "orig_nbformat": 4,
  "vscode": {
   "interpreter": {
    "hash": "3067ead486e059ec00ffe7555bdb889e6e264a24dc711bf108106cc7baee8d5d"
   }
  }
 },
 "nbformat": 4,
 "nbformat_minor": 2
}
