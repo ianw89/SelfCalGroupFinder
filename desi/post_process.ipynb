{
 "cells": [
  {
   "cell_type": "code",
   "execution_count": null,
   "metadata": {},
   "outputs": [],
   "source": [
    "import numpy as np\n",
    "import pandas as pd\n",
    "import matplotlib.pyplot as plt\n",
    "import astropy.coordinates as coord\n",
    "import astropy.units as u\n",
    "from pyutils import *\n",
    "import types\n",
    "import numpy.ma as ma\n",
    "from matplotlib.patches import Circle\n",
    "import pickle\n",
    "import postprocess as pp\n",
    "\n",
    "#ROOT_FOLDER = \"/Volumes/Seagate Backup Plus Drive/galaxy-groups-data/\"\n",
    "#ROOT_FOLDER = \"/mnt/f/galaxy-groups-data/\"\n",
    "ROOT_FOLDER = \"../bin/\"\n",
    "BIG_FILES_FOLDER=\"/export/sirocco2/tinker/DESI/MXXL_MOCKS/\"\n",
    "\n",
    "%load_ext autoreload\n",
    "%autoreload 2"
   ]
  },
  {
   "cell_type": "code",
   "execution_count": null,
   "metadata": {},
   "outputs": [],
   "source": [
    "DPI = 80\n",
    "pp.DPI = DPI\n",
    "\n",
    "def save_dataset(dataset):\n",
    "    with open(ROOT_FOLDER + dataset.name, 'wb') as f:\n",
    "        pickle.dump(dataset, f)\n",
    "\n",
    "def load_dataset(dataset):\n",
    "    with open(ROOT_FOLDER + dataset.name, 'rb') as f:    \n",
    "        return pickle.load(f)\n"
   ]
  },
  {
   "cell_type": "markdown",
   "metadata": {},
   "source": [
    "After the group finder is run, this notebook is used to post pp.process the results, generating plots and such for analysis.\n"
   ]
  },
  {
   "cell_type": "markdown",
   "metadata": {},
   "source": [
    "## Loading existing datasets "
   ]
  },
  {
   "cell_type": "code",
   "execution_count": null,
   "metadata": {},
   "outputs": [],
   "source": [
    "# MXXL\n",
    "all = types.SimpleNamespace()\n",
    "all.name = \"All MXXL <19.5\"\n",
    "all20 = types.SimpleNamespace()\n",
    "all20.name = \"All MXXL <20\"\n",
    "fiberonly = types.SimpleNamespace()\n",
    "fiberonly.name = \"Fiber Only MXXL <19.5\"\n",
    "fiberonly20 = types.SimpleNamespace()\n",
    "fiberonly20.name = \"Fiber Only MXXL <20\"\n",
    "nn_kd = types.SimpleNamespace()\n",
    "nn_kd.name = \"Nearest Neighbor MXXL <19.5\"\n",
    "nn_kd20 = types.SimpleNamespace()\n",
    "nn_kd20.name = \"Nearest Neighbor MXXL <20\"\n",
    "fancy_1 = types.SimpleNamespace()\n",
    "fancy_1.name = \"Fancy v1 MXXL <19.5\"\n",
    "fancy_6 = types.SimpleNamespace()\n",
    "fancy_6.name = \"Fancy v6 MXXL <19.5\"\n",
    "simple_1 = types.SimpleNamespace()\n",
    "simple_1.name = \"Simple v1 MXXL <19.5\"\n",
    "simple_1_20 = types.SimpleNamespace()\n",
    "simple_1_20.name = \"Simple v1 MXXL <20\"\n",
    "simple_2 = types.SimpleNamespace()\n",
    "simple_2.name = \"Simple v2 MXXL <19.5\"\n",
    "simple_2.display_name = \"Our Algorithm\"\n",
    "simple_2_20 = types.SimpleNamespace()\n",
    "simple_2_20.name = \"Simple v2 MXXL <20\"\n",
    "simple_2_mix = types.SimpleNamespace()\n",
    "simple_2_mix.name = \"Simple v2 mix MXXL\"\n",
    "simple_3 = types.SimpleNamespace()\n",
    "simple_3.name = \"Simple v3 MXXL <19.5\"\n",
    "simple_3_20 = types.SimpleNamespace()\n",
    "simple_3_20.name = \"Simple v3 MXXL <20\"\n",
    "\n",
    "# UCHUU\n",
    "all_u = types.SimpleNamespace()\n",
    "all_u.name = \"All UCHUU <19.5\"\n",
    "uchuu = types.SimpleNamespace()\n",
    "uchuu.name = \"Uchuu Truth <19.5\"\n",
    "\n",
    "# TRUE DESI BGS\n",
    "fiberonly_BGS = types.SimpleNamespace()\n",
    "fiberonly_BGS.name = \"Fiber Only BGS <19.5\"\n",
    "fiberonly_1pass_BGS = types.SimpleNamespace()\n",
    "fiberonly_1pass_BGS.name = \"Observed 1pass+ BGS <19.5\"\n",
    "simple_weird_BGS = types.SimpleNamespace()\n",
    "simple_weird_BGS.name = \"Simple BGS <19.5\"\n",
    "simple2_BGS = types.SimpleNamespace()\n",
    "simple2_BGS.name = \"Simple 2 BGS <19.5\"\n",
    "#simple_vmaxfilt = types.SimpleNamespace()\n",
    "#simple_vmaxfilt.name = \"Simple VMaxFilt BGS <19.5\"\n"
   ]
  },
  {
   "cell_type": "code",
   "execution_count": null,
   "metadata": {},
   "outputs": [],
   "source": []
  },
  {
   "cell_type": "code",
   "execution_count": null,
   "metadata": {},
   "outputs": [],
   "source": [
    "all=load_dataset(all)\n",
    "fiberonly=load_dataset(fiberonly)\n",
    "#nn_kd=load_dataset(nn_kd)\n",
    "simple_2=load_dataset(simple_2)\n",
    "\n",
    "all_u = load_dataset(all_u)\n",
    "\n",
    "#fiberonly_BGS=load_dataset(fiberonly_BGS)\n",
    "#fiberonly_1pass_BGS=load_dataset(fiberonly_1pass_BGS)\n",
    "#simple2_BGS=load_dataset(simple2_BGS)"
   ]
  },
  {
   "cell_type": "markdown",
   "metadata": {},
   "source": [
    "## Process New Datasets"
   ]
  },
  {
   "cell_type": "markdown",
   "metadata": {},
   "source": [
    "### MXXL"
   ]
  },
  {
   "cell_type": "code",
   "execution_count": null,
   "metadata": {},
   "outputs": [],
   "source": [
    "all = pp.process(ROOT_FOLDER + \"mxxl_3pass_all.out\")\n",
    "all.name = \"All MXXL <19.5\"\n",
    "all.color = pp.get_color(0)\n",
    "all.marker = '-'\n",
    "pp.post_process(all)\n",
    "save_dataset(all)\n",
    "del(all)"
   ]
  },
  {
   "cell_type": "code",
   "execution_count": null,
   "metadata": {},
   "outputs": [],
   "source": [
    "all20 = pp.process(ROOT_FOLDER + \"mxxl_3pass_all20.out\")\n",
    "all20.name = \"All MXXL <20\"\n",
    "all20.color = pp.get_color(0)\n",
    "all20.marker = '--'\n",
    "pp.post_process(all20)\n",
    "save_dataset(all20)\n",
    "del(all20)"
   ]
  },
  {
   "cell_type": "code",
   "execution_count": null,
   "metadata": {},
   "outputs": [],
   "source": [
    "fiberonly = pp.process(ROOT_FOLDER + \"mxxl_3pass_fiberonly.out\")\n",
    "fiberonly.name = \"Fiber Only MXXL <19.5\"\n",
    "fiberonly.color = pp.get_color(1)\n",
    "fiberonly.marker = '-'\n",
    "pp.post_process(fiberonly)\n",
    "save_dataset(fiberonly)\n",
    "del(fiberonly)"
   ]
  },
  {
   "cell_type": "code",
   "execution_count": null,
   "metadata": {},
   "outputs": [],
   "source": [
    "fiberonly20 = pp.process(ROOT_FOLDER + \"mxxl_3pass_fiberonly20.out\")\n",
    "fiberonly20.name = \"Fiber Only MXXL <20\"\n",
    "fiberonly20.color = pp.get_color(1)\n",
    "fiberonly20.marker = '--'\n",
    "pp.post_process(fiberonly20)\n",
    "save_dataset(fiberonly20)\n",
    "del(fiberonly20)"
   ]
  },
  {
   "cell_type": "code",
   "execution_count": null,
   "metadata": {},
   "outputs": [],
   "source": [
    "nn_kd = pp.process(ROOT_FOLDER + \"mxxl_3pass_nn_kd.out\")\n",
    "nn_kd.name = \"Nearest Neighbor MXXL <19.5\"\n",
    "nn_kd.color = pp.get_color(2)\n",
    "nn_kd.marker = '-'\n",
    "pp.post_process(nn_kd)\n",
    "save_dataset(nn_kd)\n",
    "del(nn_kd)"
   ]
  },
  {
   "cell_type": "code",
   "execution_count": null,
   "metadata": {},
   "outputs": [],
   "source": [
    "nn_kd20 = pp.process(ROOT_FOLDER + \"mxxl_3pass_nn_kd20.out\")\n",
    "nn_kd20.name = \"Nearest Neighbor MXXL <20\"\n",
    "nn_kd20.color = pp.get_color(2)\n",
    "nn_kd20.marker = '--'\n",
    "pp.post_process(nn_kd20)\n",
    "save_dataset(nn_kd20)\n",
    "del(nn_kd20)"
   ]
  },
  {
   "cell_type": "code",
   "execution_count": null,
   "metadata": {},
   "outputs": [],
   "source": [
    "simple_2 = pp.process(ROOT_FOLDER + \"mxxl_3pass_simple_2.out\")\n",
    "pp.post_process(simple_2)\n",
    "simple_2.name = \"Simple v2 MXXL <19.5\"\n",
    "simple_2.color = pp.get_color(6)\n",
    "simple_2.marker = '-'\n",
    "save_dataset(simple_2)\n",
    "del(simple_2)"
   ]
  },
  {
   "cell_type": "code",
   "execution_count": null,
   "metadata": {},
   "outputs": [],
   "source": [
    "simple_2_20 = pp.process(ROOT_FOLDER + \"mxxl_3pass_simple_2_20.out\")\n",
    "pp.post_process(simple_2_20)\n",
    "simple_2_20.name = \"Simple v2 MXXL <20\"\n",
    "simple_2_20.color = pp.get_color(6)\n",
    "simple_2_20.marker = '--'\n",
    "save_dataset(simple_2_20)\n",
    "del(simple_2_20)"
   ]
  },
  {
   "cell_type": "markdown",
   "metadata": {},
   "source": [
    "### UCHUU"
   ]
  },
  {
   "cell_type": "code",
   "execution_count": null,
   "metadata": {},
   "outputs": [],
   "source": [
    "all_u = pp.process_uchuu(ROOT_FOLDER + \"uchuu_all.out\")\n",
    "all_u.name = \"All UCHUU <19.5\"\n",
    "all_u.color = pp.get_color(9)\n",
    "all_u.marker = '-'\n",
    "save_dataset(all_u)\n",
    "del(all_u)"
   ]
  },
  {
   "cell_type": "markdown",
   "metadata": {},
   "source": [
    "### DESI BGS"
   ]
  },
  {
   "cell_type": "code",
   "execution_count": null,
   "metadata": {},
   "outputs": [],
   "source": [
    "fiberonly_BGS = pp.process_BGS(ROOT_FOLDER + \"BGS_fiberonly_1.out\")\n",
    "fiberonly_BGS.name = \"Fiber Only BGS <19.5\"\n",
    "fiberonly_BGS.color = pp.get_color(0)\n",
    "fiberonly_BGS.marker = '-'\n",
    "save_dataset(fiberonly_BGS)"
   ]
  },
  {
   "cell_type": "code",
   "execution_count": null,
   "metadata": {},
   "outputs": [],
   "source": [
    "fiberonly_1pass_BGS = pp.process_BGS(ROOT_FOLDER + \"BGS_fiberonly_1passok_1.out\")\n",
    "fiberonly_1pass_BGS.name = \"Observed 1pass+ BGS <19.5\"\n",
    "fiberonly_1pass_BGS.color = pp.get_color(3)\n",
    "fiberonly_1pass_BGS.marker = '-'\n",
    "save_dataset(fiberonly_1pass_BGS)"
   ]
  },
  {
   "cell_type": "code",
   "execution_count": null,
   "metadata": {},
   "outputs": [],
   "source": [
    "simple2_BGS = pp.process_BGS(ROOT_FOLDER + \"BGS_simple_2.out\")\n",
    "simple2_BGS.name = \"Simple 2 BGS <19.5\"\n",
    "simple2_BGS.color = pp.get_color(2)\n",
    "simple2_BGS.marker = '-'\n",
    "save_dataset(simple2_BGS)"
   ]
  },
  {
   "cell_type": "markdown",
   "metadata": {},
   "source": [
    "## View Plots"
   ]
  },
  {
   "cell_type": "code",
   "execution_count": null,
   "metadata": {},
   "outputs": [],
   "source": [
    "# Type in whatever datasets you want included in the generated plots\n",
    "#plots(all, simple_2, all_u, uchuu)\n",
    "#plots(all_BGS, truth_on=False)\n",
    "#pp.plots(all, fiberonly, nn_kd, simple_2, truth_on=False)\n",
    "\n",
    "#pp.plots(simple2_BGS, fiberonly_BGS, truth_on=False)\n",
    "pp.plots(fiberonly_BGS, fiberonly, fiberonly_1pass_BGS, truth_on=False)\n",
    "pp.plots(simple2_BGS, simple_2, all_u, truth_on=False)\n",
    "pp.plots(simple2_BGS, fiberonly_BGS, fiberonly_1pass_BGS, truth_on=False)\n"
   ]
  },
  {
   "cell_type": "code",
   "execution_count": null,
   "metadata": {},
   "outputs": [],
   "source": [
    "# Print out biggest group size\n",
    "for dataset in [simple2_BGS, fiberonly_BGS, fiberonly_1pass_BGS]:\n",
    "    print(dataset.name)\n",
    "    print(dataset.all_data.groupby('igrp').size().max())\n"
   ]
  },
  {
   "cell_type": "code",
   "execution_count": null,
   "metadata": {},
   "outputs": [],
   "source": [
    "simple2_BGS.all_data.columns"
   ]
  },
  {
   "cell_type": "code",
   "execution_count": null,
   "metadata": {},
   "outputs": [],
   "source": [
    "print(f\"The catalog contains {np.sum(np.invert(simple2_BGS.all_data['z_assigned_flag']))} truly observed galaxies and {np.sum(simple2_BGS.all_data['z_assigned_flag'])} galaxies with redshifts assigned to them.\")\n"
   ]
  },
  {
   "cell_type": "code",
   "execution_count": null,
   "metadata": {},
   "outputs": [],
   "source": [
    "simple2_BGS.all_data['RA']"
   ]
  },
  {
   "cell_type": "code",
   "execution_count": null,
   "metadata": {},
   "outputs": [],
   "source": [
    "fig=make_map(simple2_BGS.all_data['RA'].to_numpy(), simple2_BGS.all_data['Dec'].to_numpy(), alpha=0.05, dpi=500)"
   ]
  },
  {
   "cell_type": "markdown",
   "metadata": {},
   "source": [
    "## Simulations-Only Analysis"
   ]
  },
  {
   "cell_type": "markdown",
   "metadata": {},
   "source": [
    "### What effect does Fiber Assignment have on the luminosity function?"
   ]
  },
  {
   "cell_type": "code",
   "execution_count": null,
   "metadata": {},
   "outputs": [],
   "source": [
    "pp.group_finder_centrals_halo_masses_plots(all, [fiberonly])"
   ]
  },
  {
   "cell_type": "markdown",
   "metadata": {},
   "source": [
    "### Purity and Completeness"
   ]
  },
  {
   "cell_type": "code",
   "execution_count": null,
   "metadata": {},
   "outputs": [],
   "source": [
    "pp.test_purity_and_completeness(all, nn_kd, simple_2)"
   ]
  },
  {
   "cell_type": "code",
   "execution_count": null,
   "metadata": {},
   "outputs": [],
   "source": [
    "pp.purity_complete_plots(all, nn_kd, simple_2)"
   ]
  },
  {
   "cell_type": "markdown",
   "metadata": {},
   "source": [
    "### Compare halos to truth"
   ]
  },
  {
   "cell_type": "code",
   "execution_count": null,
   "metadata": {},
   "outputs": [],
   "source": [
    "pp.resulting_halo_analysis(all)"
   ]
  },
  {
   "cell_type": "markdown",
   "metadata": {},
   "source": [
    "### Compare assigned implied abs mags to truth from MXXL"
   ]
  },
  {
   "cell_type": "code",
   "execution_count": null,
   "metadata": {},
   "outputs": [],
   "source": [
    "run_to_check = simple_2\n",
    "\n",
    "not_assigned = np.invert(run_to_check.all_data.fiber_assigned_0.astype(bool))\n",
    "app_mags = run_to_check.all_data.app_mag[not_assigned].to_numpy()\n",
    "my_assigned_abs_mag = app_mag_to_abs_mag(app_mags, run_to_check.all_data.z[not_assigned].to_numpy())\n",
    "my_raw_abs_mag = app_mag_to_abs_mag(app_mags, run_to_check.all_data.z_obs[not_assigned].to_numpy())\n",
    "\n",
    "print(len(my_raw_abs_mag), len(my_assigned_abs_mag))"
   ]
  },
  {
   "cell_type": "code",
   "execution_count": null,
   "metadata": {},
   "outputs": [],
   "source": [
    "# Compare absolute mags. Using my way of computing for both.\n",
    "abs_mag_bins = np.linspace(-25.5, -16, num=50)\n",
    "plt.figure(dpi=DPI)\n",
    "x = plt.hist(my_raw_abs_mag, bins=abs_mag_bins, label=\"Truth\", alpha=0.5)\n",
    "y = plt.hist(my_assigned_abs_mag, bins=abs_mag_bins, label=\"Our Algorithm\", alpha=0.5)\n",
    "plt.xlabel(\"Absolute Mag\")\n",
    "plt.ylabel(\"Count\")\n",
    "plt.ylim(400,400000)\n",
    "plt.yscale('log')\n",
    "plt.title(\"Compare Lost Galaxies Abs Mags\")\n",
    "plt.legend()"
   ]
  },
  {
   "cell_type": "markdown",
   "metadata": {},
   "source": [
    "## Galaxy Neighborhood Examiner"
   ]
  },
  {
   "cell_type": "code",
   "execution_count": null,
   "metadata": {},
   "outputs": [],
   "source": [
    "data = all.all_data\n"
   ]
  },
  {
   "cell_type": "code",
   "execution_count": null,
   "metadata": {},
   "outputs": [],
   "source": [
    "lost_galaxies = data.loc[data['fiber_assigned_0'] == 0]\n",
    "#lost_galaxies_2 = nn.all_data.loc[nn.all_data['fiber_assigned_0'] == 0]\n",
    "obs_galaxies = data.loc[data['fiber_assigned_0'] == 1]\n",
    "#obs_galaxies_2 = nn.all_data.loc[nn.all_data['fiber_assigned_0'] == 1]\n",
    "print(\"Lost galaxies: \", len(lost_galaxies), \"Observed Galaxies: \", len(obs_galaxies))\n",
    "\n",
    "# TODO could use angular size / redshift relation as part of this :-)\n",
    "def getsize(z):\n",
    "    if z < 0.05:\n",
    "        return 300\n",
    "    elif z < 0.1:\n",
    "        return 200\n",
    "    elif z < 0.2:\n",
    "        return 120\n",
    "    elif z < 0.2:\n",
    "        return 75\n",
    "    elif z < 0.3:\n",
    "        return 45\n",
    "    elif z < 0.4:\n",
    "        return 25\n",
    "    elif z < 0.5:\n",
    "        return 15\n",
    "    elif z < 0.6:\n",
    "        return 8\n",
    "    else:\n",
    "        return 3\n",
    "\n",
    "nearby_angle = coord.Angle('5m')\n",
    "\n",
    "def neighbor_exam(target):\n",
    "    z_eff = target.z\n",
    "    target_dist_true = z_to_ldist(target.z_obs)\n",
    "\n",
    "    ra_max = (coord.Angle(target.RA*u.degree) + nearby_angle).value\n",
    "    ra_min = (coord.Angle(target.RA*u.degree) - nearby_angle).value\n",
    "    dec_max = (coord.Angle(target.Dec*u.degree) + nearby_angle).value\n",
    "    dec_min = (coord.Angle(target.Dec*u.degree) - nearby_angle).value\n",
    "\n",
    "    nearby = obs_galaxies.query('RA < @ra_max and RA > @ra_min and Dec < @dec_max and Dec > @dec_min')\n",
    "\n",
    "    close_neighbors = 0\n",
    "    if len(nearby) > 0:\n",
    "        close_neighbors = np.isclose(nearby.ldist_true.to_numpy(), target_dist_true, rtol=0.0, atol=20)\n",
    "\n",
    "    return (np.sum(close_neighbors), len(nearby), np.sum(close_neighbors)/len(nearby))\n",
    "    \n"
   ]
  },
  {
   "cell_type": "code",
   "execution_count": null,
   "metadata": {},
   "outputs": [],
   "source": [
    "catalog = coord.SkyCoord(ra=data.RA.to_numpy()*u.degree, dec=data.Dec.to_numpy()*u.degree, frame='icrs')\n",
    "\n",
    "# This is too slow when called 1 at a time, not using. \n",
    "# TODO Could be faster when batched for the whole sample?\n",
    "def neighbors_within(max_angle: coord.Angle, to_match: coord.Angle, catalog: np.ndarray, treekey: str):\n",
    "\n",
    "    angular_distance = coord.Angle(0*u.arcsec)\n",
    "    nth = 1 # cap at 100 for now, TODO remove when safe\n",
    "    neighbor_ind = []\n",
    "    neighbor_dist = []\n",
    "\n",
    "    while angular_distance < max_angle and nth < 100:\n",
    "        idx, d2d, d3d = coord.match_coordinates_sky(to_match, catalog, nthneighbor=nth, storekdtree=treekey)\n",
    "        angular_distance = d2d\n",
    "        nth = nth + 1\n",
    "        neighbor_ind.append(idx)\n",
    "        neighbor_dist.append(angular_distance)\n",
    "\n",
    "    return neighbor_ind, neighbor_dist\n",
    "\n",
    "def examine_around(target):\n",
    "\n",
    "    target_observed = target.fiber_assigned_0\n",
    "    #target = data.loc[index]\n",
    "\n",
    "    target_pos = coord.SkyCoord(ra=target.RA*u.degree, dec=target.Dec*u.degree, frame='icrs')\n",
    "\n",
    "    z_eff = target.z\n",
    "    #target_dist_true = z_to_ldist(target.z_obs)\n",
    "\n",
    "    ra_max = (coord.Angle(target.RA*u.degree) + nearby_angle).value\n",
    "    ra_min = (coord.Angle(target.RA*u.degree) - nearby_angle).value\n",
    "    dec_max = (coord.Angle(target.Dec*u.degree) + nearby_angle).value\n",
    "    dec_min = (coord.Angle(target.Dec*u.degree) - nearby_angle).value\n",
    "\n",
    "    # TODO replace with a non-angular search so all redshifts are treated equally\n",
    "    #indexes, angular_distances = neighbors_within(nearby_angle, target_pos, catalog, 'treekey_nnkd')\n",
    "    #nearby = data.iloc[indexes]\n",
    "    nearby = data.query('RA < @ra_max and RA > @ra_min and Dec < @dec_max and Dec > @dec_min')\n",
    "    nearby = nearby.drop(target.name) # drop the target itself from this df\n",
    "\n",
    "    nearby_obs = nearby.loc[nearby['fiber_assigned_0'] == 1]\n",
    "    nearby_unobs = nearby.loc[nearby['fiber_assigned_0'] == 0]\n",
    "\n",
    "    z_match = nearby_obs.query('z == @z_eff')\n",
    "    #assert len(z_match) == 1, len(z_match) # TODO need a better way to verify which row is the one that we assigned the z from\n",
    "    if len(z_match) > 0:\n",
    "        z_match = z_match.iloc[0]\n",
    "    #nearby_obs = nearby_obs.drop(z_match.name)\n",
    "\n",
    "    good_obs_z_filter = list(map(lambda a: close_enough(target.z_obs, a), nearby_obs.z))\n",
    "    nearby_obs_good_z = nearby_obs.loc[good_obs_z_filter]\n",
    "    nearby_obs_good_z_dim = nearby_obs_good_z.loc[nearby_obs_good_z.app_mag > 19.5]\n",
    "    nearby_obs_good_z = nearby_obs_good_z.loc[np.invert(nearby_obs_good_z.app_mag > 19.5)]\n",
    "\n",
    "    if len(good_obs_z_filter) > 0:\n",
    "        nearby_obs_other = nearby_obs.loc[np.invert(good_obs_z_filter)]\n",
    "    else:\n",
    "        nearby_obs_other = nearby_obs\n",
    "    nearby_obs_other_dim = nearby_obs_other.loc[nearby_obs_other.app_mag > 19.5]\n",
    "    nearby_obs_other = nearby_obs_other.loc[np.invert(nearby_obs_other.app_mag > 19.5)]\n",
    "\n",
    "    good_unobs_z_filter = list(map(lambda a: close_enough(target.z_obs, a), nearby_unobs.z))\n",
    "\n",
    "    nearby_unobs_good_z = nearby_unobs.loc[good_unobs_z_filter]\n",
    "    if good_unobs_z_filter:\n",
    "        nearby_unobs_other = nearby_unobs.loc[np.invert(good_unobs_z_filter)]\n",
    "        nearby_unobs_other_dim = nearby_unobs_other.loc[nearby_unobs_other.app_mag > 19.5]\n",
    "        nearby_unobs_other = nearby_unobs_other.loc[np.invert(nearby_unobs_other.app_mag > 19.5)]\n",
    "    else:\n",
    "        nearby_unobs_other = nearby_unobs_good_z # empty df\n",
    "        nearby_unobs_other_dim = nearby_unobs_good_z\n",
    "\n",
    "    nearby_unobs_good_z_dim = nearby_unobs_good_z.loc[nearby_unobs_good_z.app_mag > 19.5]\n",
    "    nearby_unobs_good_z = nearby_unobs_good_z.loc[np.invert(nearby_unobs_good_z.app_mag > 19.5)]\n",
    "\n",
    "    if target_observed:\n",
    "        title = \"Observed Galaxy {0}: z_true={1:.3f}, z_NN={2:.3f}\".format(target.name, target.z_obs, target.z)\n",
    "    else:\n",
    "        title = \"Lost Galaxy {0}: z_true={1:.3f}, z_NN={2:.3f}\".format(target.name, target.z_obs, target.z)\n",
    "\n",
    "    if len(nearby) > 1:\n",
    "\n",
    "        fig,ax = plt.subplots(1)\n",
    "        fig.set_size_inches(10,10)\n",
    "        ax.set_aspect('equal')\n",
    "\n",
    "        # Add virial radii or MXXL Halos to the observed galaxies\n",
    "        for k in range(len(nearby_obs)):\n",
    "            current = nearby_obs.iloc[k]\n",
    "            radius = current.mxxl_halo_vir_radius_guess_arcsec / 3600 # arcsec to degrees, like the plot\n",
    "            circ = Circle((current.RA,current.Dec), radius, color=get_color(0), alpha=0.10)\n",
    "            ax.add_patch(circ)\n",
    "\n",
    "        textsize = 9\n",
    "        dimalpha = 0.4\n",
    "\n",
    "        plt.scatter(nearby_obs_other.RA, nearby_obs_other.Dec, s=list(map(getsize, nearby_obs_other.z)), color=get_color(0), label=\"Obs ({0})\".format(len(nearby_obs_other)))\n",
    "        if len(nearby_obs_other_dim) > 0:\n",
    "            plt.scatter(nearby_obs_other_dim.RA, nearby_obs_other_dim.Dec, s=list(map(getsize, nearby_obs_other_dim.z)), color=get_color(2), alpha=dimalpha, label=\"Obs dim ({0})\".format(len(nearby_obs_other_dim)))\n",
    "        \n",
    "        plt.scatter(nearby_obs_good_z.RA, nearby_obs_good_z.Dec, s=list(map(getsize, nearby_obs_good_z.z)), color=get_color(2), label=\"Obs good z ({0})\".format(len(nearby_obs_good_z)))\n",
    "        if len(nearby_obs_good_z_dim) > 0:\n",
    "            plt.scatter(nearby_obs_good_z_dim.RA, nearby_obs_good_z_dim.Dec, s=list(map(getsize, nearby_obs_good_z_dim.z)), color=get_color(0), alpha=dimalpha, label=\"Obs good z dim ({0})\".format(len(nearby_obs_good_z_dim)))\n",
    "\n",
    "        plt.scatter(nearby_unobs_other.RA, nearby_unobs_other.Dec, marker='x', s=list(map(getsize, nearby_unobs_other.z)), color=get_color(0), label=\"Unobs ({0})\".format(len(nearby_unobs_other)))\n",
    "        if len(nearby_unobs_other_dim) > 0:\n",
    "            plt.scatter(nearby_unobs_other_dim.RA, nearby_unobs_other_dim.Dec, marker='x', s=list(map(getsize, nearby_unobs_other_dim.z)), color=get_color(0), alpha=dimalpha, label=\"Unobs dim ({0})\".format(len(nearby_unobs_other_dim)))\n",
    "        \n",
    "        plt.scatter(nearby_unobs_good_z.RA, nearby_unobs_good_z.Dec, marker='x', s=list(map(getsize, nearby_unobs_good_z.z)), color=get_color(2), label=\"Unobs good z ({0})\".format(len(nearby_unobs_good_z)))\n",
    "        if len(nearby_unobs_good_z_dim) > 0:\n",
    "            plt.scatter(nearby_unobs_good_z_dim.RA, nearby_unobs_good_z_dim.Dec, marker='x', s=list(map(getsize, nearby_unobs_good_z_dim.z)), color=get_color(2), alpha=dimalpha, label=\"Unobs good z dim ({0})\".format(len(nearby_unobs_good_z_dim)))\n",
    "        \n",
    "        # redshift data labels\n",
    "        for k in range(len(nearby_obs)):\n",
    "            plt.text(nearby_obs.iloc[k].RA, nearby_obs.iloc[k].Dec, \"{0:.3f}\".format(nearby_obs.iloc[k].z), size=textsize)\n",
    "        for k in range(len(nearby_unobs)):\n",
    "            plt.text(nearby_unobs.iloc[k].RA, nearby_unobs.iloc[k].Dec, \"{0:.3f}\".format(nearby_unobs.iloc[k].z), size=textsize)\n",
    "\n",
    "        # Circle assigned one\n",
    "        if len(z_match) > 0:\n",
    "            plt.scatter(z_match.RA, z_match.Dec, color=get_color(3), facecolors='none', s=getsize(z_match.z)*2, label=\"Assigned\")\n",
    "            plt.text(z_match.RA, z_match.Dec, \"{0:.3f}\".format(z_match.z), size=textsize)\n",
    "\n",
    "        # Target galaxy\n",
    "        if target_observed:\n",
    "            plt.scatter(target.RA, target.Dec, s=getsize(target.z_obs), color=get_color(1), label=\"Target\")\n",
    "        else:\n",
    "            plt.scatter(target.RA, target.Dec, s=getsize(target.z_obs), marker='X', color=get_color(1), label=\"Target\")  \n",
    "        plt.text(target.RA, target.Dec, \"{0:.3f}\".format(target.z_obs), size=textsize)\n",
    "\n",
    "        plt.xlim(ra_min, ra_max)\n",
    "        plt.ylim(dec_min, dec_max)\n",
    "        plt.xlabel('RA')\n",
    "        plt.xlabel('Dec')\n",
    "        plt.legend()\n",
    "        plt.title(title)\n",
    "        plt.draw()\n",
    "    \n",
    "    else:\n",
    "        print(\"Skipping empty plot for {0}\".format(title))"
   ]
  },
  {
   "cell_type": "code",
   "execution_count": null,
   "metadata": {},
   "outputs": [],
   "source": [
    "PLOTS_TO_MAKE = 10\n",
    "GALAXY_POOL = lost_galaxies\n",
    "\n",
    "#START_INDEX = 777\n",
    "#for i in range(START_INDEX, START_INDEX + PLOTS_TO_MAKE):\n",
    "#    index = lost_galaxies.index[i]\n",
    "#    examine_around(index)\n",
    "print(\"Number of galaxies to choose from: \", len(GALAXY_POOL))\n",
    "indexes = np.random.randint(0, len(GALAXY_POOL)-1, size=PLOTS_TO_MAKE)\n",
    "for i in indexes:\n",
    "    target = GALAXY_POOL.iloc[i]\n",
    "    examine_around(target)"
   ]
  },
  {
   "cell_type": "markdown",
   "metadata": {},
   "source": [
    "### Idea: analyze entire neighborhood and look for groups of similar z galaxies, choose a z from the biggest group"
   ]
  },
  {
   "cell_type": "code",
   "execution_count": null,
   "metadata": {},
   "outputs": [],
   "source": [
    "MAX = 300\n",
    "close = np.empty(MAX)\n",
    "total = np.empty(MAX)\n",
    "frac = np.empty(MAX)\n",
    "for i in range(0,MAX):\n",
    "    target = lost_galaxies.iloc[i]\n",
    "    close[i], total[i], frac[i] = neighbor_exam(target)"
   ]
  },
  {
   "cell_type": "code",
   "execution_count": null,
   "metadata": {},
   "outputs": [],
   "source": [
    "max_finished = 81408\n",
    "finished_close = close[0:max_finished]\n",
    "finished_total = total[0:max_finished]\n",
    "with open(ROOT_FOLDER + 'mxxl_lostgal_neighborhood_close.npy', 'wb') as f:\n",
    "    np.save(f, finished_close)\n",
    "with open(ROOT_FOLDER + 'mxxl_lostgal_neighborhood_total.npy', 'wb') as f:\n",
    "    np.save(f, finished_total)"
   ]
  },
  {
   "cell_type": "code",
   "execution_count": null,
   "metadata": {},
   "outputs": [],
   "source": [
    "with open(ROOT_FOLDER + 'mxxl_lostgal_neighborhood_close.npy', 'rb') as f:\n",
    "    close = np.load(f)\n",
    "\n",
    "with open(ROOT_FOLDER + 'mxxl_lostgal_neighborhood_total.npy', 'rb') as f:\n",
    "    total = np.load(f)\n",
    "\n",
    "frac = close / total"
   ]
  },
  {
   "cell_type": "code",
   "execution_count": null,
   "metadata": {},
   "outputs": [],
   "source": [
    "bins = np.linspace(0,30,31)\n",
    "trash = plt.hist(close, bins=bins)\n",
    "plt.title(\"Lost Galaxies Neighbors at ~Correct z\")\n",
    "plt.xlabel(\"Count of Similar z Neighbors\")\n",
    "plt.ylabel(\"Count of Lost Galaxies\")\n",
    "print(\"Hopeless Fraction: \", np.sum(close==0) / len(close))\n",
    "print(\"Essentially Hopeless Fraction: \", (np.sum(close==0) + np.sum(close==1)) / len(close))"
   ]
  },
  {
   "cell_type": "code",
   "execution_count": null,
   "metadata": {},
   "outputs": [],
   "source": [
    "viable = close > 1\n",
    "frac[viable]\n",
    "trash=plt.hist(frac[viable], bins=30)\n",
    "plt.title(\"Viable Lost Galaxies: Correct z Neighbor Fraction\")\n",
    "plt.xlabel(\"Fraction with Similar z\")\n",
    "plt.ylabel(\"Count of Viable Lost Galaxies\")"
   ]
  },
  {
   "cell_type": "markdown",
   "metadata": {},
   "source": []
  }
 ],
 "metadata": {
  "kernelspec": {
   "display_name": "ian-conda311",
   "language": "python",
   "name": "python3"
  },
  "language_info": {
   "codemirror_mode": {
    "name": "ipython",
    "version": 3
   },
   "file_extension": ".py",
   "mimetype": "text/x-python",
   "name": "python",
   "nbconvert_exporter": "python",
   "pygments_lexer": "ipython3",
   "version": "3.11.4"
  }
 },
 "nbformat": 4,
 "nbformat_minor": 2
}
