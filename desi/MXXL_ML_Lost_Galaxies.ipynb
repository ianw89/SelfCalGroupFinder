{
 "cells": [
  {
   "cell_type": "code",
   "execution_count": null,
   "metadata": {},
   "outputs": [],
   "source": [
    "import numpy as np\n",
    "import pandas as pd\n",
    "import matplotlib.pyplot as plt\n",
    "import matplotlib.colors as c\n",
    "from scipy import special\n",
    "import h5py\n",
    "from astropy.wcs import WCS\n",
    "import astropy.coordinates as coord\n",
    "import astropy.units as u\n",
    "from pyutils import *\n",
    "import types\n",
    "import numpy.ma as ma\n",
    "import sys\n",
    "import sklearn as skl\n",
    "import sklearn.svm as svm\n",
    "import sklearn.metrics as metrics\n",
    "from sklearn.model_selection import train_test_split\n",
    "from dataloc import *"
   ]
  },
  {
   "cell_type": "code",
   "execution_count": null,
   "metadata": {},
   "outputs": [],
   "source": [
    "# Read in data from MXXL hdf5 file\n",
    "\n",
    "input = h5py.File(MXXL_FILE, 'r')\n",
    "dec = input['Data/dec'][:]\n",
    "ra = input['Data/ra'][:]\n",
    "z_obs = input['Data/z_obs'][:]\n",
    "app_mag = input['Data/app_mag'][:]\n",
    "\n",
    "bright_filter = app_mag < 19.5 # makes a filter array (True/False values)\n",
    "redshift_filter = z_obs > 0 # makes a filter array (True/False values)\n",
    "location_filter_1 = ra < 160.0\n",
    "location_filter_2 = ra > 140.0\n",
    "location_filter_3 = dec > 0.0\n",
    "location_filter_4 = dec < 20.0\n",
    "#keep = np.all([bright_filter, redshift_filter], axis=0)\n",
    "keep = np.all([bright_filter, redshift_filter, location_filter_1, location_filter_2, location_filter_3, location_filter_4], axis=0)\n",
    "\n",
    "dec = dec[keep]\n",
    "ra = ra[keep]\n",
    "z_obs = z_obs[keep]\n",
    "app_mag = app_mag[keep]\n",
    "sim_halo_id = input['Data/mxxl_id'][:]\n",
    "sim_halo_id = sim_halo_id[keep]\n",
    "\n",
    "input.close()\n",
    "\n",
    "print(\"Galaxies kept: \", len(dec))"
   ]
  },
  {
   "cell_type": "code",
   "execution_count": null,
   "metadata": {},
   "outputs": [],
   "source": [
    "ldist = z_to_ldist(z_obs)"
   ]
  },
  {
   "cell_type": "code",
   "execution_count": null,
   "metadata": {},
   "outputs": [],
   "source": [
    "# PREPARE FEATURE: angular distances to nearest 3 neighbors\n",
    "# PREPARE FEATURE: redshifts of nearest 3 neighbors\n",
    "# PREPARE FEATURE: Luminosity Distances of nearest 3 neighbors\n",
    "\n",
    "catalog = coord.SkyCoord(ra=ra*u.degree, dec=dec*u.degree, frame='icrs')\n",
    "to_match = coord.SkyCoord(ra=ra*u.degree, dec=dec*u.degree, frame='icrs')\n",
    "\n",
    "nn_bins = [2,3,4] # this means closest 3. '1' will find the same object.\n",
    "\n",
    "nn_z = np.empty((len(nn_bins), len(dec)))\n",
    "nn_distances = np.empty((len(nn_bins), len(dec)))\n",
    "nn_ldist = np.empty((len(nn_bins), len(dec)))\n",
    "\n",
    "for j in range(len(nn_bins)):\n",
    "    idx, d2d, d3d = coord.match_coordinates_sky(to_match, catalog, nthneighbor=nn_bins[j])\n",
    "    \n",
    "    nn_distances[j] = d2d.to(u.arcsec).value\n",
    "    nn_z[j] = z_obs[idx]\n",
    "    nn_ldist[j] = ldist[idx]"
   ]
  },
  {
   "cell_type": "code",
   "execution_count": null,
   "metadata": {},
   "outputs": [],
   "source": [
    "# PREPARE FEATURE: Absolute mags of the neighbors\n",
    "#my_abs_mag = app_mag_to_abs_mag(small_app_mag, small_z_obs)"
   ]
  },
  {
   "cell_type": "code",
   "execution_count": null,
   "metadata": {},
   "outputs": [],
   "source": [
    "# app mag of target?"
   ]
  },
  {
   "cell_type": "code",
   "execution_count": null,
   "metadata": {},
   "outputs": [],
   "source": [
    "# PUT ALL FEATURES INTO X\n",
    "print(nn_z[0][1])\n",
    "print(nn_distances[0][1])\n",
    "\n",
    "X = np.vstack((nn_z, nn_distances)).T # NN-1-z NN-2-z NN-3-z NN-1-ang-dist NN-2-ang-dist NN-3-ang-dist\n",
    "print(X.shape)\n",
    "print(X[1])"
   ]
  },
  {
   "cell_type": "code",
   "execution_count": null,
   "metadata": {},
   "outputs": [],
   "source": [
    "X_train, X_test, y_train, y_test = train_test_split(X, z_obs, test_size=0.2, random_state=42)"
   ]
  },
  {
   "cell_type": "code",
   "execution_count": null,
   "metadata": {},
   "outputs": [],
   "source": [
    "svr_rbf = svm.SVR(kernel=\"rbf\", C=100, gamma=0.1, epsilon=0.1)\n",
    "#svr_lin = svm.SVR(kernel=\"linear\", C=100, gamma=\"auto\")\n",
    "#svr_poly = svm.SVR(kernel=\"poly\", C=100, gamma=\"auto\", degree=3, epsilon=0.1, coef0=1)\n",
    "\n",
    "#svrs = [svr_rbf]#[svr_rbf, svr_lin, svr_poly]\n",
    "#kernel_label = [\"RBF\", \"Linear\", \"Polynomial\"]\n",
    "#model_color = [\"m\", \"c\", \"g\"]"
   ]
  },
  {
   "cell_type": "code",
   "execution_count": null,
   "metadata": {},
   "outputs": [],
   "source": [
    "svr_rbf.fit(X_train, y_train)"
   ]
  },
  {
   "cell_type": "code",
   "execution_count": null,
   "metadata": {},
   "outputs": [],
   "source": [
    "score = svr_rbf.score(X_test,y_test)\n",
    "z_guessed = svr_rbf.predict(X_test)\n",
    "right = np.isclose(z_guessed, y_test, rtol=0, atol=0.01)\n",
    "print(np.sum(right.astype(int)) / len(y_test))"
   ]
  },
  {
   "cell_type": "code",
   "execution_count": null,
   "metadata": {},
   "outputs": [],
   "source": [
    "from sklearn import tree\n",
    "clf = tree.DecisionTreeRegressor()\n",
    "clf.fit(X_train, y_train)"
   ]
  },
  {
   "cell_type": "code",
   "execution_count": null,
   "metadata": {},
   "outputs": [],
   "source": [
    "print(clf.score(X_test, y_test))\n",
    "tree_results = clf.predict(X_test)\n",
    "right = np.isclose(tree_results, y_test, rtol=0, atol=0.01)\n",
    "print(\"Close z fraction: \", np.sum(right.astype(int)) / len(y_test))\n",
    "\n",
    "trash=plt.hist(y_test, alpha=.5, bins=50)\n",
    "trash=plt.hist(tree_results, alpha=.5, bins=50)\n"
   ]
  },
  {
   "cell_type": "code",
   "execution_count": null,
   "metadata": {},
   "outputs": [],
   "source": [
    "delta = np.abs(tree_results - y_test)\n",
    "trash=plt.hist(delta, bins=50)"
   ]
  },
  {
   "cell_type": "code",
   "execution_count": null,
   "metadata": {},
   "outputs": [],
   "source": []
  }
 ],
 "metadata": {
  "kernelspec": {
   "display_name": "Python 3",
   "language": "python",
   "name": "python3"
  },
  "language_info": {
   "codemirror_mode": {
    "name": "ipython",
    "version": 3
   },
   "file_extension": ".py",
   "mimetype": "text/x-python",
   "name": "python",
   "nbconvert_exporter": "python",
   "pygments_lexer": "ipython3",
   "version": "3.9.6"
  },
  "orig_nbformat": 4
 },
 "nbformat": 4,
 "nbformat_minor": 2
}
