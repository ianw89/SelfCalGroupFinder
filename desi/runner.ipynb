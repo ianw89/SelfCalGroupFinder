{
 "cells": [
  {
   "cell_type": "code",
   "execution_count": 2,
   "metadata": {},
   "outputs": [],
   "source": [
    "import numpy as np\n",
    "import pandas as pd\n",
    "import matplotlib.pyplot as plt\n",
    "import astropy.coordinates as coord\n",
    "import astropy.units as u\n",
    "from pyutils import *\n",
    "import types\n",
    "import numpy.ma as ma\n",
    "from matplotlib.patches import Circle\n",
    "import \n",
    "import postprocess as pp\n",
    "from postprocess import save_dataset, load_dataset\n",
    "\n",
    "BIN_FOLDER = \"/home/users/imw2293/SelfCalGroupFinder/bin/\"\n",
    "\n",
    "%load_ext autoreload\n",
    "%autoreload 2"
   ]
  },
  {
   "cell_type": "code",
   "execution_count": 7,
   "metadata": {},
   "outputs": [
    {
     "data": {
      "text/plain": [
       "<Popen: returncode: None args: '/home/users/imw2293/SelfCalGroupFinder/bin/k...>"
      ]
     },
     "execution_count": 7,
     "metadata": {},
     "output_type": "execute_result"
    },
    {
     "name": "stderr",
     "output_type": "stream",
     "text": [
      "kdGroupFinder inputfile zmin zmax frac_area [fluxlim] [color] [wcenvalues 1-6] [Bsat_values 1-4] [wchi_values 1-4]> out\n"
     ]
    }
   ],
   "source": [
    "import subprocess as sp\n",
    "\n",
    "# TODO: Idea - replace bash script with jupyter notebook so file reads aren't repetitive to each python session.\n",
    "# Can use this to run groupfinder executable.\n",
    "\n",
    "name = \"sdss_fluxlim_v1.0\" \n",
    "inname = name + \".dat\"\n",
    "outname = name + \"_test.out\"\n",
    "\n",
    "# TODO call preprocessor \n",
    "\n",
    "args = [BIN_FOLDER + \"kdGroupFinder_omp\", inname, zmin, zmax, frac_area, fluxlim, color, omegaL_sf, sigma_sf, omegaL_q, sigma_q, 0, 0, 1, 0, 1, 0, outname]\n",
    "sp.Popen(args, shell=True, stdout=sp.PIPE)\n",
    "\n",
    "# TODO call post-processor\n"
   ]
  },
  {
   "cell_type": "code",
   "execution_count": null,
   "metadata": {},
   "outputs": [],
   "source": []
  }
 ],
 "metadata": {
  "kernelspec": {
   "display_name": "ian-conda311",
   "language": "python",
   "name": "python3"
  },
  "language_info": {
   "codemirror_mode": {
    "name": "ipython",
    "version": 3
   },
   "file_extension": ".py",
   "mimetype": "text/x-python",
   "name": "python",
   "nbconvert_exporter": "python",
   "pygments_lexer": "ipython3",
   "version": "3.11.4"
  }
 },
 "nbformat": 4,
 "nbformat_minor": 2
}
