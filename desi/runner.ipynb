{
 "cells": [
  {
   "cell_type": "code",
   "execution_count": null,
   "metadata": {},
   "outputs": [],
   "source": [
    "import numpy as np\n",
    "import pandas as pd\n",
    "import matplotlib.pyplot as plt\n",
    "import astropy.coordinates as coord\n",
    "import astropy.units as u\n",
    "from pyutils import *\n",
    "import types\n",
    "import numpy.ma as ma\n",
    "from matplotlib.patches import Circle\n",
    "import postprocess as pp\n",
    "from postprocess import save_dataset, load_dataset\n",
    "import subprocess as sp\n",
    "from dataloc import *\n",
    "\n",
    "%load_ext autoreload\n",
    "%autoreload 2"
   ]
  },
  {
   "cell_type": "code",
   "execution_count": null,
   "metadata": {},
   "outputs": [],
   "source": [
    "class GroupCatalog:\n",
    "\n",
    "    def __init__(self, name):\n",
    "        self.name = name\n",
    "        self.GF_outname = self.name + \".out\"\n",
    "        self.color = 'k'\n",
    "        self.marker = '-'\n",
    "        self.preprocess_func = None\n",
    "        self.preprocess_file = None\n",
    "        self.GF_props = {}\n",
    "\n",
    "    def run_group_finder(self):\n",
    "\n",
    "        if self.preprocess_func is not None:\n",
    "            inname = self.preprocess_func() # TODO\n",
    "        else:\n",
    "            inname = self.preprocess_file\n",
    "\n",
    "        with open(self.GF_outname, \"w\") as f:\n",
    "\n",
    "            #args = [BIN_FOLDER + \"kdGroupFinder_omp\", inname, self.GF_props['zmin'], self.GF_props['zmax'], self.GF_props['frac_area'], self.GF_props['fluxlim'], self.GF_props['color'], self.GF_props['omegaL_sf'], self.GF_props['sigma_sf'], self.GF_props['omegaL_q'], self.GF_props['sigma_q'], self.GF_props['omega0_sf'], self.GF_props['omega0_q'], self.GF_props['beta0q'], self.GF_props['betaLq'], self.GF_props['beta0sf'], self.GF_props['betaLsf'], self.GF_outname]\n",
    "            #sp.Popen(args, shell=True, stdout=sp.PIPE)\n",
    "\n",
    "            args = [BIN_FOLDER + \"kdGroupFinder_omp\", inname, *list(map(str,self.GF_props.values()))]\n",
    "            self.results = sp.run(args, cwd=BASE_FOLDER, stdout=f)\n"
   ]
  },
  {
   "cell_type": "code",
   "execution_count": null,
   "metadata": {},
   "outputs": [],
   "source": [
    "sdss_vanilla = GroupCatalog(\"SDSS Vanilla\")\n",
    "sdss_vanilla.color = pp.get_color(4)\n",
    "sdss_vanilla.marker = '-'\n",
    "sdss_vanilla.preprocess_func = None\n",
    "sdss_vanilla.preprocess_file = DATA_FOLDER + \"sdss_fluxlim_v1.0.dat\" \n",
    "sdss_vanilla.GF_props = {\n",
    "    'zmin':0,\n",
    "    'zmax':1.0, # BUG ?\n",
    "    'frac_area':0.179,\n",
    "    'fluxlim':1,\n",
    "    'color':1,\n",
    "    'omegaL_sf':13.1,\n",
    "    'sigma_sf':2.42,\n",
    "    'omegaL_q':12.9,\n",
    "    'sigma_q':4.84,\n",
    "    'omega0_sf':0,  \n",
    "    'omega0_q':0,    \n",
    "    'beta0q':10,    \n",
    "    'betaLq':0,\n",
    "    'beta0sf':10,\n",
    "    'betaLsf':0,\n",
    "}"
   ]
  },
  {
   "cell_type": "code",
   "execution_count": null,
   "metadata": {},
   "outputs": [],
   "source": [
    "# Run group finder on whatever datasets you want\n",
    "datasets_to_run = [\n",
    "    sdss_vanilla\n",
    "]\n",
    "\n",
    "for d in datasets_to_run:\n",
    "\n",
    "    d.run_group_finder()\n",
    "    \n",
    "    # TODO call post-processor, but will need to change how it works a bit given my new class structure\n",
    "    #pp.process_BGS(ROOT_FOLDER + \"BGS_fiberonly_1.out\")\n"
   ]
  },
  {
   "cell_type": "code",
   "execution_count": null,
   "metadata": {},
   "outputs": [],
   "source": [
    "sdss_vanilla.results"
   ]
  },
  {
   "cell_type": "code",
   "execution_count": null,
   "metadata": {},
   "outputs": [],
   "source": []
  }
 ],
 "metadata": {
  "kernelspec": {
   "display_name": "ian-conda311",
   "language": "python",
   "name": "python3"
  },
  "language_info": {
   "codemirror_mode": {
    "name": "ipython",
    "version": 3
   },
   "file_extension": ".py",
   "mimetype": "text/x-python",
   "name": "python",
   "nbconvert_exporter": "python",
   "pygments_lexer": "ipython3",
   "version": "3.11.4"
  }
 },
 "nbformat": 4,
 "nbformat_minor": 2
}
