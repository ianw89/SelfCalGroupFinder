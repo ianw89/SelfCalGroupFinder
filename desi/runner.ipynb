{
 "cells": [
  {
   "cell_type": "code",
   "execution_count": null,
   "metadata": {},
   "outputs": [],
   "source": [
    "from groupcatalog import GroupCatalog, serialize, deserialize\n",
    "import catalog_definitions as cat\n",
    "\n",
    "%load_ext autoreload\n",
    "%autoreload 2"
   ]
  },
  {
   "cell_type": "markdown",
   "metadata": {},
   "source": [
    "## Running Group Finder\n",
    "\n",
    "This notebook will call the functions to preprocess, run group finder, and run postprocessing code to build up a GroupCatalog object, which mostly wraps a pandas DataFrame containing the resulting group catalog data.\n",
    "\n",
    "After running this on a given GroupCatalog definition, a serialized (via pickle) version of the GroupCatalog object will exist which can be deserialized elsewhere for analysis. See post_plots.ipynb for that."
   ]
  },
  {
   "cell_type": "code",
   "execution_count": null,
   "metadata": {},
   "outputs": [],
   "source": [
    "# Run group finder on whatever datasets you want\n",
    "datasets_to_run: list[GroupCatalog] = [\n",
    "    cat.sdss_vanilla,\n",
    "    #cat.sdss_colors,\n",
    "    #cat.sdss_colors_chi,\n",
    "    #cat.mxxl_all,\n",
    "    #cat.mxxl_all_c,\n",
    "    #cat.mxxl_fiberonly,\n",
    "    #cat.mxxl_fiberonly_c,\n",
    "    #cat.mxxl_nn,\n",
    "    #cat.mxxl_nn_c,\n",
    "    #cat.mxxl_simple_2,\n",
    "    #cat.mxxl_simple_2_c,\n",
    "    #cat.mxxl_simple_4,\n",
    "    #cat.mxxl_simple_4_c,\n",
    "    #cat.uchuu_all,\n",
    "    #cat.bgs_simple_4,\n",
    "    #cat.bgs_simple_4_no_sdss,\n",
    "    #cat.bgs_simple_4_4p,\n",
    "    #cat.bgs_simple_4_c,\n",
    "    #cat.bgs_fiberonly,\n",
    "    #cat.bgs_fiberonly_1pass,\n",
    "    #cat.bgs_nn,\n",
    "    #cat.bgs_nn_sdsslike,\n",
    "    #cat.bgs_simple_2,\n",
    "    #cat.bgs_simple_2_c,\n",
    "]\n",
    "\n",
    "# To just run postprocessing on GF output, comment out run_group_finder()\n",
    "for d in datasets_to_run:\n",
    "    d.run_group_finder() # Lsat model, Tableulate HODs, and populate mock is ON \n",
    "    # When on, it creates hod.out, lsat_groups.out and mock_[blue/red]_M[#].dat files\n",
    "    \n",
    "    #d.postprocess()\n",
    "    #serialize(d)\n",
    "    #del(d)\n"
   ]
  },
  {
   "cell_type": "code",
   "execution_count": null,
   "metadata": {},
   "outputs": [],
   "source": []
  }
 ],
 "metadata": {
  "kernelspec": {
   "display_name": "ian-conda311",
   "language": "python",
   "name": "python3"
  },
  "language_info": {
   "codemirror_mode": {
    "name": "ipython",
    "version": 3
   },
   "file_extension": ".py",
   "mimetype": "text/x-python",
   "name": "python",
   "nbconvert_exporter": "python",
   "pygments_lexer": "ipython3",
   "version": "3.11.4"
  }
 },
 "nbformat": 4,
 "nbformat_minor": 2
}
