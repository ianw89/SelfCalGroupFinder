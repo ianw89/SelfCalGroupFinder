{
 "cells": [
  {
   "cell_type": "code",
   "execution_count": null,
   "metadata": {},
   "outputs": [],
   "source": [
    "import numpy as np\n",
    "import pandas as pd\n",
    "import matplotlib.pyplot as plt\n",
    "import astropy.coordinates as coord\n",
    "import astropy.units as u\n",
    "from pyutils import *\n",
    "import types\n",
    "import numpy.ma as ma\n",
    "from matplotlib.patches import Circle\n",
    "import postprocess as pp\n",
    "from postprocess import GroupCatalog, get_color\n",
    "import subprocess as sp\n",
    "from dataloc import *\n",
    "\n",
    "%load_ext autoreload\n",
    "%autoreload 2"
   ]
  },
  {
   "cell_type": "code",
   "execution_count": null,
   "metadata": {},
   "outputs": [],
   "source": [
    "BSAT_DEFAULT = 10"
   ]
  },
  {
   "cell_type": "code",
   "execution_count": null,
   "metadata": {},
   "outputs": [],
   "source": [
    "sdss_vanilla = GroupCatalog(\"SDSS Vanilla\")\n",
    "sdss_vanilla.color = get_color(4)\n",
    "sdss_vanilla.marker = '-'\n",
    "sdss_vanilla.preprocess_func = None\n",
    "sdss_vanilla.preprocess_file = DATA_FOLDER + \"sdss_fluxlim_v1.0.dat\" \n",
    "sdss_vanilla.postprocess_func = pp.process_sdss\n",
    "sdss_vanilla.GF_props = {\n",
    "    'zmin':0,\n",
    "    'zmax':1.0, # BUG ?\n",
    "    'frac_area':0.179,\n",
    "    'fluxlim':1,\n",
    "    'color':1,\n",
    "    'omegaL_sf':13.1,\n",
    "    'sigma_sf':2.42,\n",
    "    'omegaL_q':12.9,\n",
    "    'sigma_q':4.84,\n",
    "    'omega0_sf':0,  \n",
    "    'omega0_q':0,    \n",
    "    'beta0q':BSAT_DEFAULT,    \n",
    "    'betaLq':0,\n",
    "    'beta0sf':BSAT_DEFAULT,\n",
    "    'betaLsf':0,\n",
    "}"
   ]
  },
  {
   "cell_type": "code",
   "execution_count": null,
   "metadata": {},
   "outputs": [],
   "source": [
    "# Run group finder on whatever datasets you want\n",
    "datasets_to_run = [\n",
    "    sdss_vanilla\n",
    "]\n",
    "\n",
    "for d in datasets_to_run:\n",
    "\n",
    "    d.run_group_finder()\n",
    "    d.postprocess()\n",
    "\n",
    "\n"
   ]
  },
  {
   "cell_type": "code",
   "execution_count": null,
   "metadata": {},
   "outputs": [],
   "source": [
    "pp.serialize(sdss_vanilla)"
   ]
  },
  {
   "cell_type": "code",
   "execution_count": null,
   "metadata": {},
   "outputs": [],
   "source": [
    "\n",
    "sdss_vanilla = pp.deserialize(sdss_vanilla)"
   ]
  },
  {
   "cell_type": "code",
   "execution_count": null,
   "metadata": {},
   "outputs": [],
   "source": [
    "sdss_vanilla.dataset.all_data"
   ]
  },
  {
   "cell_type": "code",
   "execution_count": null,
   "metadata": {},
   "outputs": [],
   "source": []
  }
 ],
 "metadata": {
  "kernelspec": {
   "display_name": "ian-conda311",
   "language": "python",
   "name": "python3"
  },
  "language_info": {
   "codemirror_mode": {
    "name": "ipython",
    "version": 3
   },
   "file_extension": ".py",
   "mimetype": "text/x-python",
   "name": "python",
   "nbconvert_exporter": "python",
   "pygments_lexer": "ipython3",
   "version": "3.11.4"
  }
 },
 "nbformat": 4,
 "nbformat_minor": 2
}
