{
 "cells": [
  {
   "cell_type": "code",
   "execution_count": null,
   "metadata": {},
   "outputs": [],
   "source": [
    "import numpy as np\n",
    "import pandas as pd\n",
    "import matplotlib.pyplot as plt\n",
    "import matplotlib.colors as c\n",
    "from astropy.wcs import WCS\n",
    "import astropy.coordinates as coord\n",
    "import astropy.units as u\n",
    "from pyutils import *\n",
    "import astropy.io.fits as fits\n",
    "import healpy as hp\n",
    "from astropy.table import Table\n",
    "\n",
    "%load_ext autoreload\n",
    "%autoreload 2"
   ]
  },
  {
   "cell_type": "code",
   "execution_count": null,
   "metadata": {},
   "outputs": [],
   "source": [
    "ROOT_FOLDER = \"../bin/\"\n",
    "FILE = ROOT_FOLDER + \"BGS_BRIGHT_full.dat.fits\""
   ]
  },
  {
   "cell_type": "code",
   "execution_count": null,
   "metadata": {},
   "outputs": [],
   "source": [
    "BGS_N = hp.read_map(ROOT_FOLDER + 'BGS_BRIGHT_mapprops_healpix_nested_nside256_N.fits')\n",
    "BGS_S = hp.read_map(ROOT_FOLDER + 'BGS_BRIGHT_mapprops_healpix_nested_nside256_S.fits')"
   ]
  },
  {
   "cell_type": "code",
   "execution_count": null,
   "metadata": {},
   "outputs": [],
   "source": [
    "hp.mollview(\n",
    "    BGS_N,\n",
    "    coord=[\"G\", \"E\"],\n",
    "    title=\"Histogram equalized Ecliptic\",\n",
    "    unit=\"Galaxies\",\n",
    "    norm=\"hist\",\n",
    "    min=0,\n",
    "    max=1,\n",
    ")\n",
    "hp.graticule()"
   ]
  },
  {
   "cell_type": "code",
   "execution_count": null,
   "metadata": {},
   "outputs": [],
   "source": [
    "hp.mollview(\n",
    "    BGS_S,\n",
    "    coord=[\"G\", \"E\"],\n",
    "    title=\"Histogram equalized Ecliptic\",\n",
    "    unit=\"Galaxies\",\n",
    "    norm=\"hist\",\n",
    "    min=0,\n",
    "    max=1,\n",
    ")\n",
    "hp.graticule()"
   ]
  },
  {
   "cell_type": "code",
   "execution_count": null,
   "metadata": {},
   "outputs": [],
   "source": [
    "with fits.open(FILE) as hdul:\n",
    "    hdul.info()\n",
    "    data = hdul[1].data\n",
    "    header = (hdul[1].header)"
   ]
  },
  {
   "cell_type": "markdown",
   "metadata": {},
   "source": [
    "   We need:\n",
    "\n",
    "   'app_mag' CALCULATE IT. Find info for the bands on how to convert. 𝑚=22.5−2.5log10(flux) probably?\n",
    "\n",
    "   'dec' GOT IT\n",
    "\n",
    "   'g_r' GOT IT (but k-corr?)\n",
    "\n",
    "   'ra' GOT IT\n",
    "\n",
    "   'z_obs' GOT IT\n",
    "\n",
    "   If warnings say multi fits, consider it LOST. We can actually use that info later if available.\n",
    "\n",
    "Healpix for geometric info, hopefully containing 3pass info.\n",
    "\n",
    "   fiber info"
   ]
  },
  {
   "cell_type": "code",
   "execution_count": null,
   "metadata": {},
   "outputs": [],
   "source": [
    "columns_to_keep = ['TARGETID', 'BGS_TARGET', 'TARGET_STATE', 'LOCATION', 'SPECTYPE', 'Z_not4clus', 'ZERR', 'ZWARN', 'ZWARN_MTL', 'FLUX_R', 'FLUX_G', 'RA', 'DEC', 'BITWEIGHTS', 'PROB_OBS', 'MW_TRANSMISSION_R', 'MW_TRANSMISSION_G']\n",
    "\n",
    "# There are also:\n",
    "# FIBERFLUX_R/G/Z \n",
    "# FLUX_W1/2 \n",
    "# MASKBITS ?\n",
    "# ABSMAG_SDSS_G/R\n",
    "# WEIGHT_ZFAIL\n",
    "\n",
    "for c in columns_to_keep:\n",
    "    print (c, data[3][c])"
   ]
  },
  {
   "cell_type": "code",
   "execution_count": null,
   "metadata": {},
   "outputs": [],
   "source": [
    "u_table = Table.read(FILE, format='fits')\n"
   ]
  },
  {
   "cell_type": "code",
   "execution_count": null,
   "metadata": {},
   "outputs": [],
   "source": [
    "plt.figure(figsize=(32,8))\n",
    "plt.hist(u_table['TARGET_STATE'])\n",
    "plt.title('Target State')\n",
    "plt.yscale('log')"
   ]
  },
  {
   "cell_type": "code",
   "execution_count": null,
   "metadata": {},
   "outputs": [],
   "source": [
    "plt.hist(u_table['SPECTYPE'])\n",
    "plt.title(\"SPECTYPE\")\n",
    "plt.yscale('log')"
   ]
  },
  {
   "cell_type": "markdown",
   "metadata": {},
   "source": [
    "## Get the galaxy data we actually need"
   ]
  },
  {
   "cell_type": "code",
   "execution_count": null,
   "metadata": {},
   "outputs": [],
   "source": [
    "# TODO ensure this is right\n",
    "def get_app_mag(FLUX_R):\n",
    "    return 22.5 - 2.5*np.log10(FLUX_R)"
   ]
  },
  {
   "cell_type": "code",
   "execution_count": null,
   "metadata": {},
   "outputs": [],
   "source": [
    "obj_type = u_table['SPECTYPE']\n",
    "dec = u_table['DEC']\n",
    "ra = u_table['RA']\n",
    "z_obs = u_table['Z_not4clus']\n",
    "target_id = u_table['TARGETID']\n",
    "flux_r = u_table['FLUX_R']\n",
    "flux_g = u_table['FLUX_G']\n",
    "app_mag = get_app_mag(u_table['FLUX_R'])\n",
    "p_obs = u_table['PROB_OBS']\n",
    "\n",
    "before_count = len(dec)\n",
    "\n",
    "#g_r = app_mag - get_app_mag(u_table['FLUX_G']) # TODO k-corr\n",
    "#central = u_table['CEN']\n",
    "#uchuu_halo_mass = u_table['HALO_MASS']\n",
    "\n",
    "# TODO observed vs unobserved\n",
    "# TODO 3pass only\n",
    "\n",
    "redshift_filter = z_obs > 0\n",
    "galaxy_filter = obj_type == 'GALAXY' # TODO what about the ones with no spectype???\n",
    "app_mag_filter = app_mag < 19.5\n",
    "#three_pass_filter = TODO\n",
    "keep = np.all([galaxy_filter, app_mag_filter, redshift_filter], axis=0)\n",
    "obj_type = obj_type[keep]\n",
    "dec = dec[keep]\n",
    "ra = ra[keep]\n",
    "z_obs = z_obs[keep]\n",
    "target_id = target_id[keep]\n",
    "flux_r = flux_r[keep]\n",
    "flux_g = flux_g[keep]\n",
    "app_mag = app_mag[keep]\n",
    "p_obs = p_obs[keep]\n",
    "\n",
    "after_count = len(dec)\n",
    "\n",
    "print(f\"Kept {after_count} of {before_count} rows.\")"
   ]
  },
  {
   "cell_type": "code",
   "execution_count": null,
   "metadata": {},
   "outputs": [],
   "source": [
    "print(np.min(z_obs))\n",
    "print(np.max(z_obs))"
   ]
  },
  {
   "cell_type": "code",
   "execution_count": null,
   "metadata": {},
   "outputs": [],
   "source": [
    "plt.hist(u_table['ZWARN'])\n",
    "plt.title('ZWARN')\n",
    "plt.yscale('log')"
   ]
  },
  {
   "cell_type": "code",
   "execution_count": null,
   "metadata": {},
   "outputs": [],
   "source": [
    "plt.hist(u_table['ZWARN_MTL'])\n",
    "plt.title('ZWARN_MTL')\n",
    "plt.yscale('log')"
   ]
  },
  {
   "cell_type": "code",
   "execution_count": null,
   "metadata": {},
   "outputs": [],
   "source": [
    "plt.hist(z_obs, bins=50)\n",
    "plt.title('Redshift')\n",
    "plt.yscale('log')"
   ]
  },
  {
   "cell_type": "code",
   "execution_count": null,
   "metadata": {},
   "outputs": [],
   "source": [
    "plt.hist(p_obs, bins=50)\n",
    "plt.title('Probabilty to Observe')"
   ]
  },
  {
   "cell_type": "code",
   "execution_count": null,
   "metadata": {},
   "outputs": [],
   "source": [
    "plt.hist(app_mag, bins=50)\n",
    "plt.yscale('log')"
   ]
  },
  {
   "cell_type": "code",
   "execution_count": null,
   "metadata": {},
   "outputs": [],
   "source": [
    "plt.hist(get_app_mag(u_table['FLUX_G']) - get_app_mag(u_table['FLUX_R']) , bins=20)\n",
    "plt.title('g-r')\n",
    "plt.yscale('log')"
   ]
  },
  {
   "cell_type": "code",
   "execution_count": null,
   "metadata": {},
   "outputs": [],
   "source": [
    "print(estimate_frac_area(ra, dec))"
   ]
  },
  {
   "cell_type": "code",
   "execution_count": null,
   "metadata": {},
   "outputs": [],
   "source": [
    "fig = make_map(ra, dec)"
   ]
  },
  {
   "cell_type": "code",
   "execution_count": null,
   "metadata": {},
   "outputs": [],
   "source": []
  }
 ],
 "metadata": {
  "kernelspec": {
   "display_name": "ian-conda311",
   "language": "python",
   "name": "python3"
  },
  "language_info": {
   "codemirror_mode": {
    "name": "ipython",
    "version": 3
   },
   "file_extension": ".py",
   "mimetype": "text/x-python",
   "name": "python",
   "nbconvert_exporter": "python",
   "pygments_lexer": "ipython3",
   "version": "3.1.0"
  }
 },
 "nbformat": 4,
 "nbformat_minor": 2
}
