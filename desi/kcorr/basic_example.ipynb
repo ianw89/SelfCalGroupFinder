{
 "cells": [
  {
   "cell_type": "code",
   "execution_count": null,
   "id": "1b5ecbf0-5f55-45d1-bc47-e41bc07e399e",
   "metadata": {
    "tags": []
   },
   "outputs": [],
   "source": [
    "'''\n",
    "k-correction demonstrator.\n",
    "'''"
   ]
  },
  {
   "cell_type": "code",
   "execution_count": null,
   "id": "a411b228-cf78-48ea-a929-5e3a9f0051c7",
   "metadata": {
    "tags": []
   },
   "outputs": [],
   "source": [
    "import numpy as np\n",
    "import matplotlib.pyplot as plt\n",
    "import k_corrections as kc"
   ]
  },
  {
   "cell_type": "code",
   "execution_count": null,
   "id": "b1b95c32-0b77-43bd-83d8-596195cd59ef",
   "metadata": {},
   "outputs": [],
   "source": []
  },
  {
   "cell_type": "code",
   "execution_count": null,
   "id": "deb88c32-f1a9-463e-929e-9584dfceec3d",
   "metadata": {
    "tags": []
   },
   "outputs": [],
   "source": [
    "survey = 'Y1'\n",
    "fpathN = '/pscratch/sd/a/amjsmith/Y1/LSS/iron/LSScats/v0.5/BGS_BRIGHT_N_clustering.dat.fits'\n",
    "fpathS = '/pscratch/sd/a/amjsmith/Y1/LSS/iron/LSScats/v0.5/BGS_BRIGHT_S_clustering.dat.fits'\n",
    "dat = kc.load_catalogues(fpathN, fpathS)\n",
    "\n",
    "reg = 'N' # assume redshift limits same for N and S.\n",
    "min_z_val = kc.selection(reg)['zmin']\n",
    "max_z_val = kc.selection(reg)['zmax']\n",
    "\n",
    "zmask = (dat['Z'] > min_z_val) & (dat['Z'] < max_z_val)\n",
    "mask = zmask\n",
    "dat = dat[mask]"
   ]
  },
  {
   "cell_type": "code",
   "execution_count": null,
   "id": "1e93595f-e692-47fb-8566-952a51e8c388",
   "metadata": {
    "tags": []
   },
   "outputs": [],
   "source": []
  },
  {
   "cell_type": "code",
   "execution_count": null,
   "id": "fbac3266-1dd0-4bd1-93cd-32042ebefa47",
   "metadata": {
    "tags": []
   },
   "outputs": [],
   "source": [
    "regions = ['N', 'S']\n",
    "\n",
    "dat['K_R'] = -99.9\n",
    "\n",
    "for reg in regions:\n",
    "    regmask = (dat['reg'] == reg)\n",
    "    kcorr_r  = kc.DESI_KCorrection(band='R', file='jmext', photsys=reg)\n",
    "    \n",
    "    dat['K_R'][regmask] = kcorr_r.k(dat['Z'][regmask], dat['REST_GMR_0P1'][regmask])"
   ]
  },
  {
   "cell_type": "code",
   "execution_count": null,
   "id": "bf0e422a-80fc-49f3-9891-9a937d056ed4",
   "metadata": {},
   "outputs": [],
   "source": []
  },
  {
   "cell_type": "code",
   "execution_count": null,
   "id": "ca9131ea-3005-4d16-8602-bad6e8d71258",
   "metadata": {
    "tags": []
   },
   "outputs": [],
   "source": [
    "def plot_kcorr(regions):\n",
    "    # extract the default colour sequence to have more control of line colors\n",
    "    prop_cycle = plt.rcParams['axes.prop_cycle']\n",
    "    colors = prop_cycle.by_key()['color']\n",
    "\n",
    "    for reg in regions:\n",
    "        # set up the k-corrections for this photometry system region\n",
    "        kcorr_r  = kc.DESI_KCorrection(band='R', file='jmext', photsys=reg)\n",
    "        Sel=kc.selection(reg) # define selection parameters for this region\n",
    "        z=np.linspace(0.0,0.6,300)\n",
    "        icol=-1\n",
    "        #for rest_GMR in np.array([0.39861393, 0.53434181, 0.6534462 , 0.76661587, 0.86391068,\n",
    "       #0.93073082, 0.9832058 ]): #\n",
    "            \n",
    "        for rest_GMR in np.linspace(0.0,1.1,8):   \n",
    "            GMR=rest_GMR*np.ones(z.size)\n",
    "            icol += 1\n",
    "            k=kcorr_r.k(z, GMR)\n",
    "            label=reg+': G-R='+np.array2string(rest_GMR)\n",
    "            plt.plot(z,k,label=label,color=colors[icol],linestyle=Sel['style']) \n",
    "    plt.xlabel('$z$')    \n",
    "    plt.ylabel('$k^r(z)$')  \n",
    "    plt.legend(loc=(1.04,0))\n",
    "    \n",
    "    plt.show()"
   ]
  },
  {
   "cell_type": "code",
   "execution_count": null,
   "id": "7974549c-063b-42a8-96a8-fa03391eb4fb",
   "metadata": {
    "tags": []
   },
   "outputs": [],
   "source": [
    "plot_kcorr(regions)"
   ]
  },
  {
   "cell_type": "code",
   "execution_count": null,
   "id": "32fd9408-56e4-4645-94a8-68c9c7838fb7",
   "metadata": {},
   "outputs": [],
   "source": []
  },
  {
   "cell_type": "code",
   "execution_count": null,
   "id": "6851c356-b296-4b75-82c4-a0a0a2950829",
   "metadata": {},
   "outputs": [],
   "source": []
  }
 ],
 "metadata": {
  "kernelspec": {
   "display_name": "NERSC Python",
   "language": "python",
   "name": "python3"
  },
  "language_info": {
   "codemirror_mode": {
    "name": "ipython",
    "version": 3
   },
   "file_extension": ".py",
   "mimetype": "text/x-python",
   "name": "python",
   "nbconvert_exporter": "python",
   "pygments_lexer": "ipython3",
   "version": "3.11.4"
  }
 },
 "nbformat": 4,
 "nbformat_minor": 5
}
