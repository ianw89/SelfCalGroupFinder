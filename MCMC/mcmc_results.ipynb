{
 "cells": [
  {
   "cell_type": "code",
   "execution_count": null,
   "metadata": {},
   "outputs": [],
   "source": [
    "import os\n",
    "import ast\n",
    "import matplotlib.pyplot as plt\n",
    "import sys\n",
    "sys.path.append(os.path.join(os.getcwd(), '../desi/'))\n",
    "import catalog_definitions as cat\n",
    "import numpy as np"
   ]
  },
  {
   "cell_type": "code",
   "execution_count": null,
   "metadata": {},
   "outputs": [],
   "source": [
    "# Folder number to look in\n",
    "folder_num = 6\n",
    "\n",
    "models = []\n",
    "chi = []\n",
    "with open(f'mcmc_{folder_num}/out.{folder_num}', 'r') as file:\n",
    "    model_num = -1\n",
    "    for line in file:\n",
    "        if line.startswith('MODEL'):\n",
    "            model_num = int(line.split(' ', 2)[-1].strip())\n",
    "        elif line.startswith('{\\'zmin\\':'):\n",
    "            parameter_dict = ast.literal_eval(line)\n",
    "            models.append(parameter_dict)\n",
    "        elif line.startswith('CHI'):\n",
    "            chi.append(float(line.split(' ', 2)[-1].strip()))\n",
    "\n",
    "    assert len(models) == len(chi)\n",
    "\n",
    "def get_parameter_values(parameter_name):\n",
    "    return [model[parameter_name] for model in models]\n",
    "\n",
    "exclusions = ['zmin', 'zmax', 'frac_area', 'fluxlim', 'color']\n",
    "for name in models[0]:\n",
    "    if name in exclusions:\n",
    "        continue\n",
    "    plt.plot(get_parameter_values(name))\n",
    "    plt.xlabel('Iteration')\n",
    "    plt.ylabel(f'Parameter Value')\n",
    "    plt.title(f'Parameter Chain for {name}')\n",
    "    plt.show()\n",
    "\n",
    "plt.plot(chi)\n",
    "plt.xlabel('Iteration')\n",
    "plt.ylabel('Chi Squared')\n",
    "plt.title('Chi Squared Chain')\n",
    "plt.show()\n",
    "\n",
    "# Show best model\n",
    "best_model = models[chi.index(min(chi))]\n",
    "print(f'Best model is model {chi.index(min(chi))} with chi squared of {min(chi)}')\n",
    "\n",
    "#compare each property of best model to cat.sdss_colors.GF_props\n",
    "for key in best_model:\n",
    "    if key in exclusions:\n",
    "        continue\n",
    "    print(f'{key.ljust(12)}:  {best_model[key]:.4} vs {cat.sdss_colors.GF_props[key]:.4} ({100 * (best_model[key] - cat.sdss_colors.GF_props[key]) / cat.sdss_colors.GF_props[key]:.2}%)')\n"
   ]
  },
  {
   "cell_type": "code",
   "execution_count": null,
   "metadata": {},
   "outputs": [],
   "source": []
  },
  {
   "cell_type": "code",
   "execution_count": null,
   "metadata": {},
   "outputs": [],
   "source": [
    "# TODO\n",
    "\n",
    "# --- plot chain\n",
    "fig, axes = plt.subplots(3, figsize=(10, 7), sharex=True)\n",
    "#samples = sampler.get_chain()\n",
    "samples = sampler.flatchain\n",
    "#print samples.shape\n",
    "labels = [\"m\", \"b\", \"log(f)\"]\n",
    "for i in range(3):\n",
    "    ax = axes[i]\n",
    "    ax.plot(samples[:, i], \"k\", alpha=0.3)\n",
    "    ax.set_xlim(0, len(samples))\n",
    "    ax.set_ylabel(labels[i])\n",
    "    ax.yaxis.set_label_coords(-0.1, 0.5)\n",
    "\n",
    "axes[-1].set_xlabel(\"step number\")\n",
    "#plt.show()"
   ]
  },
  {
   "cell_type": "code",
   "execution_count": null,
   "metadata": {},
   "outputs": [],
   "source": []
  }
 ],
 "metadata": {
  "language_info": {
   "name": "python"
  }
 },
 "nbformat": 4,
 "nbformat_minor": 2
}
