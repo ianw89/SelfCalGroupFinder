{
 "cells": [
  {
   "cell_type": "code",
   "execution_count": null,
   "metadata": {},
   "outputs": [],
   "source": [
    "import numpy as np\n",
    "import pandas as pd\n",
    "import matplotlib.pyplot as plt\n",
    "from scipy import special\n",
    "import h5py\n",
    "from astropy.wcs import WCS\n",
    "import astropy.coordinates as coord\n",
    "import astropy.units as u\n",
    "from pyutils import *\n",
    "import types\n",
    "import numpy.ma as ma\n",
    "import sys\n",
    "\n",
    "ROOT_FOLDER = \"/Volumes/Seagate Backup Plus Drive/galaxy-groups-data/\"\n",
    "#ROOT_FOLDER = \"D:\\\\galaxy-groups-data\\\\\"\n",
    "#ROOT_FOLDER = \"bin/\"\n"
   ]
  },
  {
   "attachments": {},
   "cell_type": "markdown",
   "metadata": {},
   "source": [
    "## Basic read-in of HDF5 data from MXXL\n"
   ]
  },
  {
   "cell_type": "code",
   "execution_count": null,
   "metadata": {},
   "outputs": [],
   "source": [
    "DATA_CUT_INDEX = 100000 #21201544 #3000000 "
   ]
  },
  {
   "cell_type": "code",
   "execution_count": null,
   "metadata": {},
   "outputs": [],
   "source": [
    "weights = h5py.File(ROOT_FOLDER + 'weights_3pass.hdf5', 'r')\n",
    "print(list(weights))\n",
    "print(list(weights['Data']))\n",
    "print(list(weights['Weight']))\n"
   ]
  },
  {
   "cell_type": "code",
   "execution_count": null,
   "metadata": {},
   "outputs": [],
   "source": [
    "assigned = weights['Weight/bitweight0'][0:DATA_CUT_INDEX] & 1 # choose 1 of the 2048 fiber assignment realizations with this bitstring\n",
    "print(np.sum(assigned == 1), \"galaxies were assigned a fiber\")\n",
    "print(np.sum(assigned == 0), \"galaxies were NOT assigned a fiber\")\n"
   ]
  },
  {
   "attachments": {},
   "cell_type": "markdown",
   "metadata": {},
   "source": [
    "# Test of nearest neighbors implementations\n"
   ]
  },
  {
   "cell_type": "code",
   "execution_count": null,
   "metadata": {},
   "outputs": [],
   "source": [
    "\n",
    "input = weights\n",
    "dec = input['Data/dec'][0:DATA_CUT_INDEX]\n",
    "ra = input['Data/ra'][0:DATA_CUT_INDEX]\n",
    "z_obs = input['Data/z_obs'][0:DATA_CUT_INDEX]\n",
    "app_mag = input['Data/app_mag'][0:DATA_CUT_INDEX]\n",
    "sim_halo_mass = input['Data/halo_mass'][0:DATA_CUT_INDEX]\n",
    "sim_halo_id = input['Data/mxxl_id'][0:DATA_CUT_INDEX]\n",
    "\n",
    "bright_filter = app_mag < 19.5 # makes a filter array (True/False values)\n",
    "redshift_filter = z_obs > 0 # makes a filter array (True/False values)\n",
    "keep = np.all([bright_filter, redshift_filter], axis=0)\n",
    "dec = dec[keep]\n",
    "ra = ra[keep]\n",
    "z_obs = z_obs[keep]\n",
    "sim_halo_mass = sim_halo_mass[keep]\n",
    "sim_halo_id = sim_halo_id[keep]\n",
    "\n",
    "count = len(dec)\n",
    "print(count, \"galaxies in HDF5 file\")\n",
    "\n",
    "# choose 1 of the 2048 fiber assignment realizations with this bitstring\n",
    "fiber_assigned_0 = assigned.astype(bool)\n",
    "fiber_assigned_0 = fiber_assigned_0[keep]\n",
    "fiber_not_assigned_0 = np.invert(fiber_assigned_0)\n",
    "indexes_not_assigned = np.argwhere(fiber_not_assigned_0)\n",
    "print(np.sum(fiber_assigned_0), \"galaxies were assigned a fiber\")"
   ]
  },
  {
   "cell_type": "code",
   "execution_count": null,
   "metadata": {},
   "outputs": [],
   "source": [
    "# Astropy NN Search with kdtrees\n",
    "catalog = coord.SkyCoord(ra=ra[fiber_assigned_0]*u.degree, dec=dec[fiber_assigned_0]*u.degree, frame='icrs')\n",
    "z_cat = z_obs[fiber_assigned_0]\n",
    "halo_mass_cat = sim_halo_mass[fiber_assigned_0]\n",
    "to_match = coord.SkyCoord(ra=ra[fiber_not_assigned_0]*u.degree, dec=dec[fiber_not_assigned_0]*u.degree, frame='icrs')\n",
    "\n",
    "idx, d2d, d3d = coord.match_coordinates_sky(to_match, catalog, storekdtree=False)\n",
    "\n",
    "z_eff_a = np.copy(z_obs)\n",
    "z_err_a = np.zeros(len(z_obs))\n",
    "\n",
    "# i is the index of the full sized array that needed a NN z value\n",
    "# j is the index along the to_match list corresponding to that\n",
    "# idx are the indexes of the NN from the catalog\n",
    "\n",
    "# Mhalo - (Mhalo of the NN galaxy)\n",
    "halo_delta = np.zeros(len(idx))\n",
    "\n",
    "j = 0\n",
    "for i in indexes_not_assigned:\n",
    "    assert np.isclose(ra[i], to_match[j].ra.value)\n",
    "    new_z = z_cat[idx[j]]\n",
    "    halo_delta[j] = sim_halo_mass[i] - halo_mass_cat[idx[j]]\n",
    "    z_err_a[i] = abs(z_eff_a[i] - new_z) / z_eff_a[i]\n",
    "    z_eff_a[i] = new_z\n",
    "    j = j + 1\n"
   ]
  },
  {
   "cell_type": "code",
   "execution_count": null,
   "metadata": {},
   "outputs": [],
   "source": [
    "# Examine fractional error in assigned redshifts \n",
    "plt.hist(np.log10(z_err_a[fiber_not_assigned_0]), bins=50)\n",
    "plt.yscale('log')\n",
    "plt.xlabel('log(fractional error) from known simulation value')\n",
    "plt.ylabel('Count')\n",
    "print(np.sum(z_err_a))\n",
    "print(np.count_nonzero(z_err_a))\n",
    "\n",
    "# convert to km/s and think about velocity dispersions of galaxies\n"
   ]
  },
  {
   "cell_type": "code",
   "execution_count": null,
   "metadata": {},
   "outputs": [],
   "source": [
    "print(\"Fraction of NN-assigned halos that were different (using simulations halos)\", np.count_nonzero(halo_delta) / len(halo_delta))\n",
    "np.isclose(halo_delta)\n"
   ]
  },
  {
   "cell_type": "code",
   "execution_count": null,
   "metadata": {},
   "outputs": [],
   "source": [
    "# My naive NN\n",
    "z_cat = z_obs[fiber_assigned_0]\n",
    "nno = NearestNeighbor(ra[fiber_assigned_0], dec[fiber_assigned_0], z_cat)\n",
    "\n",
    "# z_eff: same as z_obs if a fiber was assigned and thus a real redshift measurement was made\n",
    "# otherwise, it is an assigned value.\n",
    "# nearest neighbor will find the nearest (measured) galaxy and use its redshift.\n",
    "z_eff = np.copy(z_obs)\n",
    "z_err = np.zeros(len(z_obs))\n",
    "for i in range(0, count):\n",
    "    if not fiber_assigned_0[i]:\n",
    "        ind = nno.get_closest_index(coord.Angle(ra[i]*u.degree).radian, coord.Angle(dec[i]*u.degree).radian)     \n",
    "        new_z = z_cat[ind]\n",
    "        z_err[i] = abs(z_eff[i] - new_z) / z_eff[i]\n",
    "        z_eff[i] = new_z"
   ]
  },
  {
   "cell_type": "code",
   "execution_count": null,
   "metadata": {},
   "outputs": [],
   "source": [
    "# Examine fractional error in assigned redshifts \n",
    "plt.hist(np.log10(z_err[fiber_not_assigned_0]), bins=50)\n",
    "plt.yscale('log')\n",
    "plt.xlabel('log(fractional error) from known simulation value')\n",
    "plt.ylabel('Count')\n",
    "print(np.sum(z_err))\n",
    "print(np.count_nonzero(z_err))"
   ]
  },
  {
   "cell_type": "code",
   "execution_count": null,
   "metadata": {},
   "outputs": [],
   "source": [
    "# First ensure the non-assigned stuff is exactly the same\n",
    "print(\"Are all galaxies that should just use z_obs the same?\", np.all(np.isclose(z_eff[fiber_assigned_0],z_eff_a[fiber_assigned_0],rtol=1e-05,atol=0.0)))\n",
    "print(\"Do all galaxies that had nearest neighbors assigned match up (me vs astropy)?\", np.all(np.isclose(z_eff[fiber_not_assigned_0],z_eff_a[fiber_not_assigned_0],rtol=1e-05,atol=0.0)))\n",
    "\n",
    "print(\"  Fraction of NN with same value (want 1.0):\", np.sum(np.isclose(z_eff[fiber_not_assigned_0],z_eff_a[fiber_not_assigned_0],rtol=1e-05,atol=0.0)) / len(z_eff[fiber_not_assigned_0]))\n",
    "\n",
    "# TODO why do astropy and I result in a different assigned redshift ~25% of the time"
   ]
  },
  {
   "cell_type": "code",
   "execution_count": null,
   "metadata": {},
   "outputs": [],
   "source": [
    "ind_different = np.argwhere(np.invert(np.isclose(z_eff,z_eff_a,rtol=1e-05,atol=0.0)))\n",
    "print(len(ind_different), \"galaxies don't agree between implementations\")\n",
    "\n",
    "print(\"MINE         ASTROPY      SIMULATION\")\n",
    "for i in range(0, min(len(ind_different), 20)):\n",
    "    print(z_eff[ind_different[i]], z_eff_a[ind_different[i]], z_obs[ind_different[i]])"
   ]
  },
  {
   "cell_type": "markdown",
   "metadata": {},
   "source": [
    "# Experiments on MXXL Data Directly"
   ]
  },
  {
   "cell_type": "code",
   "execution_count": null,
   "metadata": {},
   "outputs": [],
   "source": [
    "small_gal_type = weights['Data/galaxy_type'][0:DATA_CUT_INDEX] # 0 1 2 3 possible\n",
    "bins = plt.hist(small_gal_type, bins=50)"
   ]
  },
  {
   "cell_type": "code",
   "execution_count": null,
   "metadata": {},
   "outputs": [],
   "source": [
    "small_z_obs = weights['Data/z_obs'][0:DATA_CUT_INDEX]\n",
    "bins = plt.hist(small_z_obs, bins=50)\n",
    "plt.xlabel(\"$z_{obs}$\")\n",
    "plt.title(\"Histogram of Observed Redshifts\")\n"
   ]
  },
  {
   "cell_type": "code",
   "execution_count": null,
   "metadata": {},
   "outputs": [],
   "source": [
    "ra = weights['Data/ra'][0:DATA_CUT_INDEX]\n",
    "dec = weights['Data/dec'][0:DATA_CUT_INDEX]"
   ]
  },
  {
   "cell_type": "code",
   "execution_count": null,
   "metadata": {},
   "outputs": [],
   "source": [
    "# Build a map of the galaxies\n",
    "\n",
    "ra_angles = coord.Angle(ra*u.degree)\n",
    "ra_angles = ra_angles.wrap_at(180*u.degree)\n",
    "dec_angles = coord.Angle(dec*u.degree)\n",
    "\n",
    "fig = plt.figure(figsize=(12,9))\n",
    "ax = fig.add_subplot(111, projection=\"mollweide\")\n",
    "ax.scatter(ra_angles.radian, dec_angles.radian, alpha=0.002)\n",
    "# This looks like Alex' paper, good\n",
    "# TODO how to get frac_area from this?\n"
   ]
  },
  {
   "cell_type": "code",
   "execution_count": null,
   "metadata": {},
   "outputs": [],
   "source": [
    "plt.plot(ra, dec)"
   ]
  },
  {
   "cell_type": "code",
   "execution_count": null,
   "metadata": {},
   "outputs": [],
   "source": [
    "mxxl_halo_id = weights['Data/mxxl_id'][0:DATA_CUT_INDEX]\n",
    "mxxl_halo_id"
   ]
  },
  {
   "cell_type": "code",
   "execution_count": null,
   "metadata": {},
   "outputs": [],
   "source": [
    "small_app_mag = weights['Data/app_mag'][0:DATA_CUT_INDEX]\n",
    "bins = plt.hist(small_app_mag, bins=50)\n",
    "plt.xlabel(\"Apparent Mag\")\n",
    "plt.title(\"Histogram of Apparent Mags\")"
   ]
  },
  {
   "cell_type": "code",
   "execution_count": null,
   "metadata": {},
   "outputs": [],
   "source": [
    "small_abs_mag = weights['Data/abs_mag'][0:DATA_CUT_INDEX]"
   ]
  },
  {
   "cell_type": "code",
   "execution_count": null,
   "metadata": {},
   "outputs": [],
   "source": [
    "# Calculating luminosity distances from the cosmology is a bit slow\n",
    "my_abs_mag = app_mag_to_abs_mag(small_app_mag, small_z_obs)\n"
   ]
  },
  {
   "cell_type": "code",
   "execution_count": null,
   "metadata": {},
   "outputs": [],
   "source": [
    "# Compare my_abs_mag to abs_mag. \n",
    "x = plt.hist(my_abs_mag, label=\"my abs_mag\", bins=50)\n",
    "y = plt.hist(small_abs_mag, label=\"alex abs_mag\", bins=50)\n",
    "plt.xlabel(\"Absolute Mag\")\n",
    "plt.ylabel(\"Count\")\n",
    "plt.title(\"Compare Absolute Mags\")\n",
    "plt.legend()"
   ]
  },
  {
   "cell_type": "code",
   "execution_count": null,
   "metadata": {},
   "outputs": [],
   "source": [
    "# At what distance (luminosity distance) would the objects appear to be 19.5 mag?\n",
    "v_max = get_max_observable_volume(my_abs_mag, small_z_obs, 19.5)\n",
    "v_max2 = get_max_observable_volume(small_abs_mag, small_z_obs, 19.5)\n",
    "\n",
    "bins = plt.hist(np.log10(v_max), label=\"my abs_mag\", bins=50)\n",
    "bins = plt.hist(np.log10(v_max2), label=\"alex abs_mag\", bins=50)\n",
    "plt.title(\"Compare V_max\")\n",
    "plt.legend()\n",
    "plt.xlabel(\"log(V_max) [Mpc]\")\n",
    "plt.ylabel(\"Count\")"
   ]
  },
  {
   "cell_type": "code",
   "execution_count": null,
   "metadata": {},
   "outputs": [],
   "source": [
    "# What fraction of the time are galaxy pairs in the same halo?\n",
    "# As a function of angular separation and redshift.\n",
    "\n",
    "# Do calculation on a small patch of 100,000 galaxies for now\n",
    "# TODO need to load all data and then manually cut it down into a region of the sky instead of this\n",
    "\n",
    "input = weights\n",
    "dec = input['Data/dec'][0:DATA_CUT_INDEX]\n",
    "ra = input['Data/ra'][0:DATA_CUT_INDEX]\n",
    "z_obs = input['Data/z_obs'][0:DATA_CUT_INDEX]\n",
    "app_mag = input['Data/app_mag'][0:DATA_CUT_INDEX]\n",
    "sim_halo_mass = input['Data/halo_mass'][0:DATA_CUT_INDEX]\n",
    "sim_halo_id = input['Data/mxxl_id'][0:DATA_CUT_INDEX]\n",
    "\n",
    "bright_filter = app_mag < 19.5 # makes a filter array (True/False values)\n",
    "redshift_filter = z_obs > 0 # makes a filter array (True/False values)\n",
    "keep = np.all([bright_filter, redshift_filter], axis=0)\n",
    "dec = dec[keep]\n",
    "ra = ra[keep]\n",
    "z_obs = z_obs[keep]\n",
    "sim_halo_mass = sim_halo_mass[keep]\n",
    "sim_halo_id = sim_halo_id[keep]\n",
    "\n",
    "\n",
    "\n",
    "catalog = coord.SkyCoord(ra=ra*u.degree, dec=dec*u.degree, frame='icrs')\n",
    "#z_cat = z_obs[fiber_assigned_0]\n",
    "#halo_mass_cat = sim_halo_mass[fiber_assigned_0]\n",
    "to_match = coord.SkyCoord(ra=ra[fiber_not_assigned_0]*u.degree, dec=dec[fiber_not_assigned_0]*u.degree, frame='icrs')\n",
    "\n",
    "# TODO \n",
    "#coord.angular_separation(ra*u.degree, dec*u.degree, catalog.ra, catalog.dec)\n",
    "\n",
    "\n"
   ]
  },
  {
   "attachments": {},
   "cell_type": "markdown",
   "metadata": {},
   "source": [
    "# Plots on data after running group finder"
   ]
  },
  {
   "cell_type": "code",
   "execution_count": null,
   "metadata": {},
   "outputs": [],
   "source": [
    "def process(filename):\n",
    "\n",
    "    filename_props = str.replace(filename, \".out\", \"_galprops.dat\")\n",
    "\n",
    "    # TODO add in mxxl_halo_id, assigned_halo_id\n",
    "    df = pd.read_csv(filename, delimiter=' ', names=('RA', 'Dec', 'z', 'L_gal', 'V_max', 'P_sat', 'M_halo', 'N_sat', 'L_tot', 'igrp', 'unknown'))\n",
    "    galprops = pd.read_csv(filename_props, delimiter=' ', names=('app_mag', 'g_r', 'galaxy_type', 'mxxl_halo_mass', 'fiber_assigned_0', 'assigned_halo_mass', 'z_obs', 'mxxl_halo_id', 'assigned_halo_id'), dtype={'mxxl_halo_id': np.int32, 'assigned_halo_id': np.int32})\n",
    "    all_data = pd.merge(df, galprops, left_index=True, right_index=True)\n",
    "\n",
    "    # Drop bad data, should have been cleaned up earlier though!\n",
    "    orig_count = len(all_data)\n",
    "    all_data = all_data[all_data.M_halo != 0]\n",
    "    new_count = len(all_data)\n",
    "    if (orig_count != new_count):\n",
    "        print(\"Dropped {0} bad galaxies\".format(orig_count - new_count))\n",
    "\n",
    "    all_data['is_sat'] = (all_data.index != all_data.igrp).astype(int)\n",
    "    all_data['is_sat_truth'] = np.logical_or(all_data.galaxy_type == 1, all_data.galaxy_type == 3).astype(int)\n",
    "    #print(all_data['is_sat'])\n",
    "    all_data['logLgal'] = np.log10(all_data.L_gal)\n",
    "\n",
    "    bins = np.logspace(np.log10(min(all_data.M_halo)), np.log10(max(all_data.M_halo)), 30)\n",
    "    labels = bins[0:len(bins)-1] # using bottom (or top?) value, not middle\n",
    "    all_data['Mh_bin'] = pd.cut(x = all_data['M_halo'], bins = bins, labels = labels, include_lowest = True)\n",
    "    \n",
    "    centrals = all_data[all_data.index == all_data.igrp]\n",
    "    #logmstar_means = centrals.groupby('Mh_bin').log_M_star.mean()\n",
    "    #logmstar_scatter = centrals.groupby('Mh_bin').log_M_star.std()\n",
    "    loglcen_means = centrals.groupby('Mh_bin').logLgal.mean()\n",
    "    loglcen_scatter = centrals.groupby('Mh_bin').logLgal.std()\n",
    "\n",
    "    # Compute f_sat(Lgal)\n",
    "    bins_Lgal = np.logspace(np.log10(min(all_data.L_gal)), np.log10(max(all_data.L_gal)), 30)\n",
    "    labels_Lgal = bins_Lgal[0:len(bins_Lgal)-1] # using bottom (or top?) value, not middle\n",
    "    all_data['Lgal_bin'] = pd.cut(x = all_data['L_gal'], bins = bins_Lgal, labels = labels_Lgal, include_lowest = True)\n",
    "    \n",
    "    f_sat = all_data.groupby('Lgal_bin').is_sat.mean()\n",
    "    Lgal_counts = all_data.groupby('Lgal_bin').RA.count()\n",
    "\n",
    "    dataset = types.SimpleNamespace()\n",
    "    dataset.filename = filename[filename.rfind('/')+1 : len(filename)-4]\n",
    "    dataset.all_data = all_data\n",
    "    dataset.bins = bins\n",
    "    dataset.labels = labels\n",
    "    dataset.centrals = centrals\n",
    "    #dataset.logmstar_means = logmstar_means\n",
    "    #dataset.logmstar_scatter = logmstar_scatter\n",
    "    dataset.loglcen_means = loglcen_means\n",
    "    dataset.loglcen_scatter = loglcen_scatter\n",
    "    dataset.bins_Lgal = bins_Lgal\n",
    "    dataset.labels_Lgal = labels_Lgal\n",
    "    dataset.f_sat = f_sat\n",
    "    dataset.Lgal_counts = Lgal_counts\n",
    "\n",
    "    return dataset\n",
    "\n",
    "def plots(*frames):\n",
    "    \n",
    "    plt.figure()\n",
    "    for f in frames:\n",
    "        plt.errorbar(f.labels, f.loglcen_means, yerr=f.loglcen_scatter)\n",
    "    plt.xscale('log')\n",
    "    plt.xlabel('$M_{halo}$')\n",
    "    plt.ylabel('$log(L_{cen})$')\n",
    "    plt.title(\"Central Luminosity vs. Halo Mass\")\n",
    "    plt.legend()\n",
    "    plt.draw()\n",
    "\n",
    "    plt.figure()    \n",
    "    for f in frames:\n",
    "        plt.errorbar(f.labels, f.loglcen_scatter)\n",
    "    plt.xscale('log')\n",
    "    plt.xlabel('$M_{halo}$')\n",
    "    plt.ylabel('$\\\\sigma(\\\\log(L_{cen})$')\n",
    "    plt.title(\"Central Luminosity Scatter vs. Halo Mass\")\n",
    "    plt.draw()\n",
    "\n",
    "    \"\"\"     \n",
    "    plt.figure()\n",
    "    for f in frames:\n",
    "        plt.scatter(f.centrals.M_halo, f.centrals.L_gal, alpha=0.002)\n",
    "    plt.loglog()\n",
    "    plt.xlabel('M_halo / h')\n",
    "    plt.ylabel('L_gal / $h^2$)')\n",
    "    plt.draw() \n",
    "    \"\"\"\n",
    "\n",
    "    plt.figure()\n",
    "    for f in frames:\n",
    "        Nsat_means = f.all_data.groupby('Mh_bin').N_sat.mean()\n",
    "        plt.plot(f.labels, Nsat_means)\n",
    "        #plt.hist(f.centrals.N_sat, np.arange(0,50,1), alpha=0.5)\n",
    "    plt.loglog()    \n",
    "    plt.ylabel(\"$<N_{sat}>$\")    \n",
    "    plt.xlabel('$M_{halo}$')\n",
    "    plt.title(\"Mean Number of Satellites by Halo Mass\")\n",
    "    plt.draw()\n",
    "\n",
    "    plt.figure()\n",
    "    for f in frames:\n",
    "        plt.plot(f.labels_Lgal, f.f_sat)\n",
    "    truth_f_sat = frames[0].all_data.groupby('Lgal_bin').is_sat_truth.mean()\n",
    "    plt.plot(frames[0].labels_Lgal, truth_f_sat, 'k')\n",
    "    #centrals = frames[0].all_data['galaxy_type' == 0 or 'galaxy_type' == 2].groupby('Lgal_bin').count()\n",
    "    #sats = frames[0].all_data['galaxy_type' == 1 or 'galaxy_type' == 3].groupby('Lgal_bin').count()\n",
    "    #truth_f_sat = sats / (centrals + sats)\n",
    "    plt.xscale('log')\n",
    "    plt.xlabel(\"$L_{gal}$\")\n",
    "    plt.ylabel(\"$f_{sat}$\")\n",
    "    plt.title(\"Satellite fraction vs Galaxy Luminosity\")\n",
    "    plt.draw()\n",
    "    \n",
    "    plt.figure()\n",
    "    for f in frames:\n",
    "        plt.plot(f.labels_Lgal, f.Lgal_counts)\n",
    "    plt.xscale('log')\n",
    "    plt.yscale('log')\n",
    "    plt.xlabel(\"$L_{gal}$\")\n",
    "    plt.ylabel(\"Count of Galaxies\")\n",
    "    plt.title(\"Galaxy Luminosity Counts\")\n",
    "    plt.draw()\n",
    "\n",
    "    print(\"TOTAL f_sat: \")\n",
    "    for f in frames:\n",
    "        print(f.filename, f.all_data['is_sat'].sum() / f.all_data['is_sat'].count())\n",
    "\n",
    "    print(\"MXXL Truth\", frames[0].all_data['is_sat_truth'].sum() / f.all_data['is_sat_truth'].count())"
   ]
  },
  {
   "cell_type": "code",
   "execution_count": null,
   "metadata": {},
   "outputs": [],
   "source": [
    "all = process(ROOT_FOLDER + \"mxxl_3pass_all.out\")\n"
   ]
  },
  {
   "cell_type": "code",
   "execution_count": null,
   "metadata": {},
   "outputs": [],
   "source": [
    "fiberonly = process(ROOT_FOLDER + \"mxxl_3pass_fiberonly.out\")\n"
   ]
  },
  {
   "cell_type": "code",
   "execution_count": null,
   "metadata": {},
   "outputs": [],
   "source": [
    "# This is is no good\n",
    "#nn = process(ROOT_FOLDER + \"mxxl_3pass_nn.out\")"
   ]
  },
  {
   "cell_type": "code",
   "execution_count": null,
   "metadata": {},
   "outputs": [],
   "source": [
    "nn_kd = process(ROOT_FOLDER + \"mxxl_3pass_nn_kd.out\")\n"
   ]
  },
  {
   "cell_type": "code",
   "execution_count": null,
   "metadata": {},
   "outputs": [],
   "source": [
    "nn_kd.all_data"
   ]
  },
  {
   "cell_type": "code",
   "execution_count": null,
   "metadata": {},
   "outputs": [],
   "source": [
    "plots(all, fiberonly, nn_kd)\n",
    "# BLUE: ALL     ORANGE: FIBER ASSIGNED ONLY     GREEN: NEAREST NEIGHBOR"
   ]
  },
  {
   "cell_type": "markdown",
   "metadata": {},
   "source": [
    "In the above plots, the NN ones have some galaxies at higher $L_{gal}$ than the 'all' sample. This is because some of the assigned redshifts imply a larger luminosity than any galaxy seen in MXXL."
   ]
  },
  {
   "cell_type": "markdown",
   "metadata": {},
   "source": [
    "## Compare NN-assigned implied abs mags to truth from MXXL"
   ]
  },
  {
   "cell_type": "code",
   "execution_count": null,
   "metadata": {},
   "outputs": [],
   "source": [
    "not_assigned = np.invert(nn_kd.all_data.fiber_assigned_0.astype(bool))\n",
    "app_mags = nn_kd.all_data.app_mag[not_assigned].to_numpy()\n",
    "my_assigned_abs_mag = app_mag_to_abs_mag(app_mags, nn_kd.all_data.z[not_assigned].to_numpy())\n",
    "my_raw_abs_mag = app_mag_to_abs_mag(app_mags, nn_kd.all_data.z_obs[not_assigned].to_numpy())\n",
    "\n",
    "print(len(my_raw_abs_mag), len(my_assigned_abs_mag))"
   ]
  },
  {
   "cell_type": "code",
   "execution_count": null,
   "metadata": {},
   "outputs": [],
   "source": [
    "# Compare absolute mags. Using my way of computing for both.\n",
    "x = plt.hist(my_raw_abs_mag, label=\"Truth\", bins=50, alpha=0.5)\n",
    "y = plt.hist(my_assigned_abs_mag, label=\"NN Assigned\", bins=50, alpha=0.5)\n",
    "plt.xlabel(\"Absolute Mag\")\n",
    "plt.ylabel(\"Count\")\n",
    "plt.yscale('log')\n",
    "plt.title(\"Compare NN-assigned Abs Mags\")\n",
    "plt.legend()"
   ]
  },
  {
   "cell_type": "code",
   "execution_count": null,
   "metadata": {},
   "outputs": [],
   "source": [
    "# First ensure the non-assigned stuff is exactly the same\n",
    "print(\"NEAREST NEIGHBOR COMPARISON\\n\")\n",
    "nn_fiber_assigned_0 = nn.all_data.fiber_assigned_0.astype(bool)\n",
    "nn_fiber_not_assigned_0 = np.invert(nn_fiber_assigned_0)\n",
    "nnkd_fiber_assigned_0 = nn.all_data.fiber_assigned_0.astype(bool)\n",
    "nnkd_fiber_not_assigned_0 = np.invert(nnkd_fiber_assigned_0)\n",
    "\n",
    "print(\"Are all galaxies that should just use z_obs the same?\", np.all(np.isclose(nn.all_data.z[nn_fiber_assigned_0],nn_kd.all_data.z[nnkd_fiber_assigned_0],rtol=1e-03,atol=0.0)))\n",
    "compare = np.isclose(nn.all_data.z[nn_fiber_not_assigned_0],nn_kd.all_data.z[nnkd_fiber_not_assigned_0],rtol=1e-03,atol=0.0)\n",
    "print(\"Do all galaxies that had nearest neighbors assigned match up (me vs astropy)?\", np.all(compare))\n",
    "print(\"  Fraction of NN with same value (expect 1.0):\", np.sum(compare) / len(nn.all_data.z[nn_fiber_not_assigned_0]))\n",
    "\n",
    "# TODO why do astropy and I result in a different assigned redshift ~38% of the time\n",
    "# Now it's 99.9% of the time?!\n",
    "\n"
   ]
  },
  {
   "cell_type": "code",
   "execution_count": null,
   "metadata": {},
   "outputs": [],
   "source": [
    "# Plot points that I differ from astropy\n",
    "disagree = np.invert(compare)\n",
    "ra_angles = coord.Angle(nn.all_data.RA[nn_fiber_not_assigned_0][disagree]*u.degree)\n",
    "ra_angles = ra_angles.wrap_at(180*u.degree)\n",
    "dec_angles = coord.Angle(nn.all_data.Dec[nn_fiber_not_assigned_0][disagree]*u.degree)\n",
    "\n",
    "print(len(nn.all_data.RA), len(nn.all_data.RA[nn_fiber_not_assigned_0]), len(nn.all_data.RA[nn_fiber_not_assigned_0][disagree]))"
   ]
  },
  {
   "cell_type": "code",
   "execution_count": null,
   "metadata": {},
   "outputs": [],
   "source": [
    "fig = plt.figure(figsize=(12,9))\n",
    "ax = fig.add_subplot(111, projection=\"mollweide\")\n",
    "ax.scatter(ra_angles.radian, dec_angles.radian, alpha=0.002)\n",
    "# There appears to be no special area that we disagree in"
   ]
  },
  {
   "cell_type": "markdown",
   "metadata": {},
   "source": [
    "## Find fraction of time the NN is in the same halo\n",
    "\n",
    "The answer is basically never!"
   ]
  },
  {
   "cell_type": "code",
   "execution_count": null,
   "metadata": {},
   "outputs": [],
   "source": [
    "#x=plt.hist(nn.all_data['assigned_halo_mass'], bins=50)\n",
    "#x=plt.hist(nn.all_data['mxxl_halo_mass'], bins=50)\n",
    "#x=plt.hist(all.all_data['mxxl_halo_mass'], bins=30) # should be exact same as above\n",
    "#plt.yscale('log')\n",
    "\n",
    "def nn_halo_analysis(*sets):\n",
    "\n",
    "    for data in sets:\n",
    "\n",
    "        #same_halo_mass = np.isclose(data.all_data['assigned_halo_mass'], data.all_data['mxxl_halo_mass'], atol=0.0, rtol=1e-03)\n",
    "        #same_mxxl_halo = data.all_data['assigned_halo_mass']\n",
    "        #data.all_data['same_mxxl_halo'] = same_mxxl_halo\n",
    "\n",
    "        no_fiber = data.all_data[data.all_data.fiber_assigned_0 == 0]\n",
    "\n",
    "        no_fiber_same_halo = np.equal(no_fiber['assigned_halo_id'], no_fiber['mxxl_halo_id'])\n",
    "        print(\"Fraction of time NN-assigned halo ID is the same as the galaxy's actual halo ID:\", np.sum(no_fiber_same_halo) / len(no_fiber_same_halo))\n",
    "        \n",
    "        no_fiber_same_halo_mass = np.isclose(no_fiber['assigned_halo_mass'], no_fiber['mxxl_halo_mass'], atol=0.0, rtol=1e-03)\n",
    "        print(\"Fraction of time NN-assigned halo mass is \\'the same\\' as the galaxy's actual halo mass:\", np.sum(no_fiber_same_halo_mass) / len(no_fiber_same_halo_mass))\n",
    "\n",
    "        #z_bins = np.linspace(min(data.all_data.z), max(data.all_data.z), 20)\n",
    "        #z_labels = z_bins[0:len(z_bins)-1] \n",
    "        #data.all_data['z_bin'] = pd.cut(x = data.all_data['z'], bins = z_bins, labels = z_labels, include_lowest = True)\n",
    "\n",
    "        #groupby_z = no_fiber.groupby('z_bin')['same_halo_mass'].sum() / no_fiber.groupby('z_bin')['same_halo_mass'].count()\n",
    "\n",
    "        #plt.plot(z_labels, groupby_z)\n",
    "        #plt.xlabel('$z_{eff}$ (effective/assigned redshift)')\n",
    "        #plt.ylabel('Fraction Assigned Halo = True Host Halo')\n",
    "        \n"
   ]
  },
  {
   "cell_type": "code",
   "execution_count": null,
   "metadata": {},
   "outputs": [],
   "source": [
    "nn_halo_analysis(nn_kd)\n",
    "\n",
    "# TODO could compare z_cos instead\n"
   ]
  },
  {
   "cell_type": "markdown",
   "metadata": {},
   "source": [
    "## Lost galaxy Examiner"
   ]
  },
  {
   "cell_type": "code",
   "execution_count": null,
   "metadata": {},
   "outputs": [],
   "source": [
    "data = nn_kd.all_data\n"
   ]
  },
  {
   "cell_type": "code",
   "execution_count": null,
   "metadata": {},
   "outputs": [],
   "source": [
    "lost_galaxies = data.loc[data['fiber_assigned_0'] == 0]\n",
    "#lost_galaxies_2 = nn.all_data.loc[nn.all_data['fiber_assigned_0'] == 0]\n",
    "obs_galaxies = data.loc[data['fiber_assigned_0'] == 1]\n",
    "#obs_galaxies_2 = nn.all_data.loc[nn.all_data['fiber_assigned_0'] == 1]\n",
    "print(len(lost_galaxies), len(obs_galaxies))\n",
    "\n",
    "# TODO could use angular size / redshift relation as part of this :-)\n",
    "def getsize(z):\n",
    "    if z < 0.05:\n",
    "        return 100\n",
    "    elif z < 0.1:\n",
    "        return 70\n",
    "    elif z < 0.2:\n",
    "        return 45\n",
    "    elif z < 0.2:\n",
    "        return 30\n",
    "    elif z < 0.3:\n",
    "        return 20\n",
    "    elif z < 0.4:\n",
    "        return 13\n",
    "    elif z < 0.5:\n",
    "        return 8\n",
    "    elif z < 0.6:\n",
    "        return 4\n",
    "    else:\n",
    "        return 2\n",
    "\n",
    "def examine_plot(index):\n",
    "\n",
    "    target = lost_galaxies.iloc[index]\n",
    "    #target2 = lost_galaxies_2.iloc[index]\n",
    "    #assert np.isclose(target.RA, target2.RA)\n",
    "\n",
    "    z_eff = target.z\n",
    "    #z_eff2 = target2.z\n",
    "\n",
    "    ra_max = (coord.Angle(lost_galaxies.iloc[index].RA*u.degree) + coord.Angle('5m')).value\n",
    "    ra_min = (coord.Angle(lost_galaxies.iloc[index].RA*u.degree) - coord.Angle('5m')).value\n",
    "    dec_max = (coord.Angle(lost_galaxies.iloc[index].Dec*u.degree) + coord.Angle('5m')).value\n",
    "    dec_min = (coord.Angle(lost_galaxies.iloc[index].Dec*u.degree) - coord.Angle('5m')).value\n",
    "\n",
    "    nearby = obs_galaxies.query('RA < @ra_max and RA > @ra_min and Dec < @dec_max and Dec > @dec_min')\n",
    "    #nearby2 = obs_galaxies_2.query('RA < @ra_max and RA > @ra_min and Dec < @dec_max and Dec > @dec_min')\n",
    "\n",
    "    z_match = nearby.query('z == @z_eff')\n",
    "    #z_match2 = nearby2.query('z == @z_eff2')\n",
    "\n",
    "    assert len(z_match) == 1, len(z_match) # or we need a better way to verify which row is the one that we assigned the z from\n",
    "    #assert len(z_match2) == 1, len(z_match2) # or we need a better way to verify which row is the one that we assigned the z from\n",
    "\n",
    "    # Which ones to bother plotting?\n",
    "    if abs(target.z_obs - target.z) > 0.1:\n",
    "        plt.figure(figsize=(5,5))\n",
    "        s = list(map(getsize, nearby.z))\n",
    "        plt.scatter(nearby.RA, nearby.Dec, s=s)\n",
    "        plt.scatter(target.RA, target.Dec, s=getsize(z_eff))\n",
    "        #plt.scatter(target.RA, target.Dec, s=getsize(target.z_obs), facecolors='none', edgecolors='g')\n",
    "        #plt.scatter(z_match2.RA, z_match2.Dec, marker='^', s=list(map(getsize, z_match2.z)), alpha=0.5)\n",
    "        plt.scatter(z_match.RA, z_match.Dec, color='r', s=list(map(getsize, z_match.z)))\n",
    "        plt.xlim(ra_min, ra_max)\n",
    "        plt.ylim(dec_min, dec_max)\n",
    "        plt.xlabel('RA')\n",
    "        plt.xlabel('Dec')\n",
    "        plt.title(\"Lost Galaxy {0}: z_true={1:.2f}, z_eff={2:.2f}\".format(index, target.z_obs, target.z))\n",
    "        plt.draw()\n",
    "\n",
    "for i in range(0,30):\n",
    "    index = lost_galaxies.index[i]\n",
    "    examine_plot(index)"
   ]
  },
  {
   "cell_type": "markdown",
   "metadata": {},
   "source": [
    "Astropy's NN is working as expected. My version is not selecting the nearest neighbor"
   ]
  },
  {
   "cell_type": "code",
   "execution_count": null,
   "metadata": {},
   "outputs": [],
   "source": []
  }
 ],
 "metadata": {
  "kernelspec": {
   "display_name": "Python 3.9.12 ('base')",
   "language": "python",
   "name": "python3"
  },
  "language_info": {
   "codemirror_mode": {
    "name": "ipython",
    "version": 3
   },
   "file_extension": ".py",
   "mimetype": "text/x-python",
   "name": "python",
   "nbconvert_exporter": "python",
   "pygments_lexer": "ipython3",
   "version": "3.9.6"
  },
  "orig_nbformat": 4,
  "vscode": {
   "interpreter": {
    "hash": "3067ead486e059ec00ffe7555bdb889e6e264a24dc711bf108106cc7baee8d5d"
   }
  }
 },
 "nbformat": 4,
 "nbformat_minor": 2
}
