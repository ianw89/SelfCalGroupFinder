{
 "cells": [
  {
   "cell_type": "code",
   "execution_count": null,
   "metadata": {},
   "outputs": [],
   "source": [
    "import numpy as np\n",
    "import pandas as pd\n",
    "import matplotlib.pyplot as plt\n",
    "import matplotlib.colors as c\n",
    "from scipy import special\n",
    "import h5py\n",
    "from astropy.wcs import WCS\n",
    "import astropy.coordinates as coord\n",
    "import astropy.units as u\n",
    "from pyutils import *\n",
    "import types\n",
    "import numpy.ma as ma\n",
    "import sys\n",
    "\n",
    "ROOT_FOLDER = \"/Volumes/Seagate Backup Plus Drive/galaxy-groups-data/\"\n",
    "#ROOT_FOLDER = \"/mnt/f/galaxy-groups-data/\"\n",
    "#ROOT_FOLDER = \"bin/\"\n"
   ]
  },
  {
   "attachments": {},
   "cell_type": "markdown",
   "metadata": {},
   "source": [
    "## Basic read-in of HDF5 data from MXXL\n"
   ]
  },
  {
   "cell_type": "code",
   "execution_count": null,
   "metadata": {},
   "outputs": [],
   "source": [
    "DATA_CUT_INDEX = 300000 #21201544 #3000000 "
   ]
  },
  {
   "cell_type": "code",
   "execution_count": null,
   "metadata": {},
   "outputs": [],
   "source": [
    "weights = h5py.File(ROOT_FOLDER + 'weights_3pass.hdf5', 'r')\n",
    "print(list(weights))\n",
    "print(list(weights['Data']))\n",
    "print(list(weights['Weight']))\n"
   ]
  },
  {
   "cell_type": "code",
   "execution_count": null,
   "metadata": {},
   "outputs": [],
   "source": [
    "assigned = weights['Weight/bitweight0'][0:DATA_CUT_INDEX] & 1 # choose 1 of the 2048 fiber assignment realizations with this bitstring\n",
    "print(np.sum(assigned == 1), \"galaxies were assigned a fiber\")\n",
    "print(np.sum(assigned == 0), \"galaxies were NOT assigned a fiber\")\n"
   ]
  },
  {
   "attachments": {},
   "cell_type": "markdown",
   "metadata": {},
   "source": [
    "# Test of nearest neighbors implementations\n"
   ]
  },
  {
   "cell_type": "code",
   "execution_count": null,
   "metadata": {},
   "outputs": [],
   "source": [
    "\n",
    "input = weights\n",
    "dec = input['Data/dec'][0:DATA_CUT_INDEX]\n",
    "ra = input['Data/ra'][0:DATA_CUT_INDEX]\n",
    "z_obs = input['Data/z_obs'][0:DATA_CUT_INDEX]\n",
    "app_mag = input['Data/app_mag'][0:DATA_CUT_INDEX]\n",
    "sim_halo_mass = input['Data/halo_mass'][0:DATA_CUT_INDEX]\n",
    "sim_halo_id = input['Data/mxxl_id'][0:DATA_CUT_INDEX]\n",
    "\n",
    "bright_filter = app_mag < 19.5 # makes a filter array (True/False values)\n",
    "redshift_filter = z_obs > 0 # makes a filter array (True/False values)\n",
    "keep = np.all([bright_filter, redshift_filter], axis=0)\n",
    "dec = dec[keep]\n",
    "ra = ra[keep]\n",
    "z_obs = z_obs[keep]\n",
    "sim_halo_mass = sim_halo_mass[keep]\n",
    "sim_halo_id = sim_halo_id[keep]\n",
    "\n",
    "count = len(dec)\n",
    "print(count, \"galaxies in HDF5 file\")\n",
    "\n",
    "# choose 1 of the 2048 fiber assignment realizations with this bitstring\n",
    "fiber_assigned_0 = assigned.astype(bool)\n",
    "fiber_assigned_0 = fiber_assigned_0[keep]\n",
    "fiber_not_assigned_0 = np.invert(fiber_assigned_0)\n",
    "indexes_not_assigned = np.argwhere(fiber_not_assigned_0)\n",
    "print(np.sum(fiber_assigned_0), \"galaxies were assigned a fiber\")"
   ]
  },
  {
   "cell_type": "code",
   "execution_count": null,
   "metadata": {},
   "outputs": [],
   "source": [
    "# Astropy NN Search with kdtrees\n",
    "catalog = coord.SkyCoord(ra=ra[fiber_assigned_0]*u.degree, dec=dec[fiber_assigned_0]*u.degree, frame='icrs')\n",
    "z_cat = z_obs[fiber_assigned_0]\n",
    "halo_mass_cat = sim_halo_mass[fiber_assigned_0]\n",
    "to_match = coord.SkyCoord(ra=ra[fiber_not_assigned_0]*u.degree, dec=dec[fiber_not_assigned_0]*u.degree, frame='icrs')\n",
    "\n",
    "idx, d2d, d3d = coord.match_coordinates_sky(to_match, catalog, storekdtree=False)\n",
    "\n",
    "z_eff_a = np.copy(z_obs)\n",
    "z_err_a = np.zeros(len(z_obs))\n",
    "\n",
    "# i is the index of the full sized array that needed a NN z value\n",
    "# j is the index along the to_match list corresponding to that\n",
    "# idx are the indexes of the NN from the catalog\n",
    "\n",
    "# Mhalo - (Mhalo of the NN galaxy)\n",
    "halo_delta = np.zeros(len(idx))\n",
    "\n",
    "j = 0\n",
    "for i in indexes_not_assigned:\n",
    "    assert np.isclose(ra[i], to_match[j].ra.value)\n",
    "    new_z = z_cat[idx[j]]\n",
    "    halo_delta[j] = sim_halo_mass[i] - halo_mass_cat[idx[j]]\n",
    "    z_err_a[i] = abs(z_eff_a[i] - new_z) / z_eff_a[i]\n",
    "    z_eff_a[i] = new_z\n",
    "    j = j + 1\n"
   ]
  },
  {
   "cell_type": "code",
   "execution_count": null,
   "metadata": {},
   "outputs": [],
   "source": [
    "# Examine fractional error in assigned redshifts \n",
    "plt.hist(np.log10(z_err_a[fiber_not_assigned_0]), bins=50)\n",
    "plt.yscale('log')\n",
    "plt.xlabel('log(fractional error) from known simulation value')\n",
    "plt.ylabel('Count')\n",
    "print(np.sum(z_err_a))\n",
    "print(np.count_nonzero(z_err_a))\n",
    "\n",
    "# convert to km/s and think about velocity dispersions of galaxies\n"
   ]
  },
  {
   "cell_type": "code",
   "execution_count": null,
   "metadata": {},
   "outputs": [],
   "source": [
    "print(\"Fraction of NN-assigned halos that were different (using simulations halos)\", np.count_nonzero(halo_delta) / len(halo_delta))\n",
    "np.isclose(halo_delta)\n"
   ]
  },
  {
   "cell_type": "code",
   "execution_count": null,
   "metadata": {},
   "outputs": [],
   "source": [
    "# My naive NN\n",
    "z_cat = z_obs[fiber_assigned_0]\n",
    "nno = NearestNeighbor(ra[fiber_assigned_0], dec[fiber_assigned_0], z_cat)\n",
    "\n",
    "# z_eff: same as z_obs if a fiber was assigned and thus a real redshift measurement was made\n",
    "# otherwise, it is an assigned value.\n",
    "# nearest neighbor will find the nearest (measured) galaxy and use its redshift.\n",
    "z_eff = np.copy(z_obs)\n",
    "z_err = np.zeros(len(z_obs))\n",
    "for i in range(0, count):\n",
    "    if not fiber_assigned_0[i]:\n",
    "        ind = nno.get_closest_index(coord.Angle(ra[i]*u.degree).radian, coord.Angle(dec[i]*u.degree).radian)     \n",
    "        new_z = z_cat[ind]\n",
    "        z_err[i] = abs(z_eff[i] - new_z) / z_eff[i]\n",
    "        z_eff[i] = new_z"
   ]
  },
  {
   "cell_type": "code",
   "execution_count": null,
   "metadata": {},
   "outputs": [],
   "source": [
    "# Examine fractional error in assigned redshifts \n",
    "plt.hist(np.log10(z_err[fiber_not_assigned_0]), bins=50)\n",
    "plt.yscale('log')\n",
    "plt.xlabel('log(fractional error) from known simulation value')\n",
    "plt.ylabel('Count')\n",
    "print(np.sum(z_err))\n",
    "print(np.count_nonzero(z_err))"
   ]
  },
  {
   "cell_type": "code",
   "execution_count": null,
   "metadata": {},
   "outputs": [],
   "source": [
    "# First ensure the non-assigned stuff is exactly the same\n",
    "print(\"Are all galaxies that should just use z_obs the same?\", np.all(np.isclose(z_eff[fiber_assigned_0],z_eff_a[fiber_assigned_0],rtol=1e-05,atol=0.0)))\n",
    "print(\"Do all galaxies that had nearest neighbors assigned match up (me vs astropy)?\", np.all(np.isclose(z_eff[fiber_not_assigned_0],z_eff_a[fiber_not_assigned_0],rtol=1e-05,atol=0.0)))\n",
    "\n",
    "print(\"  Fraction of NN with same value (want 1.0):\", np.sum(np.isclose(z_eff[fiber_not_assigned_0],z_eff_a[fiber_not_assigned_0],rtol=1e-05,atol=0.0)) / len(z_eff[fiber_not_assigned_0]))\n",
    "\n",
    "# TODO why do astropy and I result in a different assigned redshift ~25% of the time"
   ]
  },
  {
   "cell_type": "code",
   "execution_count": null,
   "metadata": {},
   "outputs": [],
   "source": [
    "ind_different = np.argwhere(np.invert(np.isclose(z_eff,z_eff_a,rtol=1e-05,atol=0.0)))\n",
    "print(len(ind_different), \"galaxies don't agree between implementations\")\n",
    "\n",
    "print(\"MINE         ASTROPY      SIMULATION\")\n",
    "for i in range(0, min(len(ind_different), 20)):\n",
    "    print(z_eff[ind_different[i]], z_eff_a[ind_different[i]], z_obs[ind_different[i]])"
   ]
  },
  {
   "cell_type": "markdown",
   "metadata": {},
   "source": [
    "# Experiments on MXXL Data Directly"
   ]
  },
  {
   "cell_type": "code",
   "execution_count": null,
   "metadata": {},
   "outputs": [],
   "source": [
    "small_gal_type = weights['Data/galaxy_type'][0:DATA_CUT_INDEX] # 0 1 2 3 possible\n",
    "bins = plt.hist(small_gal_type, bins=50)"
   ]
  },
  {
   "cell_type": "code",
   "execution_count": null,
   "metadata": {},
   "outputs": [],
   "source": [
    "small_z_obs = weights['Data/z_obs'][0:DATA_CUT_INDEX]\n",
    "bins = plt.hist(small_z_obs, bins=50)\n",
    "plt.xlabel(\"$z_{obs}$\")\n",
    "plt.title(\"Histogram of Observed Redshifts\")\n"
   ]
  },
  {
   "cell_type": "code",
   "execution_count": null,
   "metadata": {},
   "outputs": [],
   "source": [
    "ra = weights['Data/ra'][0:DATA_CUT_INDEX]\n",
    "dec = weights['Data/dec'][0:DATA_CUT_INDEX]"
   ]
  },
  {
   "cell_type": "code",
   "execution_count": null,
   "metadata": {},
   "outputs": [],
   "source": [
    "# Build a map of the galaxies\n",
    "\n",
    "ra_angles = coord.Angle(ra*u.degree)\n",
    "ra_angles = ra_angles.wrap_at(180*u.degree)\n",
    "dec_angles = coord.Angle(dec*u.degree)\n",
    "\n",
    "fig = plt.figure(figsize=(12,9))\n",
    "ax = fig.add_subplot(111, projection=\"mollweide\")\n",
    "ax.scatter(ra_angles.radian, dec_angles.radian, alpha=0.002)\n",
    "# This looks like Alex' paper, good\n",
    "# TODO how to get frac_area from this?\n"
   ]
  },
  {
   "cell_type": "code",
   "execution_count": null,
   "metadata": {},
   "outputs": [],
   "source": [
    "#plt.plot(ra, dec)"
   ]
  },
  {
   "cell_type": "code",
   "execution_count": null,
   "metadata": {},
   "outputs": [],
   "source": [
    "mxxl_halo_id = weights['Data/mxxl_id'][0:DATA_CUT_INDEX]\n",
    "mxxl_halo_id"
   ]
  },
  {
   "cell_type": "code",
   "execution_count": null,
   "metadata": {},
   "outputs": [],
   "source": [
    "small_app_mag = weights['Data/app_mag'][0:DATA_CUT_INDEX]\n",
    "bins = plt.hist(small_app_mag, bins=50)\n",
    "plt.xlabel(\"Apparent Mag\")\n",
    "plt.title(\"Histogram of Apparent Mags\")"
   ]
  },
  {
   "cell_type": "code",
   "execution_count": null,
   "metadata": {},
   "outputs": [],
   "source": [
    "small_abs_mag = weights['Data/abs_mag'][0:DATA_CUT_INDEX]"
   ]
  },
  {
   "cell_type": "code",
   "execution_count": null,
   "metadata": {},
   "outputs": [],
   "source": [
    "# Calculating luminosity distances from the cosmology is a bit slow\n",
    "my_abs_mag = app_mag_to_abs_mag(small_app_mag, small_z_obs)\n"
   ]
  },
  {
   "cell_type": "code",
   "execution_count": null,
   "metadata": {},
   "outputs": [],
   "source": [
    "# Compare my_abs_mag to abs_mag. \n",
    "x = plt.hist(my_abs_mag, label=\"my abs_mag\", bins=50)\n",
    "y = plt.hist(small_abs_mag, label=\"alex abs_mag\", bins=50)\n",
    "plt.xlabel(\"Absolute Mag\")\n",
    "plt.ylabel(\"Count\")\n",
    "plt.title(\"Compare Absolute Mags\")\n",
    "plt.legend()"
   ]
  },
  {
   "cell_type": "code",
   "execution_count": null,
   "metadata": {},
   "outputs": [],
   "source": [
    "# At what distance (luminosity distance) would the objects appear to be 19.5 mag?\n",
    "v_max = get_max_observable_volume(my_abs_mag, small_z_obs, 19.5)\n",
    "v_max2 = get_max_observable_volume(small_abs_mag, small_z_obs, 19.5)\n",
    "\n",
    "bins = plt.hist(np.log10(v_max), label=\"my abs_mag\", bins=50)\n",
    "bins = plt.hist(np.log10(v_max2), label=\"alex abs_mag\", bins=50)\n",
    "plt.title(\"Compare V_max\")\n",
    "plt.legend()\n",
    "plt.xlabel(\"log(V_max) [Mpc]\")\n",
    "plt.ylabel(\"Count\")"
   ]
  },
  {
   "cell_type": "markdown",
   "metadata": {},
   "source": [
    "## Nearest Neighbor Angular Separation and Same-Halo Analysis\n"
   ]
  },
  {
   "cell_type": "code",
   "execution_count": null,
   "metadata": {},
   "outputs": [],
   "source": [
    "# What fraction of the time are galaxy pairs in the same halo?\n",
    "# As a function of angular separation and redshift.\n",
    "\n",
    "# Do calculation on a small patch of 100,000 galaxies for now\n",
    "# TODO need to load all data and then manually cut it down into a region of the sky instead of this\n",
    "# TODO then maybe switch to using k-nearest neighbors instead of the full n^2 pairs within the region\n",
    "\n",
    "input = weights\n",
    "DATA_CUT = 21201545 # all of the data\n",
    "dec = input['Data/dec'][0:DATA_CUT]\n",
    "ra = input['Data/ra'][0:DATA_CUT]\n",
    "z_obs = input['Data/z_obs'][0:DATA_CUT]\n",
    "app_mag = input['Data/app_mag'][0:DATA_CUT]\n",
    "\n",
    "bright_filter = app_mag < 19.5 # makes a filter array (True/False values)\n",
    "redshift_filter = z_obs > 0 # makes a filter array (True/False values)\n",
    "#location_filter_1 = ra < 270.0\n",
    "#location_filter_2 = ra > 120.0\n",
    "#location_filter_3 = dec > 0.0\n",
    "#location_filter_4 = dec < 45.0\n",
    "keep = np.all([bright_filter, redshift_filter], axis=0)\n",
    "#keep = np.all([bright_filter, redshift_filter, location_filter_1, location_filter_2, location_filter_3, location_filter_4], axis=0)\n",
    "\n",
    "dec = dec[keep]\n",
    "ra = ra[keep]\n",
    "z_obs = z_obs[keep]\n",
    "app_mag = app_mag[keep]\n",
    "sim_halo_id = input['Data/mxxl_id'][0:DATA_CUT]\n",
    "sim_halo_id = sim_halo_id[keep]\n",
    "\n",
    "\n",
    "len(dec)"
   ]
  },
  {
   "cell_type": "code",
   "execution_count": null,
   "metadata": {},
   "outputs": [],
   "source": [
    "fassigned = (input['Weight/bitweight0'][0:DATA_CUT] & 4).astype(bool) # choose 1 of the 2048 fiber assignment realizations with this bitstring\n",
    "fnotassigned = np.invert(fassigned)\n",
    "\n",
    "fassigned = fassigned[keep]\n",
    "fnotassigned = fnotassigned[keep]"
   ]
  },
  {
   "cell_type": "markdown",
   "metadata": {},
   "source": [
    "### IIP Weights"
   ]
  },
  {
   "cell_type": "code",
   "execution_count": null,
   "metadata": {},
   "outputs": [],
   "source": [
    "with open('bin/iip.npy', 'rb') as f:\n",
    "    iip = np.load(f)"
   ]
  },
  {
   "cell_type": "code",
   "execution_count": null,
   "metadata": {},
   "outputs": [],
   "source": [
    "# Skip this if iips were loaded OK. Takes ~8 minutes.\n",
    "\n",
    "# Read all 32 64-bitstrings into memory from the file\n",
    "num_bitstrings = 32\n",
    "galaxy_count = len(input['Weight/bitweight0'])\n",
    "bitweights = np.empty((num_bitstrings, galaxy_count), dtype='i8')\n",
    "for i in range(num_bitstrings):\n",
    "    bitweights[i] = input['Weight/bitweight{0}'.format(i)][:]\n",
    "\n",
    "def bitsum(bitstring):\n",
    "    return bin(bitstring).count(\"1\")\n",
    "v_bitsum = np.vectorize(bitsum)\n",
    "\n",
    "def summate(a):\n",
    "    return np.sum(v_bitsum(a))\n",
    "\n",
    "iip = np.apply_along_axis(summate, 0, bitweights) / 2048\n",
    "\n",
    "with open('bin/iip.npy', 'wb') as f:\n",
    "    np.save(f, iip)"
   ]
  },
  {
   "cell_type": "code",
   "execution_count": null,
   "metadata": {},
   "outputs": [],
   "source": [
    "iip_195 = iip[keep]\n",
    "trash=plt.hist(iip, bins=10)\n",
    "trash2=plt.hist(iip_195, bins=10)"
   ]
  },
  {
   "cell_type": "markdown",
   "metadata": {},
   "source": [
    "### What fraction of time nearest neighbors in same halo? What is the distribution of Angular distances?"
   ]
  },
  {
   "cell_type": "code",
   "execution_count": null,
   "metadata": {},
   "outputs": [],
   "source": [
    "# Now bin so that things with ang distances higher than the max we care about are thrown out\n",
    "BIN_COUNT = 25\n",
    "bins = np.logspace(np.log10(3), np.log10(60*60), BIN_COUNT)\n",
    "print(\"Angular Distance Bin Markers\", bins)\n",
    "\n",
    "z_bins = [0.1, 0.2, 0.3, 1.0]\n",
    "print(\"Redshift Bin Markers\", z_bins)\n",
    "\n",
    "#IIP_BIN_COUNT = 7\n",
    "#IIP_bins = [0.1, 0.2, 0.3, 0.4, 0.5, 0.6]\n",
    "IIP_BIN_COUNT = 20\n",
    "IIP_bins = np.linspace(0.03, 0.60, IIP_BIN_COUNT)\n",
    "print(\"IIP Bin Markers\", IIP_bins)\n",
    "\n",
    "#catalog = coord.SkyCoord(ra=ra*u.degree, dec=dec*u.degree, frame='icrs')\n",
    "catalog = coord.SkyCoord(ra=ra[fassigned]*u.degree, dec=dec[fassigned]*u.degree, frame='icrs')\n",
    "\n",
    "prop_cycle = plt.rcParams['axes.prop_cycle']\n",
    "colors = prop_cycle.by_key()['color']\n",
    "def get_color(i):\n",
    "    co = colors[i%len(colors)]\n",
    "    return co\n"
   ]
  },
  {
   "cell_type": "code",
   "execution_count": null,
   "metadata": {},
   "outputs": [],
   "source": [
    "# Get NN's angular distance distribution and same halo truth from MXXL\n",
    "\n",
    "# Though this is binned by z of the target and not the NN, it shouldn't be able to affect results\n",
    "# by recipricality of NN\n",
    "z_bin = np.digitize(z_obs, z_bins)\n",
    "\n",
    "nn_bins = [1]#,3,4]#,5,6] # this means closest 3. '1' will find the same object.\n",
    "\n",
    "all_ang_bincounts = np.ones((len(z_bins), len(nn_bins), BIN_COUNT))\n",
    "all_same_halo_bincounts = np.zeros((len(z_bins), len(nn_bins), BIN_COUNT))\n",
    "all_same_z_bincounts = np.zeros((len(z_bins), len(nn_bins), BIN_COUNT))\n",
    "\n",
    "for i in range(len(z_bins)):\n",
    "    for j in range(len(nn_bins)):\n",
    "        #filter = z_bin == i\n",
    "        filter = np.all([z_bin == i, fnotassigned], axis=0)\n",
    "        to_match = coord.SkyCoord(ra=ra[filter]*u.degree, dec=dec[filter]*u.degree, frame='icrs')\n",
    "        idx, d2d, d3d = coord.match_coordinates_sky(to_match, catalog, nthneighbor=nn_bins[j])\n",
    "        same_halo = sim_halo_id[filter] == sim_halo_id[idx]\n",
    "        same_z = np.isclose(z_obs[filter], z_obs[idx], rtol=0, atol=0.000001)\n",
    "        \n",
    "        bin_ind = np.digitize(d2d.to(u.arcsec).value, bins)\n",
    "        bincounts = np.bincount(bin_ind)\n",
    "        if len(bincounts) < BIN_COUNT:\n",
    "            bincounts = np.pad(bincounts, (0,BIN_COUNT-len(bincounts)), 'constant', constant_values=(1,1))\n",
    "        all_ang_bincounts[i][j] = bincounts[0:BIN_COUNT]\n",
    "\n",
    "        bincounts = np.bincount(bin_ind, weights= same_halo.astype(int))\n",
    "        if len(bincounts) < BIN_COUNT:\n",
    "            bincounts = np.pad(bincounts, (0,BIN_COUNT-len(bincounts)), 'constant', constant_values=(0,0))\n",
    "        all_same_halo_bincounts[i][j] = bincounts[0:BIN_COUNT]\n",
    "\n",
    "        bincount = np.bincount(bin_ind, weights= same_z.astype(int))\n",
    "        if len(bincounts) < BIN_COUNT:\n",
    "            bincounts = np.pad(bincounts, (0,BIN_COUNT-len(bincounts)), 'constant', constant_values=(0,0))\n",
    "        all_same_z_bincounts[i][j] = bincounts[0:BIN_COUNT]\n",
    "    "
   ]
  },
  {
   "cell_type": "code",
   "execution_count": null,
   "metadata": {},
   "outputs": [],
   "source": [
    "# Turns out comparing z_obs and MXXL ID gives the same results. \n",
    "# And we are using way more comparison precision than needed, 0.001 would have been fine\n",
    "np.all(np.isclose(all_same_halo_bincounts, all_same_z_bincounts))"
   ]
  },
  {
   "cell_type": "code",
   "execution_count": null,
   "metadata": {},
   "outputs": [],
   "source": [
    "# Plots for nearest-neighbor angular distances and same-halo analysis\n",
    "plt.figure()\n",
    "for i in range(len(z_bins)):\n",
    "    if i==0:\n",
    "        label = \"< {0}\".format(z_bins[i])\n",
    "    else:\n",
    "        label = \"{0} - {1}\".format(z_bins[i-1], z_bins[i])\n",
    "    #trash = plt.hist(d2d.to(u.arcsec).value, histtype='step', bins=bins, label=label, density=True)\n",
    "\n",
    "    for j in range(len(nn_bins)):\n",
    "        if j==0:\n",
    "            plt.plot(bins, all_ang_bincounts[i][j], label=label, color=get_color(i))\n",
    "        #if j==1:\n",
    "        #    plt.plot(bins, all_ang_bincounts[i][j]/np.sum(all_ang_bincounts[i][j]), '--', color=get_color(i))\n",
    "        #if j==2:\n",
    "        #    plt.plot(bins, all_ang_bincounts[i][j]/np.sum(all_ang_bincounts[i][j]), '-.', color=get_color(i))\n",
    "plt.title(\"Nearest Neighbor Ang. Distance Distribution\")\n",
    "plt.ylabel(\"Count\")\n",
    "plt.xlabel(\"Angular Distance (arcsec)\")\n",
    "plt.yscale('log')\n",
    "plt.xscale('log')\n",
    "plt.legend()\n",
    "plt.draw()\n",
    "\n",
    "plt.figure()\n",
    "for i in range(len(z_bins)):\n",
    "    if i==0:\n",
    "        label = \"< {0}\".format(z_bins[i])\n",
    "    else:\n",
    "        label = \"{0} - {1}\".format(z_bins[i-1], z_bins[i])\n",
    "\n",
    "    for j in range(len(nn_bins)):\n",
    "        if j==0:\n",
    "            plt.plot(bins, all_same_halo_bincounts[i][j]/all_ang_bincounts[i][j], label=label, color=get_color(i))\n",
    "        #if j==1:\n",
    "        #    plt.plot(bins, all_same_halo_bincounts[i][j]/all_ang_bincounts[i][j], '--', color=get_color(i))\n",
    "        #if j==2:\n",
    "        #    plt.plot(bins, all_same_halo_bincounts[i][j]/all_ang_bincounts[i][j], linewidth=0.5, color=get_color(i))\n",
    "\n",
    "\n",
    "        print(\"Total fraction of nearest neighbors in same halo (z {0}, NN-{1}):\".format(label, j+1), np.sum(all_same_halo_bincounts[i][j]) / np.sum(all_ang_bincounts[i][j]))\n",
    "\n",
    "plt.title(\"Nearest Neighbor Same Halo Fraction\")\n",
    "plt.ylabel(\"NN Same Halo Fraction\")\n",
    "plt.xlabel(\"Angular Distance (arcsec)\")\n",
    "plt.xscale('log')\n",
    "plt.legend()\n",
    "plt.draw()"
   ]
  },
  {
   "cell_type": "code",
   "execution_count": null,
   "metadata": {},
   "outputs": [],
   "source": [
    "IIP_bin = np.digitize(iip_195, IIP_bins)\n",
    "\n",
    "nn_bins = [1]#[2,3,4] # this means closest 3. '1' will find the same object.\n",
    "\n",
    "all_ang_bincounts_2 = np.ones((IIP_BIN_COUNT, len(nn_bins), BIN_COUNT))\n",
    "all_same_halo_bincounts_2 = np.zeros((IIP_BIN_COUNT, len(nn_bins), BIN_COUNT))\n",
    "\n",
    "for i in range(len(IIP_bins)):\n",
    "    for j in range(len(nn_bins)):\n",
    "        #filter = IIP_bin == i\n",
    "        filter = np.all([IIP_bin == i, fnotassigned], axis=0)\n",
    "        to_match = coord.SkyCoord(ra=ra[filter]*u.degree, dec=dec[filter]*u.degree, frame='icrs')\n",
    "        idx, d2d, d3d = coord.match_coordinates_sky(to_match, catalog, nthneighbor=nn_bins[j])\n",
    "        same_halo = sim_halo_id[filter] == sim_halo_id[idx]\n",
    "        \n",
    "        bin_ind = np.digitize(d2d.to(u.arcsec).value, bins)\n",
    "        bincounts = np.bincount(bin_ind)\n",
    "        if len(bincounts) < BIN_COUNT:\n",
    "            bincounts = np.pad(bincounts, (0,BIN_COUNT-len(bincounts)), 'constant', constant_values=(1,1))\n",
    "        all_ang_bincounts_2[i][j] = bincounts[0:BIN_COUNT]\n",
    "\n",
    "        bincounts = np.bincount(bin_ind, weights= same_halo.astype(int))\n",
    "        if len(bincounts) < BIN_COUNT:\n",
    "            bincounts = np.pad(bincounts, (0,BIN_COUNT-len(bincounts)), 'constant', constant_values=(0,0))\n",
    "        all_same_halo_bincounts_2[i][j] = bincounts[0:BIN_COUNT]"
   ]
  },
  {
   "cell_type": "code",
   "execution_count": null,
   "metadata": {},
   "outputs": [],
   "source": [
    "frac_same = all_same_halo_bincounts_2 / all_ang_bincounts_2\n",
    "density = all_ang_bincounts_2[:,0,:] / np.sum(all_ang_bincounts_2[:,0,:])\n",
    "\n",
    "plt.figure()\n",
    "cplot = plt.pcolor(bins, IIP_bins, density, cmap='RdYlGn', norm=c.LogNorm(vmin=0.0001, vmax=0.2))\n",
    "plt.colorbar(cplot)\n",
    "plt.title(\"Nearest Neighbor Densities\")\n",
    "plt.ylabel(\"IIP\")\n",
    "plt.xlabel(\"Angular Distance (arcsec)\")\n",
    "plt.xscale('log')\n",
    "plt.draw()\n",
    "\n",
    "plt.figure()\n",
    "cplot = plt.pcolor(bins, IIP_bins, frac_same[:,0,:], cmap='RdYlGn', norm=c.Normalize(vmin=0, vmax=0.8))\n",
    "plt.colorbar(cplot)\n",
    "plt.title(\"Nearest Neighbor Same Halo Fraction\")\n",
    "plt.ylabel(\"IIP\")\n",
    "plt.xlabel(\"Angular Distance (arcsec)\")\n",
    "plt.xscale('log')\n",
    "plt.draw()"
   ]
  },
  {
   "cell_type": "code",
   "execution_count": null,
   "metadata": {},
   "outputs": [],
   "source": [
    "# More Plots for nearest-neighbor angular distances and same-halo analysis\n",
    "\n",
    "plt.figure()\n",
    "for i in range(len(IIP_bins)):\n",
    "    if i==0:\n",
    "        label = \"IIP < {0:.1f}\".format(IIP_bins[i])\n",
    "    else:\n",
    "        label = \"IIP {0:.1f} - {1:.1f}\".format(IIP_bins[i-1], IIP_bins[i])\n",
    "    #trash = plt.hist(d2d.to(u.arcsec).value, histtype='step', bins=bins, label=label, density=True)\n",
    "\n",
    "    for j in range(len(nn_bins)):\n",
    "        if j==0:\n",
    "            plt.plot(bins, all_ang_bincounts_2[i][j]/np.sum(all_ang_bincounts_2[i][j]), label=label, color=get_color(i))\n",
    "        if j==1:\n",
    "            plt.plot(bins, all_ang_bincounts_2[i][j]/np.sum(all_ang_bincounts_2[i][j]), '--', color=get_color(i))\n",
    "        if j==2:\n",
    "            plt.plot(bins, all_ang_bincounts_2[i][j]/np.sum(all_ang_bincounts_2[i][j]), '-.', color=get_color(i))\n",
    "plt.title(\"Nearest Neighbor Ang. Distance Distribution (IIP)\")\n",
    "plt.ylabel(\"Density\")\n",
    "plt.xlabel(\"Angular Distance (arcsec)\")\n",
    "plt.yscale('log')\n",
    "plt.xscale('log')\n",
    "plt.legend()\n",
    "plt.draw()\n",
    "\n",
    "plt.figure()\n",
    "for i in range(len(IIP_bins)):\n",
    "    if i==0:\n",
    "        label = \"IIP < {0:.1f}\".format(IIP_bins[i])\n",
    "    else:\n",
    "        label = \"IIP {0:.1f} - {1:.1f}\".format(IIP_bins[i-1], IIP_bins[i])\n",
    "\n",
    "    for j in range(len(nn_bins)):\n",
    "        if j==0:\n",
    "            plt.plot(bins, all_same_halo_bincounts_2[i][j]/all_ang_bincounts_2[i][j], label=label, color=get_color(i))\n",
    "        if j==1:\n",
    "            plt.plot(bins, all_same_halo_bincounts_2[i][j]/all_ang_bincounts_2[i][j], '--', color=get_color(i))\n",
    "        if j==2:\n",
    "            plt.plot(bins, all_same_halo_bincounts_2[i][j]/all_ang_bincounts_2[i][j], linewidth=0.5, color=get_color(i))\n",
    "\n",
    "        print(\"Total fraction of nearest neighbors in same halo ({0}, NN-{1}):\".format(label, j+1), np.sum(all_same_halo_bincounts_2[i][j]) / np.sum(all_ang_bincounts_2[i][j]))\n",
    "\n",
    "plt.title(\"Nearest Neighbor Same Halo Fraction (IIP)\")\n",
    "plt.ylabel(\"NN Same Halo Fraction\")\n",
    "plt.xlabel(\"Angular Distance (arcsec)\")\n",
    "plt.xscale('log')\n",
    "plt.legend()\n",
    "plt.draw()"
   ]
  },
  {
   "cell_type": "code",
   "execution_count": null,
   "metadata": {},
   "outputs": [],
   "source": [
    "for i in range(BIN_COUNT):\n",
    "    arcsec = bins[i]\n",
    "    tot = np.sum(all_ang_bincounts[:,0,0:i])\n",
    "    frac = np.sum(all_same_halo_bincounts[:,0,0:i]) / np.sum(all_ang_bincounts[:,0,0:i])\n",
    "    frac_assigned = np.sum(all_ang_bincounts[:,0,0:i]) / np.sum(all_ang_bincounts[:,0,:])\n",
    "    print(\"Up to {0:.1f}\\\": Success frac: {1:.3f}. Assigned frac: {2:.3f}\".format(arcsec, frac, frac_assigned))\n"
   ]
  },
  {
   "cell_type": "markdown",
   "metadata": {},
   "source": [
    "### Galaxy Pairs Angular Separation and Same-Halo Analysis\n",
    "Continuation of the above.\n",
    "\n",
    "THIS IS N^2 CALCULATION do not run on full sky. Adjust data\n"
   ]
  },
  {
   "cell_type": "code",
   "execution_count": null,
   "metadata": {},
   "outputs": [],
   "source": [
    "# THIS IS N^2 CALCULATION do not run on full sky.\n",
    "total_bincounts = np.ones((len(z_bins), BIN_COUNT))\n",
    "total_same_halo_bincounts = np.zeros((len(z_bins), BIN_COUNT))\n",
    "\n",
    "# Examine each galaxy in the sample pair once\n",
    "for i in range(len(ra)-1):\n",
    "    ang_distance = coord.angular_separation(ra[i]*u.degree, dec[i]*u.degree, ra[i+1:len(ra)]*u.degree, dec[i+1:len(ra)]*u.degree).to(u.arcsec)\n",
    "        \n",
    "    same_halo = sim_halo_id[i] == sim_halo_id[i+1:len(ra)]\n",
    "    #print(\"Same halo fraction for {0}:\".format(i), np.sum(same_halo) / len(same_halo))\n",
    "\n",
    "    bin_ind = np.digitize(ang_distance.value, bins)\n",
    "    #print(bin_ind)\n",
    "    bincounts = np.bincount(bin_ind)[0:BIN_COUNT]\n",
    "    same_halo_bincounts = np.bincount(bin_ind, weights= same_halo.astype(int)) [0:BIN_COUNT]\n",
    "\n",
    "    z_bin = np.digitize(z_obs[i], z_bins)\n",
    "    total_bincounts[z_bin] = total_bincounts[z_bin] + bincounts\n",
    "    total_same_halo_bincounts[z_bin] = total_same_halo_bincounts[z_bin] + same_halo_bincounts\n",
    "    #print(total_same_halo_bincounts)\n",
    "\n",
    "#print(\"Total counts in each bin:\", total_bincounts)\n",
    "\n",
    "fraction_same_halo = total_same_halo_bincounts / total_bincounts\n",
    "#print(fraction_same_halo)"
   ]
  },
  {
   "cell_type": "code",
   "execution_count": null,
   "metadata": {},
   "outputs": [],
   "source": [
    "# Plots for galaxy pairs\n",
    "plt.figure()\n",
    "for i in range(len(z_bins)):\n",
    "    if i==0:\n",
    "        label = \"< {0}\".format(z_bins[i])\n",
    "    else:\n",
    "        label = \"{0} - {1}\".format(z_bins[i-1], z_bins[i])\n",
    "    plt.plot(bins, total_bincounts[i], label=label)\n",
    "plt.legend()\n",
    "plt.xscale('log')\n",
    "plt.yscale('log')\n",
    "plt.xlabel('Angular Separation (arcsec)')\n",
    "plt.ylabel('Count of Galaxies Pairs')\n",
    "plt.title(\"Galaxy Pair Counts (by ang separation and z)\")\n",
    "plt.draw()\n",
    "\n",
    "plt.figure()\n",
    "for i in range(len(z_bins)):\n",
    "    if i==0:\n",
    "        label = \"< {0}\".format(z_bins[i])\n",
    "    else:\n",
    "        label = \"{0} - {1}\".format(z_bins[i-1], z_bins[i])\n",
    "    plt.plot(bins, fraction_same_halo[i], label=label)\n",
    "plt.legend()\n",
    "plt.xscale('log')\n",
    "plt.xlabel('Angular Separation (arcsec)')\n",
    "plt.ylabel('Fraction Pair in Same Halo')\n",
    "plt.ylim(-0.01, 1.0)\n",
    "plt.title(\"Fraction Pair in Same Halo (by ang separation and z)\")\n",
    "plt.draw()"
   ]
  },
  {
   "attachments": {},
   "cell_type": "markdown",
   "metadata": {},
   "source": [
    "# Plots on data after running group finder"
   ]
  },
  {
   "cell_type": "code",
   "execution_count": null,
   "metadata": {},
   "outputs": [],
   "source": [
    "def process(filename):\n",
    "\n",
    "    filename_props = str.replace(filename, \".out\", \"_galprops.dat\")\n",
    "\n",
    "    # TODO add in mxxl_halo_id, assigned_halo_id\n",
    "    df = pd.read_csv(filename, delimiter=' ', names=('RA', 'Dec', 'z', 'L_gal', 'V_max', 'P_sat', 'M_halo', 'N_sat', 'L_tot', 'igrp', 'unknown'))\n",
    "    galprops = pd.read_csv(filename_props, delimiter=' ', names=('app_mag', 'g_r', 'galaxy_type', 'mxxl_halo_mass', 'fiber_assigned_0', 'assigned_halo_mass', 'z_obs', 'mxxl_halo_id', 'assigned_halo_id'), dtype={'mxxl_halo_id': np.int32, 'assigned_halo_id': np.int32})\n",
    "    all_data = pd.merge(df, galprops, left_index=True, right_index=True)\n",
    "\n",
    "    # Drop bad data, should have been cleaned up earlier though!\n",
    "    orig_count = len(all_data)\n",
    "    all_data = all_data[all_data.M_halo != 0]\n",
    "    new_count = len(all_data)\n",
    "    if (orig_count != new_count):\n",
    "        print(\"Dropped {0} bad galaxies\".format(orig_count - new_count))\n",
    "\n",
    "    all_data['is_sat'] = (all_data.index != all_data.igrp).astype(int)\n",
    "    all_data['is_sat_truth'] = np.logical_or(all_data.galaxy_type == 1, all_data.galaxy_type == 3).astype(int)\n",
    "    #print(all_data['is_sat'])\n",
    "    all_data['logLgal'] = np.log10(all_data.L_gal)\n",
    "\n",
    "    bins = np.logspace(np.log10(min(all_data.M_halo)), np.log10(max(all_data.M_halo)), 30)\n",
    "    labels = bins[0:len(bins)-1] # using bottom (or top?) value, not middle\n",
    "    all_data['Mh_bin'] = pd.cut(x = all_data['M_halo'], bins = bins, labels = labels, include_lowest = True)\n",
    "    \n",
    "    centrals = all_data[all_data.index == all_data.igrp]\n",
    "    #logmstar_means = centrals.groupby('Mh_bin').log_M_star.mean()\n",
    "    #logmstar_scatter = centrals.groupby('Mh_bin').log_M_star.std()\n",
    "    loglcen_means = centrals.groupby('Mh_bin').logLgal.mean()\n",
    "    loglcen_scatter = centrals.groupby('Mh_bin').logLgal.std()\n",
    "\n",
    "    # Compute f_sat(Lgal)\n",
    "    bins_Lgal = np.logspace(np.log10(min(all_data.L_gal)), np.log10(max(all_data.L_gal)), 30)\n",
    "    labels_Lgal = bins_Lgal[0:len(bins_Lgal)-1] # using bottom (or top?) value, not middle\n",
    "    all_data['Lgal_bin'] = pd.cut(x = all_data['L_gal'], bins = bins_Lgal, labels = labels_Lgal, include_lowest = True)\n",
    "    \n",
    "    f_sat = all_data.groupby('Lgal_bin').is_sat.mean()\n",
    "    Lgal_counts = all_data.groupby('Lgal_bin').RA.count()\n",
    "\n",
    "    dataset = types.SimpleNamespace()\n",
    "    dataset.filename = filename[filename.rfind('/')+1 : len(filename)-4]\n",
    "    dataset.all_data = all_data\n",
    "    dataset.bins = bins\n",
    "    dataset.labels = labels\n",
    "    dataset.centrals = centrals\n",
    "    #dataset.logmstar_means = logmstar_means\n",
    "    #dataset.logmstar_scatter = logmstar_scatter\n",
    "    dataset.loglcen_means = loglcen_means\n",
    "    dataset.loglcen_scatter = loglcen_scatter\n",
    "    dataset.bins_Lgal = bins_Lgal\n",
    "    dataset.labels_Lgal = labels_Lgal\n",
    "    dataset.f_sat = f_sat\n",
    "    dataset.Lgal_counts = Lgal_counts\n",
    "\n",
    "    return dataset\n",
    "\n",
    "def plots(*frames):\n",
    "    \n",
    "    plt.figure()\n",
    "    for f in frames:\n",
    "        plt.errorbar(f.labels, f.loglcen_means, yerr=f.loglcen_scatter)\n",
    "    plt.xscale('log')\n",
    "    plt.xlabel('$M_{halo}$')\n",
    "    plt.ylabel('$log(L_{cen})$')\n",
    "    plt.title(\"Central Luminosity vs. Halo Mass\")\n",
    "    plt.legend()\n",
    "    plt.draw()\n",
    "\n",
    "    plt.figure()    \n",
    "    for f in frames:\n",
    "        plt.errorbar(f.labels, f.loglcen_scatter)\n",
    "    plt.xscale('log')\n",
    "    plt.xlabel('$M_{halo}$')\n",
    "    plt.ylabel('$\\\\sigma(\\\\log(L_{cen})$')\n",
    "    plt.title(\"Central Luminosity Scatter vs. Halo Mass\")\n",
    "    plt.draw()\n",
    "\n",
    "    \"\"\"     \n",
    "    plt.figure()\n",
    "    for f in frames:\n",
    "        plt.scatter(f.centrals.M_halo, f.centrals.L_gal, alpha=0.002)\n",
    "    plt.loglog()\n",
    "    plt.xlabel('M_halo / h')\n",
    "    plt.ylabel('L_gal / $h^2$)')\n",
    "    plt.draw() \n",
    "    \"\"\"\n",
    "\n",
    "    plt.figure()\n",
    "    for f in frames:\n",
    "        Nsat_means = f.all_data.groupby('Mh_bin').N_sat.mean()\n",
    "        plt.plot(f.labels, Nsat_means)\n",
    "        #plt.hist(f.centrals.N_sat, np.arange(0,50,1), alpha=0.5)\n",
    "    plt.loglog()    \n",
    "    plt.ylabel(\"$<N_{sat}>$\")    \n",
    "    plt.xlabel('$M_{halo}$')\n",
    "    plt.title(\"Mean Number of Satellites by Halo Mass\")\n",
    "    plt.draw()\n",
    "\n",
    "    plt.figure()\n",
    "    for f in frames:\n",
    "        plt.plot(f.labels_Lgal, f.f_sat)\n",
    "    truth_f_sat = frames[0].all_data.groupby('Lgal_bin').is_sat_truth.mean()\n",
    "    plt.plot(frames[0].labels_Lgal, truth_f_sat, 'k')\n",
    "    #centrals = frames[0].all_data['galaxy_type' == 0 or 'galaxy_type' == 2].groupby('Lgal_bin').count()\n",
    "    #sats = frames[0].all_data['galaxy_type' == 1 or 'galaxy_type' == 3].groupby('Lgal_bin').count()\n",
    "    #truth_f_sat = sats / (centrals + sats)\n",
    "    plt.xscale('log')\n",
    "    plt.xlabel(\"$L_{gal}$\")\n",
    "    plt.ylabel(\"$f_{sat}$\")\n",
    "    plt.title(\"Satellite fraction vs Galaxy Luminosity\")\n",
    "    plt.draw()\n",
    "    \n",
    "    plt.figure()\n",
    "    for f in frames:\n",
    "        plt.plot(f.labels_Lgal, f.Lgal_counts)\n",
    "    plt.xscale('log')\n",
    "    plt.yscale('log')\n",
    "    plt.xlabel(\"$L_{gal}$\")\n",
    "    plt.ylabel(\"Count of Galaxies\")\n",
    "    plt.title(\"Galaxy Luminosity Counts\")\n",
    "    plt.draw()\n",
    "\n",
    "    print(\"TOTAL f_sat: \")\n",
    "    for f in frames:\n",
    "        print(f.filename, f.all_data['is_sat'].sum() / f.all_data['is_sat'].count())\n",
    "\n",
    "    print(\"MXXL Truth\", frames[0].all_data['is_sat_truth'].sum() / f.all_data['is_sat_truth'].count())"
   ]
  },
  {
   "cell_type": "code",
   "execution_count": null,
   "metadata": {},
   "outputs": [],
   "source": [
    "all = process(ROOT_FOLDER + \"mxxl_3pass_all.out\")\n"
   ]
  },
  {
   "cell_type": "code",
   "execution_count": null,
   "metadata": {},
   "outputs": [],
   "source": [
    "fiberonly = process(ROOT_FOLDER + \"mxxl_3pass_fiberonly.out\")\n"
   ]
  },
  {
   "cell_type": "code",
   "execution_count": null,
   "metadata": {},
   "outputs": [],
   "source": [
    "# This is is no good\n",
    "#nn = process(ROOT_FOLDER + \"mxxl_3pass_nn.out\")"
   ]
  },
  {
   "cell_type": "code",
   "execution_count": null,
   "metadata": {},
   "outputs": [],
   "source": [
    "nn_kd = process(ROOT_FOLDER + \"mxxl_3pass_nn_kd.out\")\n"
   ]
  },
  {
   "cell_type": "code",
   "execution_count": null,
   "metadata": {},
   "outputs": [],
   "source": [
    "nn_kd.all_data"
   ]
  },
  {
   "cell_type": "markdown",
   "metadata": {},
   "source": []
  },
  {
   "cell_type": "code",
   "execution_count": null,
   "metadata": {},
   "outputs": [],
   "source": [
    "plots(all, fiberonly, nn_kd)\n",
    "# BLUE: ALL     ORANGE: FIBER ASSIGNED ONLY     GREEN: NEAREST NEIGHBOR"
   ]
  },
  {
   "cell_type": "markdown",
   "metadata": {},
   "source": [
    "In the above plots, the NN ones have some galaxies at higher $L_{gal}$ than the 'all' sample. This is because some of the assigned redshifts imply a larger luminosity than any galaxy seen in MXXL."
   ]
  },
  {
   "cell_type": "markdown",
   "metadata": {},
   "source": [
    "## Compare NN-assigned implied abs mags to truth from MXXL"
   ]
  },
  {
   "cell_type": "code",
   "execution_count": null,
   "metadata": {},
   "outputs": [],
   "source": [
    "not_assigned = np.invert(nn_kd.all_data.fiber_assigned_0.astype(bool))\n",
    "app_mags = nn_kd.all_data.app_mag[not_assigned].to_numpy()\n",
    "my_assigned_abs_mag = app_mag_to_abs_mag(app_mags, nn_kd.all_data.z[not_assigned].to_numpy())\n",
    "my_raw_abs_mag = app_mag_to_abs_mag(app_mags, nn_kd.all_data.z_obs[not_assigned].to_numpy())\n",
    "\n",
    "print(len(my_raw_abs_mag), len(my_assigned_abs_mag))"
   ]
  },
  {
   "cell_type": "code",
   "execution_count": null,
   "metadata": {},
   "outputs": [],
   "source": [
    "# Compare absolute mags. Using my way of computing for both.\n",
    "x = plt.hist(my_raw_abs_mag, label=\"Truth\", bins=50, alpha=0.5)\n",
    "y = plt.hist(my_assigned_abs_mag, label=\"NN Assigned\", bins=50, alpha=0.5)\n",
    "plt.xlabel(\"Absolute Mag\")\n",
    "plt.ylabel(\"Count\")\n",
    "plt.yscale('log')\n",
    "plt.title(\"Compare NN-assigned Abs Mags\")\n",
    "plt.legend()"
   ]
  },
  {
   "cell_type": "markdown",
   "metadata": {},
   "source": [
    "## Find fraction of time the NN is in the same halo\n",
    "\n",
    "The answer is basically never!"
   ]
  },
  {
   "cell_type": "code",
   "execution_count": null,
   "metadata": {},
   "outputs": [],
   "source": [
    "nn_kd.all_data['mxxl_halo_id']"
   ]
  },
  {
   "cell_type": "code",
   "execution_count": null,
   "metadata": {},
   "outputs": [],
   "source": [
    "#x=plt.hist(nn.all_data['assigned_halo_mass'], bins=50)\n",
    "#x=plt.hist(nn.all_data['mxxl_halo_mass'], bins=50)\n",
    "#x=plt.hist(all.all_data['mxxl_halo_mass'], bins=30) # should be exact same as above\n",
    "#plt.yscale('log')\n",
    "\n",
    "def nn_halo_analysis(*sets):\n",
    "\n",
    "    for data in sets:\n",
    "\n",
    "        #same_halo_mass = np.isclose(data.all_data['assigned_halo_mass'], data.all_data['mxxl_halo_mass'], atol=0.0, rtol=1e-03)\n",
    "        #same_mxxl_halo = data.all_data['assigned_halo_mass']\n",
    "        #data.all_data['same_mxxl_halo'] = same_mxxl_halo\n",
    "\n",
    "        no_fiber = data.all_data[data.all_data.fiber_assigned_0 == 0]\n",
    "\n",
    "        no_fiber_same_halo = np.equal(no_fiber['assigned_halo_id'], no_fiber['mxxl_halo_id'])\n",
    "        print(\"Fraction of time NN-assigned halo ID is the same as the galaxy's actual halo ID:\", np.sum(no_fiber_same_halo) / len(no_fiber_same_halo))\n",
    "        \n",
    "        no_fiber_same_halo_mass = np.isclose(no_fiber['assigned_halo_mass'], no_fiber['mxxl_halo_mass'], atol=0.0, rtol=1e-03)\n",
    "        print(\"Fraction of time NN-assigned halo mass is \\'the same\\' as the galaxy's actual halo mass:\", np.sum(no_fiber_same_halo_mass) / len(no_fiber_same_halo_mass))\n",
    "\n",
    "        #z_bins = np.linspace(min(data.all_data.z), max(data.all_data.z), 20)\n",
    "        #z_labels = z_bins[0:len(z_bins)-1] \n",
    "        #data.all_data['z_bin'] = pd.cut(x = data.all_data['z'], bins = z_bins, labels = z_labels, include_lowest = True)\n",
    "\n",
    "        #groupby_z = no_fiber.groupby('z_bin')['same_halo_mass'].sum() / no_fiber.groupby('z_bin')['same_halo_mass'].count()\n",
    "\n",
    "        #plt.plot(z_labels, groupby_z)\n",
    "        #plt.xlabel('$z_{eff}$ (effective/assigned redshift)')\n",
    "        #plt.ylabel('Fraction Assigned Halo = True Host Halo')\n",
    "        \n"
   ]
  },
  {
   "cell_type": "code",
   "execution_count": null,
   "metadata": {},
   "outputs": [],
   "source": [
    "nn_halo_analysis(nn_kd)\n",
    "\n",
    "# TODO could compare z_cos instead\n"
   ]
  },
  {
   "cell_type": "markdown",
   "metadata": {},
   "source": [
    "## Lost galaxy Examiner"
   ]
  },
  {
   "cell_type": "code",
   "execution_count": null,
   "metadata": {},
   "outputs": [],
   "source": [
    "data = nn_kd.all_data\n"
   ]
  },
  {
   "cell_type": "code",
   "execution_count": null,
   "metadata": {},
   "outputs": [],
   "source": [
    "data['ldist_true'] = z_to_ldist(data.z_obs.to_numpy())"
   ]
  },
  {
   "cell_type": "code",
   "execution_count": null,
   "metadata": {},
   "outputs": [],
   "source": [
    "lost_galaxies = data.loc[data['fiber_assigned_0'] == 0]\n",
    "#lost_galaxies_2 = nn.all_data.loc[nn.all_data['fiber_assigned_0'] == 0]\n",
    "obs_galaxies = data.loc[data['fiber_assigned_0'] == 1]\n",
    "#obs_galaxies_2 = nn.all_data.loc[nn.all_data['fiber_assigned_0'] == 1]\n",
    "print(len(lost_galaxies), len(obs_galaxies))\n",
    "\n",
    "# TODO could use angular size / redshift relation as part of this :-)\n",
    "def getsize(z):\n",
    "    if z < 0.05:\n",
    "        return 100\n",
    "    elif z < 0.1:\n",
    "        return 70\n",
    "    elif z < 0.2:\n",
    "        return 45\n",
    "    elif z < 0.2:\n",
    "        return 30\n",
    "    elif z < 0.3:\n",
    "        return 20\n",
    "    elif z < 0.4:\n",
    "        return 13\n",
    "    elif z < 0.5:\n",
    "        return 8\n",
    "    elif z < 0.6:\n",
    "        return 4\n",
    "    else:\n",
    "        return 2\n",
    "\n",
    "nearby_angle = coord.Angle('5m')\n",
    "\n",
    "def neighbor_exam(index):\n",
    "    target = lost_galaxies.iloc[index]\n",
    "    z_eff = target.z\n",
    "    target_dist_true = z_to_ldist(target.z_obs)\n",
    "\n",
    "    ra_max = (coord.Angle(lost_galaxies.iloc[index].RA*u.degree) + nearby_angle).value\n",
    "    ra_min = (coord.Angle(lost_galaxies.iloc[index].RA*u.degree) - nearby_angle).value\n",
    "    dec_max = (coord.Angle(lost_galaxies.iloc[index].Dec*u.degree) + nearby_angle).value\n",
    "    dec_min = (coord.Angle(lost_galaxies.iloc[index].Dec*u.degree) - nearby_angle).value\n",
    "\n",
    "    nearby = obs_galaxies.query('RA < @ra_max and RA > @ra_min and Dec < @dec_max and Dec > @dec_min')\n",
    "\n",
    "    close_neighbors = 0\n",
    "    if len(nearby) > 0:\n",
    "        close_neighbors = np.isclose(nearby.ldist_true.to_numpy(), target_dist_true, rtol=0.0, atol=20)\n",
    "\n",
    "    return (np.sum(close_neighbors), len(nearby), np.sum(close_neighbors)/len(nearby))\n",
    "\n",
    "def examine_plot(index):\n",
    "\n",
    "    target = lost_galaxies.iloc[index]\n",
    "    #target2 = lost_galaxies_2.iloc[index]\n",
    "    #assert np.isclose(target.RA, target2.RA)\n",
    "\n",
    "    z_eff = target.z\n",
    "    target_dist_true = z_to_ldist(target.z_obs)\n",
    "    #z_eff2 = target2.z\n",
    "\n",
    "    # Close is 5' here, which is 300kpc - 2Mpc depending on redshift. \n",
    "    ra_max = (coord.Angle(lost_galaxies.iloc[index].RA*u.degree) + nearby_angle).value\n",
    "    ra_min = (coord.Angle(lost_galaxies.iloc[index].RA*u.degree) - nearby_angle).value\n",
    "    dec_max = (coord.Angle(lost_galaxies.iloc[index].Dec*u.degree) + nearby_angle).value\n",
    "    dec_min = (coord.Angle(lost_galaxies.iloc[index].Dec*u.degree) - nearby_angle).value\n",
    "\n",
    "    # TODO replace with a non-angular search so all redshifts are treated equally\n",
    "    nearby = obs_galaxies.query('RA < @ra_max and RA > @ra_min and Dec < @dec_max and Dec > @dec_min')\n",
    "    #nearby2 = obs_galaxies_2.query('RA < @ra_max and RA > @ra_min and Dec < @dec_max and Dec > @dec_min')\n",
    "\n",
    "    z_match = nearby.query('z == @z_eff') \n",
    "    #z_match2 = nearby2.query('z == @z_eff2')\n",
    "\n",
    "    assert len(z_match) == 1, len(z_match) # or we need a better way to verify which row is the one that we assigned the z from\n",
    "    #assert len(z_match2) == 1, len(z_match2) # or we need a better way to verify which row is the one that we assigned the z from\n",
    "\n",
    "    plt.figure(figsize=(5,5))\n",
    "    s = list(map(getsize, nearby.z))\n",
    "    plt.scatter(nearby.RA, nearby.Dec, s=s)\n",
    "    for k in range(len(nearby)):\n",
    "        plt.text(nearby.iloc[k].RA, nearby.iloc[k].Dec, \"{0:.3f}\".format(nearby.iloc[k].z), size=12)\n",
    "    \n",
    "    plt.scatter(target.RA, target.Dec, s=getsize(z_eff))\n",
    "    plt.text(target.RA, target.Dec, \"{0:.3f}\".format(target.z_obs), size=12)\n",
    "\n",
    "    #plt.scatter(target.RA, target.Dec, s=getsize(target.z_obs), facecolors='none', edgecolors='g')\n",
    "    #plt.scatter(z_match2.RA, z_match2.Dec, marker='^', s=list(map(getsize, z_match2.z)), alpha=0.5)\n",
    "    plt.scatter(z_match.RA, z_match.Dec, color='r', s=list(map(getsize, z_match.z)))\n",
    "\n",
    "    plt.xlim(ra_min, ra_max)\n",
    "    plt.ylim(dec_min, dec_max)\n",
    "    plt.xlabel('RA')\n",
    "    plt.xlabel('Dec')\n",
    "    plt.title(\"Lost Galaxy {0}: z_true={1:.2f}, z_eff={2:.2f}\".format(index, target.z_obs, target.z))\n",
    "    plt.draw()\n",
    "    \n"
   ]
  },
  {
   "cell_type": "code",
   "execution_count": null,
   "metadata": {},
   "outputs": [],
   "source": [
    "CAP = 15\n",
    "for i in range(0,CAP):\n",
    "    index = lost_galaxies.index[i]\n",
    "    examine_plot(index)"
   ]
  },
  {
   "cell_type": "markdown",
   "metadata": {},
   "source": [
    "Astropy's NN is selecting the correct galaxy but it isn't very useful for us."
   ]
  },
  {
   "cell_type": "markdown",
   "metadata": {},
   "source": [
    "### Idea: analyze entire neighborhood and look for groups of similar z galaxies, choose a z from the biggest group"
   ]
  },
  {
   "cell_type": "code",
   "execution_count": null,
   "metadata": {},
   "outputs": [],
   "source": [
    "MAX = 600000\n",
    "close = np.empty(MAX)\n",
    "total = np.empty(MAX)\n",
    "frac = np.empty(MAX)\n",
    "for i in range(0,MAX):\n",
    "    index = lost_galaxies.index[i]\n",
    "    close[i], total[i], frac[i] = neighbor_exam(index)"
   ]
  },
  {
   "cell_type": "code",
   "execution_count": null,
   "metadata": {},
   "outputs": [],
   "source": [
    "max_finished = 81408\n",
    "finished_close = close[0:max_finished]\n",
    "finished_total = total[0:max_finished]\n",
    "with open(ROOT_FOLDER + 'mxxl_lostgal_neighborhood_close.npy', 'wb') as f:\n",
    "    np.save(f, finished_close)\n",
    "with open(ROOT_FOLDER + 'mxxl_lostgal_neighborhood_total.npy', 'wb') as f:\n",
    "    np.save(f, finished_total)"
   ]
  },
  {
   "cell_type": "code",
   "execution_count": null,
   "metadata": {},
   "outputs": [],
   "source": [
    "with open(ROOT_FOLDER + 'mxxl_lostgal_neighborhood_close.npy', 'rb') as f:\n",
    "    close = np.load(f)\n",
    "\n",
    "with open(ROOT_FOLDER + 'mxxl_lostgal_neighborhood_total.npy', 'rb') as f:\n",
    "    total = np.load(f)\n",
    "\n",
    "frac = close / total"
   ]
  },
  {
   "cell_type": "code",
   "execution_count": null,
   "metadata": {},
   "outputs": [],
   "source": [
    "bins = np.linspace(0,30,31)\n",
    "trash = plt.hist(close, bins=bins)\n",
    "plt.title(\"Lost Galaxies Neighbors at ~Correct z\")\n",
    "plt.xlabel(\"Count of Similar z Neighbors\")\n",
    "plt.ylabel(\"Count of Lost Galaxies\")\n",
    "print(\"Hopeless Fraction: \", np.sum(close==0) / len(close))\n",
    "print(\"Essentially Hopeless Fraction: \", (np.sum(close==0) + np.sum(close==1)) / len(close))"
   ]
  },
  {
   "cell_type": "code",
   "execution_count": null,
   "metadata": {},
   "outputs": [],
   "source": [
    "viable = close > 1\n",
    "frac[viable]\n",
    "trash=plt.hist(frac[viable], bins=30)\n",
    "plt.title(\"Viable Lost Galaxies: Correct z Neighbor Fraction\")\n",
    "plt.xlabel(\"Fraction with Similar z\")\n",
    "plt.ylabel(\"Count of Viable Lost Galaxies\")"
   ]
  },
  {
   "cell_type": "code",
   "execution_count": null,
   "metadata": {},
   "outputs": [],
   "source": []
  }
 ],
 "metadata": {
  "kernelspec": {
   "display_name": "Python 3.9.12 ('base')",
   "language": "python",
   "name": "python3"
  },
  "language_info": {
   "codemirror_mode": {
    "name": "ipython",
    "version": 3
   },
   "file_extension": ".py",
   "mimetype": "text/x-python",
   "name": "python",
   "nbconvert_exporter": "python",
   "pygments_lexer": "ipython3",
   "version": "3.9.6"
  },
  "orig_nbformat": 4,
  "vscode": {
   "interpreter": {
    "hash": "3067ead486e059ec00ffe7555bdb889e6e264a24dc711bf108106cc7baee8d5d"
   }
  }
 },
 "nbformat": 4,
 "nbformat_minor": 2
}
