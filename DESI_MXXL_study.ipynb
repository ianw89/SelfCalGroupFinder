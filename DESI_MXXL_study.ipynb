{
 "cells": [
  {
   "cell_type": "code",
   "execution_count": null,
   "metadata": {},
   "outputs": [],
   "source": [
    "import numpy as np\n",
    "import pandas as pd\n",
    "import matplotlib.pyplot as plt\n",
    "from scipy import special\n",
    "import h5py\n",
    "from astropy.wcs import WCS\n",
    "import astropy.coordinates as coord\n",
    "import astropy.units as u\n",
    "from pyutils import *\n",
    "import types\n",
    "import numpy.ma as ma\n",
    "import sys\n",
    "\n",
    "#ROOT_FOLDER = \"/Volumes/Seagate Backup Plus Drive/galaxy-groups-data/\"\n",
    "ROOT_FOLDER = \"D:\\\\galaxy-groups-data\\\\\"\n"
   ]
  },
  {
   "attachments": {},
   "cell_type": "markdown",
   "metadata": {},
   "source": [
    "## Basic read-in of HDF5 data from MXXL\n"
   ]
  },
  {
   "cell_type": "code",
   "execution_count": null,
   "metadata": {},
   "outputs": [],
   "source": [
    "DATA_CUT_INDEX = 1000000"
   ]
  },
  {
   "cell_type": "code",
   "execution_count": null,
   "metadata": {},
   "outputs": [],
   "source": [
    "weights = h5py.File(ROOT_FOLDER + 'weights_3pass.hdf5', 'r')\n",
    "print(list(weights))\n",
    "print(list(weights['Data']))\n",
    "print(list(weights['Weight']))\n"
   ]
  },
  {
   "cell_type": "code",
   "execution_count": null,
   "metadata": {},
   "outputs": [],
   "source": [
    "assigned = weights['Weight/bitweight0'][0:DATA_CUT_INDEX] & 1 # choose 1 of the 2048 fiber assignment realizations with this bitstring\n",
    "print(np.sum(assigned == 1), \"galaxies were assigned a fiber\")\n",
    "print(np.sum(assigned == 0), \"galaxies were NOT assigned a fiber\")\n"
   ]
  },
  {
   "attachments": {},
   "cell_type": "markdown",
   "metadata": {},
   "source": [
    "# Test of nearest neighbors implementations\n"
   ]
  },
  {
   "cell_type": "code",
   "execution_count": null,
   "metadata": {},
   "outputs": [],
   "source": [
    "\n",
    "input = weights\n",
    "dec = input['Data/dec'][0:DATA_CUT_INDEX]\n",
    "ra = input['Data/ra'][0:DATA_CUT_INDEX]\n",
    "z_obs = input['Data/z_obs'][0:DATA_CUT_INDEX]\n",
    "app_mag = input['Data/app_mag'][0:DATA_CUT_INDEX]\n",
    "\n",
    "bright_filter = app_mag < 19.5 # makes a filter array (True/False values)\n",
    "redshift_filter = z_obs > 0 # makes a filter array (True/False values)\n",
    "keep = np.all([bright_filter, redshift_filter], axis=0)\n",
    "dec = dec[keep]\n",
    "ra = ra[keep]\n",
    "z_obs = z_obs[keep]\n",
    "\n",
    "count = len(dec)\n",
    "print(count, \"galaxies in HDF5 file\")\n",
    "\n",
    "# choose 1 of the 2048 fiber assignment realizations with this bitstring\n",
    "fiber_assigned_0 = assigned.astype(bool)\n",
    "fiber_assigned_0 = fiber_assigned_0[keep]\n",
    "fiber_not_assigned_0 = np.invert(fiber_assigned_0)\n",
    "indexes_not_assigned = np.argwhere(fiber_not_assigned_0)\n",
    "print(np.sum(fiber_assigned_0), \"galaxies were assigned a fiber\")"
   ]
  },
  {
   "cell_type": "code",
   "execution_count": null,
   "metadata": {},
   "outputs": [],
   "source": [
    "# Astropy NN Search with kdtrees\n",
    "catalog = coord.SkyCoord(ra=ra[fiber_assigned_0]*u.degree, dec=dec[fiber_assigned_0]*u.degree, frame='icrs')\n",
    "z_cat = z_obs[fiber_assigned_0]\n",
    "to_match = coord.SkyCoord(ra=ra[fiber_not_assigned_0]*u.degree, dec=dec[fiber_not_assigned_0]*u.degree, frame='icrs')\n",
    "\n",
    "idx, d2d, d3d = coord.match_coordinates_sky(to_match, catalog, storekdtree=False)\n",
    "\n",
    "z_eff_a = np.copy(z_obs)\n",
    "z_err_a = np.zeros(len(z_obs))\n",
    "\n",
    "# i is the index of the full sized array that needed a NN z value\n",
    "# j is the index along the to_match list corresponding to that\n",
    "# idx are the indexes of the NN from the catalog\n",
    "assert len(indexes_not_assigned) == len(idx)\n",
    "\n",
    "j = 0\n",
    "for i in indexes_not_assigned:\n",
    "    new_z = z_cat[idx[j]]\n",
    "    z_err_a[i] = abs(z_eff_a[i] - new_z) / z_eff_a[i]\n",
    "    z_eff_a[i] = new_z\n",
    "    j = j + 1\n"
   ]
  },
  {
   "cell_type": "code",
   "execution_count": null,
   "metadata": {},
   "outputs": [],
   "source": [
    "# Examine fractional error in assigned redshifts \n",
    "plt.hist(np.log10(z_err_a[fiber_not_assigned_0]), bins=50)\n",
    "plt.yscale('log')\n",
    "plt.xlabel('log(fractional error) from known simulation value')\n",
    "plt.ylabel('Count')\n",
    "print(np.sum(z_err_a))\n",
    "print(np.count_nonzero(z_err_a))\n"
   ]
  },
  {
   "cell_type": "code",
   "execution_count": null,
   "metadata": {},
   "outputs": [],
   "source": [
    "# My naive NN\n",
    "\n",
    "nn = NearestNeighbor(ra[fiber_assigned_0], dec[fiber_assigned_0], z_obs[fiber_assigned_0])\n",
    "\n",
    "# z_eff: same as z_obs if a fiber was assigned and thus a real redshift measurement was made\n",
    "# otherwise, it is an assigned value.\n",
    "# nearest neighbor will find the nearest (measured) galaxy and use its redshift.\n",
    "z_eff = np.copy(z_obs)\n",
    "z_err = np.zeros(len(z_obs))\n",
    "for i in range(0, count):\n",
    "    if not fiber_assigned_0[i]:\n",
    "        new_z = nn.get_z(coord.Angle(ra[i]*u.degree).radian, coord.Angle(dec[i]*u.degree).radian)        \n",
    "        z_err[i] = abs(z_eff[i] - new_z) / z_eff[i]\n",
    "        z_eff[i] = new_z"
   ]
  },
  {
   "cell_type": "code",
   "execution_count": null,
   "metadata": {},
   "outputs": [],
   "source": [
    "# Examine fractional error in assigned redshifts \n",
    "plt.hist(np.log10(z_err[fiber_not_assigned_0]), bins=50)\n",
    "plt.yscale('log')\n",
    "plt.xlabel('log(fractional error) from known simulation value')\n",
    "plt.ylabel('Count')\n",
    "print(np.sum(z_err))\n",
    "print(np.count_nonzero(z_err))"
   ]
  },
  {
   "cell_type": "code",
   "execution_count": null,
   "metadata": {},
   "outputs": [],
   "source": [
    "# First ensure the non-assigned stuff is exactly the same\n",
    "print(\"Are all galaxies that should just use z_obs the same?\", np.all(np.isclose(z_eff[fiber_assigned_0],z_eff_a[fiber_assigned_0],rtol=1e-05,atol=0.0)))\n",
    "print(\"Do all galaxies that had nearest neighbors assigned match up (me vs astropy)?\", np.all(np.isclose(z_eff[fiber_not_assigned_0],z_eff_a[fiber_not_assigned_0],rtol=1e-05,atol=0.0)))\n",
    "\n",
    "print(\"  Fraction of NN with same value (want 1.0):\", np.sum(np.isclose(z_eff[fiber_not_assigned_0],z_eff_a[fiber_not_assigned_0],rtol=1e-05,atol=0.0)) / len(z_eff[fiber_not_assigned_0]))\n",
    "\n",
    "# TODO why do astropy and I result in a different assigned redshift ~25% of the time\n"
   ]
  },
  {
   "cell_type": "code",
   "execution_count": null,
   "metadata": {},
   "outputs": [],
   "source": []
  },
  {
   "cell_type": "code",
   "execution_count": null,
   "metadata": {},
   "outputs": [],
   "source": [
    "ind_different = np.argwhere(np.invert(np.isclose(z_eff,z_eff_a,rtol=1e-05,atol=0.0)))\n",
    "print(len(ind_different), \"galaxies don't agree between implementations\")\n",
    "\n",
    "print(\"MINE         ASTROPY      SIMULATION\")\n",
    "for i in range(0, min(len(ind_different), 20)):\n",
    "    print(z_eff[ind_different[i]], z_eff_a[ind_different[i]], z_obs[ind_different[i]])"
   ]
  },
  {
   "attachments": {},
   "cell_type": "markdown",
   "metadata": {},
   "source": [
    "## Experiment with masking arrays \n"
   ]
  },
  {
   "cell_type": "code",
   "execution_count": null,
   "metadata": {},
   "outputs": [],
   "source": [
    "all_z_obs = weights['Data/z_obs'][:]\n",
    "\n",
    "print(\"Index of blueshifted one: \", np.argmin(all_z_obs))\n",
    "\n",
    "print(min(all_z_obs), len(all_z_obs))\n",
    "\n",
    "masked_all_z_obs = ma.masked_less_equal(all_z_obs, 0.0)\n",
    "print(min(masked_all_z_obs), len(masked_all_z_obs))\n",
    "\n",
    "np.count_nonzero(masked_all_z_obs.mask)\n"
   ]
  },
  {
   "cell_type": "code",
   "execution_count": null,
   "metadata": {},
   "outputs": [],
   "source": [
    "small_gal_type = weights['Data/galaxy_type'][0:DATA_CUT_INDEX] # 0 1 2 3 possible\n",
    "bins = plt.hist(small_gal_type, bins=50)"
   ]
  },
  {
   "cell_type": "code",
   "execution_count": null,
   "metadata": {},
   "outputs": [],
   "source": [
    "small_z_obs = weights['Data/z_obs'][0:DATA_CUT_INDEX]\n",
    "bins = plt.hist(small_z_obs, bins=50)\n"
   ]
  },
  {
   "cell_type": "code",
   "execution_count": null,
   "metadata": {},
   "outputs": [],
   "source": [
    "print(min(small_z_obs), len(small_z_obs))\n",
    "masked_small_z_obs = ma.masked_less_equal(small_z_obs, 0.00143)\n",
    "print(min(masked_small_z_obs), len(masked_small_z_obs))\n",
    "\n",
    "np.count_nonzero(masked_small_z_obs.mask)\n"
   ]
  },
  {
   "cell_type": "code",
   "execution_count": null,
   "metadata": {},
   "outputs": [],
   "source": [
    "_cosmo = FlatLambdaCDM(H0=73, Om0=0.25, Ob0=0.045, Tcmb0=2.725, Neff=3.04) \n",
    "abs_mag = np.log10(_cosmo.luminosity_distance(-0.02).value)\n",
    "\n",
    "vmax = get_max_observable_volume(abs_mag, -0.02, 19.5)\n",
    "vmax"
   ]
  },
  {
   "attachments": {},
   "cell_type": "markdown",
   "metadata": {},
   "source": [
    "## Build a complete sky map of all the galaxies positions"
   ]
  },
  {
   "cell_type": "code",
   "execution_count": null,
   "metadata": {},
   "outputs": [],
   "source": [
    "ra = weights['Data/ra'][:]#[0:DATA_CUT_INDEX]\n",
    "dec = weights['Data/dec'][:]#[0:DATA_CUT_INDEX]"
   ]
  },
  {
   "cell_type": "code",
   "execution_count": null,
   "metadata": {},
   "outputs": [],
   "source": [
    "ra_angles = coord.Angle(ra*u.degree)\n",
    "ra_angles = ra_angles.wrap_at(180*u.degree)\n",
    "dec_angles = coord.Angle(dec*u.degree)\n",
    "\n",
    "fig = plt.figure(figsize=(8,6))\n",
    "ax = fig.add_subplot(111, projection=\"mollweide\")\n",
    "ax.scatter(ra_angles.radian, dec_angles.radian)\n",
    "# This looks like Alex' paper, good\n",
    "# TODO how to get frac_area from this?\n"
   ]
  },
  {
   "attachments": {},
   "cell_type": "markdown",
   "metadata": {},
   "source": [
    "## Examination of the MXXL HDF5 Data\n"
   ]
  },
  {
   "cell_type": "code",
   "execution_count": null,
   "metadata": {},
   "outputs": [],
   "source": [
    "bins = plt.hist(weights['Data/abs_mag'][0:DATA_CUT_INDEX], bins=50)"
   ]
  },
  {
   "cell_type": "code",
   "execution_count": null,
   "metadata": {},
   "outputs": [],
   "source": [
    "small_app_mag = weights['Data/app_mag'][0:DATA_CUT_INDEX]\n",
    "bins = plt.hist(small_app_mag, bins=50)"
   ]
  },
  {
   "cell_type": "code",
   "execution_count": null,
   "metadata": {},
   "outputs": [],
   "source": [
    "small_abs_mag = weights['Data/abs_mag'][0:DATA_CUT_INDEX]\n",
    "bins = plt.hist(small_abs_mag, bins=50)"
   ]
  },
  {
   "cell_type": "code",
   "execution_count": null,
   "metadata": {},
   "outputs": [],
   "source": [
    "my_abs_mag = app_mag_to_abs_mag(small_app_mag, small_z_obs)"
   ]
  },
  {
   "cell_type": "code",
   "execution_count": null,
   "metadata": {},
   "outputs": [],
   "source": [
    "# TODO Compare my_abs_mag to abs_mag. \n",
    "# Calculating luminosity distances from the cosmology is slow\n",
    "small_abs_mag"
   ]
  },
  {
   "cell_type": "code",
   "execution_count": null,
   "metadata": {},
   "outputs": [],
   "source": [
    "# At what distance (luminosity distance) would the objects appear to be 19.5 mag?\n",
    "v_max = get_max_observable_volume(my_abs_mag, small_z_obs, 19.5)\n",
    "\n",
    "bins = plt.hist(np.log10(v_max), bins=50)\n",
    "plt.xlabel(\"log(V_max) [Mpc]\")\n",
    "plt.ylabel(\"Count\")"
   ]
  },
  {
   "attachments": {},
   "cell_type": "markdown",
   "metadata": {},
   "source": [
    "# Plots on data after running group finder"
   ]
  },
  {
   "cell_type": "code",
   "execution_count": null,
   "metadata": {},
   "outputs": [],
   "source": [
    "def process(filename):\n",
    "\n",
    "    filename_props = str.replace(filename, \".out\", \"_galprops.dat\")\n",
    "\n",
    "    df = pd.read_csv(filename, delimiter=' ', names=('RA', 'Dec', 'z', 'L_gal', 'V_max', 'P_sat', 'M_halo', 'N_sat', 'L_tot', 'igrp', 'unknown'))\n",
    "    galprops = pd.read_csv(filename_props, delimiter=' ', names=('app_mag', 'g_r', 'galaxy_type', 'mxxl_halo_mass', 'fiber_assigned_0'))\n",
    "    all_data = pd.merge(df, galprops, left_index=True, right_index=True)\n",
    "\n",
    "    # Drop bad data, should have been cleaned up earlier though!\n",
    "    orig_count = len(all_data)\n",
    "    all_data = all_data[all_data.M_halo != 0]\n",
    "    new_count = len(all_data)\n",
    "    if (orig_count != new_count):\n",
    "        print(\"Dropped {0} bad galaxies\".format(orig_count - new_count))\n",
    "\n",
    "    all_data['is_sat'] = (all_data.index != all_data.igrp).astype(int)\n",
    "    #print(all_data['is_sat'])\n",
    "    all_data['logLgal'] = np.log10(all_data.L_gal)\n",
    "\n",
    "    bins = np.logspace(np.log10(min(all_data.M_halo)), np.log10(max(all_data.M_halo)), 30)\n",
    "    labels = bins[0:len(bins)-1] # using bottom (or top?) value, not middle\n",
    "    all_data['Mh_bin'] = pd.cut(x = all_data['M_halo'], bins = bins, labels = labels, include_lowest = True)\n",
    "    \n",
    "    centrals = all_data[all_data.index == all_data.igrp]\n",
    "    #logmstar_means = centrals.groupby('Mh_bin').log_M_star.mean()\n",
    "    #logmstar_scatter = centrals.groupby('Mh_bin').log_M_star.std()\n",
    "    loglcen_means = centrals.groupby('Mh_bin').logLgal.mean()\n",
    "    loglcen_scatter = centrals.groupby('Mh_bin').logLgal.std()\n",
    "\n",
    "    # Compute f_sat(Lgal)\n",
    "    bins_Lgal = np.logspace(np.log10(min(all_data.L_gal)), np.log10(max(all_data.L_gal)), 30)\n",
    "    labels_Lgal = bins_Lgal[0:len(bins_Lgal)-1] # using bottom (or top?) value, not middle\n",
    "    all_data['Lgal_bin'] = pd.cut(x = all_data['L_gal'], bins = bins_Lgal, labels = labels_Lgal, include_lowest = True)\n",
    "    \n",
    "    f_sat = all_data.groupby('Lgal_bin').is_sat.mean()\n",
    "    Lgal_counts = all_data.groupby('Lgal_bin').RA.count()\n",
    "\n",
    "    dataset = types.SimpleNamespace()\n",
    "    dataset.all_data = all_data\n",
    "    dataset.bins = bins\n",
    "    dataset.labels = labels\n",
    "    dataset.centrals = centrals\n",
    "    #dataset.logmstar_means = logmstar_means\n",
    "    #dataset.logmstar_scatter = logmstar_scatter\n",
    "    dataset.loglcen_means = loglcen_means\n",
    "    dataset.loglcen_scatter = loglcen_scatter\n",
    "    dataset.bins_Lgal = bins_Lgal\n",
    "    dataset.labels_Lgal = labels_Lgal\n",
    "    dataset.f_sat = f_sat\n",
    "    dataset.Lgal_counts = Lgal_counts\n",
    "\n",
    "    return dataset\n",
    "\n",
    "def plots(*frames):\n",
    "    \n",
    "    plt.figure()\n",
    "    for f in frames:\n",
    "        plt.errorbar(f.labels, f.loglcen_means, yerr=f.loglcen_scatter)\n",
    "    plt.xscale('log')\n",
    "    plt.xlabel('$M_{halo} / h$')\n",
    "    plt.ylabel('$log(L_{cen})$')\n",
    "    plt.title(\"Central Luminosity vs. Halo Mass\")\n",
    "    plt.legend()\n",
    "    plt.draw()\n",
    "\n",
    "    plt.figure()    \n",
    "    for f in frames:\n",
    "        plt.errorbar(f.labels, f.loglcen_scatter)\n",
    "    plt.xscale('log')\n",
    "    plt.xlabel('$M_{halo} / h$')\n",
    "    plt.ylabel('$\\\\sigma(\\\\log(L_{cen})$')\n",
    "    plt.title(\"Central Luminosity Scatter vs. Halo Mass\")\n",
    "    plt.draw()\n",
    "\n",
    "    \"\"\"     \n",
    "    plt.figure()\n",
    "    for f in frames:\n",
    "        plt.scatter(f.centrals.M_halo, f.centrals.L_gal, alpha=0.002)\n",
    "    plt.loglog()\n",
    "    plt.xlabel('M_halo / h')\n",
    "    plt.ylabel('L_gal / $h^2$)')\n",
    "    plt.draw() \n",
    "    \"\"\"\n",
    "\n",
    "    plt.figure()\n",
    "    for f in frames:\n",
    "        plt.hist(f.centrals.N_sat, np.arange(0,50,1), alpha=0.5)\n",
    "    plt.yscale('log')\n",
    "    plt.ylabel(\"Number of Satellites\")\n",
    "    plt.xlabel(\"Count of Centrals\")\n",
    "    plt.title(\"How many satellites do Centrals have?\")\n",
    "    plt.draw()\n",
    "\n",
    "    plt.figure()\n",
    "    for f in frames:\n",
    "        plt.plot(f.labels_Lgal, f.f_sat)\n",
    "    plt.xscale('log')\n",
    "    plt.xlabel(\"$L_{gal}$\")\n",
    "    plt.ylabel(\"$f_{sat}$\")\n",
    "    plt.title(\"Satellite fraction vs Galaxy Luminosity\")\n",
    "    plt.draw()\n",
    "    \n",
    "    plt.figure()\n",
    "    for f in frames:\n",
    "        plt.plot(f.labels_Lgal, f.Lgal_counts)\n",
    "    plt.xscale('log')\n",
    "    plt.yscale('log')\n",
    "    plt.xlabel(\"$L_{gal}$\")\n",
    "    plt.ylabel(\"Count of Galaxies\")\n",
    "    plt.title(\"Galaxy Luminosity Counts\")\n",
    "    plt.draw()    "
   ]
  },
  {
   "cell_type": "code",
   "execution_count": null,
   "metadata": {},
   "outputs": [],
   "source": [
    "mini = process(ROOT_FOLDER + \"mxxl_3pass_all_mini.out\")\n",
    "plots(mini)\n"
   ]
  },
  {
   "cell_type": "code",
   "execution_count": null,
   "metadata": {},
   "outputs": [],
   "source": [
    "all = process(ROOT_FOLDER + \"mxxl_3pass_all.out\")\n"
   ]
  },
  {
   "cell_type": "code",
   "execution_count": null,
   "metadata": {},
   "outputs": [],
   "source": [
    "fiberonly = process(ROOT_FOLDER + \"mxxl_3pass_fiberonly.out\")\n"
   ]
  },
  {
   "cell_type": "code",
   "execution_count": null,
   "metadata": {},
   "outputs": [],
   "source": [
    "nn = process(ROOT_FOLDER + \"mxxl_3pass_nn.out\")"
   ]
  },
  {
   "cell_type": "code",
   "execution_count": null,
   "metadata": {},
   "outputs": [],
   "source": [
    "plots(all, fiberonly, nn)"
   ]
  },
  {
   "cell_type": "code",
   "execution_count": null,
   "metadata": {},
   "outputs": [],
   "source": []
  }
 ],
 "metadata": {
  "kernelspec": {
   "display_name": "Python 3.9.12 ('base')",
   "language": "python",
   "name": "python3"
  },
  "language_info": {
   "codemirror_mode": {
    "name": "ipython",
    "version": 3
   },
   "file_extension": ".py",
   "mimetype": "text/x-python",
   "name": "python",
   "nbconvert_exporter": "python",
   "pygments_lexer": "ipython3",
   "version": "3.9.13"
  },
  "orig_nbformat": 4,
  "vscode": {
   "interpreter": {
    "hash": "3067ead486e059ec00ffe7555bdb889e6e264a24dc711bf108106cc7baee8d5d"
   }
  }
 },
 "nbformat": 4,
 "nbformat_minor": 2
}
