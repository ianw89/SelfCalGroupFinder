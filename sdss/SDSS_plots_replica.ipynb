{
 "cells": [
  {
   "cell_type": "code",
   "execution_count": null,
   "metadata": {},
   "outputs": [],
   "source": [
    "import numpy as np\n",
    "import pandas as pd\n",
    "import matplotlib.pyplot as plt\n",
    "from scipy import special"
   ]
  },
  {
   "cell_type": "code",
   "execution_count": null,
   "metadata": {},
   "outputs": [],
   "source": [
    "df = pd.read_csv(\"../bin/run_2.out\", delimiter=' ', names=('RA', 'Dec', 'z', 'L_gal', 'V_max', 'P_sat', 'M_halo', 'N_sat', 'L_tot', 'igrp', 'weight'))"
   ]
  },
  {
   "cell_type": "code",
   "execution_count": null,
   "metadata": {},
   "outputs": [],
   "source": [
    "galprops = pd.read_csv(\"bin/sdss_galprops_v1.0.dat\", delimiter=' ', names=('Mag_g', 'Mag_r', 'sigma_v', 'Dn4000', 'concentration', 'log_M_star'))\n",
    "all_data = pd.merge(df, galprops, left_index=True, right_index=True)"
   ]
  },
  {
   "cell_type": "code",
   "execution_count": null,
   "metadata": {},
   "outputs": [],
   "source": [
    "all_data"
   ]
  },
  {
   "cell_type": "code",
   "execution_count": null,
   "metadata": {},
   "outputs": [],
   "source": [
    "bins = plt.hist(all_data['Mag_r'], bins=50)"
   ]
  },
  {
   "cell_type": "code",
   "execution_count": null,
   "metadata": {},
   "outputs": [],
   "source": [
    "bins = plt.hist(np.log10(all_data['V_max']), bins=50)"
   ]
  },
  {
   "cell_type": "code",
   "execution_count": null,
   "metadata": {},
   "outputs": [],
   "source": [
    "bins = plt.hist(np.log10(all_data['L_gal']), bins=50)"
   ]
  },
  {
   "cell_type": "code",
   "execution_count": null,
   "metadata": {},
   "outputs": [],
   "source": [
    "def abs_mag_r_to_log_solar_L(a):\n",
    "    \"\"\"Converts an absolute magnitude to log solar luminosities using the sun's r-band magnitude.\"\"\"\n",
    "    return 0.4 * (4.65 - a)\n",
    "\n",
    "# Test converstion of absolute mags (r band) to solar luminosities\n",
    "plt.hist(abs_mag_r_to_log_solar_L(all_data['Mag_r']), bins=50)"
   ]
  },
  {
   "cell_type": "code",
   "execution_count": null,
   "metadata": {},
   "outputs": [],
   "source": [
    "bins = np.logspace(np.log10(min(all_data.M_halo)), np.log10(max(all_data.M_halo)), 50)\n",
    "labels = bins[0:len(bins)-1] # using bottom (or top?) value, not middle\n",
    "\n",
    "all_data['Mh_bin'] = pd.cut(x = all_data['M_halo'], bins = bins, labels = labels, include_lowest = True)\n"
   ]
  },
  {
   "cell_type": "code",
   "execution_count": null,
   "metadata": {},
   "outputs": [],
   "source": [
    "def D_crit(L_gal):\n",
    "    return 1.42 + (0.35/2)*(1 + special.erf((np.log10(L_gal) - 9.9) / 0.8) )\n",
    "\n",
    "x = np.logspace(np.log10(10**8), np.log10(10**13))\n",
    "plt.plot(x, D_crit(x))\n",
    "plt.xscale('log')"
   ]
  },
  {
   "cell_type": "code",
   "execution_count": null,
   "metadata": {},
   "outputs": [],
   "source": [
    "all_data['D_crit'] = D_crit(all_data.L_gal)\n",
    "all_data['starforming'] = all_data.Dn4000 < all_data.D_crit\n",
    "all_data"
   ]
  },
  {
   "cell_type": "code",
   "execution_count": null,
   "metadata": {},
   "outputs": [],
   "source": [
    "centrals = all_data[all_data.index == all_data.igrp]\n",
    "sfc = centrals[centrals.starforming == True]\n",
    "qc = centrals[centrals.starforming == False]\n",
    "sfc\n"
   ]
  },
  {
   "cell_type": "code",
   "execution_count": null,
   "metadata": {},
   "outputs": [],
   "source": [
    "means = centrals.groupby('Mh_bin').log_M_star.mean()\n",
    "scatter = centrals.groupby('Mh_bin').log_M_star.std()"
   ]
  },
  {
   "cell_type": "code",
   "execution_count": null,
   "metadata": {},
   "outputs": [],
   "source": [
    "plt.errorbar(labels, means, yerr=scatter)\n",
    "plt.xscale('log')\n",
    "plt.xlabel('$M_h / h$')\n",
    "plt.ylabel('$\\\\log(M_\\\\star)$')\n"
   ]
  },
  {
   "cell_type": "code",
   "execution_count": null,
   "metadata": {},
   "outputs": [],
   "source": [
    "plt.errorbar(labels, scatter)\n",
    "plt.xscale('log')\n",
    "plt.xlabel('$M_{h} / h$')\n",
    "plt.ylabel('$\\\\sigma ( \\\\log M_\\\\star )$')"
   ]
  },
  {
   "cell_type": "code",
   "execution_count": null,
   "metadata": {},
   "outputs": [],
   "source": [
    "plt.figure(figsize=(12,8))\n",
    "plt.scatter( centrals.M_halo, centrals.L_gal, alpha=0.002)\n",
    "plt.loglog()\n",
    "plt.xlabel('M_halo / h')\n",
    "plt.ylabel('L_gal / $h^2$)')\n"
   ]
  },
  {
   "cell_type": "code",
   "execution_count": null,
   "metadata": {},
   "outputs": [],
   "source": [
    "# Let's think about the color cut for r vs b galaxies\n",
    "\n",
    "means_q = qc.groupby('Mh_bin').log_M_star.mean()\n",
    "scatter_q = qc.groupby('Mh_bin').log_M_star.std()\n",
    "means_sf = sfc.groupby('Mh_bin').log_M_star.mean()\n",
    "scatter_sf = sfc.groupby('Mh_bin').log_M_star.std()"
   ]
  },
  {
   "cell_type": "code",
   "execution_count": null,
   "metadata": {},
   "outputs": [],
   "source": [
    "plt.figure(figsize=(8,6))\n",
    "plt.errorbar(labels, means_sf, yerr=scatter_sf, color='blue', alpha=1)\n",
    "plt.errorbar(labels, means_q, yerr=scatter_q, color='red', alpha=1)\n",
    "plt.xscale('log')\n",
    "plt.xlabel('$M_h / h$')\n",
    "plt.ylabel('$\\\\log(M_\\\\star)$')"
   ]
  },
  {
   "cell_type": "code",
   "execution_count": null,
   "metadata": {},
   "outputs": [],
   "source": [
    "plt.errorbar(labels, scatter_sf, color='blue')\n",
    "plt.errorbar(labels, scatter_q, color='red')\n",
    "plt.xscale('log')\n",
    "plt.xlabel('$M_{h} / h$')\n",
    "plt.ylabel('$\\\\sigma ( \\\\log M_\\\\star )$')"
   ]
  },
  {
   "cell_type": "code",
   "execution_count": null,
   "metadata": {},
   "outputs": [],
   "source": []
  }
 ],
 "metadata": {
  "kernelspec": {
   "display_name": "Python 3.9.12 ('base')",
   "language": "python",
   "name": "python3"
  },
  "language_info": {
   "codemirror_mode": {
    "name": "ipython",
    "version": 3
   },
   "file_extension": ".py",
   "mimetype": "text/x-python",
   "name": "python",
   "nbconvert_exporter": "python",
   "pygments_lexer": "ipython3",
   "version": "3.9.6"
  },
  "orig_nbformat": 4,
  "vscode": {
   "interpreter": {
    "hash": "3067ead486e059ec00ffe7555bdb889e6e264a24dc711bf108106cc7baee8d5d"
   }
  }
 },
 "nbformat": 4,
 "nbformat_minor": 2
}
